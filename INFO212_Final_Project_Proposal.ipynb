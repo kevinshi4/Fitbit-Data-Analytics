{
  "cells": [
    {
      "cell_type": "markdown",
      "metadata": {
        "id": "092TUML1DdkR"
      },
      "source": [
        "### College of Computing and Informatics, Drexel University\n",
        "### INFO 212: Data Science Programming I\n",
        "---\n",
        "\n",
        "## Project Proposal\n",
        "\n",
        "## Project Title: Fitbit Data Analytics\n",
        "\n",
        "## Student(s): Kevin Shi, Rithvik Sukumaran\n",
        "\n",
        "#### Date: 5/28/2023\n",
        "---"
      ]
    },
    {
      "cell_type": "markdown",
      "metadata": {
        "id": "yZBbCHK0Ddkd"
      },
      "source": [
        "#### Purpose\n",
        "---\n",
        "This project proposal should list your team members, describe the problem, the data sets, and the goal(s) of the project. Use the Project Requirements at the end of this notebook for choosing and scoping your project. A good place to find datasets to work on is the Kaggle Website: https://www.kaggle.com/datasets\n",
        "\n",
        "## This proposal must be submitted by Sunday, May 28th, 2023."
      ]
    },
    {
      "cell_type": "markdown",
      "metadata": {
        "id": "zun_rDCPxDuQ"
      },
      "source": [
        "## 0. Team Member List:\n",
        "### List the names and user accounts in Blackboard of all team members. Failure to list all members may cause missing gsrades for the non-listed students.\n",
        "\n",
        "Team members:\n",
        "1. Kevin Shi - ks3942\n",
        "2. Rithvik Sukumaran - rs3673\n",
        "3."
      ]
    },
    {
      "cell_type": "markdown",
      "metadata": {
        "id": "cKhYTK32Ddke"
      },
      "source": [
        "### 1. Introduction\n",
        "---\n",
        "*(Introduce the project and describe the objectives. This section will provide an overview of the entire project including the description of the data sets and the specific data analytics methods and techniques the team will use for analyzing the data to address the problem.)*"
      ]
    },
    {
      "cell_type": "markdown",
      "source": [
        "Dataset: https://www.kaggle.com/datasets/arashnic/fitbit"
      ],
      "metadata": {
        "id": "HnNyzqFQegMa"
      }
    },
    {
      "cell_type": "markdown",
      "source": [
        "The dataset we chose is information from user surveys on Fitbit tracker devices. This dataset was compiled from responses collected during a distributed survey conducted on Amazon Mechanical Turk between March 12, 2016, and May 12, 2016. The data we will be analyzing is between 4/12/2016-5/12/2016. The survey participants consisted of Fitbit users who voluntarily provided their personal tracker data, which included detailed records of physical activity, heart rate, sleep patterns, calories, etc. The dataset can be organized and analyzed based on either the export session ID (column A) or the timestamp (column B) associated with each data entry. The variations observed in the dataset reflect individuals' health data, which is what we are interested in analyzing when it comes to this dataset. The dataset contains the following files:\n",
        "\n",
        "\n",
        "*   dailyActivity_merged.csv\n",
        "*   dailyCalories_merged.csv\n",
        "*   dailyIntensities_merged.csv\n",
        "*   dailySteps_merged.csv\n",
        "*   heartrate_seconds_merged.csv\n",
        "*   hourlyCalories_merged.csv\n",
        "*   hourlyIntensities_merged.csv\n",
        "*   hourlySteps_merged.csv\n",
        "*   minuteCaloriesNarrow_merged.csv\n",
        "*   minuteCaloriesWide_merged.csv\n",
        "*   minuteIntensitiesNarrow_merged.csv\n",
        "*   minuteIntensitiesWide_merged.csv\n",
        "*   minuteMETsNarrow_merged.csv\n",
        "*   minuteSleep_merged.csv\n",
        "*   minuteStepsNarrow_merged.csv\n",
        "*   minuteStepsWide_merged.csv\n",
        "*   sleepDay_merged.csv\n",
        "*   weightLogInfo_merged.csv\n",
        "\n",
        "It is likely that we will not use all of the files, since depending on what we want to analyze, we may not need all the data. However, the main datasets such as dailyActivity_merged.csv, dailyCalories_merged.csv, dailyIntensities_merged.csv, dailySteps_merged.csv, heartrate_seconds_merged.csv, sleepDay_merged.csv will be very useful.\n",
        "\n",
        "Our objective is to gain insights into the physical activity, heart rate, and sleep patterns of Fitbit users. By examining the data, we will be able to visualize the variations in individual health data. This analysis will provide valuable information about the users' activity levels, heart rate trends, and sleep patterns, which can be used to identify patterns, trends, and potentially draw correlations between different variables. Some of the data analytics methods and techniques we will use are listed below:\n",
        "\n",
        "\n",
        "*   Descriptive Statistics: simple summary statistics such as mean, median, standard deviation, and percentiles (helps us to understand distribution and central tendencies)\n",
        "*   Correlation/Statistical Analysis: correlation analysis for relationships between various variables, statistical modeling/analysis, regression analysis\n",
        "*   Visualization: line plots, bar graphs, histograms, box plots, pie charts, scatter plots, etc. (Matplotlib and Seaborn)\n",
        "*   Data Cleaning: in order to successfully do everything above, we will need to clean the data first through cleansing, wrangling, reshaping, and other preparation techniques\n",
        "\n",
        "\n",
        "\n",
        "\n",
        "\n"
      ],
      "metadata": {
        "id": "YCOHipZYelqW"
      }
    },
    {
      "cell_type": "markdown",
      "metadata": {
        "id": "CPBkr7gIDdkf"
      },
      "source": [
        "### 2. Problem Definition\n",
        "---\n",
        "*(Define the problem that will be solved in this data analytics project. Where does the problem come from? Who would be benefited from the solutions presented in this project? Use formal languages and notations to define the problem as much as possible.)*"
      ]
    },
    {
      "cell_type": "markdown",
      "source": [
        "Problem:\n",
        "\n",
        "The problem that will be solved in this data analytics project is gaining insights and understanding from the collected Fitbit user data. This project aims to assess the health and fitness of individuals, behavior and preference of individuals, and trend and pattern of individuals' data.\n",
        "\n",
        "Fitness trackers such as Fitbit keep track of immense amounts of data about their users. This data is collected every second, every minute, every hour, every week, every month, and so on. Because this data is generated in real time, this presents the problem of making sense of all this data. Not all of this data is analyzed in real time, so this results in the need of people engaging in data analytics for this data.\n",
        "\n",
        "Individuals that would benefit from the solutions presented in this project are those who use Fitbit. Part of the problem is that it is difficult for individuals to make sense of their Fitbit data. Not all people who use Fitbits are able to understand their Fitbit data, which is why they need the solution of other people doing the data analysis for them. Leveraging Fitbit user data to gain insights into health and fitness-related aspects will help individuals to make informed decisions about their well-being and support the development of improved fitness tracking technologies. Although the scope of our project analysis will be relatively small, we will still be able to formulate our own understanding and analysis."
      ],
      "metadata": {
        "id": "p8FQhSNQoHIr"
      }
    },
    {
      "cell_type": "markdown",
      "metadata": {
        "id": "iEnpTPoEDdkg"
      },
      "source": [
        "### 3. Data Sources\n",
        "---\n",
        "*(Describe the origin of the data sources. What is the format of the original data? How to access the data?)*"
      ]
    },
    {
      "cell_type": "markdown",
      "source": [
        "This dataset was compiled from responses collected during a distributed survey conducted on Amazon Mechanical Turk between March 12, 2016, and May 12, 2016. The data we will be analyzing is between 4/12/2016-5/12/2016. The survey participants consisted of Fitbit users who voluntarily provided their personal tracker data, which included detailed records of physical activity, heart rate, sleep patterns, calories, etc. The dataset can be organized and analyzed based on either the export session ID (column A) or the timestamp (column B) associated with each data entry. All of the data files are csv files, so to access the data, we need to go to [Kaggle](https://www.kaggle.com/datasets/arashnic/fitbit) and download the files. The directory contains 18 files. We do not know the exact format of the original data, but the data we are given are in csv file format."
      ],
      "metadata": {
        "id": "3lU8oMGEsArl"
      }
    },
    {
      "cell_type": "markdown",
      "metadata": {
        "id": "tqEA5ODSDdkh"
      },
      "source": [
        "### 4. Other Things you Would Like to Describe\n",
        "---\n",
        "*(Is there anything you would like to describe as well? For example, preliminary analyses and results...)*"
      ]
    },
    {
      "cell_type": "code",
      "source": [
        "import pandas as pd\n",
        "import numpy as np"
      ],
      "metadata": {
        "id": "ewdxNO1nNIIj"
      },
      "execution_count": null,
      "outputs": []
    },
    {
      "cell_type": "code",
      "source": [
        "from google.colab import files\n",
        "files.upload()"
      ],
      "metadata": {
        "colab": {
          "base_uri": "https://localhost:8080/",
          "height": 129
        },
        "id": "BN306NmyNLkr",
        "outputId": "ec51d35a-3267-4cc5-c568-dc2dcc7a2f91"
      },
      "execution_count": null,
      "outputs": [
        {
          "output_type": "display_data",
          "data": {
            "text/plain": [
              "<IPython.core.display.HTML object>"
            ],
            "text/html": [
              "\n",
              "     <input type=\"file\" id=\"files-b319eadf-9563-4e6b-a457-0e862ff4e7e0\" name=\"files[]\" multiple disabled\n",
              "        style=\"border:none\" />\n",
              "     <output id=\"result-b319eadf-9563-4e6b-a457-0e862ff4e7e0\">\n",
              "      Upload widget is only available when the cell has been executed in the\n",
              "      current browser session. Please rerun this cell to enable.\n",
              "      </output>\n",
              "      <script>// Copyright 2017 Google LLC\n",
              "//\n",
              "// Licensed under the Apache License, Version 2.0 (the \"License\");\n",
              "// you may not use this file except in compliance with the License.\n",
              "// You may obtain a copy of the License at\n",
              "//\n",
              "//      http://www.apache.org/licenses/LICENSE-2.0\n",
              "//\n",
              "// Unless required by applicable law or agreed to in writing, software\n",
              "// distributed under the License is distributed on an \"AS IS\" BASIS,\n",
              "// WITHOUT WARRANTIES OR CONDITIONS OF ANY KIND, either express or implied.\n",
              "// See the License for the specific language governing permissions and\n",
              "// limitations under the License.\n",
              "\n",
              "/**\n",
              " * @fileoverview Helpers for google.colab Python module.\n",
              " */\n",
              "(function(scope) {\n",
              "function span(text, styleAttributes = {}) {\n",
              "  const element = document.createElement('span');\n",
              "  element.textContent = text;\n",
              "  for (const key of Object.keys(styleAttributes)) {\n",
              "    element.style[key] = styleAttributes[key];\n",
              "  }\n",
              "  return element;\n",
              "}\n",
              "\n",
              "// Max number of bytes which will be uploaded at a time.\n",
              "const MAX_PAYLOAD_SIZE = 100 * 1024;\n",
              "\n",
              "function _uploadFiles(inputId, outputId) {\n",
              "  const steps = uploadFilesStep(inputId, outputId);\n",
              "  const outputElement = document.getElementById(outputId);\n",
              "  // Cache steps on the outputElement to make it available for the next call\n",
              "  // to uploadFilesContinue from Python.\n",
              "  outputElement.steps = steps;\n",
              "\n",
              "  return _uploadFilesContinue(outputId);\n",
              "}\n",
              "\n",
              "// This is roughly an async generator (not supported in the browser yet),\n",
              "// where there are multiple asynchronous steps and the Python side is going\n",
              "// to poll for completion of each step.\n",
              "// This uses a Promise to block the python side on completion of each step,\n",
              "// then passes the result of the previous step as the input to the next step.\n",
              "function _uploadFilesContinue(outputId) {\n",
              "  const outputElement = document.getElementById(outputId);\n",
              "  const steps = outputElement.steps;\n",
              "\n",
              "  const next = steps.next(outputElement.lastPromiseValue);\n",
              "  return Promise.resolve(next.value.promise).then((value) => {\n",
              "    // Cache the last promise value to make it available to the next\n",
              "    // step of the generator.\n",
              "    outputElement.lastPromiseValue = value;\n",
              "    return next.value.response;\n",
              "  });\n",
              "}\n",
              "\n",
              "/**\n",
              " * Generator function which is called between each async step of the upload\n",
              " * process.\n",
              " * @param {string} inputId Element ID of the input file picker element.\n",
              " * @param {string} outputId Element ID of the output display.\n",
              " * @return {!Iterable<!Object>} Iterable of next steps.\n",
              " */\n",
              "function* uploadFilesStep(inputId, outputId) {\n",
              "  const inputElement = document.getElementById(inputId);\n",
              "  inputElement.disabled = false;\n",
              "\n",
              "  const outputElement = document.getElementById(outputId);\n",
              "  outputElement.innerHTML = '';\n",
              "\n",
              "  const pickedPromise = new Promise((resolve) => {\n",
              "    inputElement.addEventListener('change', (e) => {\n",
              "      resolve(e.target.files);\n",
              "    });\n",
              "  });\n",
              "\n",
              "  const cancel = document.createElement('button');\n",
              "  inputElement.parentElement.appendChild(cancel);\n",
              "  cancel.textContent = 'Cancel upload';\n",
              "  const cancelPromise = new Promise((resolve) => {\n",
              "    cancel.onclick = () => {\n",
              "      resolve(null);\n",
              "    };\n",
              "  });\n",
              "\n",
              "  // Wait for the user to pick the files.\n",
              "  const files = yield {\n",
              "    promise: Promise.race([pickedPromise, cancelPromise]),\n",
              "    response: {\n",
              "      action: 'starting',\n",
              "    }\n",
              "  };\n",
              "\n",
              "  cancel.remove();\n",
              "\n",
              "  // Disable the input element since further picks are not allowed.\n",
              "  inputElement.disabled = true;\n",
              "\n",
              "  if (!files) {\n",
              "    return {\n",
              "      response: {\n",
              "        action: 'complete',\n",
              "      }\n",
              "    };\n",
              "  }\n",
              "\n",
              "  for (const file of files) {\n",
              "    const li = document.createElement('li');\n",
              "    li.append(span(file.name, {fontWeight: 'bold'}));\n",
              "    li.append(span(\n",
              "        `(${file.type || 'n/a'}) - ${file.size} bytes, ` +\n",
              "        `last modified: ${\n",
              "            file.lastModifiedDate ? file.lastModifiedDate.toLocaleDateString() :\n",
              "                                    'n/a'} - `));\n",
              "    const percent = span('0% done');\n",
              "    li.appendChild(percent);\n",
              "\n",
              "    outputElement.appendChild(li);\n",
              "\n",
              "    const fileDataPromise = new Promise((resolve) => {\n",
              "      const reader = new FileReader();\n",
              "      reader.onload = (e) => {\n",
              "        resolve(e.target.result);\n",
              "      };\n",
              "      reader.readAsArrayBuffer(file);\n",
              "    });\n",
              "    // Wait for the data to be ready.\n",
              "    let fileData = yield {\n",
              "      promise: fileDataPromise,\n",
              "      response: {\n",
              "        action: 'continue',\n",
              "      }\n",
              "    };\n",
              "\n",
              "    // Use a chunked sending to avoid message size limits. See b/62115660.\n",
              "    let position = 0;\n",
              "    do {\n",
              "      const length = Math.min(fileData.byteLength - position, MAX_PAYLOAD_SIZE);\n",
              "      const chunk = new Uint8Array(fileData, position, length);\n",
              "      position += length;\n",
              "\n",
              "      const base64 = btoa(String.fromCharCode.apply(null, chunk));\n",
              "      yield {\n",
              "        response: {\n",
              "          action: 'append',\n",
              "          file: file.name,\n",
              "          data: base64,\n",
              "        },\n",
              "      };\n",
              "\n",
              "      let percentDone = fileData.byteLength === 0 ?\n",
              "          100 :\n",
              "          Math.round((position / fileData.byteLength) * 100);\n",
              "      percent.textContent = `${percentDone}% done`;\n",
              "\n",
              "    } while (position < fileData.byteLength);\n",
              "  }\n",
              "\n",
              "  // All done.\n",
              "  yield {\n",
              "    response: {\n",
              "      action: 'complete',\n",
              "    }\n",
              "  };\n",
              "}\n",
              "\n",
              "scope.google = scope.google || {};\n",
              "scope.google.colab = scope.google.colab || {};\n",
              "scope.google.colab._files = {\n",
              "  _uploadFiles,\n",
              "  _uploadFilesContinue,\n",
              "};\n",
              "})(self);\n",
              "</script> "
            ]
          },
          "metadata": {}
        },
        {
          "output_type": "stream",
          "name": "stdout",
          "text": [
            "Saving dailyActivity_merged.csv to dailyActivity_merged.csv\n"
          ]
        },
        {
          "output_type": "execute_result",
          "data": {
            "text/plain": [
              "{'dailyActivity_merged.csv': b'Id,ActivityDate,TotalSteps,TotalDistance,TrackerDistance,LoggedActivitiesDistance,VeryActiveDistance,ModeratelyActiveDistance,LightActiveDistance,SedentaryActiveDistance,VeryActiveMinutes,FairlyActiveMinutes,LightlyActiveMinutes,SedentaryMinutes,Calories\\r\\n1503960366,4/12/2016,13162,8.5,8.5,0,1.87999999523163,0.550000011920929,6.05999994277954,0,25,13,328,728,1985\\r\\n1503960366,4/13/2016,10735,6.96999979019165,6.96999979019165,0,1.57000005245209,0.689999997615814,4.71000003814697,0,21,19,217,776,1797\\r\\n1503960366,4/14/2016,10460,6.73999977111816,6.73999977111816,0,2.44000005722046,0.400000005960464,3.91000008583069,0,30,11,181,1218,1776\\r\\n1503960366,4/15/2016,9762,6.28000020980835,6.28000020980835,0,2.14000010490417,1.25999999046326,2.82999992370605,0,29,34,209,726,1745\\r\\n1503960366,4/16/2016,12669,8.15999984741211,8.15999984741211,0,2.71000003814697,0.409999996423721,5.03999996185303,0,36,10,221,773,1863\\r\\n1503960366,4/17/2016,9705,6.48000001907349,6.48000001907349,0,3.19000005722046,0.779999971389771,2.50999999046326,0,38,20,164,539,1728\\r\\n1503960366,4/18/2016,13019,8.59000015258789,8.59000015258789,0,3.25,0.639999985694885,4.71000003814697,0,42,16,233,1149,1921\\r\\n1503960366,4/19/2016,15506,9.88000011444092,9.88000011444092,0,3.52999997138977,1.32000005245209,5.03000020980835,0,50,31,264,775,2035\\r\\n1503960366,4/20/2016,10544,6.67999982833862,6.67999982833862,0,1.96000003814697,0.479999989271164,4.23999977111816,0,28,12,205,818,1786\\r\\n1503960366,4/21/2016,9819,6.34000015258789,6.34000015258789,0,1.3400000333786,0.349999994039536,4.65000009536743,0,19,8,211,838,1775\\r\\n1503960366,4/22/2016,12764,8.13000011444092,8.13000011444092,0,4.76000022888184,1.12000000476837,2.24000000953674,0,66,27,130,1217,1827\\r\\n1503960366,4/23/2016,14371,9.03999996185303,9.03999996185303,0,2.80999994277954,0.870000004768372,5.3600001335144,0,41,21,262,732,1949\\r\\n1503960366,4/24/2016,10039,6.40999984741211,6.40999984741211,0,2.92000007629395,0.209999993443489,3.27999997138977,0,39,5,238,709,1788\\r\\n1503960366,4/25/2016,15355,9.80000019073486,9.80000019073486,0,5.28999996185303,0.569999992847443,3.94000005722046,0,73,14,216,814,2013\\r\\n1503960366,4/26/2016,13755,8.78999996185303,8.78999996185303,0,2.32999992370605,0.920000016689301,5.53999996185303,0,31,23,279,833,1970\\r\\n1503960366,4/27/2016,18134,12.210000038147,12.210000038147,0,6.40000009536743,0.409999996423721,5.40999984741211,0,78,11,243,1108,2159\\r\\n1503960366,4/28/2016,13154,8.52999973297119,8.52999973297119,0,3.53999996185303,1.1599999666214,3.78999996185303,0,48,28,189,782,1898\\r\\n1503960366,4/29/2016,11181,7.15000009536743,7.15000009536743,0,1.05999994277954,0.5,5.57999992370605,0,16,12,243,815,1837\\r\\n1503960366,4/30/2016,14673,9.25,9.25,0,3.55999994277954,1.41999995708466,4.26999998092651,0,52,34,217,712,1947\\r\\n1503960366,5/1/2016,10602,6.80999994277954,6.80999994277954,0,2.28999996185303,1.60000002384186,2.92000007629395,0,33,35,246,730,1820\\r\\n1503960366,5/2/2016,14727,9.71000003814697,9.71000003814697,0,3.21000003814697,0.569999992847443,5.92000007629395,0,41,15,277,798,2004\\r\\n1503960366,5/3/2016,15103,9.65999984741211,9.65999984741211,0,3.73000001907349,1.04999995231628,4.88000011444092,0,50,24,254,816,1990\\r\\n1503960366,5/4/2016,11100,7.15000009536743,7.15000009536743,0,2.46000003814697,0.870000004768372,3.8199999332428,0,36,22,203,1179,1819\\r\\n1503960366,5/5/2016,14070,8.89999961853027,8.89999961853027,0,2.92000007629395,1.08000004291534,4.88000011444092,0,45,24,250,857,1959\\r\\n1503960366,5/6/2016,12159,8.02999973297119,8.02999973297119,0,1.97000002861023,0.25,5.80999994277954,0,24,6,289,754,1896\\r\\n1503960366,5/7/2016,11992,7.71000003814697,7.71000003814697,0,2.46000003814697,2.11999988555908,3.13000011444092,0,37,46,175,833,1821\\r\\n1503960366,5/8/2016,10060,6.57999992370605,6.57999992370605,0,3.52999997138977,0.319999992847443,2.73000001907349,0,44,8,203,574,1740\\r\\n1503960366,5/9/2016,12022,7.71999979019165,7.71999979019165,0,3.45000004768372,0.529999971389771,3.74000000953674,0,46,11,206,835,1819\\r\\n1503960366,5/10/2016,12207,7.76999998092651,7.76999998092651,0,3.34999990463257,1.1599999666214,3.25999999046326,0,46,31,214,746,1859\\r\\n1503960366,5/11/2016,12770,8.13000011444092,8.13000011444092,0,2.55999994277954,1.00999999046326,4.55000019073486,0,36,23,251,669,1783\\r\\n1503960366,5/12/2016,0,0,0,0,0,0,0,0,0,0,0,1440,0\\r\\n1624580081,4/12/2016,8163,5.30999994277954,5.30999994277954,0,0,0,5.30999994277954,0,0,0,146,1294,1432\\r\\n1624580081,4/13/2016,7007,4.55000019073486,4.55000019073486,0,0,0,4.55000019073486,0,0,0,148,1292,1411\\r\\n1624580081,4/14/2016,9107,5.92000007629395,5.92000007629395,0,0,0,5.90999984741211,0.00999999977648258,0,0,236,1204,1572\\r\\n1624580081,4/15/2016,1510,0.980000019073486,0.980000019073486,0,0,0,0.970000028610229,0,0,0,96,1344,1344\\r\\n1624580081,4/16/2016,5370,3.49000000953674,3.49000000953674,0,0,0,3.49000000953674,0,0,0,176,1264,1463\\r\\n1624580081,4/17/2016,6175,4.05999994277954,4.05999994277954,0,1.02999997138977,1.51999998092651,1.49000000953674,0.00999999977648258,15,22,127,1276,1554\\r\\n1624580081,4/18/2016,10536,7.40999984741211,7.40999984741211,0,2.15000009536743,0.620000004768372,4.61999988555908,0.00999999977648258,17,7,202,1214,1604\\r\\n1624580081,4/19/2016,2916,1.89999997615814,1.89999997615814,0,0,0,1.89999997615814,0,0,0,141,1299,1435\\r\\n1624580081,4/20/2016,4974,3.23000001907349,3.23000001907349,0,0,0,3.23000001907349,0,0,0,151,1289,1446\\r\\n1624580081,4/21/2016,6349,4.13000011444092,4.13000011444092,0,0,0,4.1100001335144,0.0199999995529652,0,0,186,1254,1467\\r\\n1624580081,4/22/2016,4026,2.61999988555908,2.61999988555908,0,0,0,2.59999990463257,0,0,0,199,1241,1470\\r\\n1624580081,4/23/2016,8538,5.55000019073486,5.55000019073486,0,0,0,5.53999996185303,0.00999999977648258,0,0,227,1213,1562\\r\\n1624580081,4/24/2016,6076,3.95000004768372,3.95000004768372,0,1.14999997615814,0.910000026226044,1.88999998569489,0,16,18,185,1221,1617\\r\\n1624580081,4/25/2016,6497,4.21999979019165,4.21999979019165,0,0,0,4.19999980926514,0.0199999995529652,0,0,202,1238,1492\\r\\n1624580081,4/26/2016,2826,1.8400000333786,1.8400000333786,0,0,0,1.83000004291534,0.00999999977648258,0,0,140,1300,1402\\r\\n1624580081,4/27/2016,8367,5.44000005722046,5.44000005722046,0,1.11000001430511,1.87000000476837,2.46000003814697,0,17,36,154,1233,1670\\r\\n1624580081,4/28/2016,2759,1.78999996185303,1.78999996185303,0,0,0.200000002980232,1.60000002384186,0,0,5,115,1320,1401\\r\\n1624580081,4/29/2016,2390,1.54999995231628,1.54999995231628,0,0,0,1.54999995231628,0,0,0,150,1290,1404\\r\\n1624580081,4/30/2016,6474,4.30000019073486,4.30000019073486,0,0.899999976158142,1.27999997138977,2.11999988555908,0.00999999977648258,11,23,224,1182,1655\\r\\n1624580081,5/1/2016,36019,28.0300006866455,28.0300006866455,0,21.9200000762939,4.19000005722046,1.9099999666214,0.0199999995529652,186,63,171,1020,2690\\r\\n1624580081,5/2/2016,7155,4.92999982833862,4.92999982833862,0,0.860000014305115,0.589999973773956,3.47000002861023,0,7,6,166,1261,1497\\r\\n1624580081,5/3/2016,2100,1.37000000476837,1.37000000476837,0,0,0,1.3400000333786,0.0199999995529652,0,0,96,1344,1334\\r\\n1624580081,5/4/2016,2193,1.42999994754791,1.42999994754791,0,0,0,1.41999995708466,0,0,0,118,1322,1368\\r\\n1624580081,5/5/2016,2470,1.61000001430511,1.61000001430511,0,0,0,1.58000004291534,0.0199999995529652,0,0,117,1323,1370\\r\\n1624580081,5/6/2016,1727,1.12000000476837,1.12000000476837,0,0,0,1.12000000476837,0.00999999977648258,0,0,102,1338,1341\\r\\n1624580081,5/7/2016,2104,1.37000000476837,1.37000000476837,0,0,0,1.37000000476837,0,0,0,182,1258,1474\\r\\n1624580081,5/8/2016,3427,2.23000001907349,2.23000001907349,0,0,0,2.22000002861023,0,0,0,152,1288,1427\\r\\n1624580081,5/9/2016,1732,1.12999999523163,1.12999999523163,0,0,0,1.12999999523163,0,0,0,91,1349,1328\\r\\n1624580081,5/10/2016,2969,1.92999994754791,1.92999994754791,0,0,0,1.91999995708466,0.00999999977648258,0,0,139,1301,1393\\r\\n1624580081,5/11/2016,3134,2.03999996185303,2.03999996185303,0,0,0,2.03999996185303,0,0,0,112,1328,1359\\r\\n1624580081,5/12/2016,2971,1.92999994754791,1.92999994754791,0,0,0,1.91999995708466,0.00999999977648258,0,0,107,890,1002\\r\\n1644430081,4/12/2016,10694,7.76999998092651,7.76999998092651,0,0.140000000596046,2.29999995231628,5.32999992370605,0,2,51,256,1131,3199\\r\\n1644430081,4/13/2016,8001,5.82000017166138,5.82000017166138,0,2.27999997138977,0.899999976158142,2.64000010490417,0,30,16,135,1259,2902\\r\\n1644430081,4/14/2016,11037,8.02000045776367,8.02000045776367,0,0.360000014305115,2.55999994277954,5.09999990463257,0,5,58,252,1125,3226\\r\\n1644430081,4/15/2016,5263,3.82999992370605,3.82999992370605,0,0.219999998807907,0.150000005960464,3.45000004768372,0,3,4,170,1263,2750\\r\\n1644430081,4/16/2016,15300,11.1199998855591,11.1199998855591,0,4.09999990463257,1.87999999523163,5.09000015258789,0,51,42,212,1135,3493\\r\\n1644430081,4/17/2016,8757,6.36999988555908,6.36999988555908,0,2.25,0.569999992847443,3.54999995231628,0,29,13,186,1212,3011\\r\\n1644430081,4/18/2016,7132,5.19000005722046,5.19000005722046,0,1.07000005245209,1.66999995708466,2.45000004768372,0,15,33,121,1271,2806\\r\\n1644430081,4/19/2016,11256,8.18000030517578,8.18000030517578,0,0.360000014305115,2.52999997138977,5.30000019073486,0,5,58,278,1099,3300\\r\\n1644430081,4/20/2016,2436,1.76999998092651,1.76999998092651,0,0,0,1.75999999046326,0.00999999977648258,0,0,125,1315,2430\\r\\n1644430081,4/21/2016,1223,0.889999985694885,0.889999985694885,0,0,0,0.879999995231628,0.00999999977648258,0,0,38,1402,2140\\r\\n1644430081,4/22/2016,3673,2.67000007629395,2.67000007629395,0,0,0,2.66000008583069,0.00999999977648258,0,0,86,1354,2344\\r\\n1644430081,4/23/2016,6637,4.82999992370605,4.82999992370605,0,0,0.579999983310699,4.25,0,0,15,160,1265,2677\\r\\n1644430081,4/24/2016,3321,2.41000008583069,2.41000008583069,0,0,0,2.41000008583069,0,0,0,89,1351,2413\\r\\n1644430081,4/25/2016,3580,2.59999990463257,2.59999990463257,0,0.589999973773956,0.0599999986588955,1.95000004768372,0,8,1,94,1337,2497\\r\\n1644430081,4/26/2016,9919,7.21000003814697,7.21000003814697,0,0.800000011920929,1.72000002861023,4.69000005722046,0,11,41,223,1165,3123\\r\\n1644430081,4/27/2016,3032,2.20000004768372,2.20000004768372,0,0,0,2.20000004768372,0,0,0,118,1322,2489\\r\\n1644430081,4/28/2016,9405,6.84000015258789,6.84000015258789,0,0.200000002980232,2.3199999332428,4.30999994277954,0,3,53,227,1157,3108\\r\\n1644430081,4/29/2016,3176,2.30999994277954,2.30999994277954,0,0,0,2.30999994277954,0,0,0,120,1193,2498\\r\\n1644430081,4/30/2016,18213,13.2399997711182,13.2399997711182,0,0.629999995231628,3.14000010490417,9.46000003814697,0,9,71,402,816,3846\\r\\n1644430081,5/1/2016,6132,4.46000003814697,4.46000003814697,0,0.239999994635582,0.990000009536743,3.23000001907349,0,3,24,146,908,2696\\r\\n1644430081,5/2/2016,3758,2.73000001907349,2.73000001907349,0,0.0700000002980232,0.310000002384186,2.34999990463257,0,1,7,148,682,2580\\r\\n1644430081,5/3/2016,12850,9.34000015258789,9.34000015258789,0,0.720000028610229,4.09000015258789,4.53999996185303,0,10,94,221,1115,3324\\r\\n1644430081,5/4/2016,2309,1.67999994754791,1.67999994754791,0,0,0,1.6599999666214,0.0199999995529652,0,0,52,1388,2222\\r\\n1644430081,5/5/2016,4363,3.19000005722046,3.19000005722046,0,0.519999980926514,0.540000021457672,2.13000011444092,0.00999999977648258,6,12,81,1341,2463\\r\\n1644430081,5/6/2016,9787,7.11999988555908,7.11999988555908,0,0.819999992847443,0.270000010728836,6.01000022888184,0.0199999995529652,11,6,369,1054,3328\\r\\n1644430081,5/7/2016,13372,9.72000026702881,9.72000026702881,0,3.25999999046326,0.790000021457672,5.67000007629395,0.00999999977648258,41,17,243,1139,3404\\r\\n1644430081,5/8/2016,6724,4.8899998664856,4.8899998664856,0,0,0,4.88000011444092,0,0,0,295,991,2987\\r\\n1644430081,5/9/2016,6643,4.82999992370605,4.82999992370605,0,2.39000010490417,0.349999994039536,2.08999991416931,0.00999999977648258,32,6,303,1099,3008\\r\\n1644430081,5/10/2016,9167,6.65999984741211,6.65999984741211,0,0.879999995231628,0.810000002384186,4.96999979019165,0.00999999977648258,12,19,155,1254,2799\\r\\n1644430081,5/11/2016,1329,0.970000028610229,0.970000028610229,0,0,0,0.949999988079071,0.00999999977648258,0,0,49,713,1276\\r\\n1844505072,4/12/2016,6697,4.42999982833862,4.42999982833862,0,0,0,4.42999982833862,0,0,0,339,1101,2030\\r\\n1844505072,4/13/2016,4929,3.25999999046326,3.25999999046326,0,0,0,3.25999999046326,0,0,0,248,1192,1860\\r\\n1844505072,4/14/2016,7937,5.25,5.25,0,0,0,5.23000001907349,0,0,0,373,843,2130\\r\\n1844505072,4/15/2016,3844,2.53999996185303,2.53999996185303,0,0,0,2.53999996185303,0,0,0,176,527,1725\\r\\n1844505072,4/16/2016,3414,2.25999999046326,2.25999999046326,0,0,0,2.25999999046326,0,0,0,147,1293,1657\\r\\n1844505072,4/17/2016,4525,2.99000000953674,2.99000000953674,0,0.140000000596046,0.259999990463257,2.58999991416931,0,2,8,199,1231,1793\\r\\n1844505072,4/18/2016,4597,3.03999996185303,3.03999996185303,0,0,0.479999989271164,2.55999994277954,0,0,12,217,1211,1814\\r\\n1844505072,4/19/2016,197,0.129999995231628,0.129999995231628,0,0,0,0.129999995231628,0,0,0,10,1430,1366\\r\\n1844505072,4/20/2016,8,0.00999999977648258,0.00999999977648258,0,0,0,0.00999999977648258,0,0,0,1,1439,1349\\r\\n1844505072,4/21/2016,8054,5.32000017166138,5.32000017166138,0,0.119999997317791,0.519999980926514,4.67999982833862,0,2,13,308,1117,2062\\r\\n1844505072,4/22/2016,5372,3.54999995231628,3.54999995231628,0,0,0,3.54999995231628,0,0,0,220,1220,1827\\r\\n1844505072,4/23/2016,3570,2.35999989509583,2.35999989509583,0,0,0,2.35999989509583,0,0,0,139,1301,1645\\r\\n1844505072,4/24/2016,0,0,0,0,0,0,0,0,0,0,0,1440,1347\\r\\n1844505072,4/25/2016,0,0,0,0,0,0,0,0,0,0,0,1440,1347\\r\\n1844505072,4/26/2016,0,0,0,0,0,0,0,0,0,0,0,1440,1347\\r\\n1844505072,4/27/2016,4,0,0,0,0,0,0,0,0,0,1,1439,1348\\r\\n1844505072,4/28/2016,6907,4.57000017166138,4.57000017166138,0,0,0,4.55999994277954,0,0,0,302,1138,1992\\r\\n1844505072,4/29/2016,4920,3.25,3.25,0,0,0,3.25,0,0,0,247,1082,1856\\r\\n1844505072,4/30/2016,4014,2.67000007629395,2.67000007629395,0,0,0,2.65000009536743,0,0,0,184,218,1763\\r\\n1844505072,5/1/2016,2573,1.70000004768372,1.70000004768372,0,0,0.259999990463257,1.45000004768372,0,0,7,75,585,1541\\r\\n1844505072,5/2/2016,0,0,0,0,0,0,0,0,0,0,0,1440,1348\\r\\n1844505072,5/3/2016,4059,2.6800000667572,2.6800000667572,0,0,0,2.6800000667572,0,0,0,184,1256,1742\\r\\n1844505072,5/4/2016,2080,1.37000000476837,1.37000000476837,0,0,0,1.37000000476837,0,0,0,87,1353,1549\\r\\n1844505072,5/5/2016,2237,1.48000001907349,1.48000001907349,0,0,0,1.48000001907349,0,0,0,120,1320,1589\\r\\n1844505072,5/6/2016,44,0.0299999993294477,0.0299999993294477,0,0,0,0.0299999993294477,0,0,0,2,1438,1351\\r\\n1844505072,5/7/2016,0,0,0,0,0,0,0,0,0,0,0,1440,1347\\r\\n1844505072,5/8/2016,0,0,0,0,0,0,0,0,0,0,0,1440,1347\\r\\n1844505072,5/9/2016,0,0,0,0,0,0,0,0,0,0,0,1440,1347\\r\\n1844505072,5/10/2016,0,0,0,0,0,0,0,0,0,0,0,1440,1347\\r\\n1844505072,5/11/2016,0,0,0,0,0,0,0,0,0,0,0,1440,1347\\r\\n1844505072,5/12/2016,0,0,0,0,0,0,0,0,0,0,0,711,665\\r\\n1927972279,4/12/2016,678,0.469999998807907,0.469999998807907,0,0,0,0.469999998807907,0,0,0,55,734,2220\\r\\n1927972279,4/13/2016,356,0.25,0.25,0,0,0,0.25,0,0,0,32,986,2151\\r\\n1927972279,4/14/2016,2163,1.5,1.5,0,0,0.400000005960464,1.10000002384186,0,0,9,88,1292,2383\\r\\n1927972279,4/15/2016,980,0.680000007152557,0.680000007152557,0,0,0,0.680000007152557,0,0,0,51,941,2221\\r\\n1927972279,4/16/2016,0,0,0,0,0,0,0,0,0,0,0,1440,2064\\r\\n1927972279,4/17/2016,0,0,0,0,0,0,0,0,0,0,0,1440,2063\\r\\n1927972279,4/18/2016,244,0.170000001788139,0.170000001788139,0,0,0,0.170000001788139,0,0,0,17,1423,2111\\r\\n1927972279,4/19/2016,0,0,0,0,0,0,0,0,0,0,0,1440,2063\\r\\n1927972279,4/20/2016,0,0,0,0,0,0,0,0,0,0,0,1440,2063\\r\\n1927972279,4/21/2016,0,0,0,0,0,0,0,0,0,0,0,1440,2064\\r\\n1927972279,4/22/2016,149,0.100000001490116,0.100000001490116,0,0,0,0.100000001490116,0,0,0,10,1430,2093\\r\\n1927972279,4/23/2016,2945,2.03999996185303,2.03999996185303,0,0,0,2.03999996185303,0,0,0,145,1295,2499\\r\\n1927972279,4/24/2016,2090,1.45000004768372,1.45000004768372,0,0.0700000002980232,0.239999994635582,1.13999998569489,0,1,6,75,1358,2324\\r\\n1927972279,4/25/2016,152,0.109999999403954,0.109999999403954,0,0,0,0.109999999403954,0,0,0,12,1303,2100\\r\\n1927972279,4/26/2016,3761,2.59999990463257,2.59999990463257,0,0,0,2.59999990463257,0,0,0,192,1058,2638\\r\\n1927972279,4/27/2016,0,0,0,0,0,0,0,0,0,0,0,1440,2063\\r\\n1927972279,4/28/2016,1675,1.1599999666214,1.1599999666214,0,0,0,1.1599999666214,0,0,0,95,1167,2351\\r\\n1927972279,4/29/2016,0,0,0,0,0,0,0,0,0,0,0,1440,2063\\r\\n1927972279,4/30/2016,0,0,0,0,0,0,0,0,0,0,0,1440,2064\\r\\n1927972279,5/1/2016,2704,1.87000000476837,1.87000000476837,0,1.00999999046326,0.0299999993294477,0.829999983310699,0,14,1,70,1355,2411\\r\\n1927972279,5/2/2016,3790,2.61999988555908,2.61999988555908,0,1.1599999666214,0.300000011920929,1.1599999666214,0,16,8,94,1322,2505\\r\\n1927972279,5/3/2016,1326,0.920000016689301,0.920000016689301,0,0.730000019073486,0,0.180000007152557,0,10,0,17,1413,2195\\r\\n1927972279,5/4/2016,1786,1.24000000953674,1.24000000953674,0,0,0,1.24000000953674,0,0,0,87,1353,2338\\r\\n1927972279,5/5/2016,0,0,0,0,0,0,0,0,0,0,0,1440,2063\\r\\n1927972279,5/6/2016,2091,1.45000004768372,1.45000004768372,0,0,0,1.45000004768372,0,0,0,108,1332,2383\\r\\n1927972279,5/7/2016,1510,1.03999996185303,1.03999996185303,0,0,0,1.03999996185303,0,0,0,48,1392,2229\\r\\n1927972279,5/8/2016,0,0,0,0,0,0,0,0,0,0,0,1440,2063\\r\\n1927972279,5/9/2016,0,0,0,0,0,0,0,0,0,0,0,1440,2063\\r\\n1927972279,5/10/2016,0,0,0,0,0,0,0,0,0,0,0,1440,2063\\r\\n1927972279,5/11/2016,0,0,0,0,0,0,0,0,0,0,0,1440,2063\\r\\n1927972279,5/12/2016,0,0,0,0,0,0,0,0,0,0,0,966,1383\\r\\n2022484408,4/12/2016,11875,8.34000015258789,8.34000015258789,0,3.30999994277954,0.769999980926514,4.26000022888184,0,42,14,227,1157,2390\\r\\n2022484408,4/13/2016,12024,8.5,8.5,0,2.99000000953674,0.100000001490116,5.40999984741211,0,43,5,292,1100,2601\\r\\n2022484408,4/14/2016,10690,7.5,7.5,0,2.48000001907349,0.209999993443489,4.82000017166138,0,32,3,257,1148,2312\\r\\n2022484408,4/15/2016,11034,8.02999973297119,8.02999973297119,0,1.94000005722046,0.310000002384186,5.78000020980835,0,27,9,282,1122,2525\\r\\n2022484408,4/16/2016,10100,7.09000015258789,7.09000015258789,0,3.15000009536743,0.550000011920929,3.39000010490417,0,41,11,151,1237,2177\\r\\n2022484408,4/17/2016,15112,11.3999996185303,11.3999996185303,0,3.86999988555908,0.660000026226044,6.88000011444092,0,28,29,331,1052,2782\\r\\n2022484408,4/18/2016,14131,10.0699996948242,10.0699996948242,0,3.64000010490417,0.119999997317791,6.30000019073486,0,48,3,311,1078,2770\\r\\n2022484408,4/19/2016,11548,8.52999973297119,8.52999973297119,0,3.28999996185303,0.239999994635582,5,0,31,7,250,1152,2489\\r\\n2022484408,4/20/2016,15112,10.6700000762939,10.6700000762939,0,3.33999991416931,1.92999994754791,5.40000009536743,0,48,63,276,1053,2897\\r\\n2022484408,4/21/2016,12453,8.73999977111816,8.73999977111816,0,3.32999992370605,1.11000001430511,4.30999994277954,0,104,53,255,1028,3158\\r\\n2022484408,4/22/2016,12954,9.32999992370605,9.32999992370605,0,4.42999982833862,0.419999986886978,4.46999979019165,0,52,10,273,1105,2638\\r\\n2022484408,4/23/2016,6001,4.21000003814697,4.21000003814697,0,0,0,4.21000003814697,0,0,0,249,1191,2069\\r\\n2022484408,4/24/2016,13481,10.2799997329712,10.2799997329712,0,4.55000019073486,1.14999997615814,4.57999992370605,0,37,26,216,1161,2529\\r\\n2022484408,4/25/2016,11369,8.01000022888184,8.01000022888184,0,3.32999992370605,0.219999998807907,4.46000003814697,0,44,8,217,1171,2470\\r\\n2022484408,4/26/2016,10119,7.19000005722046,7.19000005722046,0,1.42999994754791,0.660000026226044,5.1100001335144,0,55,24,275,1086,2793\\r\\n2022484408,4/27/2016,10159,7.13000011444092,7.13000011444092,0,1.03999996185303,0.970000028610229,5.11999988555908,0,19,20,282,1119,2463\\r\\n2022484408,4/28/2016,10140,7.11999988555908,7.11999988555908,0,0.409999996423721,1.33000004291534,5.3899998664856,0,6,20,291,1123,2296\\r\\n2022484408,4/29/2016,10245,7.19000005722046,7.19000005722046,0,0.479999989271164,1.21000003814697,5.5,0,21,40,281,1098,2611\\r\\n2022484408,4/30/2016,18387,12.9099998474121,12.9099998474121,0,0.939999997615814,1.39999997615814,10.5699996948242,0,13,23,361,1043,2732\\r\\n2022484408,5/1/2016,10538,7.40000009536743,7.40000009536743,0,1.94000005722046,0.959999978542328,4.5,0,25,28,245,1142,2380\\r\\n2022484408,5/2/2016,10379,7.28999996185303,7.28999996185303,0,2.60999989509583,0.340000003576279,4.32999992370605,0,36,8,277,1119,2473\\r\\n2022484408,5/3/2016,12183,8.73999977111816,8.73999977111816,0,3.99000000953674,0.46000000834465,4.28000020980835,0,72,14,250,1104,2752\\r\\n2022484408,5/4/2016,11768,8.28999996185303,8.28999996185303,0,2.50999999046326,0.930000007152557,4.84999990463257,0,36,27,272,1105,2649\\r\\n2022484408,5/5/2016,11895,8.35000038146973,8.35000038146973,0,2.78999996185303,0.860000014305115,4.69999980926514,0,55,20,253,1112,2609\\r\\n2022484408,5/6/2016,10227,7.17999982833862,7.17999982833862,0,1.87000000476837,0.670000016689301,4.6399998664856,0,24,17,295,1104,2498\\r\\n2022484408,5/7/2016,6708,4.71000003814697,4.71000003814697,0,1.61000001430511,0.0799999982118607,3.01999998092651,0,20,2,149,1269,1995\\r\\n2022484408,5/8/2016,3292,2.30999994277954,2.30999994277954,0,0,0,2.30999994277954,0,0,0,135,1305,1848\\r\\n2022484408,5/9/2016,13379,9.39000034332275,9.39000034332275,0,2.11999988555908,1.62999999523163,5.6399998664856,0,35,47,297,1061,2709\\r\\n2022484408,5/10/2016,12798,8.97999954223633,8.97999954223633,0,2.22000002861023,1.21000003814697,5.55999994277954,0,57,28,271,1084,2797\\r\\n2022484408,5/11/2016,13272,9.31999969482422,9.31999969482422,0,4.17999982833862,1.14999997615814,3.99000000953674,0,58,25,224,1133,2544\\r\\n2022484408,5/12/2016,9117,6.40999984741211,6.40999984741211,0,1.27999997138977,0.670000016689301,4.44000005722046,0,16,16,236,728,1853\\r\\n2026352035,4/12/2016,4414,2.74000000953674,2.74000000953674,0,0.189999997615814,0.349999994039536,2.20000004768372,0,3,8,181,706,1459\\r\\n2026352035,4/13/2016,4993,3.09999990463257,3.09999990463257,0,0,0,3.09999990463257,0,0,0,238,663,1521\\r\\n2026352035,4/14/2016,3335,2.0699999332428,2.0699999332428,0,0,0,2.04999995231628,0,0,0,197,653,1431\\r\\n2026352035,4/15/2016,3821,2.36999988555908,2.36999988555908,0,0,0,2.36999988555908,0,0,0,188,687,1444\\r\\n2026352035,4/16/2016,2547,1.58000004291534,1.58000004291534,0,0,0,1.58000004291534,0,0,0,150,728,1373\\r\\n2026352035,4/17/2016,838,0.519999980926514,0.519999980926514,0,0,0,0.519999980926514,0,0,0,60,1053,1214\\r\\n2026352035,4/18/2016,3325,2.05999994277954,2.05999994277954,0,0,0,2.05999994277954,0,0,0,182,1062,1419\\r\\n2026352035,4/19/2016,2424,1.5,1.5,0,0,0,1.5,0,0,0,141,785,1356\\r\\n2026352035,4/20/2016,7222,4.48000001907349,4.48000001907349,0,0,0,4.48000001907349,0,0,0,327,623,1667\\r\\n2026352035,4/21/2016,2467,1.52999997138977,1.52999997138977,0,0,0,1.52999997138977,0,0,0,153,749,1370\\r\\n2026352035,4/22/2016,2915,1.80999994277954,1.80999994277954,0,0,0,1.80999994277954,0,0,0,162,712,1399\\r\\n2026352035,4/23/2016,12357,7.71000003814697,7.71000003814697,0,0,0,7.71000003814697,0,0,0,432,458,1916\\r\\n2026352035,4/24/2016,3490,2.16000008583069,2.16000008583069,0,0,0,2.16000008583069,0,0,0,164,704,1401\\r\\n2026352035,4/25/2016,6017,3.73000001907349,3.73000001907349,0,0,0,3.73000001907349,0,0,0,260,821,1576\\r\\n2026352035,4/26/2016,5933,3.6800000667572,3.6800000667572,0,0,0,3.6800000667572,0,0,0,288,1018,1595\\r\\n2026352035,4/27/2016,6088,3.76999998092651,3.76999998092651,0,0,0,3.76999998092651,0,0,0,286,586,1593\\r\\n2026352035,4/28/2016,6375,3.95000004768372,3.95000004768372,0,0,0,3.95000004768372,0,0,0,331,626,1649\\r\\n2026352035,4/29/2016,7604,4.71000003814697,4.71000003814697,0,0,0,4.71000003814697,0,0,0,352,492,1692\\r\\n2026352035,4/30/2016,4729,2.9300000667572,2.9300000667572,0,0,0,2.9300000667572,0,0,0,233,594,1506\\r\\n2026352035,5/1/2016,3609,2.27999997138977,2.27999997138977,0,0,0,2.27999997138977,0,0,0,191,716,1447\\r\\n2026352035,5/2/2016,7018,4.34999990463257,4.34999990463257,0,0,0,4.34999990463257,0,0,0,355,716,1690\\r\\n2026352035,5/3/2016,5992,3.72000002861023,3.72000002861023,0,0,0,3.72000002861023,0,0,0,304,981,1604\\r\\n2026352035,5/4/2016,6564,4.07000017166138,4.07000017166138,0,0,0,4.07000017166138,0,0,0,345,530,1658\\r\\n2026352035,5/5/2016,12167,7.53999996185303,7.53999996185303,0,0,0,7.53999996185303,0,0,0,475,479,1926\\r\\n2026352035,5/6/2016,8198,5.07999992370605,5.07999992370605,0,0,0,5.07999992370605,0,0,0,383,511,1736\\r\\n2026352035,5/7/2016,4193,2.59999990463257,2.59999990463257,0,0,0,2.59999990463257,0,0,0,229,665,1491\\r\\n2026352035,5/8/2016,5528,3.45000004768372,3.45000004768372,0,0,0,3.45000004768372,0,0,0,258,610,1555\\r\\n2026352035,5/9/2016,10685,6.61999988555908,6.61999988555908,0,0,0,6.59999990463257,0,0,0,401,543,1869\\r\\n2026352035,5/10/2016,254,0.159999996423721,0.159999996423721,0,0,0,0.159999996423721,0,0,0,17,1002,1141\\r\\n2026352035,5/11/2016,8580,5.32000017166138,5.32000017166138,0,0,0,5.32000017166138,0,0,0,330,569,1698\\r\\n2026352035,5/12/2016,8891,5.51000022888184,5.51000022888184,0,0,0,5.51000022888184,0,0,0,343,330,1364\\r\\n2320127002,4/12/2016,10725,7.48999977111816,7.48999977111816,0,1.16999995708466,0.310000002384186,6.01000022888184,0,13,9,306,1112,2124\\r\\n2320127002,4/13/2016,7275,4.90000009536743,4.90000009536743,0,0,0,4.90000009536743,0,0,0,335,1105,2003\\r\\n2320127002,4/14/2016,3973,2.6800000667572,2.6800000667572,0,0,0,2.6800000667572,0,0,0,191,1249,1696\\r\\n2320127002,4/15/2016,5205,3.50999999046326,3.50999999046326,0,0,0,3.50999999046326,0,0,0,245,1195,1801\\r\\n2320127002,4/16/2016,5057,3.41000008583069,3.41000008583069,0,0,0,3.40000009536743,0,0,0,195,1245,1724\\r\\n2320127002,4/17/2016,6198,4.17999982833862,4.17999982833862,0,0,0,4.17999982833862,0,0,0,249,1191,1852\\r\\n2320127002,4/18/2016,6559,4.42000007629395,4.42000007629395,0,0,0.259999990463257,4.1399998664856,0,0,7,260,1173,1905\\r\\n2320127002,4/19/2016,5997,4.03999996185303,4.03999996185303,0,0,0.379999995231628,3.66000008583069,0,0,11,228,1201,1811\\r\\n2320127002,4/20/2016,7192,4.84999990463257,4.84999990463257,0,0,0.490000009536743,4.34000015258789,0,0,11,283,1146,1922\\r\\n2320127002,4/21/2016,3404,2.28999996185303,2.28999996185303,0,0.0599999986588955,0.419999986886978,1.80999994277954,0,1,10,127,1302,1610\\r\\n2320127002,4/22/2016,5583,3.75999999046326,3.75999999046326,0,0,0,3.75999999046326,0,0,0,266,1174,1851\\r\\n2320127002,4/23/2016,5079,3.42000007629395,3.42000007629395,0,0,0,3.42000007629395,0,0,0,242,1129,1804\\r\\n2320127002,4/24/2016,4165,2.80999994277954,2.80999994277954,0,0,0,2.79999995231628,0,0,0,204,1236,1725\\r\\n2320127002,4/25/2016,3588,2.42000007629395,2.42000007629395,0,0.230000004172325,0.200000002980232,1.99000000953674,0,3,5,152,1280,1654\\r\\n2320127002,4/26/2016,3409,2.29999995231628,2.29999995231628,0,0,0,2.29999995231628,0,0,0,147,1293,1632\\r\\n2320127002,4/27/2016,1715,1.1599999666214,1.1599999666214,0,0,0,1.1599999666214,0,0,0,82,1358,1481\\r\\n2320127002,4/28/2016,1532,1.02999997138977,1.02999997138977,0,0,0,1.02999997138977,0,0,0,76,1364,1473\\r\\n2320127002,4/29/2016,924,0.620000004768372,0.620000004768372,0,0,0,0.620000004768372,0,0,0,45,1395,1410\\r\\n2320127002,4/30/2016,4571,3.07999992370605,3.07999992370605,0,0,0,3.0699999332428,0,0,0,234,1206,1779\\r\\n2320127002,5/1/2016,772,0.519999980926514,0.519999980926514,0,0,0,0.519999980926514,0,0,0,40,1400,1403\\r\\n2320127002,5/2/2016,3634,2.45000004768372,2.45000004768372,0,0.360000014305115,0.209999993443489,1.87999999523163,0,5,6,123,1306,1613\\r\\n2320127002,5/3/2016,7443,5.01999998092651,5.01999998092651,0,1.49000000953674,0.370000004768372,3.16000008583069,0,20,10,206,1204,1878\\r\\n2320127002,5/4/2016,1201,0.810000002384186,0.810000002384186,0,0,0,0.810000002384186,0,0,0,52,1388,1426\\r\\n2320127002,5/5/2016,5202,3.50999999046326,3.50999999046326,0,0,0.389999985694885,3.10999989509583,0,0,11,223,1206,1780\\r\\n2320127002,5/6/2016,4878,3.28999996185303,3.28999996185303,0,0,0,3.28999996185303,0,0,0,204,1236,1742\\r\\n2320127002,5/7/2016,7379,4.96999979019165,4.96999979019165,0,0,0,4.96999979019165,0,0,0,319,1121,1972\\r\\n2320127002,5/8/2016,5161,3.48000001907349,3.48000001907349,0,0,0,3.47000002861023,0,0,0,247,1193,1821\\r\\n2320127002,5/9/2016,3090,2.07999992370605,2.07999992370605,0,0,0,2.07999992370605,0,0,0,145,1295,1630\\r\\n2320127002,5/10/2016,6227,4.19999980926514,4.19999980926514,0,0,0,4.19999980926514,0,0,0,290,1150,1899\\r\\n2320127002,5/11/2016,6424,4.32999992370605,4.32999992370605,0,0,0,4.32999992370605,0,0,0,300,1140,1903\\r\\n2320127002,5/12/2016,2661,1.78999996185303,1.78999996185303,0,0,0,1.78999996185303,0,0,0,128,830,1125\\r\\n2347167796,4/12/2016,10113,6.82999992370605,6.82999992370605,0,2,0.620000004768372,4.19999980926514,0,28,13,320,964,2344\\r\\n2347167796,4/13/2016,10352,7.01000022888184,7.01000022888184,0,1.6599999666214,1.94000005722046,3.41000008583069,0,19,32,195,676,2038\\r\\n2347167796,4/14/2016,10129,6.69999980926514,6.69999980926514,0,0.0199999995529652,2.74000000953674,3.94000005722046,0,1,48,206,705,2010\\r\\n2347167796,4/15/2016,10465,6.92000007629395,6.92000007629395,0,0.0700000002980232,1.41999995708466,5.42999982833862,0,1,24,284,720,2133\\r\\n2347167796,4/16/2016,22244,15.0799999237061,15.0799999237061,0,5.44999980926514,4.09999990463257,5.53000020980835,0,66,72,268,968,2670\\r\\n2347167796,4/17/2016,5472,3.61999988555908,3.61999988555908,0,0.0799999982118607,0.280000001192093,3.25999999046326,0,1,7,249,508,1882\\r\\n2347167796,4/18/2016,8247,5.44999980926514,5.44999980926514,0,0.790000021457672,0.860000014305115,3.78999996185303,0,11,16,206,678,1944\\r\\n2347167796,4/19/2016,6711,4.44000005722046,4.44000005722046,0,0,0,4.44000005722046,0,0,7,382,648,2346\\r\\n2347167796,4/20/2016,10999,7.26999998092651,7.26999998092651,0,0.680000007152557,1.80999994277954,4.78000020980835,0,11,43,269,1011,2198\\r\\n2347167796,4/21/2016,10080,6.75,6.75,0,1.85000002384186,1.52999997138977,3.38000011444092,0,23,26,208,761,2048\\r\\n2347167796,4/22/2016,7804,5.15999984741211,5.15999984741211,0,0.560000002384186,1.67999994754791,2.92000007629395,0,9,27,206,781,1946\\r\\n2347167796,4/23/2016,16901,11.3699998855591,11.3699998855591,0,2.77999997138977,1.45000004768372,7.15000009536743,0,32,35,360,591,2629\\r\\n2347167796,4/24/2016,9471,6.26000022888184,6.26000022888184,0,0,0,6.26000022888184,0,0,0,360,584,2187\\r\\n2347167796,4/25/2016,9482,6.38000011444092,6.38000011444092,0,1.26999998092651,0.519999980926514,4.59999990463257,0,15,11,277,653,2095\\r\\n2347167796,4/26/2016,5980,3.95000004768372,3.95000004768372,0,0,0,3.95000004768372,0,0,0,227,732,1861\\r\\n2347167796,4/27/2016,11423,7.57999992370605,7.57999992370605,0,1.86000001430511,0.400000005960464,5.32000017166138,0,26,9,295,623,2194\\r\\n2347167796,4/28/2016,5439,3.59999990463257,3.59999990463257,0,0,0,3.59999990463257,0,0,0,229,764,1854\\r\\n2347167796,4/29/2016,42,0.0299999993294477,0.0299999993294477,0,0,0,0.0299999993294477,0,0,0,4,2,403\\r\\n2873212765,4/12/2016,8796,5.90999984741211,5.90999984741211,0,0.109999999403954,0.930000007152557,4.88000011444092,0,2,21,356,1061,1982\\r\\n2873212765,4/13/2016,7618,5.11999988555908,5.11999988555908,0,0,0.219999998807907,4.88000011444092,0.0199999995529652,0,8,404,1028,2004\\r\\n2873212765,4/14/2016,7910,5.32000017166138,5.32000017166138,0,0,0,5.32000017166138,0,0,0,331,1109,1893\\r\\n2873212765,4/15/2016,8482,5.69999980926514,5.69999980926514,0,0,0,5.69000005722046,0.00999999977648258,0,0,448,992,2063\\r\\n2873212765,4/16/2016,9685,6.65000009536743,6.65000009536743,0,3.10999989509583,0.0199999995529652,3.50999999046326,0.00999999977648258,47,1,305,1087,2148\\r\\n2873212765,4/17/2016,2524,1.70000004768372,1.70000004768372,0,0,0.349999994039536,1.3400000333786,0,0,8,160,1272,1529\\r\\n2873212765,4/18/2016,7762,5.23999977111816,5.23999977111816,0,0.0700000002980232,0.280000001192093,4.8899998664856,0,1,6,311,1122,1890\\r\\n2873212765,4/19/2016,7948,5.36999988555908,5.36999988555908,0,0,0,5.3600001335144,0,0,0,389,1051,1956\\r\\n2873212765,4/20/2016,9202,6.30000019073486,6.30000019073486,0,1.50999999046326,0.119999997317791,4.65999984741211,0.00999999977648258,22,5,378,1035,2094\\r\\n2873212765,4/21/2016,8859,5.98000001907349,5.98000001907349,0,0.129999995231628,0.370000004768372,5.46999979019165,0.00999999977648258,2,10,371,1057,1970\\r\\n2873212765,4/22/2016,7286,4.90000009536743,4.90000009536743,0,0.46000000834465,0,4.42000007629395,0.0199999995529652,46,0,366,1028,2241\\r\\n2873212765,4/23/2016,9317,6.34999990463257,6.34999990463257,0,2.08999991416931,0.230000004172325,4.01999998092651,0.00999999977648258,28,5,330,1077,2021\\r\\n2873212765,4/24/2016,6873,4.67999982833862,4.67999982833862,0,3,0.0599999986588955,1.62000000476837,0,46,1,190,1203,1898\\r\\n2873212765,4/25/2016,7373,4.94999980926514,4.94999980926514,0,0,0,4.94999980926514,0,0,0,359,1081,1907\\r\\n2873212765,4/26/2016,8242,5.53999996185303,5.53999996185303,0,0.119999997317791,0.180000007152557,5.23999977111816,0,2,5,309,1124,1882\\r\\n2873212765,4/27/2016,3516,2.35999989509583,2.35999989509583,0,0,0,2.35999989509583,0,46,0,197,1197,1966\\r\\n2873212765,4/28/2016,7913,5.40999984741211,5.40999984741211,0,2.16000008583069,0.340000003576279,2.91000008583069,0,28,7,213,1192,1835\\r\\n2873212765,4/29/2016,7365,4.94999980926514,4.94999980926514,0,1.36000001430511,1.4099999666214,2.1800000667572,0,20,23,206,1191,1780\\r\\n2873212765,4/30/2016,8452,5.67999982833862,5.67999982833862,0,0.330000013113022,1.08000004291534,4.26000022888184,0.00999999977648258,5,20,248,1167,1830\\r\\n2873212765,5/1/2016,7399,4.96999979019165,4.96999979019165,0,0.490000009536743,1.03999996185303,3.44000005722046,0,7,18,196,1219,1739\\r\\n2873212765,5/2/2016,7525,5.05999994277954,5.05999994277954,0,0,0.209999993443489,4.82999992370605,0.0199999995529652,0,7,334,1099,1878\\r\\n2873212765,5/3/2016,7412,4.98000001907349,4.98000001907349,0,0.0599999986588955,0.25,4.65999984741211,0.00999999977648258,1,6,363,1070,1906\\r\\n2873212765,5/4/2016,8278,5.55999994277954,5.55999994277954,0,0,0,5.55999994277954,0,0,0,420,1020,2015\\r\\n2873212765,5/5/2016,8314,5.6100001335144,5.6100001335144,0,0.779999971389771,0.800000011920929,4.03000020980835,0,13,23,311,1093,1971\\r\\n2873212765,5/6/2016,7063,4.75,4.75,0,0,0.119999997317791,4.6100001335144,0.00999999977648258,0,5,370,1065,1910\\r\\n2873212765,5/7/2016,4940,3.38000011444092,3.38000011444092,0,2.27999997138977,0.550000011920929,0.550000011920929,0,75,11,52,1302,1897\\r\\n2873212765,5/8/2016,8168,5.53999996185303,5.53999996185303,0,2.90000009536743,0,2.64000010490417,0,46,0,326,1068,2096\\r\\n2873212765,5/9/2016,7726,5.19000005722046,5.19000005722046,0,0,0,5.19000005722046,0,0,0,345,1095,1906\\r\\n2873212765,5/10/2016,8275,5.55999994277954,5.55999994277954,0,0,0,5.55000019073486,0.00999999977648258,0,0,373,1067,1962\\r\\n2873212765,5/11/2016,6440,4.32999992370605,4.32999992370605,0,0,0,4.32000017166138,0.00999999977648258,0,0,319,1121,1826\\r\\n2873212765,5/12/2016,7566,5.1100001335144,5.1100001335144,0,0,0,5.1100001335144,0,0,0,268,720,1431\\r\\n3372868164,4/12/2016,4747,3.24000000953674,3.24000000953674,0,0,0,3.23000001907349,0.00999999977648258,0,0,280,1160,1788\\r\\n3372868164,4/13/2016,9715,6.63000011444092,6.63000011444092,0,0.990000009536743,0.340000003576279,5.26999998092651,0.0199999995529652,16,8,371,1045,2093\\r\\n3372868164,4/14/2016,8844,6.03000020980835,6.03000020980835,0,0.340000003576279,1.02999997138977,4.65000009536743,0.00999999977648258,6,25,370,1039,2065\\r\\n3372868164,4/15/2016,7451,5.07999992370605,5.07999992370605,0,0,0,5.05999994277954,0.0199999995529652,0,0,335,1105,1908\\r\\n3372868164,4/16/2016,6905,4.73000001907349,4.73000001907349,0,0,0,4.69999980926514,0.0299999993294477,0,0,356,1084,1908\\r\\n3372868164,4/17/2016,8199,5.88000011444092,5.88000011444092,0,1.4099999666214,0.100000001490116,4.3600001335144,0.00999999977648258,11,2,322,1105,1964\\r\\n3372868164,4/18/2016,6798,4.6399998664856,4.6399998664856,0,1.08000004291534,0.200000002980232,3.34999990463257,0,20,7,343,1070,2014\\r\\n3372868164,4/19/2016,7711,5.26000022888184,5.26000022888184,0,0,0,5.23999977111816,0.0199999995529652,0,0,376,1064,1985\\r\\n3372868164,4/20/2016,4880,3.32999992370605,3.32999992370605,0,0.839999973773956,0.0900000035762787,2.38000011444092,0.0199999995529652,15,3,274,1148,1867\\r\\n3372868164,4/21/2016,8857,6.07000017166138,6.07000017166138,0,1.14999997615814,0.259999990463257,4.6399998664856,0.00999999977648258,18,9,376,1037,2124\\r\\n3372868164,4/22/2016,3843,2.61999988555908,2.61999988555908,0,0,0,2.60999989509583,0.00999999977648258,0,0,206,1234,1669\\r\\n3372868164,4/23/2016,7396,5.07000017166138,5.07000017166138,0,1.39999997615814,0.0799999982118607,3.57999992370605,0,20,2,303,1115,1995\\r\\n3372868164,4/24/2016,6731,4.59000015258789,4.59000015258789,0,0.889999985694885,0.189999997615814,3.49000000953674,0.0199999995529652,14,7,292,1127,1921\\r\\n3372868164,4/25/2016,5995,4.09000015258789,4.09000015258789,0,0,0,4.09000015258789,0,0,0,416,1024,2010\\r\\n3372868164,4/26/2016,8283,5.78999996185303,5.78999996185303,0,1.85000002384186,0.0500000007450581,3.86999988555908,0.00999999977648258,22,2,333,1083,2057\\r\\n3372868164,4/27/2016,7904,5.42000007629395,5.42000007629395,0,1.58000004291534,0.629999995231628,3.19000005722046,0.00999999977648258,24,13,346,1057,2095\\r\\n3372868164,4/28/2016,5512,3.75999999046326,3.75999999046326,0,0,0,3.75999999046326,0,0,0,385,1055,1972\\r\\n3372868164,4/29/2016,9135,6.23000001907349,6.23000001907349,0,0,0,6.21999979019165,0.00999999977648258,0,0,402,1038,2044\\r\\n3372868164,4/30/2016,5250,3.57999992370605,3.57999992370605,0,1.05999994277954,0.0900000035762787,2.42000007629395,0.00999999977648258,17,4,300,1119,1946\\r\\n3372868164,5/1/2016,3077,2.09999990463257,2.09999990463257,0,0,0,2.08999991416931,0,0,0,172,842,1237\\r\\n3977333714,4/12/2016,8856,5.98000001907349,5.98000001907349,0,3.05999994277954,0.910000026226044,2.00999999046326,0,44,19,131,777,1450\\r\\n3977333714,4/13/2016,10035,6.71000003814697,6.71000003814697,0,2.02999997138977,2.13000011444092,2.54999995231628,0,31,46,153,754,1495\\r\\n3977333714,4/14/2016,7641,5.1100001335144,5.1100001335144,0,0.319999992847443,0.970000028610229,3.8199999332428,0,5,23,214,801,1433\\r\\n3977333714,4/15/2016,9010,6.05999994277954,6.05999994277954,0,1.04999995231628,1.75,3.25999999046326,0,15,42,183,644,1468\\r\\n3977333714,4/16/2016,13459,9,9,0,2.02999997138977,4,2.97000002861023,0,31,83,153,663,1625\\r\\n3977333714,4/17/2016,10415,6.96999979019165,6.96999979019165,0,0.699999988079071,2.34999990463257,3.92000007629395,0,11,58,205,600,1529\\r\\n3977333714,4/18/2016,11663,7.80000019073486,7.80000019073486,0,0.25,3.73000001907349,3.8199999332428,0,4,95,214,605,1584\\r\\n3977333714,4/19/2016,12414,8.77999973297119,8.77999973297119,0,2.24000000953674,2.45000004768372,3.96000003814697,0,19,67,221,738,1638\\r\\n3977333714,4/20/2016,11658,7.82999992370605,7.82999992370605,0,0.200000002980232,4.34999990463257,3.27999997138977,0,2,98,164,845,1554\\r\\n3977333714,4/21/2016,6093,4.07999992370605,4.07999992370605,0,0,0,4.05999994277954,0,0,0,242,712,1397\\r\\n3977333714,4/22/2016,8911,5.96000003814697,5.96000003814697,0,2.32999992370605,0.579999983310699,3.05999994277954,0,33,12,188,731,1481\\r\\n3977333714,4/23/2016,12058,8.06999969482422,8.06999969482422,0,0,4.21999979019165,3.84999990463257,0,0,92,252,724,1638\\r\\n3977333714,4/24/2016,14112,10,10,0,3.26999998092651,4.55999994277954,2.17000007629395,0,30,95,129,660,1655\\r\\n3977333714,4/25/2016,11177,8.47999954223633,8.47999954223633,0,5.61999988555908,0.430000007152557,2.41000008583069,0,50,9,133,781,1570\\r\\n3977333714,4/26/2016,11388,7.61999988555908,7.61999988555908,0,0.449999988079071,4.21999979019165,2.95000004768372,0,7,95,170,797,1551\\r\\n3977333714,4/27/2016,7193,5.03999996185303,5.03999996185303,0,0,0.419999986886978,4.61999988555908,0,0,10,176,714,1377\\r\\n3977333714,4/28/2016,7114,4.88000011444092,4.88000011444092,0,1.37000000476837,0.28999999165535,3.22000002861023,0,15,8,190,804,1407\\r\\n3977333714,4/29/2016,10645,7.75,7.75,0,3.74000000953674,1.29999995231628,2.71000003814697,0,36,32,150,744,1545\\r\\n3977333714,4/30/2016,13238,9.19999980926514,9.19999980926514,0,3.69000005722046,2.09999990463257,3.41000008583069,0,43,52,194,687,1650\\r\\n3977333714,5/1/2016,10414,7.07000017166138,7.07000017166138,0,2.67000007629395,1.98000001907349,2.41000008583069,0,41,40,124,691,1501\\r\\n3977333714,5/2/2016,16520,11.0500001907349,11.0500001907349,0,1.53999996185303,6.48000001907349,3.01999998092651,0,24,143,176,713,1760\\r\\n3977333714,5/3/2016,14335,9.59000015258789,9.59000015258789,0,3.3199999332428,1.74000000953674,4.53000020980835,0,47,41,258,594,1710\\r\\n3977333714,5/4/2016,13559,9.4399995803833,9.4399995803833,0,1.80999994277954,4.57999992370605,2.89000010490417,0,14,96,142,852,1628\\r\\n3977333714,5/5/2016,12312,8.57999992370605,8.57999992370605,0,1.75999999046326,4.1100001335144,2.71000003814697,0,14,88,178,680,1618\\r\\n3977333714,5/6/2016,11677,8.27999973297119,8.27999973297119,0,3.10999989509583,2.50999999046326,2.67000007629395,0,29,55,168,676,1590\\r\\n3977333714,5/7/2016,11550,7.73000001907349,7.73000001907349,0,0,4.13000011444092,3.58999991416931,0,0,86,208,703,1574\\r\\n3977333714,5/8/2016,13585,9.09000015258789,9.09000015258789,0,0.680000007152557,5.23999977111816,3.17000007629395,0,9,116,171,688,1633\\r\\n3977333714,5/9/2016,14687,10.0799999237061,10.0799999237061,0,0.769999980926514,5.59999990463257,3.54999995231628,0,8,122,151,1159,1667\\r\\n3977333714,5/10/2016,13072,8.77999973297119,8.77999973297119,0,0.0700000002980232,5.40000009536743,3.30999994277954,0,1,115,196,676,1630\\r\\n3977333714,5/11/2016,746,0.5,0.5,0,0.370000004768372,0,0.129999995231628,0,4,0,9,13,52\\r\\n4020332650,4/12/2016,8539,6.11999988555908,6.11999988555908,0,0.150000005960464,0.239999994635582,5.67999982833862,0,4,15,331,712,3654\\r\\n4020332650,4/13/2016,0,0,0,0,0,0,0,0,0,0,0,1440,1981\\r\\n4020332650,4/14/2016,108,0.0799999982118607,0.0799999982118607,0,0,0,0.0299999993294477,0,0,0,3,1437,2011\\r\\n4020332650,4/15/2016,1882,1.35000002384186,1.35000002384186,0,0.209999993443489,0.360000014305115,0.769999980926514,0,36,18,87,1299,2951\\r\\n4020332650,4/16/2016,1982,1.41999995708466,1.41999995708466,0,0.449999988079071,0.370000004768372,0.589999973773956,0,65,21,55,1222,3051\\r\\n4020332650,4/17/2016,16,0.00999999977648258,0.00999999977648258,0,0,0,0.00999999977648258,0,0,0,2,1438,1990\\r\\n4020332650,4/18/2016,62,0.0399999991059303,0.0399999991059303,0,0,0,0.0399999991059303,0,0,0,2,1438,1995\\r\\n4020332650,4/19/2016,0,0,0,0,0,0,0,0,0,0,0,1440,1980\\r\\n4020332650,4/20/2016,0,0,0,0,0,0,0,0,0,0,0,1440,1980\\r\\n4020332650,4/21/2016,0,0,0,0,0,0,0,0,0,0,0,1440,1980\\r\\n4020332650,4/22/2016,0,0,0,0,0,0,0,0,0,0,0,1440,1980\\r\\n4020332650,4/23/2016,0,0,0,0,0,0,0,0,0,0,0,1440,1980\\r\\n4020332650,4/24/2016,0,0,0,0,0,0,0,0,0,0,0,1440,1980\\r\\n4020332650,4/25/2016,0,0,0,0,0,0,0,0,0,0,0,1440,1980\\r\\n4020332650,4/26/2016,0,0,0,0,0,0,0,0,0,0,0,1440,1980\\r\\n4020332650,4/27/2016,0,0,0,0,0,0,0,0,0,0,0,1440,1980\\r\\n4020332650,4/28/2016,0,0,0,0,0,0,0,0,0,0,0,1440,1980\\r\\n4020332650,4/29/2016,0,0,0,0,0,0,0,0,0,0,0,1440,1980\\r\\n4020332650,4/30/2016,0,0,0,0,0,0,0,0,0,0,0,1440,1980\\r\\n4020332650,5/1/2016,0,0,0,0,0,0,0,0,0,0,0,1440,1980\\r\\n4020332650,5/2/2016,475,0.340000003576279,0.340000003576279,0,0,0.0399999991059303,0.28999999165535,0,0,11,31,1350,2207\\r\\n4020332650,5/3/2016,4496,3.22000002861023,3.22000002861023,0,0,0,3.15000009536743,0.0500000007450581,0,0,174,950,2828\\r\\n4020332650,5/4/2016,10252,7.34999990463257,7.34999990463257,0,0.670000016689301,1.03999996185303,5.57999992370605,0,13,46,346,531,3879\\r\\n4020332650,5/5/2016,11728,8.43000030517578,8.43000030517578,0,2.61999988555908,1.67999994754791,4.03999996185303,0.0700000002980232,38,42,196,916,3429\\r\\n4020332650,5/6/2016,4369,3.13000011444092,3.13000011444092,0,0,0,3.09999990463257,0.00999999977648258,0,0,177,855,2704\\r\\n4020332650,5/7/2016,6132,4.40000009536743,4.40000009536743,0,0,0,3.57999992370605,0,0,0,184,1256,2975\\r\\n4020332650,5/8/2016,5862,4.19999980926514,4.19999980926514,0,0,0,4.15000009536743,0,0,0,263,775,3089\\r\\n4020332650,5/9/2016,4556,3.26999998092651,3.26999998092651,0,0.200000002980232,0.119999997317791,2.94000005722046,0,3,5,173,1225,2785\\r\\n4020332650,5/10/2016,5546,3.98000001907349,3.98000001907349,0,0,0,3.86999988555908,0.0399999991059303,0,0,206,774,2926\\r\\n4020332650,5/11/2016,3689,2.65000009536743,2.65000009536743,0,0.109999999403954,0.170000001788139,2.32999992370605,0,2,8,134,1296,2645\\r\\n4020332650,5/12/2016,590,0.419999986886978,0.419999986886978,0,0,0,0.409999996423721,0,0,0,21,721,1120\\r\\n4057192912,4/12/2016,5394,4.03000020980835,4.03000020980835,0,0,0,3.94000005722046,0,0,0,164,1276,2286\\r\\n4057192912,4/13/2016,5974,4.46999979019165,4.46999979019165,0,0,0,4.36999988555908,0,0,0,160,1280,2306\\r\\n4057192912,4/14/2016,0,0,0,0,0,0,0,0,0,0,0,1440,1776\\r\\n4057192912,4/15/2016,3984,2.95000004768372,2.95000004768372,0,0.209999993443489,0.259999990463257,2.44000005722046,0,3,6,88,873,1527\\r\\n4319703577,4/12/2016,7753,5.19999980926514,5.19999980926514,0,0,0,0,0,0,0,0,1440,2115\\r\\n4319703577,4/13/2016,8204,5.5,5.5,0,0.529999971389771,0.589999973773956,1.30999994277954,0,8,15,96,1234,2135\\r\\n4319703577,4/14/2016,10210,6.88000011444092,6.88000011444092,0,0.109999999403954,0.330000013113022,6.44000005722046,0,1,9,339,589,2302\\r\\n4319703577,4/15/2016,5664,3.79999995231628,3.79999995231628,0,0,0,3.79999995231628,0,0,0,228,752,1985\\r\\n4319703577,4/16/2016,4744,3.1800000667572,3.1800000667572,0,0,0,3.1800000667572,0,0,0,194,724,1884\\r\\n4319703577,4/17/2016,29,0.0199999995529652,0.0199999995529652,0,0,0,0.0199999995529652,0,0,0,3,1363,1464\\r\\n4319703577,4/18/2016,2276,1.54999995231628,1.54999995231628,0,0.0700000002980232,0.330000013113022,1.12000000476837,0,1,9,58,824,1632\\r\\n4319703577,4/19/2016,8925,5.98999977111816,5.98999977111816,0,0,0,5.98999977111816,0,0,0,311,604,2200\\r\\n4319703577,4/20/2016,8954,6.01000022888184,6.01000022888184,0,0,0.680000007152557,5.30999994277954,0,0,18,306,671,2220\\r\\n4319703577,4/21/2016,3702,2.48000001907349,2.48000001907349,0,0,0,0.349999994039536,0,0,0,34,1265,1792\\r\\n4319703577,4/22/2016,4500,3.01999998092651,3.01999998092651,0,0.0599999986588955,0.810000002384186,2.15000009536743,0,1,19,176,709,1886\\r\\n4319703577,4/23/2016,4935,3.30999994277954,3.30999994277954,0,0,0,3.30999994277954,0,0,0,233,546,1945\\r\\n4319703577,4/24/2016,4081,2.74000000953674,2.74000000953674,0,0.0599999986588955,0.200000002980232,2.47000002861023,0,1,5,191,692,1880\\r\\n4319703577,4/25/2016,9259,6.21000003814697,6.21000003814697,0,0,0.280000001192093,5.92999982833862,0,0,8,390,544,2314\\r\\n4319703577,4/26/2016,9899,6.6399998664856,6.6399998664856,0,0.569999992847443,0.920000016689301,5.15000009536743,0,8,21,288,649,2236\\r\\n4319703577,4/27/2016,10780,7.23000001907349,7.23000001907349,0,0.409999996423721,1.91999995708466,4.90999984741211,0,6,47,300,680,2324\\r\\n4319703577,4/28/2016,10817,7.28000020980835,7.28000020980835,0,1.00999999046326,0.330000013113022,5.94000005722046,0,13,8,359,552,2367\\r\\n4319703577,4/29/2016,7990,5.3600001335144,5.3600001335144,0,0.449999988079071,0.790000021457672,4.11999988555908,0,6,18,289,624,2175\\r\\n4319703577,4/30/2016,8221,5.51999998092651,5.51999998092651,0,0.400000005960464,1.61000001430511,3.50999999046326,0,6,38,196,695,2092\\r\\n4319703577,5/1/2016,1251,0.839999973773956,0.839999973773956,0,0,0,0.839999973773956,0,0,0,67,836,1593\\r\\n4319703577,5/2/2016,9261,6.23999977111816,6.23999977111816,0,0,0.439999997615814,5.71000003814697,0,0,11,344,585,2270\\r\\n4319703577,5/3/2016,9648,6.46999979019165,6.46999979019165,0,0.579999983310699,1.07000005245209,4.82999992370605,0,8,26,287,669,2235\\r\\n4319703577,5/4/2016,10429,7.01999998092651,7.01999998092651,0,0.589999973773956,0.579999983310699,5.84999990463257,0,8,13,313,1106,2282\\r\\n4319703577,5/5/2016,13658,9.48999977111816,9.48999977111816,0,2.63000011444092,1.4099999666214,5.44999980926514,0,27,34,328,957,2530\\r\\n4319703577,5/6/2016,9524,6.42000007629395,6.42000007629395,0,0.409999996423721,0.469999998807907,5.46000003814697,0,6,11,314,692,2266\\r\\n4319703577,5/7/2016,7937,5.32999992370605,5.32999992370605,0,0.189999997615814,1.04999995231628,4.07999992370605,0,3,28,279,586,2158\\r\\n4319703577,5/8/2016,3672,2.46000003814697,2.46000003814697,0,0,0,2.46000003814697,0,0,0,153,603,1792\\r\\n4319703577,5/9/2016,10378,6.96000003814697,6.96000003814697,0,0.140000000596046,0.560000002384186,6.25,0,2,14,374,490,2345\\r\\n4319703577,5/10/2016,9487,6.36999988555908,6.36999988555908,0,0.209999993443489,0.46000000834465,5.69999980926514,0,3,12,329,555,2260\\r\\n4319703577,5/11/2016,9129,6.13000011444092,6.13000011444092,0,0.200000002980232,0.740000009536743,5.17999982833862,0,3,18,311,574,2232\\r\\n4319703577,5/12/2016,17,0.00999999977648258,0.00999999977648258,0,0,0,0.00999999977648258,0,0,0,2,0,257\\r\\n4388161847,4/12/2016,10122,7.78000020980835,7.78000020980835,0,0,0,0,0,0,0,0,1440,2955\\r\\n4388161847,4/13/2016,10993,8.44999980926514,8.44999980926514,0,0.0599999986588955,0.629999995231628,3.88000011444092,0,1,14,150,1275,3092\\r\\n4388161847,4/14/2016,8863,6.82000017166138,6.82000017166138,0,0.129999995231628,1.07000005245209,5.61999988555908,0,10,35,219,945,2998\\r\\n4388161847,4/15/2016,8758,6.73000001907349,6.73000001907349,0,0,0,6.73000001907349,0,0,0,299,837,3066\\r\\n4388161847,4/16/2016,6580,5.05999994277954,5.05999994277954,0,0.209999993443489,0.400000005960464,4.44999980926514,0,6,9,253,609,3073\\r\\n4388161847,4/17/2016,4660,3.57999992370605,3.57999992370605,0,0,0,3.57999992370605,0,0,0,201,721,2572\\r\\n4388161847,4/18/2016,11009,9.10000038146973,9.10000038146973,0,3.55999994277954,0.400000005960464,5.1399998664856,0,27,8,239,1017,3274\\r\\n4388161847,4/19/2016,10181,7.82999992370605,7.82999992370605,0,1.37000000476837,0.689999997615814,5.76999998092651,0,20,16,249,704,3015\\r\\n4388161847,4/20/2016,10553,8.11999988555908,8.11999988555908,0,1.10000002384186,1.72000002861023,5.28999996185303,0,19,42,228,696,3083\\r\\n4388161847,4/21/2016,10055,7.73000001907349,7.73000001907349,0,0.370000004768372,0.389999985694885,6.98000001907349,0,7,12,272,853,3069\\r\\n4388161847,4/22/2016,12139,9.34000015258789,9.34000015258789,0,3.29999995231628,1.11000001430511,4.92000007629395,0,77,25,220,945,3544\\r\\n4388161847,4/23/2016,13236,10.1800003051758,10.1800003051758,0,4.5,0.319999992847443,5.34999990463257,0,58,5,215,749,3306\\r\\n4388161847,4/24/2016,10243,7.88000011444092,7.88000011444092,0,1.08000004291534,0.509999990463257,6.30000019073486,0,14,8,239,584,2885\\r\\n4388161847,4/25/2016,12961,9.97000026702881,9.97000026702881,0,0.730000019073486,1.39999997615814,7.84000015258789,0,11,31,301,1054,3288\\r\\n4388161847,4/26/2016,9461,7.28000020980835,7.28000020980835,0,0.939999997615814,1.05999994277954,5.26999998092651,0,14,23,224,673,2929\\r\\n4388161847,4/27/2016,11193,8.60999965667725,8.60999965667725,0,0.699999988079071,2.50999999046326,5.3899998664856,0,11,48,241,684,3074\\r\\n4388161847,4/28/2016,10074,7.75,7.75,0,1.28999996185303,0.430000007152557,6.03000020980835,0,19,9,234,878,2969\\r\\n4388161847,4/29/2016,9232,7.09999990463257,7.09999990463257,0,0.800000011920929,0.889999985694885,5.42000007629395,0,13,16,236,1175,2979\\r\\n4388161847,4/30/2016,12533,9.64000034332275,9.64000034332275,0,0.699999988079071,2,6.94000005722046,0,14,43,300,537,3283\\r\\n4388161847,5/1/2016,10255,7.8899998664856,7.8899998664856,0,1.00999999046326,0.680000007152557,6.19999980926514,0,12,15,241,579,2926\\r\\n4388161847,5/2/2016,10096,8.39999961853027,8.39999961853027,0,3.76999998092651,0.0799999982118607,4.55000019073486,0,33,4,204,935,3147\\r\\n4388161847,5/3/2016,12727,9.78999996185303,9.78999996185303,0,1.12999999523163,0.779999971389771,7.88000011444092,0,18,18,306,984,3290\\r\\n4388161847,5/4/2016,12375,9.52000045776367,9.52000045776367,0,2.78999996185303,0.930000007152557,5.80000019073486,0,35,21,251,632,3162\\r\\n4388161847,5/5/2016,9603,7.38000011444092,7.38000011444092,0,0.629999995231628,1.66999995708466,5.09000015258789,0,12,39,199,896,2899\\r\\n4388161847,5/6/2016,13175,10.1300001144409,10.1300001144409,0,2.10999989509583,2.08999991416931,5.92999982833862,0,33,45,262,1100,3425\\r\\n4388161847,5/7/2016,22770,17.5400009155273,17.5400009155273,0,9.44999980926514,2.76999998092651,5.32999992370605,0,120,56,260,508,4022\\r\\n4388161847,5/8/2016,17298,14.3800001144409,14.3800001144409,0,9.89000034332275,1.25999999046326,3.23000001907349,0,107,38,178,576,3934\\r\\n4388161847,5/9/2016,10218,7.8600001335144,7.8600001335144,0,0.340000003576279,0.730000019073486,6.78999996185303,0,6,19,258,1020,3013\\r\\n4388161847,5/10/2016,10299,7.92000007629395,7.92000007629395,0,0.810000002384186,0.649999976158142,6.46000003814697,0,13,14,267,648,3061\\r\\n4388161847,5/11/2016,10201,7.84000015258789,7.84000015258789,0,0.529999971389771,0.790000021457672,6.53000020980835,0,8,18,256,858,2954\\r\\n4388161847,5/12/2016,3369,2.58999991416931,2.58999991416931,0,0,0,2.58999991416931,0,0,0,108,825,1623\\r\\n4445114986,4/12/2016,3276,2.20000004768372,2.20000004768372,0,0,0,2.20000004768372,0,0,0,196,787,2113\\r\\n4445114986,4/13/2016,2961,1.99000000953674,1.99000000953674,0,0,0,1.99000000953674,0,0,0,194,840,2095\\r\\n4445114986,4/14/2016,3974,2.67000007629395,2.67000007629395,0,0,0,2.67000007629395,0,0,0,231,717,2194\\r\\n4445114986,4/15/2016,7198,4.82999992370605,4.82999992370605,0,0,0,4.82999992370605,0,0,0,350,711,2496\\r\\n4445114986,4/16/2016,3945,2.65000009536743,2.65000009536743,0,0,0,2.65000009536743,0,0,0,225,716,2180\\r\\n4445114986,4/17/2016,2268,1.51999998092651,1.51999998092651,0,0,0,1.51999998092651,0,0,0,114,1219,1933\\r\\n4445114986,4/18/2016,6155,4.23999977111816,4.23999977111816,0,2,0.28999999165535,1.95000004768372,0,25,6,162,1247,2248\\r\\n4445114986,4/19/2016,2064,1.38999998569489,1.38999998569489,0,0,0,1.38999998569489,0,0,0,121,895,1954\\r\\n4445114986,4/20/2016,2072,1.38999998569489,1.38999998569489,0,0,0,1.38999998569489,0,0,0,137,841,1974\\r\\n4445114986,4/21/2016,3809,2.55999994277954,2.55999994277954,0,0,0,2.53999996185303,0,0,0,215,756,2150\\r\\n4445114986,4/22/2016,6831,4.57999992370605,4.57999992370605,0,0,0,4.57999992370605,0,0,0,317,706,2432\\r\\n4445114986,4/23/2016,4363,2.9300000667572,2.9300000667572,0,0,0,2.9300000667572,0,0,0,201,1239,2149\\r\\n4445114986,4/24/2016,5002,3.35999989509583,3.35999989509583,0,0,0,3.35999989509583,0,0,0,244,1196,2247\\r\\n4445114986,4/25/2016,3385,2.26999998092651,2.26999998092651,0,0,0,2.26999998092651,0,0,0,179,916,2070\\r\\n4445114986,4/26/2016,6326,4.40999984741211,4.40999984741211,0,2.41000008583069,0.0399999991059303,1.96000003814697,0,29,1,180,839,2291\\r\\n4445114986,4/27/2016,7243,5.03000020980835,5.03000020980835,0,2.61999988555908,0.0299999993294477,2.38000011444092,0,32,1,194,839,2361\\r\\n4445114986,4/28/2016,4493,3.00999999046326,3.00999999046326,0,0,0,3.00999999046326,0,0,0,236,762,2203\\r\\n4445114986,4/29/2016,4676,3.14000010490417,3.14000010490417,0,0,0,3.13000011444092,0,0,0,226,1106,2196\\r\\n4445114986,4/30/2016,6222,4.17999982833862,4.17999982833862,0,0,0,4.17999982833862,0,0,0,290,797,2363\\r\\n4445114986,5/1/2016,5232,3.50999999046326,3.50999999046326,0,0,0,3.50999999046326,0,0,0,240,741,2246\\r\\n4445114986,5/2/2016,6910,4.75,4.75,0,2.21000003814697,0.189999997615814,2.34999990463257,0,27,4,200,667,2336\\r\\n4445114986,5/3/2016,7502,5.17999982833862,5.17999982833862,0,2.48000001907349,0.109999999403954,2.57999992370605,0,30,2,233,725,2421\\r\\n4445114986,5/4/2016,2923,1.96000003814697,1.96000003814697,0,0,0,1.96000003814697,0,0,0,180,897,2070\\r\\n4445114986,5/5/2016,3800,2.54999995231628,2.54999995231628,0,0.119999997317791,0.239999994635582,2.1800000667572,0,2,6,185,734,2120\\r\\n4445114986,5/6/2016,4514,3.02999997138977,3.02999997138977,0,0,0,3.02999997138977,0,0,0,229,809,2211\\r\\n4445114986,5/7/2016,5183,3.58999991416931,3.58999991416931,0,2.13000011444092,0.189999997615814,1.25,0,26,4,108,866,2123\\r\\n4445114986,5/8/2016,7303,4.90000009536743,4.90000009536743,0,0,0.25,4.65000009536743,0,0,8,308,733,2423\\r\\n4445114986,5/9/2016,5275,3.53999996185303,3.53999996185303,0,0,0,3.53999996185303,0,0,0,266,641,2281\\r\\n4445114986,5/10/2016,3915,2.63000011444092,2.63000011444092,0,0,0,2.63000011444092,0,0,0,231,783,2181\\r\\n4445114986,5/11/2016,9105,6.1100001335144,6.1100001335144,0,2.25,1,2.85999989509583,0,34,22,232,622,2499\\r\\n4445114986,5/12/2016,768,0.519999980926514,0.519999980926514,0,0,0,0.519999980926514,0,0,0,58,380,1212\\r\\n4558609924,4/12/2016,5135,3.39000010490417,3.39000010490417,0,0,0,3.39000010490417,0,0,0,318,1122,1909\\r\\n4558609924,4/13/2016,4978,3.28999996185303,3.28999996185303,0,1.24000000953674,0.439999997615814,1.61000001430511,0,19,7,127,1287,1722\\r\\n4558609924,4/14/2016,6799,4.48999977111816,4.48999977111816,0,0,0,4.48999977111816,0,0,0,279,1161,1922\\r\\n4558609924,4/15/2016,7795,5.15000009536743,5.15000009536743,0,0.589999973773956,0.839999973773956,3.73000001907349,0,17,30,262,1131,2121\\r\\n4558609924,4/16/2016,7289,4.82000017166138,4.82000017166138,0,0.550000011920929,0.75,3.5,0,8,12,308,1112,1997\\r\\n4558609924,4/17/2016,9634,6.40000009536743,6.40000009536743,0,0.550000011920929,1.13999998569489,4.71000003814697,0,7,19,304,1110,2117\\r\\n4558609924,4/18/2016,8940,5.90999984741211,5.90999984741211,0,0.980000019073486,0.930000007152557,4,0,14,15,331,1080,2116\\r\\n4558609924,4/19/2016,5401,3.5699999332428,3.5699999332428,0,0.0500000007450581,0.360000014305115,3.16000008583069,0,1,9,248,1182,1876\\r\\n4558609924,4/20/2016,4803,3.17000007629395,3.17000007629395,0,0,0,3.17000007629395,0,0,0,222,1218,1788\\r\\n4558609924,4/21/2016,13743,9.07999992370605,9.07999992370605,0,0.419999986886978,0.970000028610229,7.69999980926514,0,6,21,432,844,2486\\r\\n4558609924,4/22/2016,9601,6.34999990463257,6.34999990463257,0,1.37000000476837,1.5,3.47000002861023,0,20,25,273,1122,2094\\r\\n4558609924,4/23/2016,6890,4.55000019073486,4.55000019073486,0,0.340000003576279,0.200000002980232,4.01000022888184,0,5,5,308,1122,2085\\r\\n4558609924,4/24/2016,8563,5.65999984741211,5.65999984741211,0,0,0,5.65000009536743,0,0,0,395,1045,2173\\r\\n4558609924,4/25/2016,8095,5.34999990463257,5.34999990463257,0,0.589999973773956,0.25,4.51000022888184,0,18,10,340,993,2225\\r\\n4558609924,4/26/2016,9148,6.05000019073486,6.05000019073486,0,0.430000007152557,2.02999997138977,3.58999991416931,0,12,41,283,1062,2223\\r\\n4558609924,4/27/2016,9557,6.32000017166138,6.32000017166138,0,1.96000003814697,0.889999985694885,3.46000003814697,0,27,14,312,1087,2098\\r\\n4558609924,4/28/2016,9451,6.25,6.25,0,0.0199999995529652,0.270000010728836,5.94999980926514,0,1,11,367,985,2185\\r\\n4558609924,4/29/2016,7833,5.17999982833862,5.17999982833862,0,1.01999998092651,1.85000002384186,2.30999994277954,0,15,29,197,1096,1918\\r\\n4558609924,4/30/2016,10319,6.82000017166138,6.82000017166138,0,0.469999998807907,1.88999998569489,4.46000003814697,0,7,29,293,1111,2105\\r\\n4558609924,5/1/2016,3428,2.26999998092651,2.26999998092651,0,0,0,2.26999998092651,0,0,0,190,1121,1692\\r\\n4558609924,5/2/2016,7891,5.21999979019165,5.21999979019165,0,0,0,5.21999979019165,0,0,0,383,1057,2066\\r\\n4558609924,5/3/2016,5267,3.48000001907349,3.48000001907349,0,0.600000023841858,0.280000001192093,2.59999990463257,0,21,10,237,1172,1953\\r\\n4558609924,5/4/2016,5232,3.46000003814697,3.46000003814697,0,0,0,3.46000003814697,0,0,0,252,1188,1842\\r\\n4558609924,5/5/2016,10611,7.01000022888184,7.01000022888184,0,1.00999999046326,0.5,5.51000022888184,0,14,8,370,1048,2262\\r\\n4558609924,5/6/2016,3755,2.48000001907349,2.48000001907349,0,0,0,2.48000001907349,0,0,0,202,1238,1722\\r\\n4558609924,5/7/2016,8237,5.44000005722046,5.44000005722046,0,1.61000001430511,1,2.82999992370605,0,23,16,233,1116,1973\\r\\n4558609924,5/8/2016,6543,4.32999992370605,4.32999992370605,0,1.79999995231628,0.5,2.01999998092651,0,66,35,238,1019,2666\\r\\n4558609924,5/9/2016,11451,7.57000017166138,7.57000017166138,0,0.430000007152557,1.62000000476837,5.51999998092651,0,6,30,339,1065,2223\\r\\n4558609924,5/10/2016,6435,4.25,4.25,0,0.740000009536743,1.12000000476837,2.39000010490417,0,11,18,220,1191,1889\\r\\n4558609924,5/11/2016,9108,6.01999998092651,6.01999998092651,0,0.259999990463257,1.82000005245209,3.94000005722046,0,4,31,324,1081,2131\\r\\n4558609924,5/12/2016,6307,4.17000007629395,4.17000007629395,0,0,0,4.17000007629395,0,0,0,247,736,1452\\r\\n4702921684,4/12/2016,7213,5.88000011444092,5.88000011444092,0,0,0,5.84999990463257,0,0,0,263,718,2947\\r\\n4702921684,4/13/2016,6877,5.57999992370605,5.57999992370605,0,0,0,5.57999992370605,0,0,0,258,777,2898\\r\\n4702921684,4/14/2016,7860,6.36999988555908,6.36999988555908,0,0,0,6.36999988555908,0,0,0,271,772,2984\\r\\n4702921684,4/15/2016,6506,5.28000020980835,5.28000020980835,0,0.0700000002980232,0.419999986886978,4.78999996185303,0,1,8,256,944,2896\\r\\n4702921684,4/16/2016,11140,9.02999973297119,9.02999973297119,0,0.239999994635582,1.25,7.53999996185303,0,3,24,335,556,3328\\r\\n4702921684,4/17/2016,12692,10.289999961853,10.289999961853,0,0.959999978542328,3.46000003814697,5.88000011444092,0,12,66,302,437,3394\\r\\n4702921684,4/18/2016,9105,7.38000011444092,7.38000011444092,0,1.82000005245209,1.49000000953674,4.07000017166138,0,22,30,191,890,3013\\r\\n4702921684,4/19/2016,6708,5.44000005722046,5.44000005722046,0,0.879999995231628,0.370000004768372,4.19000005722046,0,10,8,179,757,2812\\r\\n4702921684,4/20/2016,8793,7.13000011444092,7.13000011444092,0,0.159999996423721,1.23000001907349,5.73000001907349,0,2,29,260,717,3061\\r\\n4702921684,4/21/2016,6530,5.30000019073486,5.30000019073486,0,0.310000002384186,2.04999995231628,2.94000005722046,0,4,41,144,901,2729\\r\\n4702921684,4/22/2016,1664,1.35000002384186,1.35000002384186,0,0,0,1.35000002384186,0,0,0,72,1341,2241\\r\\n4702921684,4/23/2016,15126,12.2700004577637,12.2700004577637,0,0.759999990463257,3.24000000953674,8.27000045776367,0,9,66,408,469,3691\\r\\n4702921684,4/24/2016,15050,12.2200002670288,12.2200002670288,0,1.20000004768372,5.11999988555908,5.88000011444092,0,15,95,281,542,3538\\r\\n4702921684,4/25/2016,9167,7.42999982833862,7.42999982833862,0,0.490000009536743,0.819999992847443,6.1100001335144,0,6,15,270,730,3064\\r\\n4702921684,4/26/2016,6108,4.94999980926514,4.94999980926514,0,0.0700000002980232,0.349999994039536,4.53999996185303,0,1,8,216,765,2784\\r\\n4702921684,4/27/2016,7047,5.71999979019165,5.71999979019165,0,0.0900000035762787,0.800000011920929,4.78000020980835,0,1,16,238,733,2908\\r\\n4702921684,4/28/2016,9023,7.32000017166138,7.32000017166138,0,1.12999999523163,0.419999986886978,5.76999998092651,0,14,9,232,738,3033\\r\\n4702921684,4/29/2016,9930,8.05000019073486,8.05000019073486,0,1.05999994277954,0.920000016689301,6.07000017166138,0,12,19,267,692,3165\\r\\n4702921684,4/30/2016,10144,8.22999954223633,8.22999954223633,0,0.319999992847443,2.02999997138977,5.88000011444092,0,4,36,263,728,3115\\r\\n4702921684,5/1/2016,0,0,0,0,0,0,0,0,0,0,0,1440,2017\\r\\n4702921684,5/2/2016,7245,5.92000007629395,5.92000007629395,0,0.379999995231628,1.74000000953674,3.75999999046326,0,5,40,195,1131,2859\\r\\n4702921684,5/3/2016,9454,7.67000007629395,7.67000007629395,0,0,0,7.67000007629395,0,0,0,313,729,3145\\r\\n4702921684,5/4/2016,8161,6.61999988555908,6.61999988555908,0,0.340000003576279,0.730000019073486,5.53999996185303,0,4,15,251,757,3004\\r\\n4702921684,5/5/2016,8614,6.98999977111816,6.98999977111816,0,0.670000016689301,0.219999998807907,6.09000015258789,0,8,5,241,745,3006\\r\\n4702921684,5/6/2016,6943,5.63000011444092,5.63000011444092,0,0.0799999982118607,0.660000026226044,4.86999988555908,0,1,16,207,682,2859\\r\\n4702921684,5/7/2016,14370,11.6499996185303,11.6499996185303,0,0.370000004768372,2.30999994277954,8.97000026702881,0,5,46,439,577,3683\\r\\n4702921684,5/8/2016,12857,10.4300003051758,10.4300003051758,0,0.680000007152557,6.21000003814697,3.53999996185303,0,9,125,192,1019,3287\\r\\n4702921684,5/9/2016,8232,6.67999982833862,6.67999982833862,0,0,0.569999992847443,6.09999990463257,0,0,12,253,746,2990\\r\\n4702921684,5/10/2016,10613,8.60999965667725,8.60999965667725,0,0.0799999982118607,1.87999999523163,6.65000009536743,0,1,37,262,701,3172\\r\\n4702921684,5/11/2016,9810,7.96000003814697,7.96000003814697,0,0.779999971389771,2.16000008583069,4.98000001907349,0,10,41,235,784,3069\\r\\n4702921684,5/12/2016,2752,2.23000001907349,2.23000001907349,0,0,0,2.23000001907349,0,0,0,68,241,1240\\r\\n5553957443,4/12/2016,11596,7.57000017166138,7.57000017166138,0,1.37000000476837,0.790000021457672,5.40999984741211,0,19,13,277,767,2026\\r\\n5553957443,4/13/2016,4832,3.16000008583069,3.16000008583069,0,0,0,3.16000008583069,0,0,0,226,647,1718\\r\\n5553957443,4/14/2016,17022,11.1199998855591,11.1199998855591,0,4,2.45000004768372,4.67000007629395,0,61,41,256,693,2324\\r\\n5553957443,4/15/2016,16556,10.8599996566772,10.8599996566772,0,4.15999984741211,1.98000001907349,4.71000003814697,0,58,38,239,689,2254\\r\\n5553957443,4/16/2016,5771,3.76999998092651,3.76999998092651,0,0,0,3.76999998092651,0,0,0,288,521,1831\\r\\n5553957443,4/17/2016,655,0.430000007152557,0.430000007152557,0,0,0,0.430000007152557,0,0,0,46,943,1397\\r\\n5553957443,4/18/2016,3727,2.4300000667572,2.4300000667572,0,0,0,2.4300000667572,0,0,0,206,622,1683\\r\\n5553957443,4/19/2016,15482,10.1099996566772,10.1099996566772,0,4.28000020980835,1.6599999666214,4.17999982833862,0,69,28,249,756,2284\\r\\n5553957443,4/20/2016,2713,1.76999998092651,1.76999998092651,0,0,0,1.76999998092651,0,0,0,148,598,1570\\r\\n5553957443,4/21/2016,12346,8.0600004196167,8.0600004196167,0,2.95000004768372,2.16000008583069,2.96000003814697,0,47,42,177,801,2066\\r\\n5553957443,4/22/2016,11682,7.63000011444092,7.63000011444092,0,1.37999999523163,0.629999995231628,5.59999990463257,0,25,16,270,781,2105\\r\\n5553957443,4/23/2016,4112,2.69000005722046,2.69000005722046,0,0,0,2.6800000667572,0,0,0,272,443,1776\\r\\n5553957443,4/24/2016,1807,1.17999994754791,1.17999994754791,0,0,0,1.17999994754791,0,0,0,104,582,1507\\r\\n5553957443,4/25/2016,10946,7.19000005722046,7.19000005722046,0,2.9300000667572,0.569999992847443,3.69000005722046,0,51,11,201,732,2033\\r\\n5553957443,4/26/2016,11886,7.76000022888184,7.76000022888184,0,2.36999988555908,0.930000007152557,4.46000003814697,0,40,18,238,750,2093\\r\\n5553957443,4/27/2016,10538,6.88000011444092,6.88000011444092,0,1.13999998569489,1,4.73999977111816,0,16,16,206,745,1922\\r\\n5553957443,4/28/2016,11393,7.63000011444092,7.63000011444092,0,3.71000003814697,0.75,3.17000007629395,0,49,13,165,727,1999\\r\\n5553957443,4/29/2016,12764,8.32999992370605,8.32999992370605,0,2.78999996185303,0.639999985694885,4.90999984741211,0,46,15,270,709,2169\\r\\n5553957443,4/30/2016,1202,0.779999971389771,0.779999971389771,0,0,0,0.779999971389771,0,0,0,84,506,1463\\r\\n5553957443,5/1/2016,5164,3.36999988555908,3.36999988555908,0,0,0,3.36999988555908,0,0,0,237,436,1747\\r\\n5553957443,5/2/2016,9769,6.38000011444092,6.38000011444092,0,1.05999994277954,0.409999996423721,4.90000009536743,0,23,9,227,724,1996\\r\\n5553957443,5/3/2016,12848,8.39000034332275,8.39000034332275,0,1.5,1.20000004768372,5.67999982833862,0,26,29,247,812,2116\\r\\n5553957443,5/4/2016,4249,2.76999998092651,2.76999998092651,0,0,0,2.76999998092651,0,0,0,224,651,1698\\r\\n5553957443,5/5/2016,14331,9.51000022888184,9.51000022888184,0,3.4300000667572,1.6599999666214,4.42999982833862,0,44,29,241,692,2156\\r\\n5553957443,5/6/2016,9632,6.28999996185303,6.28999996185303,0,1.51999998092651,0.540000021457672,4.23000001907349,0,21,9,229,761,1916\\r\\n5553957443,5/7/2016,1868,1.22000002861023,1.22000002861023,0,0,0,1.22000002861023,0,0,0,96,902,1494\\r\\n5553957443,5/8/2016,6083,4,4,0,0.219999998807907,0.469999998807907,3.29999995231628,0,3,8,210,505,1762\\r\\n5553957443,5/9/2016,11611,7.57999992370605,7.57999992370605,0,2.13000011444092,0.889999985694885,4.55999994277954,0,59,22,251,667,2272\\r\\n5553957443,5/10/2016,16358,10.710000038147,10.710000038147,0,3.86999988555908,1.61000001430511,5.19999980926514,0,61,40,265,707,2335\\r\\n5553957443,5/11/2016,4926,3.22000002861023,3.22000002861023,0,0,0,3.22000002861023,0,0,0,195,628,1693\\r\\n5553957443,5/12/2016,3121,2.03999996185303,2.03999996185303,0,0.579999983310699,0.400000005960464,1.05999994277954,0,8,6,48,222,741\\r\\n5577150313,4/12/2016,8135,6.07999992370605,6.07999992370605,0,3.59999990463257,0.379999995231628,2.09999990463257,0,86,16,140,728,3405\\r\\n5577150313,4/13/2016,5077,3.78999996185303,3.78999996185303,0,0.319999992847443,0.219999998807907,3.25,0,15,11,144,776,2551\\r\\n5577150313,4/14/2016,8596,6.42000007629395,6.42000007629395,0,3.32999992370605,0.310000002384186,2.77999997138977,0,118,30,176,662,4022\\r\\n5577150313,4/15/2016,12087,9.07999992370605,9.07999992370605,0,3.92000007629395,1.60000002384186,3.55999994277954,0,115,54,199,695,4005\\r\\n5577150313,4/16/2016,14269,10.6599998474121,10.6599998474121,0,6.6399998664856,1.27999997138977,2.73000001907349,0,184,56,158,472,4274\\r\\n5577150313,4/17/2016,12231,9.14000034332275,9.14000034332275,0,5.98000001907349,0.829999983310699,2.3199999332428,0,200,37,159,525,4552\\r\\n5577150313,4/18/2016,9893,7.3899998664856,7.3899998664856,0,4.8600001335144,0.720000028610229,1.82000005245209,0,114,32,130,623,3625\\r\\n5577150313,4/19/2016,12574,9.42000007629395,9.42000007629395,0,7.01999998092651,0.639999985694885,1.75999999046326,0,108,23,111,733,3501\\r\\n5577150313,4/20/2016,8330,6.21999979019165,6.21999979019165,0,4.11999988555908,0.340000003576279,1.75999999046326,0,87,16,113,773,3192\\r\\n5577150313,4/21/2016,10830,8.09000015258789,8.09000015258789,0,3.65000009536743,1.6599999666214,2.77999997138977,0,110,74,175,670,4018\\r\\n5577150313,4/22/2016,9172,6.84999990463257,6.84999990463257,0,2.42000007629395,0.790000021457672,3.29999995231628,0,62,30,200,823,3329\\r\\n5577150313,4/23/2016,7638,5.71000003814697,5.71000003814697,0,1.21000003814697,0.360000014305115,4.1399998664856,0,24,24,223,627,3152\\r\\n5577150313,4/24/2016,15764,11.7799997329712,11.7799997329712,0,7.65000009536743,2.15000009536743,1.98000001907349,0,210,65,141,425,4392\\r\\n5577150313,4/25/2016,6393,4.78000020980835,4.78000020980835,0,1.35000002384186,0.670000016689301,2.75999999046326,0,61,38,214,743,3374\\r\\n5577150313,4/26/2016,5325,3.98000001907349,3.98000001907349,0,0.850000023841858,0.649999976158142,2.47000002861023,0,38,32,181,759,3088\\r\\n5577150313,4/27/2016,6805,5.1399998664856,5.1399998664856,0,1.80999994277954,0.400000005960464,2.9300000667572,0,63,16,190,773,3294\\r\\n5577150313,4/28/2016,9841,7.42999982833862,7.42999982833862,0,3.25,1.16999995708466,3.00999999046326,0,99,51,141,692,3580\\r\\n5577150313,4/29/2016,7924,5.92000007629395,5.92000007629395,0,2.83999991416931,0.610000014305115,2.47000002861023,0,97,36,165,739,3544\\r\\n5577150313,4/30/2016,12363,9.23999977111816,9.23999977111816,0,5.82999992370605,0.790000021457672,2.60999989509583,0,207,45,163,621,4501\\r\\n5577150313,5/1/2016,13368,9.98999977111816,9.98999977111816,0,5.30999994277954,1.44000005722046,3.24000000953674,0,194,72,178,499,4546\\r\\n5577150313,5/2/2016,7439,5.55999994277954,5.55999994277954,0,1.12000000476837,0.349999994039536,4.07000017166138,0,37,20,235,732,3014\\r\\n5577150313,5/3/2016,11045,8.25,8.25,0,4.51999998092651,0.150000005960464,3.5699999332428,0,97,8,212,580,3795\\r\\n5577150313,5/4/2016,5206,3.89000010490417,3.89000010490417,0,1.55999994277954,0.25,2.07999992370605,0,25,9,141,631,2755\\r\\n5577150313,5/5/2016,7550,5.6399998664856,5.6399998664856,0,2.5,0.469999998807907,2.67000007629395,0,45,21,143,1153,3004\\r\\n5577150313,5/6/2016,4950,3.70000004768372,3.70000004768372,0,1.92999994754791,0.319999992847443,1.45000004768372,0,41,16,79,1304,2643\\r\\n5577150313,5/7/2016,0,0,0,0,0,0,0,0,0,0,0,1440,1819\\r\\n5577150313,5/8/2016,0,0,0,0,0,0,0,0,0,0,0,1440,1819\\r\\n5577150313,5/9/2016,3421,2.55999994277954,2.55999994277954,0,1.42999994754791,0.140000000596046,0.990000009536743,0,34,11,70,1099,2489\\r\\n5577150313,5/10/2016,8869,6.65000009536743,6.65000009536743,0,2.55999994277954,0.75,3.34999990463257,0,104,37,194,639,3841\\r\\n5577150313,5/11/2016,4038,3.03999996185303,3.03999996185303,0,1.83000004291534,0.300000011920929,0.889999985694885,0,45,15,63,257,1665\\r\\n6117666160,4/12/2016,0,0,0,0,0,0,0,0,0,0,0,1440,1496\\r\\n6117666160,4/13/2016,0,0,0,0,0,0,0,0,0,0,0,1440,1496\\r\\n6117666160,4/14/2016,0,0,0,0,0,0,0,0,0,0,0,1440,1496\\r\\n6117666160,4/15/2016,14019,10.5900001525879,10.5900001525879,0,0,0.280000001192093,10.3000001907349,0,0,6,513,921,2865\\r\\n6117666160,4/16/2016,14450,10.9099998474121,10.9099998474121,0,0.579999983310699,0.850000023841858,9.47999954223633,0,7,15,518,502,2828\\r\\n6117666160,4/17/2016,7150,5.40000009536743,5.40000009536743,0,0,0,5.40000009536743,0,0,0,312,702,2225\\r\\n6117666160,4/18/2016,5153,3.91000008583069,3.91000008583069,0,0,0,3.89000010490417,0,0,0,241,759,2018\\r\\n6117666160,4/19/2016,11135,8.40999984741211,8.40999984741211,0,0,0,8.40999984741211,0,0,0,480,425,2606\\r\\n6117666160,4/20/2016,10449,8.02000045776367,8.02000045776367,0,2.02999997138977,0.479999989271164,5.51999998092651,0,26,10,349,587,2536\\r\\n6117666160,4/21/2016,19542,15.0100002288818,15.0100002288818,0,0.980000019073486,0.400000005960464,5.61999988555908,0,11,19,294,579,4900\\r\\n6117666160,4/22/2016,8206,6.19999980926514,6.19999980926514,0,0,0,6.19999980926514,0,0,0,402,413,2409\\r\\n6117666160,4/23/2016,11495,8.68000030517578,8.68000030517578,0,0,0,8.68000030517578,0,0,0,512,468,2651\\r\\n6117666160,4/24/2016,7623,5.76000022888184,5.76000022888184,0,0,0,5.76000022888184,0,0,0,362,711,2305\\r\\n6117666160,4/25/2016,0,0,0,0,0,0,0,0,0,0,0,1440,1497\\r\\n6117666160,4/26/2016,9543,7.21000003814697,7.21000003814697,0,0,0.340000003576279,6.86999988555908,0,0,7,352,1077,2450\\r\\n6117666160,4/27/2016,9411,7.1100001335144,7.1100001335144,0,0,0,7.1100001335144,0,0,0,458,417,2576\\r\\n6117666160,4/28/2016,3403,2.59999990463257,2.59999990463257,0,0,0,2.59999990463257,0,0,0,141,758,1879\\r\\n6117666160,4/29/2016,9592,7.23999977111816,7.23999977111816,0,0,0,7.23999977111816,0,0,0,461,479,2560\\r\\n6117666160,4/30/2016,6987,5.28000020980835,5.28000020980835,0,0,0,5.28000020980835,0,0,0,343,1040,2275\\r\\n6117666160,5/1/2016,8915,6.73000001907349,6.73000001907349,0,0,0,6.73000001907349,0,0,0,397,525,2361\\r\\n6117666160,5/2/2016,4933,3.73000001907349,3.73000001907349,0,0,0,3.73000001907349,0,0,0,236,1204,2044\\r\\n6117666160,5/3/2016,0,0,0,0,0,0,0,0,0,0,0,1440,1496\\r\\n6117666160,5/4/2016,2997,2.25999999046326,2.25999999046326,0,0,0,2.25999999046326,0,0,0,156,1279,1902\\r\\n6117666160,5/5/2016,9799,7.40000009536743,7.40000009536743,0,0,0,7.40000009536743,0,0,0,487,479,2636\\r\\n6117666160,5/6/2016,3365,2.6800000667572,2.6800000667572,0,0,0,2.6800000667572,0,0,0,133,673,1838\\r\\n6117666160,5/7/2016,7336,5.53999996185303,5.53999996185303,0,0,0,5.53999996185303,0,0,0,412,456,2469\\r\\n6117666160,5/8/2016,7328,5.53000020980835,5.53000020980835,0,0,0,5.53000020980835,0,0,0,318,517,2250\\r\\n6117666160,5/9/2016,4477,3.38000011444092,3.38000011444092,0,0,0,3.38000011444092,0,0,0,197,125,1248\\r\\n6290855005,4/12/2016,4562,3.45000004768372,3.45000004768372,0,0,0,3.45000004768372,0,0,0,199,1241,2560\\r\\n6290855005,4/13/2016,7142,5.40000009536743,5.40000009536743,0,0,0,5.3899998664856,0.00999999977648258,0,0,350,1090,2905\\r\\n6290855005,4/14/2016,7671,5.80000019073486,5.80000019073486,0,0,0,5.76999998092651,0.0299999993294477,0,0,363,1077,2952\\r\\n6290855005,4/15/2016,9501,7.17999982833862,7.17999982833862,0,0,0,7.17000007629395,0.00999999977648258,0,0,328,1112,2896\\r\\n6290855005,4/16/2016,8301,6.28000020980835,6.28000020980835,0,0,0,6.26999998092651,0.00999999977648258,0,0,258,1182,2783\\r\\n6290855005,4/17/2016,7851,5.94000005722046,5.94000005722046,0,1.13999998569489,0.790000021457672,4,0,31,12,225,1172,3171\\r\\n6290855005,4/18/2016,6885,5.21000003814697,5.21000003814697,0,0,0,5.19000005722046,0.0199999995529652,0,0,271,1169,2766\\r\\n6290855005,4/19/2016,7142,5.40000009536743,5.40000009536743,0,0,0,5.3899998664856,0.00999999977648258,0,0,321,1119,2839\\r\\n6290855005,4/20/2016,6361,4.80999994277954,4.80999994277954,0,0,0,4.80000019073486,0.00999999977648258,0,0,258,1182,2701\\r\\n6290855005,4/21/2016,0,0,0,0,0,0,0,0,0,0,0,1440,2060\\r\\n6290855005,4/22/2016,6238,4.71999979019165,4.71999979019165,0,0,0,4.71999979019165,0,0,0,302,1138,2796\\r\\n6290855005,4/23/2016,0,0,0,0,0,0,0,0,33,0,0,1407,2664\\r\\n6290855005,4/24/2016,5896,4.46000003814697,4.46000003814697,0,0,0,4.46000003814697,0,0,0,258,1182,2703\\r\\n6290855005,4/25/2016,7802,5.90000009536743,5.90000009536743,0,0.680000007152557,0.180000007152557,5.03000020980835,0.00999999977648258,8,3,249,1180,2771\\r\\n6290855005,4/26/2016,0,0,0,0,0,0,0,0,0,0,0,1440,2060\\r\\n6290855005,4/27/2016,5565,4.21000003814697,4.21000003814697,0,0,0,4.17999982833862,0.0299999993294477,0,0,287,1153,2743\\r\\n6290855005,4/28/2016,5731,4.32999992370605,4.32999992370605,0,0,0,4.32999992370605,0,0,0,255,1185,2687\\r\\n6290855005,4/29/2016,0,0,0,0,0,0,0,0,0,0,0,1440,2060\\r\\n6290855005,4/30/2016,6744,5.09999990463257,5.09999990463257,0,0,0,5.09000015258789,0.00999999977648258,0,0,324,1116,2843\\r\\n6290855005,5/1/2016,9837,7.44000005722046,7.44000005722046,0,0.660000026226044,2.75,4,0.0199999995529652,8,95,282,1055,3327\\r\\n6290855005,5/2/2016,6781,5.13000011444092,5.13000011444092,0,0,0,5.1100001335144,0.0199999995529652,0,0,268,1172,2725\\r\\n6290855005,5/3/2016,6047,4.57000017166138,4.57000017166138,0,0,0,4.57000017166138,0,0,0,240,1200,2671\\r\\n6290855005,5/4/2016,5832,4.40999984741211,4.40999984741211,0,0,0,4.40000009536743,0.00999999977648258,0,0,272,1168,2718\\r\\n6290855005,5/5/2016,6339,4.78999996185303,4.78999996185303,0,0,0,4.78999996185303,0,0,0,239,1201,2682\\r\\n6290855005,5/6/2016,6116,4.61999988555908,4.61999988555908,0,0,0,4.59000015258789,0.0299999993294477,0,0,305,1135,2806\\r\\n6290855005,5/7/2016,5510,4.17000007629395,4.17000007629395,0,0,0,4.15999984741211,0,0,0,227,1213,2613\\r\\n6290855005,5/8/2016,7706,5.82999992370605,5.82999992370605,0,0,0,5.82000017166138,0,0,0,251,1189,2712\\r\\n6290855005,5/9/2016,6277,4.75,4.75,0,0,0,4.73000001907349,0.0199999995529652,0,0,264,800,2175\\r\\n6290855005,5/10/2016,0,0,0,0,0,0,0,0,0,0,0,1440,0\\r\\n6775888955,4/12/2016,0,0,0,0,0,0,0,0,0,0,0,1440,1841\\r\\n6775888955,4/13/2016,4053,2.91000008583069,2.91000008583069,0,1.11000001430511,0.579999983310699,1.22000002861023,0,17,18,85,1053,2400\\r\\n6775888955,4/14/2016,5162,3.70000004768372,3.70000004768372,0,0.870000004768372,0.860000014305115,1.97000002861023,0,14,24,105,863,2507\\r\\n6775888955,4/15/2016,1282,0.920000016689301,0.920000016689301,0,0,0,0.920000016689301,0,0,0,58,976,2127\\r\\n6775888955,4/16/2016,4732,3.39000010490417,3.39000010490417,0,2.51999998092651,0.810000002384186,0.0599999986588955,0,36,18,9,1377,2225\\r\\n6775888955,4/17/2016,2497,1.78999996185303,1.78999996185303,0,0.349999994039536,1.12999999523163,0.310000002384186,0,5,24,19,1392,2067\\r\\n6775888955,4/18/2016,8294,5.94999980926514,5.94999980926514,0,2,0.769999980926514,3.17000007629395,0,30,31,146,1233,2798\\r\\n6775888955,4/19/2016,0,0,0,0,0,0,0,0,0,0,0,1440,1841\\r\\n6775888955,4/20/2016,10771,7.71999979019165,7.71999979019165,0,3.76999998092651,1.74000000953674,2.22000002861023,0,70,113,178,1079,3727\\r\\n6775888955,4/21/2016,0,0,0,0,0,0,0,0,0,0,0,1440,1841\\r\\n6775888955,4/22/2016,637,0.46000000834465,0.46000000834465,0,0,0,0.46000000834465,0,0,0,20,1420,1922\\r\\n6775888955,4/23/2016,0,0,0,0,0,0,0,0,0,0,0,1440,1841\\r\\n6775888955,4/24/2016,2153,1.53999996185303,1.53999996185303,0,0.769999980926514,0.620000004768372,0.150000005960464,0,11,18,11,1400,2053\\r\\n6775888955,4/25/2016,6474,4.6399998664856,4.6399998664856,0,2.26999998092651,0.46000000834465,1.89999997615814,0,33,13,92,1302,2484\\r\\n6775888955,4/26/2016,7091,5.26999998092651,5.26999998092651,1.95959603786469,3.48000001907349,0.870000004768372,0.730000019073486,0,42,30,47,1321,2584\\r\\n6775888955,4/27/2016,0,0,0,0,0,0,0,0,0,0,0,1440,1841\\r\\n6775888955,4/28/2016,703,0.5,0.5,0,0.0599999986588955,0.200000002980232,0.239999994635582,0,2,13,15,1410,1993\\r\\n6775888955,4/29/2016,0,0,0,0,0,0,0,0,0,0,0,1440,1841\\r\\n6775888955,4/30/2016,2503,1.78999996185303,1.78999996185303,0,0.159999996423721,0.159999996423721,1.48000001907349,0,3,9,84,1344,2280\\r\\n6775888955,5/1/2016,2487,1.77999997138977,1.77999997138977,0,0.479999989271164,0.620000004768372,0.680000007152557,0,9,34,50,1347,2319\\r\\n6775888955,5/2/2016,0,0,0,0,0,0,0,0,0,0,0,1440,1841\\r\\n6775888955,5/3/2016,9,0.00999999977648258,0.00999999977648258,0,0,0,0.00999999977648258,0,0,0,1,1439,1843\\r\\n6775888955,5/4/2016,0,0,0,0,0,0,0,0,0,0,0,1440,1841\\r\\n6775888955,5/5/2016,0,0,0,0,0,0,0,0,0,0,0,1440,1841\\r\\n6775888955,5/6/2016,4697,3.36999988555908,3.36999988555908,0,0.469999998807907,0.930000007152557,1.92999994754791,0,12,35,75,1318,2496\\r\\n6775888955,5/7/2016,1967,1.4099999666214,1.4099999666214,0,0.129999995231628,0.239999994635582,1.04999995231628,0,2,5,49,551,1032\\r\\n6962181067,4/12/2016,10199,6.73999977111816,6.73999977111816,0,3.40000009536743,0.829999983310699,2.50999999046326,0,50,14,189,796,1994\\r\\n6962181067,4/13/2016,5652,3.74000000953674,3.74000000953674,0,0.569999992847443,1.21000003814697,1.96000003814697,0,8,24,142,548,1718\\r\\n6962181067,4/14/2016,1551,1.02999997138977,1.02999997138977,0,0,0,1.02999997138977,0,0,0,86,862,1466\\r\\n6962181067,4/15/2016,5563,3.6800000667572,3.6800000667572,0,0,0,3.6800000667572,0,0,0,217,837,1756\\r\\n6962181067,4/16/2016,13217,8.73999977111816,8.73999977111816,0,3.66000008583069,0.189999997615814,4.88000011444092,0,50,3,280,741,2173\\r\\n6962181067,4/17/2016,10145,6.71000003814697,6.71000003814697,0,0.330000013113022,0.680000007152557,5.69000005722046,0,5,13,295,634,2027\\r\\n6962181067,4/18/2016,11404,7.53999996185303,7.53999996185303,0,0.829999983310699,2.39000010490417,4.32000017166138,0,13,42,238,689,2039\\r\\n6962181067,4/19/2016,10742,7.09999990463257,7.09999990463257,0,2.09999990463257,2.13000011444092,2.86999988555908,0,35,41,195,659,2046\\r\\n6962181067,4/20/2016,13928,9.55000019073486,9.55000019073486,0,4.28000020980835,0.189999997615814,5.09000015258789,0,48,4,297,639,2174\\r\\n6962181067,4/21/2016,11835,9.71000003814697,7.88000011444092,4.08169221878052,3.99000000953674,2.09999990463257,3.50999999046326,0.109999999403954,53,27,214,708,2179\\r\\n6962181067,4/22/2016,10725,7.09000015258789,7.09000015258789,0,1.76999998092651,1.54999995231628,3.76999998092651,0,30,33,240,659,2086\\r\\n6962181067,4/23/2016,20031,13.2399997711182,13.2399997711182,0,4.19999980926514,2,7.03999996185303,0,58,41,347,484,2571\\r\\n6962181067,4/24/2016,5029,3.3199999332428,3.3199999332428,0,0,0,3.3199999332428,0,0,0,199,720,1705\\r\\n6962181067,4/25/2016,13239,9.27000045776367,9.07999992370605,2.78517508506775,3.01999998092651,1.67999994754791,4.46000003814697,0.100000001490116,35,31,282,637,2194\\r\\n6962181067,4/26/2016,10433,6.90000009536743,6.90000009536743,0,2.57999992370605,0.419999986886978,3.90000009536743,0,36,7,254,680,2012\\r\\n6962181067,4/27/2016,10320,6.82000017166138,6.82000017166138,0,0.550000011920929,2.01999998092651,4.25,0,7,38,279,697,2034\\r\\n6962181067,4/28/2016,12627,8.35000038146973,8.35000038146973,0,2.50999999046326,0.239999994635582,5.59000015258789,0,38,8,288,621,2182\\r\\n6962181067,4/29/2016,10762,7.1100001335144,7.1100001335144,0,0.819999992847443,0.479999989271164,5.80999994277954,0,12,15,369,645,2254\\r\\n6962181067,4/30/2016,10081,6.65999984741211,6.65999984741211,0,2.24000000953674,0.759999990463257,3.67000007629395,0,32,16,237,731,2002\\r\\n6962181067,5/1/2016,5454,3.60999989509583,3.60999989509583,0,0,0,3.60999989509583,0,0,0,215,722,1740\\r\\n6962181067,5/2/2016,12912,8.53999996185303,8.53999996185303,0,1.20000004768372,2,5.34000015258789,0,18,39,313,655,2162\\r\\n6962181067,5/3/2016,12109,8.11999988555908,8.11999988555908,0,1.74000000953674,2.03999996185303,4.32999992370605,0,21,36,267,654,2072\\r\\n6962181067,5/4/2016,10147,6.71000003814697,6.71000003814697,0,0.469999998807907,1.67999994754791,4.55000019073486,0,15,36,284,683,2086\\r\\n6962181067,5/5/2016,10524,6.96000003814697,6.96000003814697,0,0.990000009536743,1.1599999666214,4.80999994277954,0,14,22,305,591,2066\\r\\n6962181067,5/6/2016,5908,3.91000008583069,3.91000008583069,0,0,0,3.91000008583069,0,0,0,299,717,1850\\r\\n6962181067,5/7/2016,6815,4.5,4.5,0,0,0,4.5,0,0,0,328,745,1947\\r\\n6962181067,5/8/2016,4188,2.76999998092651,2.76999998092651,0,0,0.519999980926514,2.25,0,0,14,151,709,1659\\r\\n6962181067,5/9/2016,12342,8.72000026702881,8.68000030517578,3.16782188415527,3.90000009536743,1.17999994754791,3.65000009536743,0,43,21,231,607,2105\\r\\n6962181067,5/10/2016,15448,10.210000038147,10.210000038147,0,3.47000002861023,1.75,4.98999977111816,0,62,34,275,626,2361\\r\\n6962181067,5/11/2016,6722,4.44000005722046,4.44000005722046,0,1.49000000953674,0.310000002384186,2.65000009536743,0,24,7,199,709,1855\\r\\n6962181067,5/12/2016,3587,2.36999988555908,2.36999988555908,0,0,0.25,2.10999989509583,0,0,8,105,127,928\\r\\n7007744171,4/12/2016,14172,10.289999961853,9.47999954223633,4.8697829246521,4.5,0.379999995231628,5.40999984741211,0,53,8,355,1024,2937\\r\\n7007744171,4/13/2016,12862,9.64999961853027,8.60000038146973,4.8513069152832,4.6100001335144,0.560000002384186,4.48000001907349,0,56,22,261,1101,2742\\r\\n7007744171,4/14/2016,11179,8.23999977111816,7.48000001907349,3.28541493415833,2.95000004768372,0.340000003576279,4.96000003814697,0,34,6,304,1096,2668\\r\\n7007744171,4/15/2016,5273,3.52999997138977,3.52999997138977,0,0,0,3.52999997138977,0,0,0,202,1238,2098\\r\\n7007744171,4/16/2016,4631,3.09999990463257,3.09999990463257,0,0,0,3.09999990463257,0,0,0,203,1155,2076\\r\\n7007744171,4/17/2016,8059,5.3899998664856,5.3899998664856,0,0,0,5.3899998664856,0,0,0,305,1135,2383\\r\\n7007744171,4/18/2016,14816,10.9799995422363,9.90999984741211,4.93055009841919,3.78999996185303,2.11999988555908,5.05000019073486,0.0199999995529652,48,31,284,1077,2832\\r\\n7007744171,4/19/2016,14194,10.4799995422363,9.5,4.94214200973511,4.40999984741211,0.759999990463257,5.30999994277954,0,53,17,304,1066,2812\\r\\n7007744171,4/20/2016,15566,11.3100004196167,10.4099998474121,4.92484092712402,4.78999996185303,0.670000016689301,5.8600001335144,0,60,33,347,1000,3096\\r\\n7007744171,4/21/2016,13744,9.1899995803833,9.1899995803833,0,2.15000009536743,1.87000000476837,5.17000007629395,0,30,34,327,1049,2763\\r\\n7007744171,4/22/2016,15299,10.2399997711182,10.2399997711182,0,4.09999990463257,1.75999999046326,4.36999988555908,0,64,50,261,1065,2889\\r\\n7007744171,4/23/2016,8093,5.40999984741211,5.40999984741211,0,0.129999995231628,1.12999999523163,4.15000009536743,0,2,25,223,1190,2284\\r\\n7007744171,4/24/2016,11085,7.42000007629395,7.42000007629395,0,0,0,7.42000007629395,0,0,0,419,1021,2667\\r\\n7007744171,4/25/2016,18229,13.3400001525879,12.1999998092651,4.86179208755493,4.30999994277954,1.37000000476837,7.67000007629395,0,51,24,379,986,3055\\r\\n7007744171,4/26/2016,15090,10.1000003814697,10.1000003814697,0,0.930000007152557,0.939999997615814,8.22999954223633,0,16,22,424,978,2939\\r\\n7007744171,4/27/2016,13541,10.2200002670288,9.0600004196167,4.88560485839844,4.26999998092651,0.660000026226044,5.28999996185303,0,50,12,337,1041,2830\\r\\n7007744171,4/28/2016,15128,10.1199998855591,10.1199998855591,0,1.0900000333786,0.769999980926514,8.26000022888184,0,16,16,401,1007,2836\\r\\n7007744171,4/29/2016,20067,14.3000001907349,13.4200000762939,4.91114616394043,4.30999994277954,2.04999995231628,7.94999980926514,0,55,42,382,961,3180\\r\\n7007744171,4/30/2016,3761,2.51999998092651,2.51999998092651,0,0,0,2.51999998092651,0,0,0,200,1240,2051\\r\\n7007744171,5/1/2016,5600,3.75,3.75,0,0,0,3.75,0,0,0,237,1142,2225\\r\\n7007744171,5/2/2016,13041,9.18000030517578,8.72000026702881,2.83232593536377,4.6399998664856,0.699999988079071,3.82999992370605,0,64,14,250,1112,2642\\r\\n7007744171,5/3/2016,14510,10.8699998855591,9.71000003814697,4.91236782073975,4.48000001907349,1.01999998092651,5.3600001335144,0,58,31,330,1021,2976\\r\\n7007744171,5/4/2016,0,0,0,0,0,0,0,0,0,0,0,1440,1557\\r\\n7007744171,5/5/2016,15010,11.1000003814697,10.039999961853,4.8782320022583,4.32999992370605,1.28999996185303,5.48000001907349,0,53,23,317,1047,2933\\r\\n7007744171,5/6/2016,11459,7.67000007629395,7.67000007629395,0,3,0.810000002384186,3.85999989509583,0,44,13,247,1136,2553\\r\\n7007744171,5/7/2016,0,0,0,0,0,0,0,0,0,0,0,111,120\\r\\n7086361926,4/12/2016,11317,8.40999984741211,8.40999984741211,0,5.26999998092651,0.150000005960464,2.97000002861023,0,59,6,153,745,2772\\r\\n7086361926,4/13/2016,5813,3.61999988555908,3.61999988555908,0,0.560000002384186,0.209999993443489,2.83999991416931,0,31,26,155,744,2516\\r\\n7086361926,4/14/2016,9123,6.11999988555908,6.11999988555908,0,2.02999997138977,0.330000013113022,3.66000008583069,0,35,32,189,787,2734\\r\\n7086361926,4/15/2016,8585,5.67000007629395,5.67000007629395,0,2.03999996185303,1.11000001430511,2.52999997138977,0,30,21,139,864,2395\\r\\n7086361926,4/16/2016,31,0.00999999977648258,0.00999999977648258,0,0,0,0.00999999977648258,0,0,0,3,1437,1635\\r\\n7086361926,4/17/2016,0,0,0,0,0,0,0,0,0,0,0,1440,1629\\r\\n7086361926,4/18/2016,9827,6.71000003814697,6.71000003814697,0,3.17000007629395,1.22000002861023,2.30999994277954,0,61,51,114,1136,2743\\r\\n7086361926,4/19/2016,10688,7.28999996185303,7.28999996185303,0,3.52999997138977,1.23000001907349,2.50999999046326,0,67,69,124,671,2944\\r\\n7086361926,4/20/2016,14365,10.6400003433228,10.6400003433228,0,7.6399998664856,0.449999988079071,2.53999996185303,0,87,13,145,797,2997\\r\\n7086361926,4/21/2016,9469,6.17999982833862,6.17999982833862,0,1.36000001430511,0.300000011920929,4.51000022888184,0,19,6,206,758,2463\\r\\n7086361926,4/22/2016,9753,6.53000020980835,6.53000020980835,0,2.86999988555908,0.970000028610229,2.67000007629395,0,58,59,153,762,2846\\r\\n7086361926,4/23/2016,2817,1.80999994277954,1.80999994277954,0,0,0,1.79999995231628,0,0,0,90,1350,1965\\r\\n7086361926,4/24/2016,3520,2.16000008583069,2.16000008583069,0,0,0,2.15000009536743,0,0,0,125,566,2049\\r\\n7086361926,4/25/2016,10091,6.82000017166138,6.82000017166138,0,3.75,0.699999988079071,2.36999988555908,0,69,39,129,706,2752\\r\\n7086361926,4/26/2016,10387,7.07000017166138,7.07000017166138,0,4.15999984741211,0.769999980926514,2.11999988555908,0,70,33,132,726,2781\\r\\n7086361926,4/27/2016,11107,8.34000015258789,8.34000015258789,0,5.63000011444092,0.180000007152557,2.52999997138977,0,55,6,145,829,2693\\r\\n7086361926,4/28/2016,11584,7.80000019073486,7.80000019073486,0,2.78999996185303,1.63999998569489,3.35999989509583,0,54,48,161,810,2862\\r\\n7086361926,4/29/2016,7881,4.94999980926514,4.94999980926514,0,0.490000009536743,0.449999988079071,4,0,24,36,182,1198,2616\\r\\n7086361926,4/30/2016,14560,9.40999984741211,9.40999984741211,0,3.11999988555908,1.03999996185303,5.23999977111816,0,42,17,308,584,2995\\r\\n7086361926,5/1/2016,12390,8.06999969482422,8.06999969482422,0,2.29999995231628,0.899999976158142,4.84999990463257,0,30,15,258,685,2730\\r\\n7086361926,5/2/2016,10052,6.80999994277954,6.80999994277954,0,3.48000001907349,0.660000026226044,2.66000008583069,0,66,26,139,737,2754\\r\\n7086361926,5/3/2016,10288,6.76000022888184,6.76000022888184,0,2.74000000953674,0.850000023841858,3.16000008583069,0,57,36,152,761,2754\\r\\n7086361926,5/4/2016,10988,8.3100004196167,8.3100004196167,0,5.28000020980835,0.119999997317791,2.90000009536743,0,45,12,135,843,2655\\r\\n7086361926,5/5/2016,8564,5.59999990463257,5.59999990463257,0,1.77999997138977,0.829999983310699,2.95000004768372,0,24,14,149,1253,2386\\r\\n7086361926,5/6/2016,12461,8.38000011444092,8.38000011444092,0,3.8199999332428,1.42999994754791,3.11999988555908,0,84,35,154,834,2924\\r\\n7086361926,5/7/2016,12827,8.47999954223633,8.47999954223633,0,1.46000003814697,2.32999992370605,4.67999982833862,0,20,42,209,621,2739\\r\\n7086361926,5/8/2016,10677,7.09999990463257,7.09999990463257,0,2.30999994277954,1.52999997138977,3.25,0,32,27,147,695,2534\\r\\n7086361926,5/9/2016,13566,9.10999965667725,9.10999965667725,0,4.26000022888184,1.71000003814697,3.11999988555908,0,67,50,171,743,2960\\r\\n7086361926,5/10/2016,14433,10.789999961853,10.789999961853,0,7.1100001335144,1.20000004768372,2.45000004768372,0,72,23,106,1182,2800\\r\\n7086361926,5/11/2016,9572,6.51999998092651,6.51999998092651,0,2.89000010490417,1.38999998569489,2.23000001907349,0,57,40,128,757,2735\\r\\n7086361926,5/12/2016,3789,2.55999994277954,2.55999994277954,0,0.379999995231628,0.270000010728836,1.88999998569489,0,5,4,58,343,1199\\r\\n8053475328,4/12/2016,18060,14.1199998855591,14.1199998855591,0,11.6400003433228,0.389999985694885,2.09999990463257,0,116,8,123,1193,3186\\r\\n8053475328,4/13/2016,16433,13.3500003814697,13.3500003814697,0,10.4300003051758,0.469999998807907,2.45000004768372,0,95,12,156,1177,3140\\r\\n8053475328,4/14/2016,20159,15.9700002670288,15.9700002670288,0,12.3400001525879,0.209999993443489,3.35999989509583,0,119,5,193,1123,3411\\r\\n8053475328,4/15/2016,20669,16.2399997711182,16.2399997711182,0,13.2600002288818,0.389999985694885,2.58999991416931,0,132,8,158,1142,3410\\r\\n8053475328,4/16/2016,14549,11.1099996566772,11.1099996566772,0,9.35999965667725,0.270000010728836,1.49000000953674,0,96,6,83,1255,2867\\r\\n8053475328,4/17/2016,18827,13.6899995803833,13.6899995803833,0,9.23999977111816,0.800000011920929,3.64000010490417,0,111,21,195,1113,3213\\r\\n8053475328,4/18/2016,17076,12.6599998474121,12.6599998474121,0,9.07999992370605,0.230000004172325,3.34999990463257,0,102,6,195,1137,3133\\r\\n8053475328,4/19/2016,15929,12.4799995422363,12.4799995422363,0,9.22000026702881,0.310000002384186,2.95000004768372,0,90,7,191,1152,3114\\r\\n8053475328,4/20/2016,15108,12.1899995803833,12.1899995803833,0,9.57999992370605,0.230000004172325,2.38000011444092,0,89,5,158,695,3043\\r\\n8053475328,4/21/2016,16057,12.5100002288818,12.5100002288818,0,9.67000007629395,0.25,2.57999992370605,0,100,6,170,1164,3103\\r\\n8053475328,4/22/2016,10520,8.28999996185303,8.28999996185303,0,6.26000022888184,0.150000005960464,1.87999999523163,0,60,3,117,1260,2655\\r\\n8053475328,4/23/2016,22359,17.1900005340576,17.1900005340576,0,12.539999961853,0.629999995231628,4.01999998092651,0,125,14,223,741,3554\\r\\n8053475328,4/24/2016,22988,17.9500007629395,17.9500007629395,0,13.1300001144409,1.54999995231628,3.25999999046326,0,129,33,182,1096,3577\\r\\n8053475328,4/25/2016,20500,15.6899995803833,15.6899995803833,0,11.3699998855591,0.46000000834465,3.85999989509583,0,118,9,209,1104,3403\\r\\n8053475328,4/26/2016,12685,9.61999988555908,9.61999988555908,0,6.30999994277954,0.200000002980232,3.09999990463257,0,68,5,185,1182,2846\\r\\n8053475328,4/27/2016,12422,9.81999969482422,9.81999969482422,0,6.46000003814697,0.430000007152557,2.9300000667572,0,60,10,183,1187,2852\\r\\n8053475328,4/28/2016,15447,12.3999996185303,12.3999996185303,0,9.67000007629395,0.389999985694885,2.34999990463257,0,90,9,153,1188,3062\\r\\n8053475328,4/29/2016,12315,9.64999961853027,9.64999961853027,0,6.17000007629395,0.310000002384186,3.17000007629395,0,58,8,159,1215,2794\\r\\n8053475328,4/30/2016,7135,5.59000015258789,5.59000015258789,0,2.99000000953674,0.0599999986588955,2.53999996185303,0,27,1,131,1281,2408\\r\\n8053475328,5/1/2016,1170,0.850000023841858,0.850000023841858,0,0,0,0.850000023841858,0,0,0,51,1389,1886\\r\\n8053475328,5/2/2016,1969,1.42999994754791,1.42999994754791,0,0,0,1.42999994754791,0,0,0,95,1345,1988\\r\\n8053475328,5/3/2016,15484,11.8999996185303,11.8999996185303,0,8.39000034332275,0.930000007152557,2.58999991416931,0,87,22,165,1166,3023\\r\\n8053475328,5/4/2016,14581,11.1499996185303,11.1499996185303,0,8.81999969482422,0.400000005960464,1.9099999666214,0,89,8,123,1220,2918\\r\\n8053475328,5/5/2016,14990,11.5100002288818,11.5100002288818,0,8.85000038146973,0.449999988079071,2.21000003814697,0,93,9,130,1208,2950\\r\\n8053475328,5/6/2016,13953,11,11,0,9.10000038146973,0.689999997615814,1.21000003814697,0,90,15,90,1245,2859\\r\\n8053475328,5/7/2016,19769,15.6700000762939,15.6700000762939,0,12.4399995803833,0.879999995231628,2.34999990463257,0,121,20,148,1076,3331\\r\\n8053475328,5/8/2016,22026,17.6499996185303,17.6499996185303,0,13.3999996185303,0.589999973773956,3.66000008583069,0,125,14,228,1073,3589\\r\\n8053475328,5/9/2016,12465,9.38000011444092,9.38000011444092,0,6.11999988555908,0.569999992847443,2.69000005722046,0,66,12,148,1214,2765\\r\\n8053475328,5/10/2016,14810,11.3599996566772,11.3599996566772,0,9.09000015258789,0.419999986886978,1.85000002384186,0,96,10,115,1219,2926\\r\\n8053475328,5/11/2016,12209,9.39999961853027,9.39999961853027,0,6.07999992370605,0.280000001192093,3.03999996185303,0,60,7,184,1189,2809\\r\\n8053475328,5/12/2016,4998,3.91000008583069,3.91000008583069,0,2.95000004768372,0.200000002980232,0.759999990463257,0,28,4,39,839,1505\\r\\n8253242879,4/12/2016,9033,7.15999984741211,7.15999984741211,0,5.42999982833862,0.140000000596046,1.5900000333786,0,40,2,154,1244,2044\\r\\n8253242879,4/13/2016,8053,6.09999990463257,6.09999990463257,0,4.17000007629395,0.629999995231628,1.30999994277954,0,35,11,96,1298,1935\\r\\n8253242879,4/14/2016,5234,3.46000003814697,3.46000003814697,0,1.92999994754791,0.990000009536743,0.540000021457672,0,29,16,33,1362,1705\\r\\n8253242879,4/15/2016,2672,1.76999998092651,1.76999998092651,0,0,0,1.75999999046326,0,0,0,105,1335,1632\\r\\n8253242879,4/16/2016,9256,6.1399998664856,6.1399998664856,0,0.430000007152557,3.26999998092651,2.45000004768372,0,6,51,115,1268,1880\\r\\n8253242879,4/17/2016,10204,7.90999984741211,7.90999984741211,0,5.42999982833862,0.150000005960464,2.32999992370605,0,41,5,157,1237,2112\\r\\n8253242879,4/18/2016,5151,3.48000001907349,3.48000001907349,0,1.03999996185303,0.629999995231628,1.79999995231628,0,16,16,130,1278,1829\\r\\n8253242879,4/19/2016,4212,2.77999997138977,2.77999997138977,0,0,0,2.77999997138977,0,0,0,164,1276,1763\\r\\n8253242879,4/20/2016,6466,4.26999998092651,4.26999998092651,0,0.330000013113022,0.819999992847443,3.10999989509583,0.00999999977648258,5,18,216,1201,1931\\r\\n8253242879,4/21/2016,11268,8.5600004196167,8.5600004196167,0,5.88000011444092,0.930000007152557,1.75,0,49,20,172,1199,2218\\r\\n8253242879,4/22/2016,2824,1.87000000476837,1.87000000476837,0,0,0,1.87000000476837,0,0,0,120,1320,1651\\r\\n8253242879,4/23/2016,9282,6.26000022888184,6.26000022888184,0,2.08999991416931,1.03999996185303,3.13000011444092,0,30,26,191,1193,2132\\r\\n8253242879,4/24/2016,8905,7.13000011444092,7.13000011444092,0,5.59999990463257,0.189999997615814,1.3400000333786,0,41,4,82,1313,1976\\r\\n8253242879,4/25/2016,6829,4.51000022888184,4.51000022888184,0,0.360000014305115,2.39000010490417,1.76999998092651,0,7,54,118,1261,1909\\r\\n8253242879,4/26/2016,4562,3.03999996185303,3.03999996185303,0,1.17999994754791,0.490000009536743,1.37000000476837,0,19,14,108,1299,1813\\r\\n8253242879,4/27/2016,10232,8.18000030517578,8.18000030517578,0,6.23999977111816,0.230000004172325,1.70000004768372,0,45,5,104,1286,2008\\r\\n8253242879,4/28/2016,2718,1.79999995231628,1.79999995231628,0,0.670000016689301,0.779999971389771,0.340000003576279,0,11,16,20,1393,1580\\r\\n8253242879,4/29/2016,6260,4.26000022888184,4.26000022888184,0,1.28999996185303,0.540000021457672,2.40000009536743,0,16,14,136,1257,1854\\r\\n8253242879,4/30/2016,0,0,0,0,0,0,0,0,0,0,0,1440,0\\r\\n8378563200,4/12/2016,7626,6.05000019073486,6.05000019073486,2.25308108329773,0.829999983310699,0.709999978542328,4.5,0,65,15,156,723,3635\\r\\n8378563200,4/13/2016,12386,9.81999969482422,9.81999969482422,2.0921471118927,4.96000003814697,0.649999976158142,4.21000003814697,0,116,14,169,680,4079\\r\\n8378563200,4/14/2016,13318,10.5600004196167,10.5600004196167,2.25308108329773,5.61999988555908,1.02999997138977,3.91000008583069,0,123,21,174,699,4163\\r\\n8378563200,4/15/2016,14461,11.4700002670288,11.4700002670288,0,4.90999984741211,1.14999997615814,5.40999984741211,0,60,23,190,729,3666\\r\\n8378563200,4/16/2016,11207,8.89000034332275,8.89000034332275,0,5.36999988555908,1.07000005245209,2.44000005722046,0,64,21,142,563,3363\\r\\n8378563200,4/17/2016,2132,1.69000005722046,1.69000005722046,0,0,0,1.69000005722046,0,0,0,93,599,2572\\r\\n8378563200,4/18/2016,13630,10.8100004196167,10.8100004196167,2.0921471118927,5.05000019073486,0.560000002384186,5.19999980926514,0,117,10,174,720,4157\\r\\n8378563200,4/19/2016,13070,10.3599996566772,10.3599996566772,2.25308108329773,5.30000019073486,0.879999995231628,4.17999982833862,0,120,19,154,737,4092\\r\\n8378563200,4/20/2016,9388,7.44000005722046,7.44000005722046,2.0921471118927,2.23000001907349,0.439999997615814,4.78000020980835,0,82,8,169,763,3787\\r\\n8378563200,4/21/2016,15148,12.0100002288818,12.0100002288818,2.25308108329773,6.90000009536743,0.819999992847443,4.28999996185303,0,137,16,145,677,4236\\r\\n8378563200,4/22/2016,12200,9.67000007629395,9.67000007629395,2.0921471118927,4.90999984741211,0.589999973773956,4.17999982833862,0,113,12,159,769,4044\\r\\n8378563200,4/23/2016,5709,4.53000020980835,4.53000020980835,0,1.51999998092651,0.519999980926514,2.48000001907349,0,19,10,136,740,2908\\r\\n8378563200,4/24/2016,3703,2.94000005722046,2.94000005722046,0,0,0,2.94000005722046,0,0,0,135,734,2741\\r\\n8378563200,4/25/2016,12405,9.84000015258789,9.84000015258789,2.0921471118927,5.05000019073486,0.870000004768372,3.92000007629395,0,117,16,141,692,4005\\r\\n8378563200,4/26/2016,16208,12.8500003814697,12.8500003814697,0,7.51000022888184,0.920000016689301,4.42000007629395,0,90,18,161,593,3763\\r\\n8378563200,4/27/2016,7359,5.84000015258789,5.84000015258789,0,0.330000013113022,0.180000007152557,5.32999992370605,0,4,4,192,676,3061\\r\\n8378563200,4/28/2016,5417,4.30000019073486,4.30000019073486,0,0.899999976158142,0.490000009536743,2.91000008583069,0,11,10,139,711,2884\\r\\n8378563200,4/29/2016,6175,4.90000009536743,4.90000009536743,0,0.25,0.360000014305115,4.26999998092651,0,3,7,172,767,2982\\r\\n8378563200,4/30/2016,2946,2.33999991416931,2.33999991416931,0,0,0,2.33999991416931,0,0,0,121,780,2660\\r\\n8378563200,5/1/2016,11419,9.0600004196167,9.0600004196167,0,6.03000020980835,0.560000002384186,2.47000002861023,0,71,10,127,669,3369\\r\\n8378563200,5/2/2016,6064,4.80999994277954,4.80999994277954,2.0921471118927,0.629999995231628,0.170000001788139,4.01000022888184,0,63,4,142,802,3491\\r\\n8378563200,5/3/2016,8712,6.90999984741211,6.90999984741211,2.25308108329773,1.3400000333786,1.05999994277954,4.5,0,71,20,195,822,3784\\r\\n8378563200,5/4/2016,7875,6.23999977111816,6.23999977111816,0,1.55999994277954,0.490000009536743,4.19999980926514,0,19,10,167,680,3110\\r\\n8378563200,5/5/2016,8567,6.78999996185303,6.78999996185303,2.25308108329773,0.889999985694885,0.159999996423721,5.73999977111816,0,66,3,214,764,3783\\r\\n8378563200,5/6/2016,7045,5.59000015258789,5.59000015258789,2.0921471118927,1.54999995231628,0.25,3.77999997138977,0,74,5,166,831,3644\\r\\n8378563200,5/7/2016,4468,3.53999996185303,3.53999996185303,0,0,0,3.53999996185303,0,0,0,158,851,2799\\r\\n8378563200,5/8/2016,2943,2.32999992370605,2.32999992370605,0,0,0,2.32999992370605,0,0,0,139,621,2685\\r\\n8378563200,5/9/2016,8382,6.65000009536743,6.65000009536743,2.0921471118927,1.26999998092651,0.660000026226044,4.71999979019165,0,71,13,171,772,3721\\r\\n8378563200,5/10/2016,6582,5.21999979019165,5.21999979019165,2.25308108329773,0.660000026226044,0.639999985694885,3.92000007629395,0,63,13,152,840,3586\\r\\n8378563200,5/11/2016,9143,7.25,7.25,2.0921471118927,1.38999998569489,0.589999973773956,5.26999998092651,0,72,10,184,763,3788\\r\\n8378563200,5/12/2016,4561,3.61999988555908,3.61999988555908,0,0.649999976158142,0.270000010728836,2.69000005722046,0,8,6,102,433,1976\\r\\n8583815059,4/12/2016,5014,3.91000008583069,3.91000008583069,0,0,0.330000013113022,3.57999992370605,0,0,7,196,1237,2650\\r\\n8583815059,4/13/2016,5571,4.34999990463257,4.34999990463257,0,0.150000005960464,0.970000028610229,3.23000001907349,0,2,23,163,1252,2654\\r\\n8583815059,4/14/2016,3135,2.45000004768372,2.45000004768372,0,0,0,2.4300000667572,0,0,0,134,1306,2443\\r\\n8583815059,4/15/2016,3430,2.6800000667572,2.6800000667572,0,0,0,0.899999976158142,0,0,0,65,1375,2505\\r\\n8583815059,4/16/2016,5319,4.15000009536743,4.15000009536743,0,0,0,0,0,0,0,0,1440,2693\\r\\n8583815059,4/17/2016,3008,2.34999990463257,2.34999990463257,0,0,0,0,0,0,0,0,1440,2439\\r\\n8583815059,4/18/2016,3864,3.00999999046326,3.00999999046326,0,0.310000002384186,1.05999994277954,1.35000002384186,0,4,22,105,1309,2536\\r\\n8583815059,4/19/2016,5697,4.44000005722046,4.44000005722046,0,0.529999971389771,0.479999989271164,3.44000005722046,0,7,10,166,1257,2668\\r\\n8583815059,4/20/2016,5273,4.1100001335144,4.1100001335144,0,0,1.03999996185303,3.0699999332428,0,0,27,167,1246,2647\\r\\n8583815059,4/21/2016,8538,6.65999984741211,6.65999984741211,0,2.63000011444092,1.01999998092651,3.00999999046326,0,35,18,158,1229,2883\\r\\n8583815059,4/22/2016,8687,6.78000020980835,6.78000020980835,0,0.28999999165535,2.41000008583069,4.07999992370605,0,4,54,212,1170,2944\\r\\n8583815059,4/23/2016,9423,7.34999990463257,7.34999990463257,0,0.529999971389771,2.02999997138977,4.75,0,7,44,238,1151,3012\\r\\n8583815059,4/24/2016,8286,6.46000003814697,6.46000003814697,0,0.150000005960464,2.04999995231628,4.26999998092651,0,2,44,206,1188,2889\\r\\n8583815059,4/25/2016,4503,3.50999999046326,3.50999999046326,0,1.47000002861023,0.239999994635582,1.80999994277954,0,18,6,122,1294,2547\\r\\n8583815059,4/26/2016,10499,8.1899995803833,8.1899995803833,0,0.0700000002980232,4.21999979019165,3.89000010490417,0,1,91,214,1134,3093\\r\\n8583815059,4/27/2016,12474,9.72999954223633,9.72999954223633,0,6.59999990463257,0.270000010728836,2.86999988555908,0,77,5,129,1229,3142\\r\\n8583815059,4/28/2016,6174,4.82000017166138,4.82000017166138,0,0,1.20000004768372,3.60999989509583,0,0,28,203,1209,2757\\r\\n8583815059,4/29/2016,15168,11.8299999237061,11.8299999237061,0,3.90000009536743,3,4.92000007629395,0,46,67,258,1069,3513\\r\\n8583815059,4/30/2016,10085,7.86999988555908,7.86999988555908,0,0.150000005960464,1.27999997138977,6.42999982833862,0,2,28,317,1093,3164\\r\\n8583815059,5/1/2016,4512,3.51999998092651,3.51999998092651,0,0.779999971389771,0.119999997317791,2.03999996185303,0,10,2,117,1311,2596\\r\\n8583815059,5/2/2016,8469,6.6100001335144,6.6100001335144,0,0,0,0,0,0,0,0,1440,2894\\r\\n8583815059,5/3/2016,12015,9.36999988555908,9.36999988555908,0,0,0,0,0,0,0,0,1440,3212\\r\\n8583815059,5/4/2016,3588,2.79999995231628,2.79999995231628,0,0,0,0,0,0,0,0,1440,2516\\r\\n8583815059,5/5/2016,12427,9.6899995803833,9.6899995803833,0,0,0,1.17999994754791,0,0,0,70,1370,3266\\r\\n8583815059,5/6/2016,5843,4.55999994277954,4.55999994277954,0,0.140000000596046,1.19000005722046,3.23000001907349,0,2,22,166,1250,2683\\r\\n8583815059,5/7/2016,6117,4.76999998092651,4.76999998092651,0,0,0,4.76999998092651,0,0,0,250,1190,2810\\r\\n8583815059,5/8/2016,9217,7.19000005722046,7.19000005722046,0,0.219999998807907,3.30999994277954,3.66000008583069,0,3,72,182,1183,2940\\r\\n8583815059,5/9/2016,9877,7.69999980926514,7.69999980926514,0,5.76000022888184,0.170000001788139,1.73000001907349,0,66,4,110,1260,2947\\r\\n8583815059,5/10/2016,8240,6.42999982833862,6.42999982833862,0,0.689999997615814,2.00999999046326,3.72000002861023,0,9,43,162,1226,2846\\r\\n8583815059,5/11/2016,8701,6.78999996185303,6.78999996185303,0,0.370000004768372,3.24000000953674,3.17000007629395,0,5,71,177,1106,2804\\r\\n8583815059,5/12/2016,0,0,0,0,0,0,0,0,0,0,0,1440,0\\r\\n8792009665,4/12/2016,2564,1.63999998569489,1.63999998569489,0,0,0,1.63999998569489,0,0,0,116,831,2044\\r\\n8792009665,4/13/2016,1320,0.839999973773956,0.839999973773956,0,0,0,0.839999973773956,0,0,0,82,806,1934\\r\\n8792009665,4/14/2016,1219,0.779999971389771,0.779999971389771,0,0,0,0.779999971389771,0,0,0,84,853,1963\\r\\n8792009665,4/15/2016,2483,1.5900000333786,1.5900000333786,0,0,0,1.5900000333786,0,0,0,126,937,2009\\r\\n8792009665,4/16/2016,244,0.159999996423721,0.159999996423721,0,0,0,0.159999996423721,0,0,0,12,1428,1721\\r\\n8792009665,4/17/2016,0,0,0,0,0,0,0,0,0,0,0,1440,1688\\r\\n8792009665,4/18/2016,0,0,0,0,0,0,0,0,0,0,0,1440,1688\\r\\n8792009665,4/19/2016,0,0,0,0,0,0,0,0,0,0,0,1440,1688\\r\\n8792009665,4/20/2016,3147,2.00999999046326,2.00999999046326,0,0,0.280000001192093,1.74000000953674,0,0,10,139,744,2188\\r\\n8792009665,4/21/2016,144,0.0900000035762787,0.0900000035762787,0,0,0,0.0900000035762787,0,0,0,9,1431,1720\\r\\n8792009665,4/22/2016,4068,2.59999990463257,2.59999990463257,0,0.0500000007450581,0.280000001192093,2.26999998092651,0,1,20,195,817,2419\\r\\n8792009665,4/23/2016,5245,3.35999989509583,3.35999989509583,0,0.159999996423721,0.439999997615814,2.75,0,8,45,232,795,2748\\r\\n8792009665,4/24/2016,400,0.259999990463257,0.259999990463257,0,0.0399999991059303,0.0500000007450581,0.159999996423721,0,3,8,19,1410,1799\\r\\n8792009665,4/25/2016,0,0,0,0,0,0,0,0,0,0,0,1440,1688\\r\\n8792009665,4/26/2016,1321,0.850000023841858,0.850000023841858,0,0,0,0.850000023841858,0,0,0,80,1360,1928\\r\\n8792009665,4/27/2016,1758,1.12999999523163,1.12999999523163,0,0,0,1.12999999523163,0,0,0,112,900,2067\\r\\n8792009665,4/28/2016,6157,3.94000005722046,3.94000005722046,0,0,0,3.94000005722046,0,0,0,310,714,2780\\r\\n8792009665,4/29/2016,8360,5.34999990463257,5.34999990463257,0,0.140000000596046,0.280000001192093,4.92999982833862,0,6,14,380,634,3101\\r\\n8792009665,4/30/2016,7174,4.59000015258789,4.59000015258789,0,0.330000013113022,0.360000014305115,3.91000008583069,0,10,20,301,749,2896\\r\\n8792009665,5/1/2016,1619,1.03999996185303,1.03999996185303,0,0,0,1.03999996185303,0,0,0,79,834,1962\\r\\n8792009665,5/2/2016,1831,1.16999995708466,1.16999995708466,0,0,0,1.16999995708466,0,0,0,101,916,2015\\r\\n8792009665,5/3/2016,2421,1.54999995231628,1.54999995231628,0,0,0,1.54999995231628,0,0,0,156,739,2297\\r\\n8792009665,5/4/2016,2283,1.46000003814697,1.46000003814697,0,0,0,1.46000003814697,0,0,0,129,848,2067\\r\\n8792009665,5/5/2016,0,0,0,0,0,0,0,0,0,0,0,1440,1688\\r\\n8792009665,5/6/2016,0,0,0,0,0,0,0,0,0,0,0,1440,1688\\r\\n8792009665,5/7/2016,0,0,0,0,0,0,0,0,0,0,0,1440,1688\\r\\n8792009665,5/8/2016,0,0,0,0,0,0,0,0,0,0,0,1440,1688\\r\\n8792009665,5/9/2016,0,0,0,0,0,0,0,0,0,0,0,1440,1688\\r\\n8792009665,5/10/2016,0,0,0,0,0,0,0,0,0,0,0,48,57\\r\\n8877689391,4/12/2016,23186,20.3999996185303,20.3999996185303,0,12.2200002670288,0.340000003576279,7.82000017166138,0,85,7,312,1036,3921\\r\\n8877689391,4/13/2016,15337,9.57999992370605,9.57999992370605,0,3.54999995231628,0.379999995231628,5.6399998664856,0,108,18,216,1098,3566\\r\\n8877689391,4/14/2016,21129,18.9799995422363,18.9799995422363,0,10.5500001907349,0.589999973773956,7.75,0.0199999995529652,68,13,298,1061,3793\\r\\n8877689391,4/15/2016,13422,7.17000007629395,7.17000007629395,0,0.0500000007450581,0.0500000007450581,7.01000022888184,0.00999999977648258,106,1,281,1052,3934\\r\\n8877689391,4/16/2016,29326,25.2900009155273,25.2900009155273,0,13.2399997711182,1.21000003814697,10.710000038147,0,94,29,429,888,4547\\r\\n8877689391,4/17/2016,15118,8.86999988555908,8.86999988555908,0,0,0.0700000002980232,8.78999996185303,0,58,15,307,1060,3545\\r\\n8877689391,4/18/2016,11423,8.67000007629395,8.67000007629395,0,2.44000005722046,0.270000010728836,5.94000005722046,0,29,5,191,1215,2761\\r\\n8877689391,4/19/2016,18785,17.3999996185303,17.3999996185303,0,12.1499996185303,0.180000007152557,5.03000020980835,0,82,13,214,1131,3676\\r\\n8877689391,4/20/2016,19948,18.1100006103516,18.1100006103516,0,11.0200004577637,0.689999997615814,6.34000015258789,0,73,19,225,1123,3679\\r\\n8877689391,4/21/2016,19377,17.6200008392334,17.6200008392334,0,12.289999961853,0.419999986886978,4.8899998664856,0,82,13,226,1119,3659\\r\\n8877689391,4/22/2016,18258,16.3099994659424,16.3099994659424,0,10.2299995422363,0.0299999993294477,5.96999979019165,0.0500000007450581,61,2,236,1141,3427\\r\\n8877689391,4/23/2016,11200,7.42999982833862,7.42999982833862,0,0,0,7.40000009536743,0.00999999977648258,102,6,300,1032,3891\\r\\n8877689391,4/24/2016,16674,15.7399997711182,15.7399997711182,0,11.0100002288818,0.00999999977648258,4.69000005722046,0,64,1,227,1148,3455\\r\\n8877689391,4/25/2016,12986,8.73999977111816,8.73999977111816,0,2.36999988555908,0.0700000002980232,6.26999998092651,0.00999999977648258,113,8,218,1101,3802\\r\\n8877689391,4/26/2016,11101,8.43000030517578,8.43000030517578,0,1.75999999046326,0.129999995231628,6.5,0,22,3,258,1157,2860\\r\\n8877689391,4/27/2016,23629,20.6499996185303,20.6499996185303,0,13.0699996948242,0.439999997615814,7.09999990463257,0,93,8,235,1104,3808\\r\\n8877689391,4/28/2016,14890,11.3000001907349,11.3000001907349,0,4.92999982833862,0.379999995231628,5.96999979019165,0,58,8,231,1143,3060\\r\\n8877689391,4/29/2016,9733,7.3899998664856,7.3899998664856,0,1.37999999523163,0.170000001788139,5.78999996185303,0,18,5,210,1207,2698\\r\\n8877689391,4/30/2016,27745,26.7199993133545,26.7199993133545,0,21.6599998474121,0.0799999982118607,4.92999982833862,0,124,4,223,1089,4398\\r\\n8877689391,5/1/2016,10930,8.31999969482422,8.31999969482422,0,3.13000011444092,0.569999992847443,4.57000017166138,0,36,12,166,1226,2786\\r\\n8877689391,5/2/2016,4790,3.64000010490417,3.64000010490417,0,0,0,3.55999994277954,0,0,0,105,1335,2189\\r\\n8877689391,5/3/2016,10818,8.21000003814697,8.21000003814697,0,1.38999998569489,0.100000001490116,6.67000007629395,0.00999999977648258,19,3,229,1189,2817\\r\\n8877689391,5/4/2016,18193,16.2999992370605,16.2999992370605,0,10.4200000762939,0.310000002384186,5.53000020980835,0,66,8,212,1154,3477\\r\\n8877689391,5/5/2016,14055,10.6700000762939,10.6700000762939,0,5.46000003814697,0.819999992847443,4.36999988555908,0,67,15,188,1170,3052\\r\\n8877689391,5/6/2016,21727,19.3400001525879,19.3400001525879,0,12.789999961853,0.28999999165535,6.15999984741211,0,96,17,232,1095,4015\\r\\n8877689391,5/7/2016,12332,8.13000011444092,8.13000011444092,0,0.0799999982118607,0.959999978542328,6.98999977111816,0,105,28,271,1036,4142\\r\\n8877689391,5/8/2016,10686,8.10999965667725,8.10999965667725,0,1.08000004291534,0.200000002980232,6.80000019073486,0,17,4,245,1174,2847\\r\\n8877689391,5/9/2016,20226,18.25,18.25,0,11.1000003814697,0.800000011920929,6.23999977111816,0.0500000007450581,73,19,217,1131,3710\\r\\n8877689391,5/10/2016,10733,8.14999961853027,8.14999961853027,0,1.35000002384186,0.46000000834465,6.28000020980835,0,18,11,224,1187,2832\\r\\n8877689391,5/11/2016,21420,19.5599994659424,19.5599994659424,0,13.2200002670288,0.409999996423721,5.8899998664856,0,88,12,213,1127,3832\\r\\n8877689391,5/12/2016,8064,6.11999988555908,6.11999988555908,0,1.82000005245209,0.0399999991059303,4.25,0,23,1,137,770,1849\\r\\n'}"
            ]
          },
          "metadata": {},
          "execution_count": 2
        }
      ]
    },
    {
      "cell_type": "code",
      "source": [
        "df1 = pd.read_csv(\"dailyActivity_merged.csv\")"
      ],
      "metadata": {
        "id": "YPgVvLxyNQHz"
      },
      "execution_count": null,
      "outputs": []
    },
    {
      "cell_type": "code",
      "source": [
        "df1.columns"
      ],
      "metadata": {
        "colab": {
          "base_uri": "https://localhost:8080/"
        },
        "id": "_VjxwHtMNU5-",
        "outputId": "03bbb3d4-5616-42f4-dfe2-fdbff266252c"
      },
      "execution_count": null,
      "outputs": [
        {
          "output_type": "execute_result",
          "data": {
            "text/plain": [
              "Index(['Id', 'ActivityDate', 'TotalSteps', 'TotalDistance', 'TrackerDistance',\n",
              "       'LoggedActivitiesDistance', 'VeryActiveDistance',\n",
              "       'ModeratelyActiveDistance', 'LightActiveDistance',\n",
              "       'SedentaryActiveDistance', 'VeryActiveMinutes', 'FairlyActiveMinutes',\n",
              "       'LightlyActiveMinutes', 'SedentaryMinutes', 'Calories'],\n",
              "      dtype='object')"
            ]
          },
          "metadata": {},
          "execution_count": 5
        }
      ]
    },
    {
      "cell_type": "code",
      "source": [
        "df1.shape"
      ],
      "metadata": {
        "colab": {
          "base_uri": "https://localhost:8080/"
        },
        "id": "kqM5dk3UN4Je",
        "outputId": "dde603f4-eb1d-4d11-cb18-d596963de7f0"
      },
      "execution_count": null,
      "outputs": [
        {
          "output_type": "execute_result",
          "data": {
            "text/plain": [
              "(940, 15)"
            ]
          },
          "metadata": {},
          "execution_count": 6
        }
      ]
    },
    {
      "cell_type": "code",
      "source": [
        "df1.head()"
      ],
      "metadata": {
        "colab": {
          "base_uri": "https://localhost:8080/",
          "height": 270
        },
        "id": "G1BAcqc3N56A",
        "outputId": "b778c85f-13e9-4c88-c29b-21ca7648cf75"
      },
      "execution_count": null,
      "outputs": [
        {
          "output_type": "execute_result",
          "data": {
            "text/plain": [
              "           Id ActivityDate  TotalSteps  TotalDistance  TrackerDistance  \\\n",
              "0  1503960366    4/12/2016       13162           8.50             8.50   \n",
              "1  1503960366    4/13/2016       10735           6.97             6.97   \n",
              "2  1503960366    4/14/2016       10460           6.74             6.74   \n",
              "3  1503960366    4/15/2016        9762           6.28             6.28   \n",
              "4  1503960366    4/16/2016       12669           8.16             8.16   \n",
              "\n",
              "   LoggedActivitiesDistance  VeryActiveDistance  ModeratelyActiveDistance  \\\n",
              "0                       0.0                1.88                      0.55   \n",
              "1                       0.0                1.57                      0.69   \n",
              "2                       0.0                2.44                      0.40   \n",
              "3                       0.0                2.14                      1.26   \n",
              "4                       0.0                2.71                      0.41   \n",
              "\n",
              "   LightActiveDistance  SedentaryActiveDistance  VeryActiveMinutes  \\\n",
              "0                 6.06                      0.0                 25   \n",
              "1                 4.71                      0.0                 21   \n",
              "2                 3.91                      0.0                 30   \n",
              "3                 2.83                      0.0                 29   \n",
              "4                 5.04                      0.0                 36   \n",
              "\n",
              "   FairlyActiveMinutes  LightlyActiveMinutes  SedentaryMinutes  Calories  \n",
              "0                   13                   328               728      1985  \n",
              "1                   19                   217               776      1797  \n",
              "2                   11                   181              1218      1776  \n",
              "3                   34                   209               726      1745  \n",
              "4                   10                   221               773      1863  "
            ],
            "text/html": [
              "\n",
              "  <div id=\"df-c84fcb00-36b8-4332-8d79-52dcffb6cc65\">\n",
              "    <div class=\"colab-df-container\">\n",
              "      <div>\n",
              "<style scoped>\n",
              "    .dataframe tbody tr th:only-of-type {\n",
              "        vertical-align: middle;\n",
              "    }\n",
              "\n",
              "    .dataframe tbody tr th {\n",
              "        vertical-align: top;\n",
              "    }\n",
              "\n",
              "    .dataframe thead th {\n",
              "        text-align: right;\n",
              "    }\n",
              "</style>\n",
              "<table border=\"1\" class=\"dataframe\">\n",
              "  <thead>\n",
              "    <tr style=\"text-align: right;\">\n",
              "      <th></th>\n",
              "      <th>Id</th>\n",
              "      <th>ActivityDate</th>\n",
              "      <th>TotalSteps</th>\n",
              "      <th>TotalDistance</th>\n",
              "      <th>TrackerDistance</th>\n",
              "      <th>LoggedActivitiesDistance</th>\n",
              "      <th>VeryActiveDistance</th>\n",
              "      <th>ModeratelyActiveDistance</th>\n",
              "      <th>LightActiveDistance</th>\n",
              "      <th>SedentaryActiveDistance</th>\n",
              "      <th>VeryActiveMinutes</th>\n",
              "      <th>FairlyActiveMinutes</th>\n",
              "      <th>LightlyActiveMinutes</th>\n",
              "      <th>SedentaryMinutes</th>\n",
              "      <th>Calories</th>\n",
              "    </tr>\n",
              "  </thead>\n",
              "  <tbody>\n",
              "    <tr>\n",
              "      <th>0</th>\n",
              "      <td>1503960366</td>\n",
              "      <td>4/12/2016</td>\n",
              "      <td>13162</td>\n",
              "      <td>8.50</td>\n",
              "      <td>8.50</td>\n",
              "      <td>0.0</td>\n",
              "      <td>1.88</td>\n",
              "      <td>0.55</td>\n",
              "      <td>6.06</td>\n",
              "      <td>0.0</td>\n",
              "      <td>25</td>\n",
              "      <td>13</td>\n",
              "      <td>328</td>\n",
              "      <td>728</td>\n",
              "      <td>1985</td>\n",
              "    </tr>\n",
              "    <tr>\n",
              "      <th>1</th>\n",
              "      <td>1503960366</td>\n",
              "      <td>4/13/2016</td>\n",
              "      <td>10735</td>\n",
              "      <td>6.97</td>\n",
              "      <td>6.97</td>\n",
              "      <td>0.0</td>\n",
              "      <td>1.57</td>\n",
              "      <td>0.69</td>\n",
              "      <td>4.71</td>\n",
              "      <td>0.0</td>\n",
              "      <td>21</td>\n",
              "      <td>19</td>\n",
              "      <td>217</td>\n",
              "      <td>776</td>\n",
              "      <td>1797</td>\n",
              "    </tr>\n",
              "    <tr>\n",
              "      <th>2</th>\n",
              "      <td>1503960366</td>\n",
              "      <td>4/14/2016</td>\n",
              "      <td>10460</td>\n",
              "      <td>6.74</td>\n",
              "      <td>6.74</td>\n",
              "      <td>0.0</td>\n",
              "      <td>2.44</td>\n",
              "      <td>0.40</td>\n",
              "      <td>3.91</td>\n",
              "      <td>0.0</td>\n",
              "      <td>30</td>\n",
              "      <td>11</td>\n",
              "      <td>181</td>\n",
              "      <td>1218</td>\n",
              "      <td>1776</td>\n",
              "    </tr>\n",
              "    <tr>\n",
              "      <th>3</th>\n",
              "      <td>1503960366</td>\n",
              "      <td>4/15/2016</td>\n",
              "      <td>9762</td>\n",
              "      <td>6.28</td>\n",
              "      <td>6.28</td>\n",
              "      <td>0.0</td>\n",
              "      <td>2.14</td>\n",
              "      <td>1.26</td>\n",
              "      <td>2.83</td>\n",
              "      <td>0.0</td>\n",
              "      <td>29</td>\n",
              "      <td>34</td>\n",
              "      <td>209</td>\n",
              "      <td>726</td>\n",
              "      <td>1745</td>\n",
              "    </tr>\n",
              "    <tr>\n",
              "      <th>4</th>\n",
              "      <td>1503960366</td>\n",
              "      <td>4/16/2016</td>\n",
              "      <td>12669</td>\n",
              "      <td>8.16</td>\n",
              "      <td>8.16</td>\n",
              "      <td>0.0</td>\n",
              "      <td>2.71</td>\n",
              "      <td>0.41</td>\n",
              "      <td>5.04</td>\n",
              "      <td>0.0</td>\n",
              "      <td>36</td>\n",
              "      <td>10</td>\n",
              "      <td>221</td>\n",
              "      <td>773</td>\n",
              "      <td>1863</td>\n",
              "    </tr>\n",
              "  </tbody>\n",
              "</table>\n",
              "</div>\n",
              "      <button class=\"colab-df-convert\" onclick=\"convertToInteractive('df-c84fcb00-36b8-4332-8d79-52dcffb6cc65')\"\n",
              "              title=\"Convert this dataframe to an interactive table.\"\n",
              "              style=\"display:none;\">\n",
              "        \n",
              "  <svg xmlns=\"http://www.w3.org/2000/svg\" height=\"24px\"viewBox=\"0 0 24 24\"\n",
              "       width=\"24px\">\n",
              "    <path d=\"M0 0h24v24H0V0z\" fill=\"none\"/>\n",
              "    <path d=\"M18.56 5.44l.94 2.06.94-2.06 2.06-.94-2.06-.94-.94-2.06-.94 2.06-2.06.94zm-11 1L8.5 8.5l.94-2.06 2.06-.94-2.06-.94L8.5 2.5l-.94 2.06-2.06.94zm10 10l.94 2.06.94-2.06 2.06-.94-2.06-.94-.94-2.06-.94 2.06-2.06.94z\"/><path d=\"M17.41 7.96l-1.37-1.37c-.4-.4-.92-.59-1.43-.59-.52 0-1.04.2-1.43.59L10.3 9.45l-7.72 7.72c-.78.78-.78 2.05 0 2.83L4 21.41c.39.39.9.59 1.41.59.51 0 1.02-.2 1.41-.59l7.78-7.78 2.81-2.81c.8-.78.8-2.07 0-2.86zM5.41 20L4 18.59l7.72-7.72 1.47 1.35L5.41 20z\"/>\n",
              "  </svg>\n",
              "      </button>\n",
              "      \n",
              "  <style>\n",
              "    .colab-df-container {\n",
              "      display:flex;\n",
              "      flex-wrap:wrap;\n",
              "      gap: 12px;\n",
              "    }\n",
              "\n",
              "    .colab-df-convert {\n",
              "      background-color: #E8F0FE;\n",
              "      border: none;\n",
              "      border-radius: 50%;\n",
              "      cursor: pointer;\n",
              "      display: none;\n",
              "      fill: #1967D2;\n",
              "      height: 32px;\n",
              "      padding: 0 0 0 0;\n",
              "      width: 32px;\n",
              "    }\n",
              "\n",
              "    .colab-df-convert:hover {\n",
              "      background-color: #E2EBFA;\n",
              "      box-shadow: 0px 1px 2px rgba(60, 64, 67, 0.3), 0px 1px 3px 1px rgba(60, 64, 67, 0.15);\n",
              "      fill: #174EA6;\n",
              "    }\n",
              "\n",
              "    [theme=dark] .colab-df-convert {\n",
              "      background-color: #3B4455;\n",
              "      fill: #D2E3FC;\n",
              "    }\n",
              "\n",
              "    [theme=dark] .colab-df-convert:hover {\n",
              "      background-color: #434B5C;\n",
              "      box-shadow: 0px 1px 3px 1px rgba(0, 0, 0, 0.15);\n",
              "      filter: drop-shadow(0px 1px 2px rgba(0, 0, 0, 0.3));\n",
              "      fill: #FFFFFF;\n",
              "    }\n",
              "  </style>\n",
              "\n",
              "      <script>\n",
              "        const buttonEl =\n",
              "          document.querySelector('#df-c84fcb00-36b8-4332-8d79-52dcffb6cc65 button.colab-df-convert');\n",
              "        buttonEl.style.display =\n",
              "          google.colab.kernel.accessAllowed ? 'block' : 'none';\n",
              "\n",
              "        async function convertToInteractive(key) {\n",
              "          const element = document.querySelector('#df-c84fcb00-36b8-4332-8d79-52dcffb6cc65');\n",
              "          const dataTable =\n",
              "            await google.colab.kernel.invokeFunction('convertToInteractive',\n",
              "                                                     [key], {});\n",
              "          if (!dataTable) return;\n",
              "\n",
              "          const docLinkHtml = 'Like what you see? Visit the ' +\n",
              "            '<a target=\"_blank\" href=https://colab.research.google.com/notebooks/data_table.ipynb>data table notebook</a>'\n",
              "            + ' to learn more about interactive tables.';\n",
              "          element.innerHTML = '';\n",
              "          dataTable['output_type'] = 'display_data';\n",
              "          await google.colab.output.renderOutput(dataTable, element);\n",
              "          const docLink = document.createElement('div');\n",
              "          docLink.innerHTML = docLinkHtml;\n",
              "          element.appendChild(docLink);\n",
              "        }\n",
              "      </script>\n",
              "    </div>\n",
              "  </div>\n",
              "  "
            ]
          },
          "metadata": {},
          "execution_count": 7
        }
      ]
    },
    {
      "cell_type": "code",
      "source": [
        "df1['Id'].nunique()"
      ],
      "metadata": {
        "colab": {
          "base_uri": "https://localhost:8080/"
        },
        "id": "ubJOYja6N-8F",
        "outputId": "a4116026-69a0-4cfb-989b-0f8293eea05a"
      },
      "execution_count": null,
      "outputs": [
        {
          "output_type": "execute_result",
          "data": {
            "text/plain": [
              "33"
            ]
          },
          "metadata": {},
          "execution_count": 8
        }
      ]
    },
    {
      "cell_type": "code",
      "source": [
        "df1.info"
      ],
      "metadata": {
        "colab": {
          "base_uri": "https://localhost:8080/"
        },
        "id": "Gbbm4xX5OBnm",
        "outputId": "9548c9d2-523f-422c-e500-e063c9196652"
      },
      "execution_count": null,
      "outputs": [
        {
          "output_type": "execute_result",
          "data": {
            "text/plain": [
              "<bound method DataFrame.info of              Id ActivityDate  TotalSteps  TotalDistance  TrackerDistance  \\\n",
              "0    1503960366    4/12/2016       13162       8.500000         8.500000   \n",
              "1    1503960366    4/13/2016       10735       6.970000         6.970000   \n",
              "2    1503960366    4/14/2016       10460       6.740000         6.740000   \n",
              "3    1503960366    4/15/2016        9762       6.280000         6.280000   \n",
              "4    1503960366    4/16/2016       12669       8.160000         8.160000   \n",
              "..          ...          ...         ...            ...              ...   \n",
              "935  8877689391     5/8/2016       10686       8.110000         8.110000   \n",
              "936  8877689391     5/9/2016       20226      18.250000        18.250000   \n",
              "937  8877689391    5/10/2016       10733       8.150000         8.150000   \n",
              "938  8877689391    5/11/2016       21420      19.559999        19.559999   \n",
              "939  8877689391    5/12/2016        8064       6.120000         6.120000   \n",
              "\n",
              "     LoggedActivitiesDistance  VeryActiveDistance  ModeratelyActiveDistance  \\\n",
              "0                         0.0                1.88                      0.55   \n",
              "1                         0.0                1.57                      0.69   \n",
              "2                         0.0                2.44                      0.40   \n",
              "3                         0.0                2.14                      1.26   \n",
              "4                         0.0                2.71                      0.41   \n",
              "..                        ...                 ...                       ...   \n",
              "935                       0.0                1.08                      0.20   \n",
              "936                       0.0               11.10                      0.80   \n",
              "937                       0.0                1.35                      0.46   \n",
              "938                       0.0               13.22                      0.41   \n",
              "939                       0.0                1.82                      0.04   \n",
              "\n",
              "     LightActiveDistance  SedentaryActiveDistance  VeryActiveMinutes  \\\n",
              "0                   6.06                     0.00                 25   \n",
              "1                   4.71                     0.00                 21   \n",
              "2                   3.91                     0.00                 30   \n",
              "3                   2.83                     0.00                 29   \n",
              "4                   5.04                     0.00                 36   \n",
              "..                   ...                      ...                ...   \n",
              "935                 6.80                     0.00                 17   \n",
              "936                 6.24                     0.05                 73   \n",
              "937                 6.28                     0.00                 18   \n",
              "938                 5.89                     0.00                 88   \n",
              "939                 4.25                     0.00                 23   \n",
              "\n",
              "     FairlyActiveMinutes  LightlyActiveMinutes  SedentaryMinutes  Calories  \n",
              "0                     13                   328               728      1985  \n",
              "1                     19                   217               776      1797  \n",
              "2                     11                   181              1218      1776  \n",
              "3                     34                   209               726      1745  \n",
              "4                     10                   221               773      1863  \n",
              "..                   ...                   ...               ...       ...  \n",
              "935                    4                   245              1174      2847  \n",
              "936                   19                   217              1131      3710  \n",
              "937                   11                   224              1187      2832  \n",
              "938                   12                   213              1127      3832  \n",
              "939                    1                   137               770      1849  \n",
              "\n",
              "[940 rows x 15 columns]>"
            ]
          },
          "metadata": {},
          "execution_count": 10
        }
      ]
    },
    {
      "cell_type": "code",
      "source": [
        "from google.colab import files\n",
        "files.upload()"
      ],
      "metadata": {
        "colab": {
          "base_uri": "https://localhost:8080/",
          "height": 129
        },
        "id": "E0GppKlsOFbB",
        "outputId": "6e3e57ae-e730-4710-c0e3-57a455163f0b"
      },
      "execution_count": null,
      "outputs": [
        {
          "output_type": "display_data",
          "data": {
            "text/plain": [
              "<IPython.core.display.HTML object>"
            ],
            "text/html": [
              "\n",
              "     <input type=\"file\" id=\"files-3c36a712-1baf-46e3-b729-3ae06e3f2a2b\" name=\"files[]\" multiple disabled\n",
              "        style=\"border:none\" />\n",
              "     <output id=\"result-3c36a712-1baf-46e3-b729-3ae06e3f2a2b\">\n",
              "      Upload widget is only available when the cell has been executed in the\n",
              "      current browser session. Please rerun this cell to enable.\n",
              "      </output>\n",
              "      <script>// Copyright 2017 Google LLC\n",
              "//\n",
              "// Licensed under the Apache License, Version 2.0 (the \"License\");\n",
              "// you may not use this file except in compliance with the License.\n",
              "// You may obtain a copy of the License at\n",
              "//\n",
              "//      http://www.apache.org/licenses/LICENSE-2.0\n",
              "//\n",
              "// Unless required by applicable law or agreed to in writing, software\n",
              "// distributed under the License is distributed on an \"AS IS\" BASIS,\n",
              "// WITHOUT WARRANTIES OR CONDITIONS OF ANY KIND, either express or implied.\n",
              "// See the License for the specific language governing permissions and\n",
              "// limitations under the License.\n",
              "\n",
              "/**\n",
              " * @fileoverview Helpers for google.colab Python module.\n",
              " */\n",
              "(function(scope) {\n",
              "function span(text, styleAttributes = {}) {\n",
              "  const element = document.createElement('span');\n",
              "  element.textContent = text;\n",
              "  for (const key of Object.keys(styleAttributes)) {\n",
              "    element.style[key] = styleAttributes[key];\n",
              "  }\n",
              "  return element;\n",
              "}\n",
              "\n",
              "// Max number of bytes which will be uploaded at a time.\n",
              "const MAX_PAYLOAD_SIZE = 100 * 1024;\n",
              "\n",
              "function _uploadFiles(inputId, outputId) {\n",
              "  const steps = uploadFilesStep(inputId, outputId);\n",
              "  const outputElement = document.getElementById(outputId);\n",
              "  // Cache steps on the outputElement to make it available for the next call\n",
              "  // to uploadFilesContinue from Python.\n",
              "  outputElement.steps = steps;\n",
              "\n",
              "  return _uploadFilesContinue(outputId);\n",
              "}\n",
              "\n",
              "// This is roughly an async generator (not supported in the browser yet),\n",
              "// where there are multiple asynchronous steps and the Python side is going\n",
              "// to poll for completion of each step.\n",
              "// This uses a Promise to block the python side on completion of each step,\n",
              "// then passes the result of the previous step as the input to the next step.\n",
              "function _uploadFilesContinue(outputId) {\n",
              "  const outputElement = document.getElementById(outputId);\n",
              "  const steps = outputElement.steps;\n",
              "\n",
              "  const next = steps.next(outputElement.lastPromiseValue);\n",
              "  return Promise.resolve(next.value.promise).then((value) => {\n",
              "    // Cache the last promise value to make it available to the next\n",
              "    // step of the generator.\n",
              "    outputElement.lastPromiseValue = value;\n",
              "    return next.value.response;\n",
              "  });\n",
              "}\n",
              "\n",
              "/**\n",
              " * Generator function which is called between each async step of the upload\n",
              " * process.\n",
              " * @param {string} inputId Element ID of the input file picker element.\n",
              " * @param {string} outputId Element ID of the output display.\n",
              " * @return {!Iterable<!Object>} Iterable of next steps.\n",
              " */\n",
              "function* uploadFilesStep(inputId, outputId) {\n",
              "  const inputElement = document.getElementById(inputId);\n",
              "  inputElement.disabled = false;\n",
              "\n",
              "  const outputElement = document.getElementById(outputId);\n",
              "  outputElement.innerHTML = '';\n",
              "\n",
              "  const pickedPromise = new Promise((resolve) => {\n",
              "    inputElement.addEventListener('change', (e) => {\n",
              "      resolve(e.target.files);\n",
              "    });\n",
              "  });\n",
              "\n",
              "  const cancel = document.createElement('button');\n",
              "  inputElement.parentElement.appendChild(cancel);\n",
              "  cancel.textContent = 'Cancel upload';\n",
              "  const cancelPromise = new Promise((resolve) => {\n",
              "    cancel.onclick = () => {\n",
              "      resolve(null);\n",
              "    };\n",
              "  });\n",
              "\n",
              "  // Wait for the user to pick the files.\n",
              "  const files = yield {\n",
              "    promise: Promise.race([pickedPromise, cancelPromise]),\n",
              "    response: {\n",
              "      action: 'starting',\n",
              "    }\n",
              "  };\n",
              "\n",
              "  cancel.remove();\n",
              "\n",
              "  // Disable the input element since further picks are not allowed.\n",
              "  inputElement.disabled = true;\n",
              "\n",
              "  if (!files) {\n",
              "    return {\n",
              "      response: {\n",
              "        action: 'complete',\n",
              "      }\n",
              "    };\n",
              "  }\n",
              "\n",
              "  for (const file of files) {\n",
              "    const li = document.createElement('li');\n",
              "    li.append(span(file.name, {fontWeight: 'bold'}));\n",
              "    li.append(span(\n",
              "        `(${file.type || 'n/a'}) - ${file.size} bytes, ` +\n",
              "        `last modified: ${\n",
              "            file.lastModifiedDate ? file.lastModifiedDate.toLocaleDateString() :\n",
              "                                    'n/a'} - `));\n",
              "    const percent = span('0% done');\n",
              "    li.appendChild(percent);\n",
              "\n",
              "    outputElement.appendChild(li);\n",
              "\n",
              "    const fileDataPromise = new Promise((resolve) => {\n",
              "      const reader = new FileReader();\n",
              "      reader.onload = (e) => {\n",
              "        resolve(e.target.result);\n",
              "      };\n",
              "      reader.readAsArrayBuffer(file);\n",
              "    });\n",
              "    // Wait for the data to be ready.\n",
              "    let fileData = yield {\n",
              "      promise: fileDataPromise,\n",
              "      response: {\n",
              "        action: 'continue',\n",
              "      }\n",
              "    };\n",
              "\n",
              "    // Use a chunked sending to avoid message size limits. See b/62115660.\n",
              "    let position = 0;\n",
              "    do {\n",
              "      const length = Math.min(fileData.byteLength - position, MAX_PAYLOAD_SIZE);\n",
              "      const chunk = new Uint8Array(fileData, position, length);\n",
              "      position += length;\n",
              "\n",
              "      const base64 = btoa(String.fromCharCode.apply(null, chunk));\n",
              "      yield {\n",
              "        response: {\n",
              "          action: 'append',\n",
              "          file: file.name,\n",
              "          data: base64,\n",
              "        },\n",
              "      };\n",
              "\n",
              "      let percentDone = fileData.byteLength === 0 ?\n",
              "          100 :\n",
              "          Math.round((position / fileData.byteLength) * 100);\n",
              "      percent.textContent = `${percentDone}% done`;\n",
              "\n",
              "    } while (position < fileData.byteLength);\n",
              "  }\n",
              "\n",
              "  // All done.\n",
              "  yield {\n",
              "    response: {\n",
              "      action: 'complete',\n",
              "    }\n",
              "  };\n",
              "}\n",
              "\n",
              "scope.google = scope.google || {};\n",
              "scope.google.colab = scope.google.colab || {};\n",
              "scope.google.colab._files = {\n",
              "  _uploadFiles,\n",
              "  _uploadFilesContinue,\n",
              "};\n",
              "})(self);\n",
              "</script> "
            ]
          },
          "metadata": {}
        },
        {
          "output_type": "stream",
          "name": "stdout",
          "text": [
            "Saving dailyCalories_merged.csv to dailyCalories_merged.csv\n"
          ]
        },
        {
          "output_type": "execute_result",
          "data": {
            "text/plain": [
              "{'dailyCalories_merged.csv': b'Id,ActivityDay,Calories\\r\\n1503960366,4/12/2016,1985\\r\\n1503960366,4/13/2016,1797\\r\\n1503960366,4/14/2016,1776\\r\\n1503960366,4/15/2016,1745\\r\\n1503960366,4/16/2016,1863\\r\\n1503960366,4/17/2016,1728\\r\\n1503960366,4/18/2016,1921\\r\\n1503960366,4/19/2016,2035\\r\\n1503960366,4/20/2016,1786\\r\\n1503960366,4/21/2016,1775\\r\\n1503960366,4/22/2016,1827\\r\\n1503960366,4/23/2016,1949\\r\\n1503960366,4/24/2016,1788\\r\\n1503960366,4/25/2016,2013\\r\\n1503960366,4/26/2016,1970\\r\\n1503960366,4/27/2016,2159\\r\\n1503960366,4/28/2016,1898\\r\\n1503960366,4/29/2016,1837\\r\\n1503960366,4/30/2016,1947\\r\\n1503960366,5/1/2016,1820\\r\\n1503960366,5/2/2016,2004\\r\\n1503960366,5/3/2016,1990\\r\\n1503960366,5/4/2016,1819\\r\\n1503960366,5/5/2016,1959\\r\\n1503960366,5/6/2016,1896\\r\\n1503960366,5/7/2016,1821\\r\\n1503960366,5/8/2016,1740\\r\\n1503960366,5/9/2016,1819\\r\\n1503960366,5/10/2016,1859\\r\\n1503960366,5/11/2016,1783\\r\\n1503960366,5/12/2016,0\\r\\n1624580081,4/12/2016,1432\\r\\n1624580081,4/13/2016,1411\\r\\n1624580081,4/14/2016,1572\\r\\n1624580081,4/15/2016,1344\\r\\n1624580081,4/16/2016,1463\\r\\n1624580081,4/17/2016,1554\\r\\n1624580081,4/18/2016,1604\\r\\n1624580081,4/19/2016,1435\\r\\n1624580081,4/20/2016,1446\\r\\n1624580081,4/21/2016,1467\\r\\n1624580081,4/22/2016,1470\\r\\n1624580081,4/23/2016,1562\\r\\n1624580081,4/24/2016,1617\\r\\n1624580081,4/25/2016,1492\\r\\n1624580081,4/26/2016,1402\\r\\n1624580081,4/27/2016,1670\\r\\n1624580081,4/28/2016,1401\\r\\n1624580081,4/29/2016,1404\\r\\n1624580081,4/30/2016,1655\\r\\n1624580081,5/1/2016,2690\\r\\n1624580081,5/2/2016,1497\\r\\n1624580081,5/3/2016,1334\\r\\n1624580081,5/4/2016,1368\\r\\n1624580081,5/5/2016,1370\\r\\n1624580081,5/6/2016,1341\\r\\n1624580081,5/7/2016,1474\\r\\n1624580081,5/8/2016,1427\\r\\n1624580081,5/9/2016,1328\\r\\n1624580081,5/10/2016,1393\\r\\n1624580081,5/11/2016,1359\\r\\n1624580081,5/12/2016,1002\\r\\n1644430081,4/12/2016,3199\\r\\n1644430081,4/13/2016,2902\\r\\n1644430081,4/14/2016,3226\\r\\n1644430081,4/15/2016,2750\\r\\n1644430081,4/16/2016,3493\\r\\n1644430081,4/17/2016,3011\\r\\n1644430081,4/18/2016,2806\\r\\n1644430081,4/19/2016,3300\\r\\n1644430081,4/20/2016,2430\\r\\n1644430081,4/21/2016,2140\\r\\n1644430081,4/22/2016,2344\\r\\n1644430081,4/23/2016,2677\\r\\n1644430081,4/24/2016,2413\\r\\n1644430081,4/25/2016,2497\\r\\n1644430081,4/26/2016,3123\\r\\n1644430081,4/27/2016,2489\\r\\n1644430081,4/28/2016,3108\\r\\n1644430081,4/29/2016,2498\\r\\n1644430081,4/30/2016,3846\\r\\n1644430081,5/1/2016,2696\\r\\n1644430081,5/2/2016,2580\\r\\n1644430081,5/3/2016,3324\\r\\n1644430081,5/4/2016,2222\\r\\n1644430081,5/5/2016,2463\\r\\n1644430081,5/6/2016,3328\\r\\n1644430081,5/7/2016,3404\\r\\n1644430081,5/8/2016,2987\\r\\n1644430081,5/9/2016,3008\\r\\n1644430081,5/10/2016,2799\\r\\n1644430081,5/11/2016,1276\\r\\n1844505072,4/12/2016,2030\\r\\n1844505072,4/13/2016,1860\\r\\n1844505072,4/14/2016,2130\\r\\n1844505072,4/15/2016,1725\\r\\n1844505072,4/16/2016,1657\\r\\n1844505072,4/17/2016,1793\\r\\n1844505072,4/18/2016,1814\\r\\n1844505072,4/19/2016,1366\\r\\n1844505072,4/20/2016,1349\\r\\n1844505072,4/21/2016,2062\\r\\n1844505072,4/22/2016,1827\\r\\n1844505072,4/23/2016,1645\\r\\n1844505072,4/24/2016,1347\\r\\n1844505072,4/25/2016,1347\\r\\n1844505072,4/26/2016,1347\\r\\n1844505072,4/27/2016,1348\\r\\n1844505072,4/28/2016,1992\\r\\n1844505072,4/29/2016,1856\\r\\n1844505072,4/30/2016,1763\\r\\n1844505072,5/1/2016,1541\\r\\n1844505072,5/2/2016,1348\\r\\n1844505072,5/3/2016,1742\\r\\n1844505072,5/4/2016,1549\\r\\n1844505072,5/5/2016,1589\\r\\n1844505072,5/6/2016,1351\\r\\n1844505072,5/7/2016,1347\\r\\n1844505072,5/8/2016,1347\\r\\n1844505072,5/9/2016,1347\\r\\n1844505072,5/10/2016,1347\\r\\n1844505072,5/11/2016,1347\\r\\n1844505072,5/12/2016,665\\r\\n1927972279,4/12/2016,2220\\r\\n1927972279,4/13/2016,2151\\r\\n1927972279,4/14/2016,2383\\r\\n1927972279,4/15/2016,2221\\r\\n1927972279,4/16/2016,2064\\r\\n1927972279,4/17/2016,2063\\r\\n1927972279,4/18/2016,2111\\r\\n1927972279,4/19/2016,2063\\r\\n1927972279,4/20/2016,2063\\r\\n1927972279,4/21/2016,2064\\r\\n1927972279,4/22/2016,2093\\r\\n1927972279,4/23/2016,2499\\r\\n1927972279,4/24/2016,2324\\r\\n1927972279,4/25/2016,2100\\r\\n1927972279,4/26/2016,2638\\r\\n1927972279,4/27/2016,2063\\r\\n1927972279,4/28/2016,2351\\r\\n1927972279,4/29/2016,2063\\r\\n1927972279,4/30/2016,2064\\r\\n1927972279,5/1/2016,2411\\r\\n1927972279,5/2/2016,2505\\r\\n1927972279,5/3/2016,2195\\r\\n1927972279,5/4/2016,2338\\r\\n1927972279,5/5/2016,2063\\r\\n1927972279,5/6/2016,2383\\r\\n1927972279,5/7/2016,2229\\r\\n1927972279,5/8/2016,2063\\r\\n1927972279,5/9/2016,2063\\r\\n1927972279,5/10/2016,2063\\r\\n1927972279,5/11/2016,2063\\r\\n1927972279,5/12/2016,1383\\r\\n2022484408,4/12/2016,2390\\r\\n2022484408,4/13/2016,2601\\r\\n2022484408,4/14/2016,2312\\r\\n2022484408,4/15/2016,2525\\r\\n2022484408,4/16/2016,2177\\r\\n2022484408,4/17/2016,2782\\r\\n2022484408,4/18/2016,2770\\r\\n2022484408,4/19/2016,2489\\r\\n2022484408,4/20/2016,2897\\r\\n2022484408,4/21/2016,3158\\r\\n2022484408,4/22/2016,2638\\r\\n2022484408,4/23/2016,2069\\r\\n2022484408,4/24/2016,2529\\r\\n2022484408,4/25/2016,2470\\r\\n2022484408,4/26/2016,2793\\r\\n2022484408,4/27/2016,2463\\r\\n2022484408,4/28/2016,2296\\r\\n2022484408,4/29/2016,2611\\r\\n2022484408,4/30/2016,2732\\r\\n2022484408,5/1/2016,2380\\r\\n2022484408,5/2/2016,2473\\r\\n2022484408,5/3/2016,2752\\r\\n2022484408,5/4/2016,2649\\r\\n2022484408,5/5/2016,2609\\r\\n2022484408,5/6/2016,2498\\r\\n2022484408,5/7/2016,1995\\r\\n2022484408,5/8/2016,1848\\r\\n2022484408,5/9/2016,2709\\r\\n2022484408,5/10/2016,2797\\r\\n2022484408,5/11/2016,2544\\r\\n2022484408,5/12/2016,1853\\r\\n2026352035,4/12/2016,1459\\r\\n2026352035,4/13/2016,1521\\r\\n2026352035,4/14/2016,1431\\r\\n2026352035,4/15/2016,1444\\r\\n2026352035,4/16/2016,1373\\r\\n2026352035,4/17/2016,1214\\r\\n2026352035,4/18/2016,1419\\r\\n2026352035,4/19/2016,1356\\r\\n2026352035,4/20/2016,1667\\r\\n2026352035,4/21/2016,1370\\r\\n2026352035,4/22/2016,1399\\r\\n2026352035,4/23/2016,1916\\r\\n2026352035,4/24/2016,1401\\r\\n2026352035,4/25/2016,1576\\r\\n2026352035,4/26/2016,1595\\r\\n2026352035,4/27/2016,1593\\r\\n2026352035,4/28/2016,1649\\r\\n2026352035,4/29/2016,1692\\r\\n2026352035,4/30/2016,1506\\r\\n2026352035,5/1/2016,1447\\r\\n2026352035,5/2/2016,1690\\r\\n2026352035,5/3/2016,1604\\r\\n2026352035,5/4/2016,1658\\r\\n2026352035,5/5/2016,1926\\r\\n2026352035,5/6/2016,1736\\r\\n2026352035,5/7/2016,1491\\r\\n2026352035,5/8/2016,1555\\r\\n2026352035,5/9/2016,1869\\r\\n2026352035,5/10/2016,1141\\r\\n2026352035,5/11/2016,1698\\r\\n2026352035,5/12/2016,1364\\r\\n2320127002,4/12/2016,2124\\r\\n2320127002,4/13/2016,2003\\r\\n2320127002,4/14/2016,1696\\r\\n2320127002,4/15/2016,1801\\r\\n2320127002,4/16/2016,1724\\r\\n2320127002,4/17/2016,1852\\r\\n2320127002,4/18/2016,1905\\r\\n2320127002,4/19/2016,1811\\r\\n2320127002,4/20/2016,1922\\r\\n2320127002,4/21/2016,1610\\r\\n2320127002,4/22/2016,1851\\r\\n2320127002,4/23/2016,1804\\r\\n2320127002,4/24/2016,1725\\r\\n2320127002,4/25/2016,1654\\r\\n2320127002,4/26/2016,1632\\r\\n2320127002,4/27/2016,1481\\r\\n2320127002,4/28/2016,1473\\r\\n2320127002,4/29/2016,1410\\r\\n2320127002,4/30/2016,1779\\r\\n2320127002,5/1/2016,1403\\r\\n2320127002,5/2/2016,1613\\r\\n2320127002,5/3/2016,1878\\r\\n2320127002,5/4/2016,1426\\r\\n2320127002,5/5/2016,1780\\r\\n2320127002,5/6/2016,1742\\r\\n2320127002,5/7/2016,1972\\r\\n2320127002,5/8/2016,1821\\r\\n2320127002,5/9/2016,1630\\r\\n2320127002,5/10/2016,1899\\r\\n2320127002,5/11/2016,1903\\r\\n2320127002,5/12/2016,1125\\r\\n2347167796,4/12/2016,2344\\r\\n2347167796,4/13/2016,2038\\r\\n2347167796,4/14/2016,2010\\r\\n2347167796,4/15/2016,2133\\r\\n2347167796,4/16/2016,2670\\r\\n2347167796,4/17/2016,1882\\r\\n2347167796,4/18/2016,1944\\r\\n2347167796,4/19/2016,2346\\r\\n2347167796,4/20/2016,2198\\r\\n2347167796,4/21/2016,2048\\r\\n2347167796,4/22/2016,1946\\r\\n2347167796,4/23/2016,2629\\r\\n2347167796,4/24/2016,2187\\r\\n2347167796,4/25/2016,2095\\r\\n2347167796,4/26/2016,1861\\r\\n2347167796,4/27/2016,2194\\r\\n2347167796,4/28/2016,1854\\r\\n2347167796,4/29/2016,403\\r\\n2873212765,4/12/2016,1982\\r\\n2873212765,4/13/2016,2004\\r\\n2873212765,4/14/2016,1893\\r\\n2873212765,4/15/2016,2063\\r\\n2873212765,4/16/2016,2148\\r\\n2873212765,4/17/2016,1529\\r\\n2873212765,4/18/2016,1890\\r\\n2873212765,4/19/2016,1956\\r\\n2873212765,4/20/2016,2094\\r\\n2873212765,4/21/2016,1970\\r\\n2873212765,4/22/2016,2241\\r\\n2873212765,4/23/2016,2021\\r\\n2873212765,4/24/2016,1898\\r\\n2873212765,4/25/2016,1907\\r\\n2873212765,4/26/2016,1882\\r\\n2873212765,4/27/2016,1966\\r\\n2873212765,4/28/2016,1835\\r\\n2873212765,4/29/2016,1780\\r\\n2873212765,4/30/2016,1830\\r\\n2873212765,5/1/2016,1739\\r\\n2873212765,5/2/2016,1878\\r\\n2873212765,5/3/2016,1906\\r\\n2873212765,5/4/2016,2015\\r\\n2873212765,5/5/2016,1971\\r\\n2873212765,5/6/2016,1910\\r\\n2873212765,5/7/2016,1897\\r\\n2873212765,5/8/2016,2096\\r\\n2873212765,5/9/2016,1906\\r\\n2873212765,5/10/2016,1962\\r\\n2873212765,5/11/2016,1826\\r\\n2873212765,5/12/2016,1431\\r\\n3372868164,4/12/2016,1788\\r\\n3372868164,4/13/2016,2093\\r\\n3372868164,4/14/2016,2065\\r\\n3372868164,4/15/2016,1908\\r\\n3372868164,4/16/2016,1908\\r\\n3372868164,4/17/2016,1964\\r\\n3372868164,4/18/2016,2014\\r\\n3372868164,4/19/2016,1985\\r\\n3372868164,4/20/2016,1867\\r\\n3372868164,4/21/2016,2124\\r\\n3372868164,4/22/2016,1669\\r\\n3372868164,4/23/2016,1995\\r\\n3372868164,4/24/2016,1921\\r\\n3372868164,4/25/2016,2010\\r\\n3372868164,4/26/2016,2057\\r\\n3372868164,4/27/2016,2095\\r\\n3372868164,4/28/2016,1972\\r\\n3372868164,4/29/2016,2044\\r\\n3372868164,4/30/2016,1946\\r\\n3372868164,5/1/2016,1237\\r\\n3977333714,4/12/2016,1450\\r\\n3977333714,4/13/2016,1495\\r\\n3977333714,4/14/2016,1433\\r\\n3977333714,4/15/2016,1468\\r\\n3977333714,4/16/2016,1625\\r\\n3977333714,4/17/2016,1529\\r\\n3977333714,4/18/2016,1584\\r\\n3977333714,4/19/2016,1638\\r\\n3977333714,4/20/2016,1554\\r\\n3977333714,4/21/2016,1397\\r\\n3977333714,4/22/2016,1481\\r\\n3977333714,4/23/2016,1638\\r\\n3977333714,4/24/2016,1655\\r\\n3977333714,4/25/2016,1570\\r\\n3977333714,4/26/2016,1551\\r\\n3977333714,4/27/2016,1377\\r\\n3977333714,4/28/2016,1407\\r\\n3977333714,4/29/2016,1545\\r\\n3977333714,4/30/2016,1650\\r\\n3977333714,5/1/2016,1501\\r\\n3977333714,5/2/2016,1760\\r\\n3977333714,5/3/2016,1710\\r\\n3977333714,5/4/2016,1628\\r\\n3977333714,5/5/2016,1618\\r\\n3977333714,5/6/2016,1590\\r\\n3977333714,5/7/2016,1574\\r\\n3977333714,5/8/2016,1633\\r\\n3977333714,5/9/2016,1667\\r\\n3977333714,5/10/2016,1630\\r\\n3977333714,5/11/2016,52\\r\\n4020332650,4/12/2016,3654\\r\\n4020332650,4/13/2016,1981\\r\\n4020332650,4/14/2016,2011\\r\\n4020332650,4/15/2016,2951\\r\\n4020332650,4/16/2016,3051\\r\\n4020332650,4/17/2016,1990\\r\\n4020332650,4/18/2016,1995\\r\\n4020332650,4/19/2016,1980\\r\\n4020332650,4/20/2016,1980\\r\\n4020332650,4/21/2016,1980\\r\\n4020332650,4/22/2016,1980\\r\\n4020332650,4/23/2016,1980\\r\\n4020332650,4/24/2016,1980\\r\\n4020332650,4/25/2016,1980\\r\\n4020332650,4/26/2016,1980\\r\\n4020332650,4/27/2016,1980\\r\\n4020332650,4/28/2016,1980\\r\\n4020332650,4/29/2016,1980\\r\\n4020332650,4/30/2016,1980\\r\\n4020332650,5/1/2016,1980\\r\\n4020332650,5/2/2016,2207\\r\\n4020332650,5/3/2016,2828\\r\\n4020332650,5/4/2016,3879\\r\\n4020332650,5/5/2016,3429\\r\\n4020332650,5/6/2016,2704\\r\\n4020332650,5/7/2016,2975\\r\\n4020332650,5/8/2016,3089\\r\\n4020332650,5/9/2016,2785\\r\\n4020332650,5/10/2016,2926\\r\\n4020332650,5/11/2016,2645\\r\\n4020332650,5/12/2016,1120\\r\\n4057192912,4/12/2016,2286\\r\\n4057192912,4/13/2016,2306\\r\\n4057192912,4/14/2016,1776\\r\\n4057192912,4/15/2016,1527\\r\\n4319703577,4/12/2016,2115\\r\\n4319703577,4/13/2016,2135\\r\\n4319703577,4/14/2016,2302\\r\\n4319703577,4/15/2016,1985\\r\\n4319703577,4/16/2016,1884\\r\\n4319703577,4/17/2016,1464\\r\\n4319703577,4/18/2016,1632\\r\\n4319703577,4/19/2016,2200\\r\\n4319703577,4/20/2016,2220\\r\\n4319703577,4/21/2016,1792\\r\\n4319703577,4/22/2016,1886\\r\\n4319703577,4/23/2016,1945\\r\\n4319703577,4/24/2016,1880\\r\\n4319703577,4/25/2016,2314\\r\\n4319703577,4/26/2016,2236\\r\\n4319703577,4/27/2016,2324\\r\\n4319703577,4/28/2016,2367\\r\\n4319703577,4/29/2016,2175\\r\\n4319703577,4/30/2016,2092\\r\\n4319703577,5/1/2016,1593\\r\\n4319703577,5/2/2016,2270\\r\\n4319703577,5/3/2016,2235\\r\\n4319703577,5/4/2016,2282\\r\\n4319703577,5/5/2016,2530\\r\\n4319703577,5/6/2016,2266\\r\\n4319703577,5/7/2016,2158\\r\\n4319703577,5/8/2016,1792\\r\\n4319703577,5/9/2016,2345\\r\\n4319703577,5/10/2016,2260\\r\\n4319703577,5/11/2016,2232\\r\\n4319703577,5/12/2016,257\\r\\n4388161847,4/12/2016,2955\\r\\n4388161847,4/13/2016,3092\\r\\n4388161847,4/14/2016,2998\\r\\n4388161847,4/15/2016,3066\\r\\n4388161847,4/16/2016,3073\\r\\n4388161847,4/17/2016,2572\\r\\n4388161847,4/18/2016,3274\\r\\n4388161847,4/19/2016,3015\\r\\n4388161847,4/20/2016,3083\\r\\n4388161847,4/21/2016,3069\\r\\n4388161847,4/22/2016,3544\\r\\n4388161847,4/23/2016,3306\\r\\n4388161847,4/24/2016,2885\\r\\n4388161847,4/25/2016,3288\\r\\n4388161847,4/26/2016,2929\\r\\n4388161847,4/27/2016,3074\\r\\n4388161847,4/28/2016,2969\\r\\n4388161847,4/29/2016,2979\\r\\n4388161847,4/30/2016,3283\\r\\n4388161847,5/1/2016,2926\\r\\n4388161847,5/2/2016,3147\\r\\n4388161847,5/3/2016,3290\\r\\n4388161847,5/4/2016,3162\\r\\n4388161847,5/5/2016,2899\\r\\n4388161847,5/6/2016,3425\\r\\n4388161847,5/7/2016,4022\\r\\n4388161847,5/8/2016,3934\\r\\n4388161847,5/9/2016,3013\\r\\n4388161847,5/10/2016,3061\\r\\n4388161847,5/11/2016,2954\\r\\n4388161847,5/12/2016,1623\\r\\n4445114986,4/12/2016,2113\\r\\n4445114986,4/13/2016,2095\\r\\n4445114986,4/14/2016,2194\\r\\n4445114986,4/15/2016,2496\\r\\n4445114986,4/16/2016,2180\\r\\n4445114986,4/17/2016,1933\\r\\n4445114986,4/18/2016,2248\\r\\n4445114986,4/19/2016,1954\\r\\n4445114986,4/20/2016,1974\\r\\n4445114986,4/21/2016,2150\\r\\n4445114986,4/22/2016,2432\\r\\n4445114986,4/23/2016,2149\\r\\n4445114986,4/24/2016,2247\\r\\n4445114986,4/25/2016,2070\\r\\n4445114986,4/26/2016,2291\\r\\n4445114986,4/27/2016,2361\\r\\n4445114986,4/28/2016,2203\\r\\n4445114986,4/29/2016,2196\\r\\n4445114986,4/30/2016,2363\\r\\n4445114986,5/1/2016,2246\\r\\n4445114986,5/2/2016,2336\\r\\n4445114986,5/3/2016,2421\\r\\n4445114986,5/4/2016,2070\\r\\n4445114986,5/5/2016,2120\\r\\n4445114986,5/6/2016,2211\\r\\n4445114986,5/7/2016,2123\\r\\n4445114986,5/8/2016,2423\\r\\n4445114986,5/9/2016,2281\\r\\n4445114986,5/10/2016,2181\\r\\n4445114986,5/11/2016,2499\\r\\n4445114986,5/12/2016,1212\\r\\n4558609924,4/12/2016,1909\\r\\n4558609924,4/13/2016,1722\\r\\n4558609924,4/14/2016,1922\\r\\n4558609924,4/15/2016,2121\\r\\n4558609924,4/16/2016,1997\\r\\n4558609924,4/17/2016,2117\\r\\n4558609924,4/18/2016,2116\\r\\n4558609924,4/19/2016,1876\\r\\n4558609924,4/20/2016,1788\\r\\n4558609924,4/21/2016,2486\\r\\n4558609924,4/22/2016,2094\\r\\n4558609924,4/23/2016,2085\\r\\n4558609924,4/24/2016,2173\\r\\n4558609924,4/25/2016,2225\\r\\n4558609924,4/26/2016,2223\\r\\n4558609924,4/27/2016,2098\\r\\n4558609924,4/28/2016,2185\\r\\n4558609924,4/29/2016,1918\\r\\n4558609924,4/30/2016,2105\\r\\n4558609924,5/1/2016,1692\\r\\n4558609924,5/2/2016,2066\\r\\n4558609924,5/3/2016,1953\\r\\n4558609924,5/4/2016,1842\\r\\n4558609924,5/5/2016,2262\\r\\n4558609924,5/6/2016,1722\\r\\n4558609924,5/7/2016,1973\\r\\n4558609924,5/8/2016,2666\\r\\n4558609924,5/9/2016,2223\\r\\n4558609924,5/10/2016,1889\\r\\n4558609924,5/11/2016,2131\\r\\n4558609924,5/12/2016,1452\\r\\n4702921684,4/12/2016,2947\\r\\n4702921684,4/13/2016,2898\\r\\n4702921684,4/14/2016,2984\\r\\n4702921684,4/15/2016,2896\\r\\n4702921684,4/16/2016,3328\\r\\n4702921684,4/17/2016,3394\\r\\n4702921684,4/18/2016,3013\\r\\n4702921684,4/19/2016,2812\\r\\n4702921684,4/20/2016,3061\\r\\n4702921684,4/21/2016,2729\\r\\n4702921684,4/22/2016,2241\\r\\n4702921684,4/23/2016,3691\\r\\n4702921684,4/24/2016,3538\\r\\n4702921684,4/25/2016,3064\\r\\n4702921684,4/26/2016,2784\\r\\n4702921684,4/27/2016,2908\\r\\n4702921684,4/28/2016,3033\\r\\n4702921684,4/29/2016,3165\\r\\n4702921684,4/30/2016,3115\\r\\n4702921684,5/1/2016,2017\\r\\n4702921684,5/2/2016,2859\\r\\n4702921684,5/3/2016,3145\\r\\n4702921684,5/4/2016,3004\\r\\n4702921684,5/5/2016,3006\\r\\n4702921684,5/6/2016,2859\\r\\n4702921684,5/7/2016,3683\\r\\n4702921684,5/8/2016,3287\\r\\n4702921684,5/9/2016,2990\\r\\n4702921684,5/10/2016,3172\\r\\n4702921684,5/11/2016,3069\\r\\n4702921684,5/12/2016,1240\\r\\n5553957443,4/12/2016,2026\\r\\n5553957443,4/13/2016,1718\\r\\n5553957443,4/14/2016,2324\\r\\n5553957443,4/15/2016,2254\\r\\n5553957443,4/16/2016,1831\\r\\n5553957443,4/17/2016,1397\\r\\n5553957443,4/18/2016,1683\\r\\n5553957443,4/19/2016,2284\\r\\n5553957443,4/20/2016,1570\\r\\n5553957443,4/21/2016,2066\\r\\n5553957443,4/22/2016,2105\\r\\n5553957443,4/23/2016,1776\\r\\n5553957443,4/24/2016,1507\\r\\n5553957443,4/25/2016,2033\\r\\n5553957443,4/26/2016,2093\\r\\n5553957443,4/27/2016,1922\\r\\n5553957443,4/28/2016,1999\\r\\n5553957443,4/29/2016,2169\\r\\n5553957443,4/30/2016,1463\\r\\n5553957443,5/1/2016,1747\\r\\n5553957443,5/2/2016,1996\\r\\n5553957443,5/3/2016,2116\\r\\n5553957443,5/4/2016,1698\\r\\n5553957443,5/5/2016,2156\\r\\n5553957443,5/6/2016,1916\\r\\n5553957443,5/7/2016,1494\\r\\n5553957443,5/8/2016,1762\\r\\n5553957443,5/9/2016,2272\\r\\n5553957443,5/10/2016,2335\\r\\n5553957443,5/11/2016,1693\\r\\n5553957443,5/12/2016,741\\r\\n5577150313,4/12/2016,3405\\r\\n5577150313,4/13/2016,2551\\r\\n5577150313,4/14/2016,4022\\r\\n5577150313,4/15/2016,4005\\r\\n5577150313,4/16/2016,4274\\r\\n5577150313,4/17/2016,4552\\r\\n5577150313,4/18/2016,3625\\r\\n5577150313,4/19/2016,3501\\r\\n5577150313,4/20/2016,3192\\r\\n5577150313,4/21/2016,4018\\r\\n5577150313,4/22/2016,3329\\r\\n5577150313,4/23/2016,3152\\r\\n5577150313,4/24/2016,4392\\r\\n5577150313,4/25/2016,3374\\r\\n5577150313,4/26/2016,3088\\r\\n5577150313,4/27/2016,3294\\r\\n5577150313,4/28/2016,3580\\r\\n5577150313,4/29/2016,3544\\r\\n5577150313,4/30/2016,4501\\r\\n5577150313,5/1/2016,4546\\r\\n5577150313,5/2/2016,3014\\r\\n5577150313,5/3/2016,3795\\r\\n5577150313,5/4/2016,2755\\r\\n5577150313,5/5/2016,3004\\r\\n5577150313,5/6/2016,2643\\r\\n5577150313,5/7/2016,1819\\r\\n5577150313,5/8/2016,1819\\r\\n5577150313,5/9/2016,2489\\r\\n5577150313,5/10/2016,3841\\r\\n5577150313,5/11/2016,1665\\r\\n6117666160,4/12/2016,1496\\r\\n6117666160,4/13/2016,1496\\r\\n6117666160,4/14/2016,1496\\r\\n6117666160,4/15/2016,2865\\r\\n6117666160,4/16/2016,2828\\r\\n6117666160,4/17/2016,2225\\r\\n6117666160,4/18/2016,2018\\r\\n6117666160,4/19/2016,2606\\r\\n6117666160,4/20/2016,2536\\r\\n6117666160,4/21/2016,4900\\r\\n6117666160,4/22/2016,2409\\r\\n6117666160,4/23/2016,2651\\r\\n6117666160,4/24/2016,2305\\r\\n6117666160,4/25/2016,1497\\r\\n6117666160,4/26/2016,2450\\r\\n6117666160,4/27/2016,2576\\r\\n6117666160,4/28/2016,1879\\r\\n6117666160,4/29/2016,2560\\r\\n6117666160,4/30/2016,2275\\r\\n6117666160,5/1/2016,2361\\r\\n6117666160,5/2/2016,2044\\r\\n6117666160,5/3/2016,1496\\r\\n6117666160,5/4/2016,1902\\r\\n6117666160,5/5/2016,2636\\r\\n6117666160,5/6/2016,1838\\r\\n6117666160,5/7/2016,2469\\r\\n6117666160,5/8/2016,2250\\r\\n6117666160,5/9/2016,1248\\r\\n6290855005,4/12/2016,2560\\r\\n6290855005,4/13/2016,2905\\r\\n6290855005,4/14/2016,2952\\r\\n6290855005,4/15/2016,2896\\r\\n6290855005,4/16/2016,2783\\r\\n6290855005,4/17/2016,3171\\r\\n6290855005,4/18/2016,2766\\r\\n6290855005,4/19/2016,2839\\r\\n6290855005,4/20/2016,2701\\r\\n6290855005,4/21/2016,2060\\r\\n6290855005,4/22/2016,2796\\r\\n6290855005,4/23/2016,2664\\r\\n6290855005,4/24/2016,2703\\r\\n6290855005,4/25/2016,2771\\r\\n6290855005,4/26/2016,2060\\r\\n6290855005,4/27/2016,2743\\r\\n6290855005,4/28/2016,2687\\r\\n6290855005,4/29/2016,2060\\r\\n6290855005,4/30/2016,2843\\r\\n6290855005,5/1/2016,3327\\r\\n6290855005,5/2/2016,2725\\r\\n6290855005,5/3/2016,2671\\r\\n6290855005,5/4/2016,2718\\r\\n6290855005,5/5/2016,2682\\r\\n6290855005,5/6/2016,2806\\r\\n6290855005,5/7/2016,2613\\r\\n6290855005,5/8/2016,2712\\r\\n6290855005,5/9/2016,2175\\r\\n6290855005,5/10/2016,0\\r\\n6775888955,4/12/2016,1841\\r\\n6775888955,4/13/2016,2400\\r\\n6775888955,4/14/2016,2507\\r\\n6775888955,4/15/2016,2127\\r\\n6775888955,4/16/2016,2225\\r\\n6775888955,4/17/2016,2067\\r\\n6775888955,4/18/2016,2798\\r\\n6775888955,4/19/2016,1841\\r\\n6775888955,4/20/2016,3727\\r\\n6775888955,4/21/2016,1841\\r\\n6775888955,4/22/2016,1922\\r\\n6775888955,4/23/2016,1841\\r\\n6775888955,4/24/2016,2053\\r\\n6775888955,4/25/2016,2484\\r\\n6775888955,4/26/2016,2584\\r\\n6775888955,4/27/2016,1841\\r\\n6775888955,4/28/2016,1993\\r\\n6775888955,4/29/2016,1841\\r\\n6775888955,4/30/2016,2280\\r\\n6775888955,5/1/2016,2319\\r\\n6775888955,5/2/2016,1841\\r\\n6775888955,5/3/2016,1843\\r\\n6775888955,5/4/2016,1841\\r\\n6775888955,5/5/2016,1841\\r\\n6775888955,5/6/2016,2496\\r\\n6775888955,5/7/2016,1032\\r\\n6962181067,4/12/2016,1994\\r\\n6962181067,4/13/2016,1718\\r\\n6962181067,4/14/2016,1466\\r\\n6962181067,4/15/2016,1756\\r\\n6962181067,4/16/2016,2173\\r\\n6962181067,4/17/2016,2027\\r\\n6962181067,4/18/2016,2039\\r\\n6962181067,4/19/2016,2046\\r\\n6962181067,4/20/2016,2174\\r\\n6962181067,4/21/2016,2179\\r\\n6962181067,4/22/2016,2086\\r\\n6962181067,4/23/2016,2571\\r\\n6962181067,4/24/2016,1705\\r\\n6962181067,4/25/2016,2194\\r\\n6962181067,4/26/2016,2012\\r\\n6962181067,4/27/2016,2034\\r\\n6962181067,4/28/2016,2182\\r\\n6962181067,4/29/2016,2254\\r\\n6962181067,4/30/2016,2002\\r\\n6962181067,5/1/2016,1740\\r\\n6962181067,5/2/2016,2162\\r\\n6962181067,5/3/2016,2072\\r\\n6962181067,5/4/2016,2086\\r\\n6962181067,5/5/2016,2066\\r\\n6962181067,5/6/2016,1850\\r\\n6962181067,5/7/2016,1947\\r\\n6962181067,5/8/2016,1659\\r\\n6962181067,5/9/2016,2105\\r\\n6962181067,5/10/2016,2361\\r\\n6962181067,5/11/2016,1855\\r\\n6962181067,5/12/2016,928\\r\\n7007744171,4/12/2016,2937\\r\\n7007744171,4/13/2016,2742\\r\\n7007744171,4/14/2016,2668\\r\\n7007744171,4/15/2016,2098\\r\\n7007744171,4/16/2016,2076\\r\\n7007744171,4/17/2016,2383\\r\\n7007744171,4/18/2016,2832\\r\\n7007744171,4/19/2016,2812\\r\\n7007744171,4/20/2016,3096\\r\\n7007744171,4/21/2016,2763\\r\\n7007744171,4/22/2016,2889\\r\\n7007744171,4/23/2016,2284\\r\\n7007744171,4/24/2016,2667\\r\\n7007744171,4/25/2016,3055\\r\\n7007744171,4/26/2016,2939\\r\\n7007744171,4/27/2016,2830\\r\\n7007744171,4/28/2016,2836\\r\\n7007744171,4/29/2016,3180\\r\\n7007744171,4/30/2016,2051\\r\\n7007744171,5/1/2016,2225\\r\\n7007744171,5/2/2016,2642\\r\\n7007744171,5/3/2016,2976\\r\\n7007744171,5/4/2016,1557\\r\\n7007744171,5/5/2016,2933\\r\\n7007744171,5/6/2016,2553\\r\\n7007744171,5/7/2016,120\\r\\n7086361926,4/12/2016,2772\\r\\n7086361926,4/13/2016,2516\\r\\n7086361926,4/14/2016,2734\\r\\n7086361926,4/15/2016,2395\\r\\n7086361926,4/16/2016,1635\\r\\n7086361926,4/17/2016,1629\\r\\n7086361926,4/18/2016,2743\\r\\n7086361926,4/19/2016,2944\\r\\n7086361926,4/20/2016,2997\\r\\n7086361926,4/21/2016,2463\\r\\n7086361926,4/22/2016,2846\\r\\n7086361926,4/23/2016,1965\\r\\n7086361926,4/24/2016,2049\\r\\n7086361926,4/25/2016,2752\\r\\n7086361926,4/26/2016,2781\\r\\n7086361926,4/27/2016,2693\\r\\n7086361926,4/28/2016,2862\\r\\n7086361926,4/29/2016,2616\\r\\n7086361926,4/30/2016,2995\\r\\n7086361926,5/1/2016,2730\\r\\n7086361926,5/2/2016,2754\\r\\n7086361926,5/3/2016,2754\\r\\n7086361926,5/4/2016,2655\\r\\n7086361926,5/5/2016,2386\\r\\n7086361926,5/6/2016,2924\\r\\n7086361926,5/7/2016,2739\\r\\n7086361926,5/8/2016,2534\\r\\n7086361926,5/9/2016,2960\\r\\n7086361926,5/10/2016,2800\\r\\n7086361926,5/11/2016,2735\\r\\n7086361926,5/12/2016,1199\\r\\n8053475328,4/12/2016,3186\\r\\n8053475328,4/13/2016,3140\\r\\n8053475328,4/14/2016,3411\\r\\n8053475328,4/15/2016,3410\\r\\n8053475328,4/16/2016,2867\\r\\n8053475328,4/17/2016,3213\\r\\n8053475328,4/18/2016,3133\\r\\n8053475328,4/19/2016,3114\\r\\n8053475328,4/20/2016,3043\\r\\n8053475328,4/21/2016,3103\\r\\n8053475328,4/22/2016,2655\\r\\n8053475328,4/23/2016,3554\\r\\n8053475328,4/24/2016,3577\\r\\n8053475328,4/25/2016,3403\\r\\n8053475328,4/26/2016,2846\\r\\n8053475328,4/27/2016,2852\\r\\n8053475328,4/28/2016,3062\\r\\n8053475328,4/29/2016,2794\\r\\n8053475328,4/30/2016,2408\\r\\n8053475328,5/1/2016,1886\\r\\n8053475328,5/2/2016,1988\\r\\n8053475328,5/3/2016,3023\\r\\n8053475328,5/4/2016,2918\\r\\n8053475328,5/5/2016,2950\\r\\n8053475328,5/6/2016,2859\\r\\n8053475328,5/7/2016,3331\\r\\n8053475328,5/8/2016,3589\\r\\n8053475328,5/9/2016,2765\\r\\n8053475328,5/10/2016,2926\\r\\n8053475328,5/11/2016,2809\\r\\n8053475328,5/12/2016,1505\\r\\n8253242879,4/12/2016,2044\\r\\n8253242879,4/13/2016,1935\\r\\n8253242879,4/14/2016,1705\\r\\n8253242879,4/15/2016,1632\\r\\n8253242879,4/16/2016,1880\\r\\n8253242879,4/17/2016,2112\\r\\n8253242879,4/18/2016,1829\\r\\n8253242879,4/19/2016,1763\\r\\n8253242879,4/20/2016,1931\\r\\n8253242879,4/21/2016,2218\\r\\n8253242879,4/22/2016,1651\\r\\n8253242879,4/23/2016,2132\\r\\n8253242879,4/24/2016,1976\\r\\n8253242879,4/25/2016,1909\\r\\n8253242879,4/26/2016,1813\\r\\n8253242879,4/27/2016,2008\\r\\n8253242879,4/28/2016,1580\\r\\n8253242879,4/29/2016,1854\\r\\n8253242879,4/30/2016,0\\r\\n8378563200,4/12/2016,3635\\r\\n8378563200,4/13/2016,4079\\r\\n8378563200,4/14/2016,4163\\r\\n8378563200,4/15/2016,3666\\r\\n8378563200,4/16/2016,3363\\r\\n8378563200,4/17/2016,2572\\r\\n8378563200,4/18/2016,4157\\r\\n8378563200,4/19/2016,4092\\r\\n8378563200,4/20/2016,3787\\r\\n8378563200,4/21/2016,4236\\r\\n8378563200,4/22/2016,4044\\r\\n8378563200,4/23/2016,2908\\r\\n8378563200,4/24/2016,2741\\r\\n8378563200,4/25/2016,4005\\r\\n8378563200,4/26/2016,3763\\r\\n8378563200,4/27/2016,3061\\r\\n8378563200,4/28/2016,2884\\r\\n8378563200,4/29/2016,2982\\r\\n8378563200,4/30/2016,2660\\r\\n8378563200,5/1/2016,3369\\r\\n8378563200,5/2/2016,3491\\r\\n8378563200,5/3/2016,3784\\r\\n8378563200,5/4/2016,3110\\r\\n8378563200,5/5/2016,3783\\r\\n8378563200,5/6/2016,3644\\r\\n8378563200,5/7/2016,2799\\r\\n8378563200,5/8/2016,2685\\r\\n8378563200,5/9/2016,3721\\r\\n8378563200,5/10/2016,3586\\r\\n8378563200,5/11/2016,3788\\r\\n8378563200,5/12/2016,1976\\r\\n8583815059,4/12/2016,2650\\r\\n8583815059,4/13/2016,2654\\r\\n8583815059,4/14/2016,2443\\r\\n8583815059,4/15/2016,2505\\r\\n8583815059,4/16/2016,2693\\r\\n8583815059,4/17/2016,2439\\r\\n8583815059,4/18/2016,2536\\r\\n8583815059,4/19/2016,2668\\r\\n8583815059,4/20/2016,2647\\r\\n8583815059,4/21/2016,2883\\r\\n8583815059,4/22/2016,2944\\r\\n8583815059,4/23/2016,3012\\r\\n8583815059,4/24/2016,2889\\r\\n8583815059,4/25/2016,2547\\r\\n8583815059,4/26/2016,3093\\r\\n8583815059,4/27/2016,3142\\r\\n8583815059,4/28/2016,2757\\r\\n8583815059,4/29/2016,3513\\r\\n8583815059,4/30/2016,3164\\r\\n8583815059,5/1/2016,2596\\r\\n8583815059,5/2/2016,2894\\r\\n8583815059,5/3/2016,3212\\r\\n8583815059,5/4/2016,2516\\r\\n8583815059,5/5/2016,3266\\r\\n8583815059,5/6/2016,2683\\r\\n8583815059,5/7/2016,2810\\r\\n8583815059,5/8/2016,2940\\r\\n8583815059,5/9/2016,2947\\r\\n8583815059,5/10/2016,2846\\r\\n8583815059,5/11/2016,2804\\r\\n8583815059,5/12/2016,0\\r\\n8792009665,4/12/2016,2044\\r\\n8792009665,4/13/2016,1934\\r\\n8792009665,4/14/2016,1963\\r\\n8792009665,4/15/2016,2009\\r\\n8792009665,4/16/2016,1721\\r\\n8792009665,4/17/2016,1688\\r\\n8792009665,4/18/2016,1688\\r\\n8792009665,4/19/2016,1688\\r\\n8792009665,4/20/2016,2188\\r\\n8792009665,4/21/2016,1720\\r\\n8792009665,4/22/2016,2419\\r\\n8792009665,4/23/2016,2748\\r\\n8792009665,4/24/2016,1799\\r\\n8792009665,4/25/2016,1688\\r\\n8792009665,4/26/2016,1928\\r\\n8792009665,4/27/2016,2067\\r\\n8792009665,4/28/2016,2780\\r\\n8792009665,4/29/2016,3101\\r\\n8792009665,4/30/2016,2896\\r\\n8792009665,5/1/2016,1962\\r\\n8792009665,5/2/2016,2015\\r\\n8792009665,5/3/2016,2297\\r\\n8792009665,5/4/2016,2067\\r\\n8792009665,5/5/2016,1688\\r\\n8792009665,5/6/2016,1688\\r\\n8792009665,5/7/2016,1688\\r\\n8792009665,5/8/2016,1688\\r\\n8792009665,5/9/2016,1688\\r\\n8792009665,5/10/2016,57\\r\\n8877689391,4/12/2016,3921\\r\\n8877689391,4/13/2016,3566\\r\\n8877689391,4/14/2016,3793\\r\\n8877689391,4/15/2016,3934\\r\\n8877689391,4/16/2016,4547\\r\\n8877689391,4/17/2016,3545\\r\\n8877689391,4/18/2016,2761\\r\\n8877689391,4/19/2016,3676\\r\\n8877689391,4/20/2016,3679\\r\\n8877689391,4/21/2016,3659\\r\\n8877689391,4/22/2016,3427\\r\\n8877689391,4/23/2016,3891\\r\\n8877689391,4/24/2016,3455\\r\\n8877689391,4/25/2016,3802\\r\\n8877689391,4/26/2016,2860\\r\\n8877689391,4/27/2016,3808\\r\\n8877689391,4/28/2016,3060\\r\\n8877689391,4/29/2016,2698\\r\\n8877689391,4/30/2016,4398\\r\\n8877689391,5/1/2016,2786\\r\\n8877689391,5/2/2016,2189\\r\\n8877689391,5/3/2016,2817\\r\\n8877689391,5/4/2016,3477\\r\\n8877689391,5/5/2016,3052\\r\\n8877689391,5/6/2016,4015\\r\\n8877689391,5/7/2016,4142\\r\\n8877689391,5/8/2016,2847\\r\\n8877689391,5/9/2016,3710\\r\\n8877689391,5/10/2016,2832\\r\\n8877689391,5/11/2016,3832\\r\\n8877689391,5/12/2016,1849\\r\\n'}"
            ]
          },
          "metadata": {},
          "execution_count": 11
        }
      ]
    },
    {
      "cell_type": "code",
      "source": [
        "df2 = pd.read_csv(\"dailyCalories_merged.csv\")"
      ],
      "metadata": {
        "id": "rcupeH68OPB7"
      },
      "execution_count": null,
      "outputs": []
    },
    {
      "cell_type": "code",
      "source": [
        "df2.columns"
      ],
      "metadata": {
        "colab": {
          "base_uri": "https://localhost:8080/"
        },
        "id": "9qUZr4kZOSe5",
        "outputId": "73f40b8c-eb2e-40b0-c919-035ee5750102"
      },
      "execution_count": null,
      "outputs": [
        {
          "output_type": "execute_result",
          "data": {
            "text/plain": [
              "Index(['Id', 'ActivityDay', 'Calories'], dtype='object')"
            ]
          },
          "metadata": {},
          "execution_count": 13
        }
      ]
    },
    {
      "cell_type": "code",
      "source": [
        "df2.shape"
      ],
      "metadata": {
        "colab": {
          "base_uri": "https://localhost:8080/"
        },
        "id": "M4kmiVynOUT0",
        "outputId": "8cf757e4-448c-418d-e006-17f961662fa0"
      },
      "execution_count": null,
      "outputs": [
        {
          "output_type": "execute_result",
          "data": {
            "text/plain": [
              "(940, 3)"
            ]
          },
          "metadata": {},
          "execution_count": 14
        }
      ]
    },
    {
      "cell_type": "code",
      "source": [
        "df2['Id'].nunique()"
      ],
      "metadata": {
        "colab": {
          "base_uri": "https://localhost:8080/"
        },
        "id": "bGNInMPYOZLe",
        "outputId": "fe65a2f0-55d8-4e22-b95f-54fa2a7e3cb8"
      },
      "execution_count": null,
      "outputs": [
        {
          "output_type": "execute_result",
          "data": {
            "text/plain": [
              "33"
            ]
          },
          "metadata": {},
          "execution_count": 15
        }
      ]
    },
    {
      "cell_type": "code",
      "source": [
        "from google.colab import files\n",
        "files.upload()"
      ],
      "metadata": {
        "colab": {
          "base_uri": "https://localhost:8080/",
          "height": 129
        },
        "id": "oLlGYB_rOfg_",
        "outputId": "55e9f8d4-d6cd-4942-bbad-a0446dcf28e5"
      },
      "execution_count": null,
      "outputs": [
        {
          "output_type": "display_data",
          "data": {
            "text/plain": [
              "<IPython.core.display.HTML object>"
            ],
            "text/html": [
              "\n",
              "     <input type=\"file\" id=\"files-81340321-b54c-496e-830a-12a1e95c13b4\" name=\"files[]\" multiple disabled\n",
              "        style=\"border:none\" />\n",
              "     <output id=\"result-81340321-b54c-496e-830a-12a1e95c13b4\">\n",
              "      Upload widget is only available when the cell has been executed in the\n",
              "      current browser session. Please rerun this cell to enable.\n",
              "      </output>\n",
              "      <script>// Copyright 2017 Google LLC\n",
              "//\n",
              "// Licensed under the Apache License, Version 2.0 (the \"License\");\n",
              "// you may not use this file except in compliance with the License.\n",
              "// You may obtain a copy of the License at\n",
              "//\n",
              "//      http://www.apache.org/licenses/LICENSE-2.0\n",
              "//\n",
              "// Unless required by applicable law or agreed to in writing, software\n",
              "// distributed under the License is distributed on an \"AS IS\" BASIS,\n",
              "// WITHOUT WARRANTIES OR CONDITIONS OF ANY KIND, either express or implied.\n",
              "// See the License for the specific language governing permissions and\n",
              "// limitations under the License.\n",
              "\n",
              "/**\n",
              " * @fileoverview Helpers for google.colab Python module.\n",
              " */\n",
              "(function(scope) {\n",
              "function span(text, styleAttributes = {}) {\n",
              "  const element = document.createElement('span');\n",
              "  element.textContent = text;\n",
              "  for (const key of Object.keys(styleAttributes)) {\n",
              "    element.style[key] = styleAttributes[key];\n",
              "  }\n",
              "  return element;\n",
              "}\n",
              "\n",
              "// Max number of bytes which will be uploaded at a time.\n",
              "const MAX_PAYLOAD_SIZE = 100 * 1024;\n",
              "\n",
              "function _uploadFiles(inputId, outputId) {\n",
              "  const steps = uploadFilesStep(inputId, outputId);\n",
              "  const outputElement = document.getElementById(outputId);\n",
              "  // Cache steps on the outputElement to make it available for the next call\n",
              "  // to uploadFilesContinue from Python.\n",
              "  outputElement.steps = steps;\n",
              "\n",
              "  return _uploadFilesContinue(outputId);\n",
              "}\n",
              "\n",
              "// This is roughly an async generator (not supported in the browser yet),\n",
              "// where there are multiple asynchronous steps and the Python side is going\n",
              "// to poll for completion of each step.\n",
              "// This uses a Promise to block the python side on completion of each step,\n",
              "// then passes the result of the previous step as the input to the next step.\n",
              "function _uploadFilesContinue(outputId) {\n",
              "  const outputElement = document.getElementById(outputId);\n",
              "  const steps = outputElement.steps;\n",
              "\n",
              "  const next = steps.next(outputElement.lastPromiseValue);\n",
              "  return Promise.resolve(next.value.promise).then((value) => {\n",
              "    // Cache the last promise value to make it available to the next\n",
              "    // step of the generator.\n",
              "    outputElement.lastPromiseValue = value;\n",
              "    return next.value.response;\n",
              "  });\n",
              "}\n",
              "\n",
              "/**\n",
              " * Generator function which is called between each async step of the upload\n",
              " * process.\n",
              " * @param {string} inputId Element ID of the input file picker element.\n",
              " * @param {string} outputId Element ID of the output display.\n",
              " * @return {!Iterable<!Object>} Iterable of next steps.\n",
              " */\n",
              "function* uploadFilesStep(inputId, outputId) {\n",
              "  const inputElement = document.getElementById(inputId);\n",
              "  inputElement.disabled = false;\n",
              "\n",
              "  const outputElement = document.getElementById(outputId);\n",
              "  outputElement.innerHTML = '';\n",
              "\n",
              "  const pickedPromise = new Promise((resolve) => {\n",
              "    inputElement.addEventListener('change', (e) => {\n",
              "      resolve(e.target.files);\n",
              "    });\n",
              "  });\n",
              "\n",
              "  const cancel = document.createElement('button');\n",
              "  inputElement.parentElement.appendChild(cancel);\n",
              "  cancel.textContent = 'Cancel upload';\n",
              "  const cancelPromise = new Promise((resolve) => {\n",
              "    cancel.onclick = () => {\n",
              "      resolve(null);\n",
              "    };\n",
              "  });\n",
              "\n",
              "  // Wait for the user to pick the files.\n",
              "  const files = yield {\n",
              "    promise: Promise.race([pickedPromise, cancelPromise]),\n",
              "    response: {\n",
              "      action: 'starting',\n",
              "    }\n",
              "  };\n",
              "\n",
              "  cancel.remove();\n",
              "\n",
              "  // Disable the input element since further picks are not allowed.\n",
              "  inputElement.disabled = true;\n",
              "\n",
              "  if (!files) {\n",
              "    return {\n",
              "      response: {\n",
              "        action: 'complete',\n",
              "      }\n",
              "    };\n",
              "  }\n",
              "\n",
              "  for (const file of files) {\n",
              "    const li = document.createElement('li');\n",
              "    li.append(span(file.name, {fontWeight: 'bold'}));\n",
              "    li.append(span(\n",
              "        `(${file.type || 'n/a'}) - ${file.size} bytes, ` +\n",
              "        `last modified: ${\n",
              "            file.lastModifiedDate ? file.lastModifiedDate.toLocaleDateString() :\n",
              "                                    'n/a'} - `));\n",
              "    const percent = span('0% done');\n",
              "    li.appendChild(percent);\n",
              "\n",
              "    outputElement.appendChild(li);\n",
              "\n",
              "    const fileDataPromise = new Promise((resolve) => {\n",
              "      const reader = new FileReader();\n",
              "      reader.onload = (e) => {\n",
              "        resolve(e.target.result);\n",
              "      };\n",
              "      reader.readAsArrayBuffer(file);\n",
              "    });\n",
              "    // Wait for the data to be ready.\n",
              "    let fileData = yield {\n",
              "      promise: fileDataPromise,\n",
              "      response: {\n",
              "        action: 'continue',\n",
              "      }\n",
              "    };\n",
              "\n",
              "    // Use a chunked sending to avoid message size limits. See b/62115660.\n",
              "    let position = 0;\n",
              "    do {\n",
              "      const length = Math.min(fileData.byteLength - position, MAX_PAYLOAD_SIZE);\n",
              "      const chunk = new Uint8Array(fileData, position, length);\n",
              "      position += length;\n",
              "\n",
              "      const base64 = btoa(String.fromCharCode.apply(null, chunk));\n",
              "      yield {\n",
              "        response: {\n",
              "          action: 'append',\n",
              "          file: file.name,\n",
              "          data: base64,\n",
              "        },\n",
              "      };\n",
              "\n",
              "      let percentDone = fileData.byteLength === 0 ?\n",
              "          100 :\n",
              "          Math.round((position / fileData.byteLength) * 100);\n",
              "      percent.textContent = `${percentDone}% done`;\n",
              "\n",
              "    } while (position < fileData.byteLength);\n",
              "  }\n",
              "\n",
              "  // All done.\n",
              "  yield {\n",
              "    response: {\n",
              "      action: 'complete',\n",
              "    }\n",
              "  };\n",
              "}\n",
              "\n",
              "scope.google = scope.google || {};\n",
              "scope.google.colab = scope.google.colab || {};\n",
              "scope.google.colab._files = {\n",
              "  _uploadFiles,\n",
              "  _uploadFilesContinue,\n",
              "};\n",
              "})(self);\n",
              "</script> "
            ]
          },
          "metadata": {}
        },
        {
          "output_type": "stream",
          "name": "stdout",
          "text": [
            "Saving dailyIntensities_merged.csv to dailyIntensities_merged.csv\n"
          ]
        },
        {
          "output_type": "execute_result",
          "data": {
            "text/plain": [
              "{'dailyIntensities_merged.csv': b'Id,ActivityDay,SedentaryMinutes,LightlyActiveMinutes,FairlyActiveMinutes,VeryActiveMinutes,SedentaryActiveDistance,LightActiveDistance,ModeratelyActiveDistance,VeryActiveDistance\\r\\n1503960366,4/12/2016,728,328,13,25,0,6.05999994277954,0.550000011920929,1.87999999523163\\r\\n1503960366,4/13/2016,776,217,19,21,0,4.71000003814697,0.689999997615814,1.57000005245209\\r\\n1503960366,4/14/2016,1218,181,11,30,0,3.91000008583069,0.400000005960464,2.44000005722046\\r\\n1503960366,4/15/2016,726,209,34,29,0,2.82999992370605,1.25999999046326,2.14000010490417\\r\\n1503960366,4/16/2016,773,221,10,36,0,5.03999996185303,0.409999996423721,2.71000003814697\\r\\n1503960366,4/17/2016,539,164,20,38,0,2.50999999046326,0.779999971389771,3.19000005722046\\r\\n1503960366,4/18/2016,1149,233,16,42,0,4.71000003814697,0.639999985694885,3.25\\r\\n1503960366,4/19/2016,775,264,31,50,0,5.03000020980835,1.32000005245209,3.52999997138977\\r\\n1503960366,4/20/2016,818,205,12,28,0,4.23999977111816,0.479999989271164,1.96000003814697\\r\\n1503960366,4/21/2016,838,211,8,19,0,4.65000009536743,0.349999994039536,1.3400000333786\\r\\n1503960366,4/22/2016,1217,130,27,66,0,2.24000000953674,1.12000000476837,4.76000022888184\\r\\n1503960366,4/23/2016,732,262,21,41,0,5.3600001335144,0.870000004768372,2.80999994277954\\r\\n1503960366,4/24/2016,709,238,5,39,0,3.27999997138977,0.209999993443489,2.92000007629395\\r\\n1503960366,4/25/2016,814,216,14,73,0,3.94000005722046,0.569999992847443,5.28999996185303\\r\\n1503960366,4/26/2016,833,279,23,31,0,5.53999996185303,0.920000016689301,2.32999992370605\\r\\n1503960366,4/27/2016,1108,243,11,78,0,5.40999984741211,0.409999996423721,6.40000009536743\\r\\n1503960366,4/28/2016,782,189,28,48,0,3.78999996185303,1.1599999666214,3.53999996185303\\r\\n1503960366,4/29/2016,815,243,12,16,0,5.57999992370605,0.5,1.05999994277954\\r\\n1503960366,4/30/2016,712,217,34,52,0,4.26999998092651,1.41999995708466,3.55999994277954\\r\\n1503960366,5/1/2016,730,246,35,33,0,2.92000007629395,1.60000002384186,2.28999996185303\\r\\n1503960366,5/2/2016,798,277,15,41,0,5.92000007629395,0.569999992847443,3.21000003814697\\r\\n1503960366,5/3/2016,816,254,24,50,0,4.88000011444092,1.04999995231628,3.73000001907349\\r\\n1503960366,5/4/2016,1179,203,22,36,0,3.8199999332428,0.870000004768372,2.46000003814697\\r\\n1503960366,5/5/2016,857,250,24,45,0,4.88000011444092,1.08000004291534,2.92000007629395\\r\\n1503960366,5/6/2016,754,289,6,24,0,5.80999994277954,0.25,1.97000002861023\\r\\n1503960366,5/7/2016,833,175,46,37,0,3.13000011444092,2.11999988555908,2.46000003814697\\r\\n1503960366,5/8/2016,574,203,8,44,0,2.73000001907349,0.319999992847443,3.52999997138977\\r\\n1503960366,5/9/2016,835,206,11,46,0,3.74000000953674,0.529999971389771,3.45000004768372\\r\\n1503960366,5/10/2016,746,214,31,46,0,3.25999999046326,1.1599999666214,3.34999990463257\\r\\n1503960366,5/11/2016,669,251,23,36,0,4.55000019073486,1.00999999046326,2.55999994277954\\r\\n1503960366,5/12/2016,1440,0,0,0,0,0,0,0\\r\\n1624580081,4/12/2016,1294,146,0,0,0,5.30999994277954,0,0\\r\\n1624580081,4/13/2016,1292,148,0,0,0,4.55000019073486,0,0\\r\\n1624580081,4/14/2016,1204,236,0,0,0.00999999977648258,5.90999984741211,0,0\\r\\n1624580081,4/15/2016,1344,96,0,0,0,0.970000028610229,0,0\\r\\n1624580081,4/16/2016,1264,176,0,0,0,3.49000000953674,0,0\\r\\n1624580081,4/17/2016,1276,127,22,15,0.00999999977648258,1.49000000953674,1.51999998092651,1.02999997138977\\r\\n1624580081,4/18/2016,1214,202,7,17,0.00999999977648258,4.61999988555908,0.620000004768372,2.15000009536743\\r\\n1624580081,4/19/2016,1299,141,0,0,0,1.89999997615814,0,0\\r\\n1624580081,4/20/2016,1289,151,0,0,0,3.23000001907349,0,0\\r\\n1624580081,4/21/2016,1254,186,0,0,0.0199999995529652,4.1100001335144,0,0\\r\\n1624580081,4/22/2016,1241,199,0,0,0,2.59999990463257,0,0\\r\\n1624580081,4/23/2016,1213,227,0,0,0.00999999977648258,5.53999996185303,0,0\\r\\n1624580081,4/24/2016,1221,185,18,16,0,1.88999998569489,0.910000026226044,1.14999997615814\\r\\n1624580081,4/25/2016,1238,202,0,0,0.0199999995529652,4.19999980926514,0,0\\r\\n1624580081,4/26/2016,1300,140,0,0,0.00999999977648258,1.83000004291534,0,0\\r\\n1624580081,4/27/2016,1233,154,36,17,0,2.46000003814697,1.87000000476837,1.11000001430511\\r\\n1624580081,4/28/2016,1320,115,5,0,0,1.60000002384186,0.200000002980232,0\\r\\n1624580081,4/29/2016,1290,150,0,0,0,1.54999995231628,0,0\\r\\n1624580081,4/30/2016,1182,224,23,11,0.00999999977648258,2.11999988555908,1.27999997138977,0.899999976158142\\r\\n1624580081,5/1/2016,1020,171,63,186,0.0199999995529652,1.9099999666214,4.19000005722046,21.9200000762939\\r\\n1624580081,5/2/2016,1261,166,6,7,0,3.47000002861023,0.589999973773956,0.860000014305115\\r\\n1624580081,5/3/2016,1344,96,0,0,0.0199999995529652,1.3400000333786,0,0\\r\\n1624580081,5/4/2016,1322,118,0,0,0,1.41999995708466,0,0\\r\\n1624580081,5/5/2016,1323,117,0,0,0.0199999995529652,1.58000004291534,0,0\\r\\n1624580081,5/6/2016,1338,102,0,0,0.00999999977648258,1.12000000476837,0,0\\r\\n1624580081,5/7/2016,1258,182,0,0,0,1.37000000476837,0,0\\r\\n1624580081,5/8/2016,1288,152,0,0,0,2.22000002861023,0,0\\r\\n1624580081,5/9/2016,1349,91,0,0,0,1.12999999523163,0,0\\r\\n1624580081,5/10/2016,1301,139,0,0,0.00999999977648258,1.91999995708466,0,0\\r\\n1624580081,5/11/2016,1328,112,0,0,0,2.03999996185303,0,0\\r\\n1624580081,5/12/2016,890,107,0,0,0.00999999977648258,1.91999995708466,0,0\\r\\n1644430081,4/12/2016,1131,256,51,2,0,5.32999992370605,2.29999995231628,0.140000000596046\\r\\n1644430081,4/13/2016,1259,135,16,30,0,2.64000010490417,0.899999976158142,2.27999997138977\\r\\n1644430081,4/14/2016,1125,252,58,5,0,5.09999990463257,2.55999994277954,0.360000014305115\\r\\n1644430081,4/15/2016,1263,170,4,3,0,3.45000004768372,0.150000005960464,0.219999998807907\\r\\n1644430081,4/16/2016,1135,212,42,51,0,5.09000015258789,1.87999999523163,4.09999990463257\\r\\n1644430081,4/17/2016,1212,186,13,29,0,3.54999995231628,0.569999992847443,2.25\\r\\n1644430081,4/18/2016,1271,121,33,15,0,2.45000004768372,1.66999995708466,1.07000005245209\\r\\n1644430081,4/19/2016,1099,278,58,5,0,5.30000019073486,2.52999997138977,0.360000014305115\\r\\n1644430081,4/20/2016,1315,125,0,0,0.00999999977648258,1.75999999046326,0,0\\r\\n1644430081,4/21/2016,1402,38,0,0,0.00999999977648258,0.879999995231628,0,0\\r\\n1644430081,4/22/2016,1354,86,0,0,0.00999999977648258,2.66000008583069,0,0\\r\\n1644430081,4/23/2016,1265,160,15,0,0,4.25,0.579999983310699,0\\r\\n1644430081,4/24/2016,1351,89,0,0,0,2.41000008583069,0,0\\r\\n1644430081,4/25/2016,1337,94,1,8,0,1.95000004768372,0.0599999986588955,0.589999973773956\\r\\n1644430081,4/26/2016,1165,223,41,11,0,4.69000005722046,1.72000002861023,0.800000011920929\\r\\n1644430081,4/27/2016,1322,118,0,0,0,2.20000004768372,0,0\\r\\n1644430081,4/28/2016,1157,227,53,3,0,4.30999994277954,2.3199999332428,0.200000002980232\\r\\n1644430081,4/29/2016,1193,120,0,0,0,2.30999994277954,0,0\\r\\n1644430081,4/30/2016,816,402,71,9,0,9.46000003814697,3.14000010490417,0.629999995231628\\r\\n1644430081,5/1/2016,908,146,24,3,0,3.23000001907349,0.990000009536743,0.239999994635582\\r\\n1644430081,5/2/2016,682,148,7,1,0,2.34999990463257,0.310000002384186,0.0700000002980232\\r\\n1644430081,5/3/2016,1115,221,94,10,0,4.53999996185303,4.09000015258789,0.720000028610229\\r\\n1644430081,5/4/2016,1388,52,0,0,0.0199999995529652,1.6599999666214,0,0\\r\\n1644430081,5/5/2016,1341,81,12,6,0.00999999977648258,2.13000011444092,0.540000021457672,0.519999980926514\\r\\n1644430081,5/6/2016,1054,369,6,11,0.0199999995529652,6.01000022888184,0.270000010728836,0.819999992847443\\r\\n1644430081,5/7/2016,1139,243,17,41,0.00999999977648258,5.67000007629395,0.790000021457672,3.25999999046326\\r\\n1644430081,5/8/2016,991,295,0,0,0,4.88000011444092,0,0\\r\\n1644430081,5/9/2016,1099,303,6,32,0.00999999977648258,2.08999991416931,0.349999994039536,2.39000010490417\\r\\n1644430081,5/10/2016,1254,155,19,12,0.00999999977648258,4.96999979019165,0.810000002384186,0.879999995231628\\r\\n1644430081,5/11/2016,713,49,0,0,0.00999999977648258,0.949999988079071,0,0\\r\\n1844505072,4/12/2016,1101,339,0,0,0,4.42999982833862,0,0\\r\\n1844505072,4/13/2016,1192,248,0,0,0,3.25999999046326,0,0\\r\\n1844505072,4/14/2016,843,373,0,0,0,5.23000001907349,0,0\\r\\n1844505072,4/15/2016,527,176,0,0,0,2.53999996185303,0,0\\r\\n1844505072,4/16/2016,1293,147,0,0,0,2.25999999046326,0,0\\r\\n1844505072,4/17/2016,1231,199,8,2,0,2.58999991416931,0.259999990463257,0.140000000596046\\r\\n1844505072,4/18/2016,1211,217,12,0,0,2.55999994277954,0.479999989271164,0\\r\\n1844505072,4/19/2016,1430,10,0,0,0,0.129999995231628,0,0\\r\\n1844505072,4/20/2016,1439,1,0,0,0,0.00999999977648258,0,0\\r\\n1844505072,4/21/2016,1117,308,13,2,0,4.67999982833862,0.519999980926514,0.119999997317791\\r\\n1844505072,4/22/2016,1220,220,0,0,0,3.54999995231628,0,0\\r\\n1844505072,4/23/2016,1301,139,0,0,0,2.35999989509583,0,0\\r\\n1844505072,4/24/2016,1440,0,0,0,0,0,0,0\\r\\n1844505072,4/25/2016,1440,0,0,0,0,0,0,0\\r\\n1844505072,4/26/2016,1440,0,0,0,0,0,0,0\\r\\n1844505072,4/27/2016,1439,1,0,0,0,0,0,0\\r\\n1844505072,4/28/2016,1138,302,0,0,0,4.55999994277954,0,0\\r\\n1844505072,4/29/2016,1082,247,0,0,0,3.25,0,0\\r\\n1844505072,4/30/2016,218,184,0,0,0,2.65000009536743,0,0\\r\\n1844505072,5/1/2016,585,75,7,0,0,1.45000004768372,0.259999990463257,0\\r\\n1844505072,5/2/2016,1440,0,0,0,0,0,0,0\\r\\n1844505072,5/3/2016,1256,184,0,0,0,2.6800000667572,0,0\\r\\n1844505072,5/4/2016,1353,87,0,0,0,1.37000000476837,0,0\\r\\n1844505072,5/5/2016,1320,120,0,0,0,1.48000001907349,0,0\\r\\n1844505072,5/6/2016,1438,2,0,0,0,0.0299999993294477,0,0\\r\\n1844505072,5/7/2016,1440,0,0,0,0,0,0,0\\r\\n1844505072,5/8/2016,1440,0,0,0,0,0,0,0\\r\\n1844505072,5/9/2016,1440,0,0,0,0,0,0,0\\r\\n1844505072,5/10/2016,1440,0,0,0,0,0,0,0\\r\\n1844505072,5/11/2016,1440,0,0,0,0,0,0,0\\r\\n1844505072,5/12/2016,711,0,0,0,0,0,0,0\\r\\n1927972279,4/12/2016,734,55,0,0,0,0.469999998807907,0,0\\r\\n1927972279,4/13/2016,986,32,0,0,0,0.25,0,0\\r\\n1927972279,4/14/2016,1292,88,9,0,0,1.10000002384186,0.400000005960464,0\\r\\n1927972279,4/15/2016,941,51,0,0,0,0.680000007152557,0,0\\r\\n1927972279,4/16/2016,1440,0,0,0,0,0,0,0\\r\\n1927972279,4/17/2016,1440,0,0,0,0,0,0,0\\r\\n1927972279,4/18/2016,1423,17,0,0,0,0.170000001788139,0,0\\r\\n1927972279,4/19/2016,1440,0,0,0,0,0,0,0\\r\\n1927972279,4/20/2016,1440,0,0,0,0,0,0,0\\r\\n1927972279,4/21/2016,1440,0,0,0,0,0,0,0\\r\\n1927972279,4/22/2016,1430,10,0,0,0,0.100000001490116,0,0\\r\\n1927972279,4/23/2016,1295,145,0,0,0,2.03999996185303,0,0\\r\\n1927972279,4/24/2016,1358,75,6,1,0,1.13999998569489,0.239999994635582,0.0700000002980232\\r\\n1927972279,4/25/2016,1303,12,0,0,0,0.109999999403954,0,0\\r\\n1927972279,4/26/2016,1058,192,0,0,0,2.59999990463257,0,0\\r\\n1927972279,4/27/2016,1440,0,0,0,0,0,0,0\\r\\n1927972279,4/28/2016,1167,95,0,0,0,1.1599999666214,0,0\\r\\n1927972279,4/29/2016,1440,0,0,0,0,0,0,0\\r\\n1927972279,4/30/2016,1440,0,0,0,0,0,0,0\\r\\n1927972279,5/1/2016,1355,70,1,14,0,0.829999983310699,0.0299999993294477,1.00999999046326\\r\\n1927972279,5/2/2016,1322,94,8,16,0,1.1599999666214,0.300000011920929,1.1599999666214\\r\\n1927972279,5/3/2016,1413,17,0,10,0,0.180000007152557,0,0.730000019073486\\r\\n1927972279,5/4/2016,1353,87,0,0,0,1.24000000953674,0,0\\r\\n1927972279,5/5/2016,1440,0,0,0,0,0,0,0\\r\\n1927972279,5/6/2016,1332,108,0,0,0,1.45000004768372,0,0\\r\\n1927972279,5/7/2016,1392,48,0,0,0,1.03999996185303,0,0\\r\\n1927972279,5/8/2016,1440,0,0,0,0,0,0,0\\r\\n1927972279,5/9/2016,1440,0,0,0,0,0,0,0\\r\\n1927972279,5/10/2016,1440,0,0,0,0,0,0,0\\r\\n1927972279,5/11/2016,1440,0,0,0,0,0,0,0\\r\\n1927972279,5/12/2016,966,0,0,0,0,0,0,0\\r\\n2022484408,4/12/2016,1157,227,14,42,0,4.26000022888184,0.769999980926514,3.30999994277954\\r\\n2022484408,4/13/2016,1100,292,5,43,0,5.40999984741211,0.100000001490116,2.99000000953674\\r\\n2022484408,4/14/2016,1148,257,3,32,0,4.82000017166138,0.209999993443489,2.48000001907349\\r\\n2022484408,4/15/2016,1122,282,9,27,0,5.78000020980835,0.310000002384186,1.94000005722046\\r\\n2022484408,4/16/2016,1237,151,11,41,0,3.39000010490417,0.550000011920929,3.15000009536743\\r\\n2022484408,4/17/2016,1052,331,29,28,0,6.88000011444092,0.660000026226044,3.86999988555908\\r\\n2022484408,4/18/2016,1078,311,3,48,0,6.30000019073486,0.119999997317791,3.64000010490417\\r\\n2022484408,4/19/2016,1152,250,7,31,0,5,0.239999994635582,3.28999996185303\\r\\n2022484408,4/20/2016,1053,276,63,48,0,5.40000009536743,1.92999994754791,3.33999991416931\\r\\n2022484408,4/21/2016,1028,255,53,104,0,4.30999994277954,1.11000001430511,3.32999992370605\\r\\n2022484408,4/22/2016,1105,273,10,52,0,4.46999979019165,0.419999986886978,4.42999982833862\\r\\n2022484408,4/23/2016,1191,249,0,0,0,4.21000003814697,0,0\\r\\n2022484408,4/24/2016,1161,216,26,37,0,4.57999992370605,1.14999997615814,4.55000019073486\\r\\n2022484408,4/25/2016,1171,217,8,44,0,4.46000003814697,0.219999998807907,3.32999992370605\\r\\n2022484408,4/26/2016,1086,275,24,55,0,5.1100001335144,0.660000026226044,1.42999994754791\\r\\n2022484408,4/27/2016,1119,282,20,19,0,5.11999988555908,0.970000028610229,1.03999996185303\\r\\n2022484408,4/28/2016,1123,291,20,6,0,5.3899998664856,1.33000004291534,0.409999996423721\\r\\n2022484408,4/29/2016,1098,281,40,21,0,5.5,1.21000003814697,0.479999989271164\\r\\n2022484408,4/30/2016,1043,361,23,13,0,10.5699996948242,1.39999997615814,0.939999997615814\\r\\n2022484408,5/1/2016,1142,245,28,25,0,4.5,0.959999978542328,1.94000005722046\\r\\n2022484408,5/2/2016,1119,277,8,36,0,4.32999992370605,0.340000003576279,2.60999989509583\\r\\n2022484408,5/3/2016,1104,250,14,72,0,4.28000020980835,0.46000000834465,3.99000000953674\\r\\n2022484408,5/4/2016,1105,272,27,36,0,4.84999990463257,0.930000007152557,2.50999999046326\\r\\n2022484408,5/5/2016,1112,253,20,55,0,4.69999980926514,0.860000014305115,2.78999996185303\\r\\n2022484408,5/6/2016,1104,295,17,24,0,4.6399998664856,0.670000016689301,1.87000000476837\\r\\n2022484408,5/7/2016,1269,149,2,20,0,3.01999998092651,0.0799999982118607,1.61000001430511\\r\\n2022484408,5/8/2016,1305,135,0,0,0,2.30999994277954,0,0\\r\\n2022484408,5/9/2016,1061,297,47,35,0,5.6399998664856,1.62999999523163,2.11999988555908\\r\\n2022484408,5/10/2016,1084,271,28,57,0,5.55999994277954,1.21000003814697,2.22000002861023\\r\\n2022484408,5/11/2016,1133,224,25,58,0,3.99000000953674,1.14999997615814,4.17999982833862\\r\\n2022484408,5/12/2016,728,236,16,16,0,4.44000005722046,0.670000016689301,1.27999997138977\\r\\n2026352035,4/12/2016,706,181,8,3,0,2.20000004768372,0.349999994039536,0.189999997615814\\r\\n2026352035,4/13/2016,663,238,0,0,0,3.09999990463257,0,0\\r\\n2026352035,4/14/2016,653,197,0,0,0,2.04999995231628,0,0\\r\\n2026352035,4/15/2016,687,188,0,0,0,2.36999988555908,0,0\\r\\n2026352035,4/16/2016,728,150,0,0,0,1.58000004291534,0,0\\r\\n2026352035,4/17/2016,1053,60,0,0,0,0.519999980926514,0,0\\r\\n2026352035,4/18/2016,1062,182,0,0,0,2.05999994277954,0,0\\r\\n2026352035,4/19/2016,785,141,0,0,0,1.5,0,0\\r\\n2026352035,4/20/2016,623,327,0,0,0,4.48000001907349,0,0\\r\\n2026352035,4/21/2016,749,153,0,0,0,1.52999997138977,0,0\\r\\n2026352035,4/22/2016,712,162,0,0,0,1.80999994277954,0,0\\r\\n2026352035,4/23/2016,458,432,0,0,0,7.71000003814697,0,0\\r\\n2026352035,4/24/2016,704,164,0,0,0,2.16000008583069,0,0\\r\\n2026352035,4/25/2016,821,260,0,0,0,3.73000001907349,0,0\\r\\n2026352035,4/26/2016,1018,288,0,0,0,3.6800000667572,0,0\\r\\n2026352035,4/27/2016,586,286,0,0,0,3.76999998092651,0,0\\r\\n2026352035,4/28/2016,626,331,0,0,0,3.95000004768372,0,0\\r\\n2026352035,4/29/2016,492,352,0,0,0,4.71000003814697,0,0\\r\\n2026352035,4/30/2016,594,233,0,0,0,2.9300000667572,0,0\\r\\n2026352035,5/1/2016,716,191,0,0,0,2.27999997138977,0,0\\r\\n2026352035,5/2/2016,716,355,0,0,0,4.34999990463257,0,0\\r\\n2026352035,5/3/2016,981,304,0,0,0,3.72000002861023,0,0\\r\\n2026352035,5/4/2016,530,345,0,0,0,4.07000017166138,0,0\\r\\n2026352035,5/5/2016,479,475,0,0,0,7.53999996185303,0,0\\r\\n2026352035,5/6/2016,511,383,0,0,0,5.07999992370605,0,0\\r\\n2026352035,5/7/2016,665,229,0,0,0,2.59999990463257,0,0\\r\\n2026352035,5/8/2016,610,258,0,0,0,3.45000004768372,0,0\\r\\n2026352035,5/9/2016,543,401,0,0,0,6.59999990463257,0,0\\r\\n2026352035,5/10/2016,1002,17,0,0,0,0.159999996423721,0,0\\r\\n2026352035,5/11/2016,569,330,0,0,0,5.32000017166138,0,0\\r\\n2026352035,5/12/2016,330,343,0,0,0,5.51000022888184,0,0\\r\\n2320127002,4/12/2016,1112,306,9,13,0,6.01000022888184,0.310000002384186,1.16999995708466\\r\\n2320127002,4/13/2016,1105,335,0,0,0,4.90000009536743,0,0\\r\\n2320127002,4/14/2016,1249,191,0,0,0,2.6800000667572,0,0\\r\\n2320127002,4/15/2016,1195,245,0,0,0,3.50999999046326,0,0\\r\\n2320127002,4/16/2016,1245,195,0,0,0,3.40000009536743,0,0\\r\\n2320127002,4/17/2016,1191,249,0,0,0,4.17999982833862,0,0\\r\\n2320127002,4/18/2016,1173,260,7,0,0,4.1399998664856,0.259999990463257,0\\r\\n2320127002,4/19/2016,1201,228,11,0,0,3.66000008583069,0.379999995231628,0\\r\\n2320127002,4/20/2016,1146,283,11,0,0,4.34000015258789,0.490000009536743,0\\r\\n2320127002,4/21/2016,1302,127,10,1,0,1.80999994277954,0.419999986886978,0.0599999986588955\\r\\n2320127002,4/22/2016,1174,266,0,0,0,3.75999999046326,0,0\\r\\n2320127002,4/23/2016,1129,242,0,0,0,3.42000007629395,0,0\\r\\n2320127002,4/24/2016,1236,204,0,0,0,2.79999995231628,0,0\\r\\n2320127002,4/25/2016,1280,152,5,3,0,1.99000000953674,0.200000002980232,0.230000004172325\\r\\n2320127002,4/26/2016,1293,147,0,0,0,2.29999995231628,0,0\\r\\n2320127002,4/27/2016,1358,82,0,0,0,1.1599999666214,0,0\\r\\n2320127002,4/28/2016,1364,76,0,0,0,1.02999997138977,0,0\\r\\n2320127002,4/29/2016,1395,45,0,0,0,0.620000004768372,0,0\\r\\n2320127002,4/30/2016,1206,234,0,0,0,3.0699999332428,0,0\\r\\n2320127002,5/1/2016,1400,40,0,0,0,0.519999980926514,0,0\\r\\n2320127002,5/2/2016,1306,123,6,5,0,1.87999999523163,0.209999993443489,0.360000014305115\\r\\n2320127002,5/3/2016,1204,206,10,20,0,3.16000008583069,0.370000004768372,1.49000000953674\\r\\n2320127002,5/4/2016,1388,52,0,0,0,0.810000002384186,0,0\\r\\n2320127002,5/5/2016,1206,223,11,0,0,3.10999989509583,0.389999985694885,0\\r\\n2320127002,5/6/2016,1236,204,0,0,0,3.28999996185303,0,0\\r\\n2320127002,5/7/2016,1121,319,0,0,0,4.96999979019165,0,0\\r\\n2320127002,5/8/2016,1193,247,0,0,0,3.47000002861023,0,0\\r\\n2320127002,5/9/2016,1295,145,0,0,0,2.07999992370605,0,0\\r\\n2320127002,5/10/2016,1150,290,0,0,0,4.19999980926514,0,0\\r\\n2320127002,5/11/2016,1140,300,0,0,0,4.32999992370605,0,0\\r\\n2320127002,5/12/2016,830,128,0,0,0,1.78999996185303,0,0\\r\\n2347167796,4/12/2016,964,320,13,28,0,4.19999980926514,0.620000004768372,2\\r\\n2347167796,4/13/2016,676,195,32,19,0,3.41000008583069,1.94000005722046,1.6599999666214\\r\\n2347167796,4/14/2016,705,206,48,1,0,3.94000005722046,2.74000000953674,0.0199999995529652\\r\\n2347167796,4/15/2016,720,284,24,1,0,5.42999982833862,1.41999995708466,0.0700000002980232\\r\\n2347167796,4/16/2016,968,268,72,66,0,5.53000020980835,4.09999990463257,5.44999980926514\\r\\n2347167796,4/17/2016,508,249,7,1,0,3.25999999046326,0.280000001192093,0.0799999982118607\\r\\n2347167796,4/18/2016,678,206,16,11,0,3.78999996185303,0.860000014305115,0.790000021457672\\r\\n2347167796,4/19/2016,648,382,7,0,0,4.44000005722046,0,0\\r\\n2347167796,4/20/2016,1011,269,43,11,0,4.78000020980835,1.80999994277954,0.680000007152557\\r\\n2347167796,4/21/2016,761,208,26,23,0,3.38000011444092,1.52999997138977,1.85000002384186\\r\\n2347167796,4/22/2016,781,206,27,9,0,2.92000007629395,1.67999994754791,0.560000002384186\\r\\n2347167796,4/23/2016,591,360,35,32,0,7.15000009536743,1.45000004768372,2.77999997138977\\r\\n2347167796,4/24/2016,584,360,0,0,0,6.26000022888184,0,0\\r\\n2347167796,4/25/2016,653,277,11,15,0,4.59999990463257,0.519999980926514,1.26999998092651\\r\\n2347167796,4/26/2016,732,227,0,0,0,3.95000004768372,0,0\\r\\n2347167796,4/27/2016,623,295,9,26,0,5.32000017166138,0.400000005960464,1.86000001430511\\r\\n2347167796,4/28/2016,764,229,0,0,0,3.59999990463257,0,0\\r\\n2347167796,4/29/2016,2,4,0,0,0,0.0299999993294477,0,0\\r\\n2873212765,4/12/2016,1061,356,21,2,0,4.88000011444092,0.930000007152557,0.109999999403954\\r\\n2873212765,4/13/2016,1028,404,8,0,0.0199999995529652,4.88000011444092,0.219999998807907,0\\r\\n2873212765,4/14/2016,1109,331,0,0,0,5.32000017166138,0,0\\r\\n2873212765,4/15/2016,992,448,0,0,0.00999999977648258,5.69000005722046,0,0\\r\\n2873212765,4/16/2016,1087,305,1,47,0.00999999977648258,3.50999999046326,0.0199999995529652,3.10999989509583\\r\\n2873212765,4/17/2016,1272,160,8,0,0,1.3400000333786,0.349999994039536,0\\r\\n2873212765,4/18/2016,1122,311,6,1,0,4.8899998664856,0.280000001192093,0.0700000002980232\\r\\n2873212765,4/19/2016,1051,389,0,0,0,5.3600001335144,0,0\\r\\n2873212765,4/20/2016,1035,378,5,22,0.00999999977648258,4.65999984741211,0.119999997317791,1.50999999046326\\r\\n2873212765,4/21/2016,1057,371,10,2,0.00999999977648258,5.46999979019165,0.370000004768372,0.129999995231628\\r\\n2873212765,4/22/2016,1028,366,0,46,0.0199999995529652,4.42000007629395,0,0.46000000834465\\r\\n2873212765,4/23/2016,1077,330,5,28,0.00999999977648258,4.01999998092651,0.230000004172325,2.08999991416931\\r\\n2873212765,4/24/2016,1203,190,1,46,0,1.62000000476837,0.0599999986588955,3\\r\\n2873212765,4/25/2016,1081,359,0,0,0,4.94999980926514,0,0\\r\\n2873212765,4/26/2016,1124,309,5,2,0,5.23999977111816,0.180000007152557,0.119999997317791\\r\\n2873212765,4/27/2016,1197,197,0,46,0,2.35999989509583,0,0\\r\\n2873212765,4/28/2016,1192,213,7,28,0,2.91000008583069,0.340000003576279,2.16000008583069\\r\\n2873212765,4/29/2016,1191,206,23,20,0,2.1800000667572,1.4099999666214,1.36000001430511\\r\\n2873212765,4/30/2016,1167,248,20,5,0.00999999977648258,4.26000022888184,1.08000004291534,0.330000013113022\\r\\n2873212765,5/1/2016,1219,196,18,7,0,3.44000005722046,1.03999996185303,0.490000009536743\\r\\n2873212765,5/2/2016,1099,334,7,0,0.0199999995529652,4.82999992370605,0.209999993443489,0\\r\\n2873212765,5/3/2016,1070,363,6,1,0.00999999977648258,4.65999984741211,0.25,0.0599999986588955\\r\\n2873212765,5/4/2016,1020,420,0,0,0,5.55999994277954,0,0\\r\\n2873212765,5/5/2016,1093,311,23,13,0,4.03000020980835,0.800000011920929,0.779999971389771\\r\\n2873212765,5/6/2016,1065,370,5,0,0.00999999977648258,4.6100001335144,0.119999997317791,0\\r\\n2873212765,5/7/2016,1302,52,11,75,0,0.550000011920929,0.550000011920929,2.27999997138977\\r\\n2873212765,5/8/2016,1068,326,0,46,0,2.64000010490417,0,2.90000009536743\\r\\n2873212765,5/9/2016,1095,345,0,0,0,5.19000005722046,0,0\\r\\n2873212765,5/10/2016,1067,373,0,0,0.00999999977648258,5.55000019073486,0,0\\r\\n2873212765,5/11/2016,1121,319,0,0,0.00999999977648258,4.32000017166138,0,0\\r\\n2873212765,5/12/2016,720,268,0,0,0,5.1100001335144,0,0\\r\\n3372868164,4/12/2016,1160,280,0,0,0.00999999977648258,3.23000001907349,0,0\\r\\n3372868164,4/13/2016,1045,371,8,16,0.0199999995529652,5.26999998092651,0.340000003576279,0.990000009536743\\r\\n3372868164,4/14/2016,1039,370,25,6,0.00999999977648258,4.65000009536743,1.02999997138977,0.340000003576279\\r\\n3372868164,4/15/2016,1105,335,0,0,0.0199999995529652,5.05999994277954,0,0\\r\\n3372868164,4/16/2016,1084,356,0,0,0.0299999993294477,4.69999980926514,0,0\\r\\n3372868164,4/17/2016,1105,322,2,11,0.00999999977648258,4.3600001335144,0.100000001490116,1.4099999666214\\r\\n3372868164,4/18/2016,1070,343,7,20,0,3.34999990463257,0.200000002980232,1.08000004291534\\r\\n3372868164,4/19/2016,1064,376,0,0,0.0199999995529652,5.23999977111816,0,0\\r\\n3372868164,4/20/2016,1148,274,3,15,0.0199999995529652,2.38000011444092,0.0900000035762787,0.839999973773956\\r\\n3372868164,4/21/2016,1037,376,9,18,0.00999999977648258,4.6399998664856,0.259999990463257,1.14999997615814\\r\\n3372868164,4/22/2016,1234,206,0,0,0.00999999977648258,2.60999989509583,0,0\\r\\n3372868164,4/23/2016,1115,303,2,20,0,3.57999992370605,0.0799999982118607,1.39999997615814\\r\\n3372868164,4/24/2016,1127,292,7,14,0.0199999995529652,3.49000000953674,0.189999997615814,0.889999985694885\\r\\n3372868164,4/25/2016,1024,416,0,0,0,4.09000015258789,0,0\\r\\n3372868164,4/26/2016,1083,333,2,22,0.00999999977648258,3.86999988555908,0.0500000007450581,1.85000002384186\\r\\n3372868164,4/27/2016,1057,346,13,24,0.00999999977648258,3.19000005722046,0.629999995231628,1.58000004291534\\r\\n3372868164,4/28/2016,1055,385,0,0,0,3.75999999046326,0,0\\r\\n3372868164,4/29/2016,1038,402,0,0,0.00999999977648258,6.21999979019165,0,0\\r\\n3372868164,4/30/2016,1119,300,4,17,0.00999999977648258,2.42000007629395,0.0900000035762787,1.05999994277954\\r\\n3372868164,5/1/2016,842,172,0,0,0,2.08999991416931,0,0\\r\\n3977333714,4/12/2016,777,131,19,44,0,2.00999999046326,0.910000026226044,3.05999994277954\\r\\n3977333714,4/13/2016,754,153,46,31,0,2.54999995231628,2.13000011444092,2.02999997138977\\r\\n3977333714,4/14/2016,801,214,23,5,0,3.8199999332428,0.970000028610229,0.319999992847443\\r\\n3977333714,4/15/2016,644,183,42,15,0,3.25999999046326,1.75,1.04999995231628\\r\\n3977333714,4/16/2016,663,153,83,31,0,2.97000002861023,4,2.02999997138977\\r\\n3977333714,4/17/2016,600,205,58,11,0,3.92000007629395,2.34999990463257,0.699999988079071\\r\\n3977333714,4/18/2016,605,214,95,4,0,3.8199999332428,3.73000001907349,0.25\\r\\n3977333714,4/19/2016,738,221,67,19,0,3.96000003814697,2.45000004768372,2.24000000953674\\r\\n3977333714,4/20/2016,845,164,98,2,0,3.27999997138977,4.34999990463257,0.200000002980232\\r\\n3977333714,4/21/2016,712,242,0,0,0,4.05999994277954,0,0\\r\\n3977333714,4/22/2016,731,188,12,33,0,3.05999994277954,0.579999983310699,2.32999992370605\\r\\n3977333714,4/23/2016,724,252,92,0,0,3.84999990463257,4.21999979019165,0\\r\\n3977333714,4/24/2016,660,129,95,30,0,2.17000007629395,4.55999994277954,3.26999998092651\\r\\n3977333714,4/25/2016,781,133,9,50,0,2.41000008583069,0.430000007152557,5.61999988555908\\r\\n3977333714,4/26/2016,797,170,95,7,0,2.95000004768372,4.21999979019165,0.449999988079071\\r\\n3977333714,4/27/2016,714,176,10,0,0,4.61999988555908,0.419999986886978,0\\r\\n3977333714,4/28/2016,804,190,8,15,0,3.22000002861023,0.28999999165535,1.37000000476837\\r\\n3977333714,4/29/2016,744,150,32,36,0,2.71000003814697,1.29999995231628,3.74000000953674\\r\\n3977333714,4/30/2016,687,194,52,43,0,3.41000008583069,2.09999990463257,3.69000005722046\\r\\n3977333714,5/1/2016,691,124,40,41,0,2.41000008583069,1.98000001907349,2.67000007629395\\r\\n3977333714,5/2/2016,713,176,143,24,0,3.01999998092651,6.48000001907349,1.53999996185303\\r\\n3977333714,5/3/2016,594,258,41,47,0,4.53000020980835,1.74000000953674,3.3199999332428\\r\\n3977333714,5/4/2016,852,142,96,14,0,2.89000010490417,4.57999992370605,1.80999994277954\\r\\n3977333714,5/5/2016,680,178,88,14,0,2.71000003814697,4.1100001335144,1.75999999046326\\r\\n3977333714,5/6/2016,676,168,55,29,0,2.67000007629395,2.50999999046326,3.10999989509583\\r\\n3977333714,5/7/2016,703,208,86,0,0,3.58999991416931,4.13000011444092,0\\r\\n3977333714,5/8/2016,688,171,116,9,0,3.17000007629395,5.23999977111816,0.680000007152557\\r\\n3977333714,5/9/2016,1159,151,122,8,0,3.54999995231628,5.59999990463257,0.769999980926514\\r\\n3977333714,5/10/2016,676,196,115,1,0,3.30999994277954,5.40000009536743,0.0700000002980232\\r\\n3977333714,5/11/2016,13,9,0,4,0,0.129999995231628,0,0.370000004768372\\r\\n4020332650,4/12/2016,712,331,15,4,0,5.67999982833862,0.239999994635582,0.150000005960464\\r\\n4020332650,4/13/2016,1440,0,0,0,0,0,0,0\\r\\n4020332650,4/14/2016,1437,3,0,0,0,0.0299999993294477,0,0\\r\\n4020332650,4/15/2016,1299,87,18,36,0,0.769999980926514,0.360000014305115,0.209999993443489\\r\\n4020332650,4/16/2016,1222,55,21,65,0,0.589999973773956,0.370000004768372,0.449999988079071\\r\\n4020332650,4/17/2016,1438,2,0,0,0,0.00999999977648258,0,0\\r\\n4020332650,4/18/2016,1438,2,0,0,0,0.0399999991059303,0,0\\r\\n4020332650,4/19/2016,1440,0,0,0,0,0,0,0\\r\\n4020332650,4/20/2016,1440,0,0,0,0,0,0,0\\r\\n4020332650,4/21/2016,1440,0,0,0,0,0,0,0\\r\\n4020332650,4/22/2016,1440,0,0,0,0,0,0,0\\r\\n4020332650,4/23/2016,1440,0,0,0,0,0,0,0\\r\\n4020332650,4/24/2016,1440,0,0,0,0,0,0,0\\r\\n4020332650,4/25/2016,1440,0,0,0,0,0,0,0\\r\\n4020332650,4/26/2016,1440,0,0,0,0,0,0,0\\r\\n4020332650,4/27/2016,1440,0,0,0,0,0,0,0\\r\\n4020332650,4/28/2016,1440,0,0,0,0,0,0,0\\r\\n4020332650,4/29/2016,1440,0,0,0,0,0,0,0\\r\\n4020332650,4/30/2016,1440,0,0,0,0,0,0,0\\r\\n4020332650,5/1/2016,1440,0,0,0,0,0,0,0\\r\\n4020332650,5/2/2016,1350,31,11,0,0,0.28999999165535,0.0399999991059303,0\\r\\n4020332650,5/3/2016,950,174,0,0,0.0500000007450581,3.15000009536743,0,0\\r\\n4020332650,5/4/2016,531,346,46,13,0,5.57999992370605,1.03999996185303,0.670000016689301\\r\\n4020332650,5/5/2016,916,196,42,38,0.0700000002980232,4.03999996185303,1.67999994754791,2.61999988555908\\r\\n4020332650,5/6/2016,855,177,0,0,0.00999999977648258,3.09999990463257,0,0\\r\\n4020332650,5/7/2016,1256,184,0,0,0,3.57999992370605,0,0\\r\\n4020332650,5/8/2016,775,263,0,0,0,4.15000009536743,0,0\\r\\n4020332650,5/9/2016,1225,173,5,3,0,2.94000005722046,0.119999997317791,0.200000002980232\\r\\n4020332650,5/10/2016,774,206,0,0,0.0399999991059303,3.86999988555908,0,0\\r\\n4020332650,5/11/2016,1296,134,8,2,0,2.32999992370605,0.170000001788139,0.109999999403954\\r\\n4020332650,5/12/2016,721,21,0,0,0,0.409999996423721,0,0\\r\\n4057192912,4/12/2016,1276,164,0,0,0,3.94000005722046,0,0\\r\\n4057192912,4/13/2016,1280,160,0,0,0,4.36999988555908,0,0\\r\\n4057192912,4/14/2016,1440,0,0,0,0,0,0,0\\r\\n4057192912,4/15/2016,873,88,6,3,0,2.44000005722046,0.259999990463257,0.209999993443489\\r\\n4319703577,4/12/2016,1440,0,0,0,0,0,0,0\\r\\n4319703577,4/13/2016,1234,96,15,8,0,1.30999994277954,0.589999973773956,0.529999971389771\\r\\n4319703577,4/14/2016,589,339,9,1,0,6.44000005722046,0.330000013113022,0.109999999403954\\r\\n4319703577,4/15/2016,752,228,0,0,0,3.79999995231628,0,0\\r\\n4319703577,4/16/2016,724,194,0,0,0,3.1800000667572,0,0\\r\\n4319703577,4/17/2016,1363,3,0,0,0,0.0199999995529652,0,0\\r\\n4319703577,4/18/2016,824,58,9,1,0,1.12000000476837,0.330000013113022,0.0700000002980232\\r\\n4319703577,4/19/2016,604,311,0,0,0,5.98999977111816,0,0\\r\\n4319703577,4/20/2016,671,306,18,0,0,5.30999994277954,0.680000007152557,0\\r\\n4319703577,4/21/2016,1265,34,0,0,0,0.349999994039536,0,0\\r\\n4319703577,4/22/2016,709,176,19,1,0,2.15000009536743,0.810000002384186,0.0599999986588955\\r\\n4319703577,4/23/2016,546,233,0,0,0,3.30999994277954,0,0\\r\\n4319703577,4/24/2016,692,191,5,1,0,2.47000002861023,0.200000002980232,0.0599999986588955\\r\\n4319703577,4/25/2016,544,390,8,0,0,5.92999982833862,0.280000001192093,0\\r\\n4319703577,4/26/2016,649,288,21,8,0,5.15000009536743,0.920000016689301,0.569999992847443\\r\\n4319703577,4/27/2016,680,300,47,6,0,4.90999984741211,1.91999995708466,0.409999996423721\\r\\n4319703577,4/28/2016,552,359,8,13,0,5.94000005722046,0.330000013113022,1.00999999046326\\r\\n4319703577,4/29/2016,624,289,18,6,0,4.11999988555908,0.790000021457672,0.449999988079071\\r\\n4319703577,4/30/2016,695,196,38,6,0,3.50999999046326,1.61000001430511,0.400000005960464\\r\\n4319703577,5/1/2016,836,67,0,0,0,0.839999973773956,0,0\\r\\n4319703577,5/2/2016,585,344,11,0,0,5.71000003814697,0.439999997615814,0\\r\\n4319703577,5/3/2016,669,287,26,8,0,4.82999992370605,1.07000005245209,0.579999983310699\\r\\n4319703577,5/4/2016,1106,313,13,8,0,5.84999990463257,0.579999983310699,0.589999973773956\\r\\n4319703577,5/5/2016,957,328,34,27,0,5.44999980926514,1.4099999666214,2.63000011444092\\r\\n4319703577,5/6/2016,692,314,11,6,0,5.46000003814697,0.469999998807907,0.409999996423721\\r\\n4319703577,5/7/2016,586,279,28,3,0,4.07999992370605,1.04999995231628,0.189999997615814\\r\\n4319703577,5/8/2016,603,153,0,0,0,2.46000003814697,0,0\\r\\n4319703577,5/9/2016,490,374,14,2,0,6.25,0.560000002384186,0.140000000596046\\r\\n4319703577,5/10/2016,555,329,12,3,0,5.69999980926514,0.46000000834465,0.209999993443489\\r\\n4319703577,5/11/2016,574,311,18,3,0,5.17999982833862,0.740000009536743,0.200000002980232\\r\\n4319703577,5/12/2016,0,2,0,0,0,0.00999999977648258,0,0\\r\\n4388161847,4/12/2016,1440,0,0,0,0,0,0,0\\r\\n4388161847,4/13/2016,1275,150,14,1,0,3.88000011444092,0.629999995231628,0.0599999986588955\\r\\n4388161847,4/14/2016,945,219,35,10,0,5.61999988555908,1.07000005245209,0.129999995231628\\r\\n4388161847,4/15/2016,837,299,0,0,0,6.73000001907349,0,0\\r\\n4388161847,4/16/2016,609,253,9,6,0,4.44999980926514,0.400000005960464,0.209999993443489\\r\\n4388161847,4/17/2016,721,201,0,0,0,3.57999992370605,0,0\\r\\n4388161847,4/18/2016,1017,239,8,27,0,5.1399998664856,0.400000005960464,3.55999994277954\\r\\n4388161847,4/19/2016,704,249,16,20,0,5.76999998092651,0.689999997615814,1.37000000476837\\r\\n4388161847,4/20/2016,696,228,42,19,0,5.28999996185303,1.72000002861023,1.10000002384186\\r\\n4388161847,4/21/2016,853,272,12,7,0,6.98000001907349,0.389999985694885,0.370000004768372\\r\\n4388161847,4/22/2016,945,220,25,77,0,4.92000007629395,1.11000001430511,3.29999995231628\\r\\n4388161847,4/23/2016,749,215,5,58,0,5.34999990463257,0.319999992847443,4.5\\r\\n4388161847,4/24/2016,584,239,8,14,0,6.30000019073486,0.509999990463257,1.08000004291534\\r\\n4388161847,4/25/2016,1054,301,31,11,0,7.84000015258789,1.39999997615814,0.730000019073486\\r\\n4388161847,4/26/2016,673,224,23,14,0,5.26999998092651,1.05999994277954,0.939999997615814\\r\\n4388161847,4/27/2016,684,241,48,11,0,5.3899998664856,2.50999999046326,0.699999988079071\\r\\n4388161847,4/28/2016,878,234,9,19,0,6.03000020980835,0.430000007152557,1.28999996185303\\r\\n4388161847,4/29/2016,1175,236,16,13,0,5.42000007629395,0.889999985694885,0.800000011920929\\r\\n4388161847,4/30/2016,537,300,43,14,0,6.94000005722046,2,0.699999988079071\\r\\n4388161847,5/1/2016,579,241,15,12,0,6.19999980926514,0.680000007152557,1.00999999046326\\r\\n4388161847,5/2/2016,935,204,4,33,0,4.55000019073486,0.0799999982118607,3.76999998092651\\r\\n4388161847,5/3/2016,984,306,18,18,0,7.88000011444092,0.779999971389771,1.12999999523163\\r\\n4388161847,5/4/2016,632,251,21,35,0,5.80000019073486,0.930000007152557,2.78999996185303\\r\\n4388161847,5/5/2016,896,199,39,12,0,5.09000015258789,1.66999995708466,0.629999995231628\\r\\n4388161847,5/6/2016,1100,262,45,33,0,5.92999982833862,2.08999991416931,2.10999989509583\\r\\n4388161847,5/7/2016,508,260,56,120,0,5.32999992370605,2.76999998092651,9.44999980926514\\r\\n4388161847,5/8/2016,576,178,38,107,0,3.23000001907349,1.25999999046326,9.89000034332275\\r\\n4388161847,5/9/2016,1020,258,19,6,0,6.78999996185303,0.730000019073486,0.340000003576279\\r\\n4388161847,5/10/2016,648,267,14,13,0,6.46000003814697,0.649999976158142,0.810000002384186\\r\\n4388161847,5/11/2016,858,256,18,8,0,6.53000020980835,0.790000021457672,0.529999971389771\\r\\n4388161847,5/12/2016,825,108,0,0,0,2.58999991416931,0,0\\r\\n4445114986,4/12/2016,787,196,0,0,0,2.20000004768372,0,0\\r\\n4445114986,4/13/2016,840,194,0,0,0,1.99000000953674,0,0\\r\\n4445114986,4/14/2016,717,231,0,0,0,2.67000007629395,0,0\\r\\n4445114986,4/15/2016,711,350,0,0,0,4.82999992370605,0,0\\r\\n4445114986,4/16/2016,716,225,0,0,0,2.65000009536743,0,0\\r\\n4445114986,4/17/2016,1219,114,0,0,0,1.51999998092651,0,0\\r\\n4445114986,4/18/2016,1247,162,6,25,0,1.95000004768372,0.28999999165535,2\\r\\n4445114986,4/19/2016,895,121,0,0,0,1.38999998569489,0,0\\r\\n4445114986,4/20/2016,841,137,0,0,0,1.38999998569489,0,0\\r\\n4445114986,4/21/2016,756,215,0,0,0,2.53999996185303,0,0\\r\\n4445114986,4/22/2016,706,317,0,0,0,4.57999992370605,0,0\\r\\n4445114986,4/23/2016,1239,201,0,0,0,2.9300000667572,0,0\\r\\n4445114986,4/24/2016,1196,244,0,0,0,3.35999989509583,0,0\\r\\n4445114986,4/25/2016,916,179,0,0,0,2.26999998092651,0,0\\r\\n4445114986,4/26/2016,839,180,1,29,0,1.96000003814697,0.0399999991059303,2.41000008583069\\r\\n4445114986,4/27/2016,839,194,1,32,0,2.38000011444092,0.0299999993294477,2.61999988555908\\r\\n4445114986,4/28/2016,762,236,0,0,0,3.00999999046326,0,0\\r\\n4445114986,4/29/2016,1106,226,0,0,0,3.13000011444092,0,0\\r\\n4445114986,4/30/2016,797,290,0,0,0,4.17999982833862,0,0\\r\\n4445114986,5/1/2016,741,240,0,0,0,3.50999999046326,0,0\\r\\n4445114986,5/2/2016,667,200,4,27,0,2.34999990463257,0.189999997615814,2.21000003814697\\r\\n4445114986,5/3/2016,725,233,2,30,0,2.57999992370605,0.109999999403954,2.48000001907349\\r\\n4445114986,5/4/2016,897,180,0,0,0,1.96000003814697,0,0\\r\\n4445114986,5/5/2016,734,185,6,2,0,2.1800000667572,0.239999994635582,0.119999997317791\\r\\n4445114986,5/6/2016,809,229,0,0,0,3.02999997138977,0,0\\r\\n4445114986,5/7/2016,866,108,4,26,0,1.25,0.189999997615814,2.13000011444092\\r\\n4445114986,5/8/2016,733,308,8,0,0,4.65000009536743,0.25,0\\r\\n4445114986,5/9/2016,641,266,0,0,0,3.53999996185303,0,0\\r\\n4445114986,5/10/2016,783,231,0,0,0,2.63000011444092,0,0\\r\\n4445114986,5/11/2016,622,232,22,34,0,2.85999989509583,1,2.25\\r\\n4445114986,5/12/2016,380,58,0,0,0,0.519999980926514,0,0\\r\\n4558609924,4/12/2016,1122,318,0,0,0,3.39000010490417,0,0\\r\\n4558609924,4/13/2016,1287,127,7,19,0,1.61000001430511,0.439999997615814,1.24000000953674\\r\\n4558609924,4/14/2016,1161,279,0,0,0,4.48999977111816,0,0\\r\\n4558609924,4/15/2016,1131,262,30,17,0,3.73000001907349,0.839999973773956,0.589999973773956\\r\\n4558609924,4/16/2016,1112,308,12,8,0,3.5,0.75,0.550000011920929\\r\\n4558609924,4/17/2016,1110,304,19,7,0,4.71000003814697,1.13999998569489,0.550000011920929\\r\\n4558609924,4/18/2016,1080,331,15,14,0,4,0.930000007152557,0.980000019073486\\r\\n4558609924,4/19/2016,1182,248,9,1,0,3.16000008583069,0.360000014305115,0.0500000007450581\\r\\n4558609924,4/20/2016,1218,222,0,0,0,3.17000007629395,0,0\\r\\n4558609924,4/21/2016,844,432,21,6,0,7.69999980926514,0.970000028610229,0.419999986886978\\r\\n4558609924,4/22/2016,1122,273,25,20,0,3.47000002861023,1.5,1.37000000476837\\r\\n4558609924,4/23/2016,1122,308,5,5,0,4.01000022888184,0.200000002980232,0.340000003576279\\r\\n4558609924,4/24/2016,1045,395,0,0,0,5.65000009536743,0,0\\r\\n4558609924,4/25/2016,993,340,10,18,0,4.51000022888184,0.25,0.589999973773956\\r\\n4558609924,4/26/2016,1062,283,41,12,0,3.58999991416931,2.02999997138977,0.430000007152557\\r\\n4558609924,4/27/2016,1087,312,14,27,0,3.46000003814697,0.889999985694885,1.96000003814697\\r\\n4558609924,4/28/2016,985,367,11,1,0,5.94999980926514,0.270000010728836,0.0199999995529652\\r\\n4558609924,4/29/2016,1096,197,29,15,0,2.30999994277954,1.85000002384186,1.01999998092651\\r\\n4558609924,4/30/2016,1111,293,29,7,0,4.46000003814697,1.88999998569489,0.469999998807907\\r\\n4558609924,5/1/2016,1121,190,0,0,0,2.26999998092651,0,0\\r\\n4558609924,5/2/2016,1057,383,0,0,0,5.21999979019165,0,0\\r\\n4558609924,5/3/2016,1172,237,10,21,0,2.59999990463257,0.280000001192093,0.600000023841858\\r\\n4558609924,5/4/2016,1188,252,0,0,0,3.46000003814697,0,0\\r\\n4558609924,5/5/2016,1048,370,8,14,0,5.51000022888184,0.5,1.00999999046326\\r\\n4558609924,5/6/2016,1238,202,0,0,0,2.48000001907349,0,0\\r\\n4558609924,5/7/2016,1116,233,16,23,0,2.82999992370605,1,1.61000001430511\\r\\n4558609924,5/8/2016,1019,238,35,66,0,2.01999998092651,0.5,1.79999995231628\\r\\n4558609924,5/9/2016,1065,339,30,6,0,5.51999998092651,1.62000000476837,0.430000007152557\\r\\n4558609924,5/10/2016,1191,220,18,11,0,2.39000010490417,1.12000000476837,0.740000009536743\\r\\n4558609924,5/11/2016,1081,324,31,4,0,3.94000005722046,1.82000005245209,0.259999990463257\\r\\n4558609924,5/12/2016,736,247,0,0,0,4.17000007629395,0,0\\r\\n4702921684,4/12/2016,718,263,0,0,0,5.84999990463257,0,0\\r\\n4702921684,4/13/2016,777,258,0,0,0,5.57999992370605,0,0\\r\\n4702921684,4/14/2016,772,271,0,0,0,6.36999988555908,0,0\\r\\n4702921684,4/15/2016,944,256,8,1,0,4.78999996185303,0.419999986886978,0.0700000002980232\\r\\n4702921684,4/16/2016,556,335,24,3,0,7.53999996185303,1.25,0.239999994635582\\r\\n4702921684,4/17/2016,437,302,66,12,0,5.88000011444092,3.46000003814697,0.959999978542328\\r\\n4702921684,4/18/2016,890,191,30,22,0,4.07000017166138,1.49000000953674,1.82000005245209\\r\\n4702921684,4/19/2016,757,179,8,10,0,4.19000005722046,0.370000004768372,0.879999995231628\\r\\n4702921684,4/20/2016,717,260,29,2,0,5.73000001907349,1.23000001907349,0.159999996423721\\r\\n4702921684,4/21/2016,901,144,41,4,0,2.94000005722046,2.04999995231628,0.310000002384186\\r\\n4702921684,4/22/2016,1341,72,0,0,0,1.35000002384186,0,0\\r\\n4702921684,4/23/2016,469,408,66,9,0,8.27000045776367,3.24000000953674,0.759999990463257\\r\\n4702921684,4/24/2016,542,281,95,15,0,5.88000011444092,5.11999988555908,1.20000004768372\\r\\n4702921684,4/25/2016,730,270,15,6,0,6.1100001335144,0.819999992847443,0.490000009536743\\r\\n4702921684,4/26/2016,765,216,8,1,0,4.53999996185303,0.349999994039536,0.0700000002980232\\r\\n4702921684,4/27/2016,733,238,16,1,0,4.78000020980835,0.800000011920929,0.0900000035762787\\r\\n4702921684,4/28/2016,738,232,9,14,0,5.76999998092651,0.419999986886978,1.12999999523163\\r\\n4702921684,4/29/2016,692,267,19,12,0,6.07000017166138,0.920000016689301,1.05999994277954\\r\\n4702921684,4/30/2016,728,263,36,4,0,5.88000011444092,2.02999997138977,0.319999992847443\\r\\n4702921684,5/1/2016,1440,0,0,0,0,0,0,0\\r\\n4702921684,5/2/2016,1131,195,40,5,0,3.75999999046326,1.74000000953674,0.379999995231628\\r\\n4702921684,5/3/2016,729,313,0,0,0,7.67000007629395,0,0\\r\\n4702921684,5/4/2016,757,251,15,4,0,5.53999996185303,0.730000019073486,0.340000003576279\\r\\n4702921684,5/5/2016,745,241,5,8,0,6.09000015258789,0.219999998807907,0.670000016689301\\r\\n4702921684,5/6/2016,682,207,16,1,0,4.86999988555908,0.660000026226044,0.0799999982118607\\r\\n4702921684,5/7/2016,577,439,46,5,0,8.97000026702881,2.30999994277954,0.370000004768372\\r\\n4702921684,5/8/2016,1019,192,125,9,0,3.53999996185303,6.21000003814697,0.680000007152557\\r\\n4702921684,5/9/2016,746,253,12,0,0,6.09999990463257,0.569999992847443,0\\r\\n4702921684,5/10/2016,701,262,37,1,0,6.65000009536743,1.87999999523163,0.0799999982118607\\r\\n4702921684,5/11/2016,784,235,41,10,0,4.98000001907349,2.16000008583069,0.779999971389771\\r\\n4702921684,5/12/2016,241,68,0,0,0,2.23000001907349,0,0\\r\\n5553957443,4/12/2016,767,277,13,19,0,5.40999984741211,0.790000021457672,1.37000000476837\\r\\n5553957443,4/13/2016,647,226,0,0,0,3.16000008583069,0,0\\r\\n5553957443,4/14/2016,693,256,41,61,0,4.67000007629395,2.45000004768372,4\\r\\n5553957443,4/15/2016,689,239,38,58,0,4.71000003814697,1.98000001907349,4.15999984741211\\r\\n5553957443,4/16/2016,521,288,0,0,0,3.76999998092651,0,0\\r\\n5553957443,4/17/2016,943,46,0,0,0,0.430000007152557,0,0\\r\\n5553957443,4/18/2016,622,206,0,0,0,2.4300000667572,0,0\\r\\n5553957443,4/19/2016,756,249,28,69,0,4.17999982833862,1.6599999666214,4.28000020980835\\r\\n5553957443,4/20/2016,598,148,0,0,0,1.76999998092651,0,0\\r\\n5553957443,4/21/2016,801,177,42,47,0,2.96000003814697,2.16000008583069,2.95000004768372\\r\\n5553957443,4/22/2016,781,270,16,25,0,5.59999990463257,0.629999995231628,1.37999999523163\\r\\n5553957443,4/23/2016,443,272,0,0,0,2.6800000667572,0,0\\r\\n5553957443,4/24/2016,582,104,0,0,0,1.17999994754791,0,0\\r\\n5553957443,4/25/2016,732,201,11,51,0,3.69000005722046,0.569999992847443,2.9300000667572\\r\\n5553957443,4/26/2016,750,238,18,40,0,4.46000003814697,0.930000007152557,2.36999988555908\\r\\n5553957443,4/27/2016,745,206,16,16,0,4.73999977111816,1,1.13999998569489\\r\\n5553957443,4/28/2016,727,165,13,49,0,3.17000007629395,0.75,3.71000003814697\\r\\n5553957443,4/29/2016,709,270,15,46,0,4.90999984741211,0.639999985694885,2.78999996185303\\r\\n5553957443,4/30/2016,506,84,0,0,0,0.779999971389771,0,0\\r\\n5553957443,5/1/2016,436,237,0,0,0,3.36999988555908,0,0\\r\\n5553957443,5/2/2016,724,227,9,23,0,4.90000009536743,0.409999996423721,1.05999994277954\\r\\n5553957443,5/3/2016,812,247,29,26,0,5.67999982833862,1.20000004768372,1.5\\r\\n5553957443,5/4/2016,651,224,0,0,0,2.76999998092651,0,0\\r\\n5553957443,5/5/2016,692,241,29,44,0,4.42999982833862,1.6599999666214,3.4300000667572\\r\\n5553957443,5/6/2016,761,229,9,21,0,4.23000001907349,0.540000021457672,1.51999998092651\\r\\n5553957443,5/7/2016,902,96,0,0,0,1.22000002861023,0,0\\r\\n5553957443,5/8/2016,505,210,8,3,0,3.29999995231628,0.469999998807907,0.219999998807907\\r\\n5553957443,5/9/2016,667,251,22,59,0,4.55999994277954,0.889999985694885,2.13000011444092\\r\\n5553957443,5/10/2016,707,265,40,61,0,5.19999980926514,1.61000001430511,3.86999988555908\\r\\n5553957443,5/11/2016,628,195,0,0,0,3.22000002861023,0,0\\r\\n5553957443,5/12/2016,222,48,6,8,0,1.05999994277954,0.400000005960464,0.579999983310699\\r\\n5577150313,4/12/2016,728,140,16,86,0,2.09999990463257,0.379999995231628,3.59999990463257\\r\\n5577150313,4/13/2016,776,144,11,15,0,3.25,0.219999998807907,0.319999992847443\\r\\n5577150313,4/14/2016,662,176,30,118,0,2.77999997138977,0.310000002384186,3.32999992370605\\r\\n5577150313,4/15/2016,695,199,54,115,0,3.55999994277954,1.60000002384186,3.92000007629395\\r\\n5577150313,4/16/2016,472,158,56,184,0,2.73000001907349,1.27999997138977,6.6399998664856\\r\\n5577150313,4/17/2016,525,159,37,200,0,2.3199999332428,0.829999983310699,5.98000001907349\\r\\n5577150313,4/18/2016,623,130,32,114,0,1.82000005245209,0.720000028610229,4.8600001335144\\r\\n5577150313,4/19/2016,733,111,23,108,0,1.75999999046326,0.639999985694885,7.01999998092651\\r\\n5577150313,4/20/2016,773,113,16,87,0,1.75999999046326,0.340000003576279,4.11999988555908\\r\\n5577150313,4/21/2016,670,175,74,110,0,2.77999997138977,1.6599999666214,3.65000009536743\\r\\n5577150313,4/22/2016,823,200,30,62,0,3.29999995231628,0.790000021457672,2.42000007629395\\r\\n5577150313,4/23/2016,627,223,24,24,0,4.1399998664856,0.360000014305115,1.21000003814697\\r\\n5577150313,4/24/2016,425,141,65,210,0,1.98000001907349,2.15000009536743,7.65000009536743\\r\\n5577150313,4/25/2016,743,214,38,61,0,2.75999999046326,0.670000016689301,1.35000002384186\\r\\n5577150313,4/26/2016,759,181,32,38,0,2.47000002861023,0.649999976158142,0.850000023841858\\r\\n5577150313,4/27/2016,773,190,16,63,0,2.9300000667572,0.400000005960464,1.80999994277954\\r\\n5577150313,4/28/2016,692,141,51,99,0,3.00999999046326,1.16999995708466,3.25\\r\\n5577150313,4/29/2016,739,165,36,97,0,2.47000002861023,0.610000014305115,2.83999991416931\\r\\n5577150313,4/30/2016,621,163,45,207,0,2.60999989509583,0.790000021457672,5.82999992370605\\r\\n5577150313,5/1/2016,499,178,72,194,0,3.24000000953674,1.44000005722046,5.30999994277954\\r\\n5577150313,5/2/2016,732,235,20,37,0,4.07000017166138,0.349999994039536,1.12000000476837\\r\\n5577150313,5/3/2016,580,212,8,97,0,3.5699999332428,0.150000005960464,4.51999998092651\\r\\n5577150313,5/4/2016,631,141,9,25,0,2.07999992370605,0.25,1.55999994277954\\r\\n5577150313,5/5/2016,1153,143,21,45,0,2.67000007629395,0.469999998807907,2.5\\r\\n5577150313,5/6/2016,1304,79,16,41,0,1.45000004768372,0.319999992847443,1.92999994754791\\r\\n5577150313,5/7/2016,1440,0,0,0,0,0,0,0\\r\\n5577150313,5/8/2016,1440,0,0,0,0,0,0,0\\r\\n5577150313,5/9/2016,1099,70,11,34,0,0.990000009536743,0.140000000596046,1.42999994754791\\r\\n5577150313,5/10/2016,639,194,37,104,0,3.34999990463257,0.75,2.55999994277954\\r\\n5577150313,5/11/2016,257,63,15,45,0,0.889999985694885,0.300000011920929,1.83000004291534\\r\\n6117666160,4/12/2016,1440,0,0,0,0,0,0,0\\r\\n6117666160,4/13/2016,1440,0,0,0,0,0,0,0\\r\\n6117666160,4/14/2016,1440,0,0,0,0,0,0,0\\r\\n6117666160,4/15/2016,921,513,6,0,0,10.3000001907349,0.280000001192093,0\\r\\n6117666160,4/16/2016,502,518,15,7,0,9.47999954223633,0.850000023841858,0.579999983310699\\r\\n6117666160,4/17/2016,702,312,0,0,0,5.40000009536743,0,0\\r\\n6117666160,4/18/2016,759,241,0,0,0,3.89000010490417,0,0\\r\\n6117666160,4/19/2016,425,480,0,0,0,8.40999984741211,0,0\\r\\n6117666160,4/20/2016,587,349,10,26,0,5.51999998092651,0.479999989271164,2.02999997138977\\r\\n6117666160,4/21/2016,579,294,19,11,0,5.61999988555908,0.400000005960464,0.980000019073486\\r\\n6117666160,4/22/2016,413,402,0,0,0,6.19999980926514,0,0\\r\\n6117666160,4/23/2016,468,512,0,0,0,8.68000030517578,0,0\\r\\n6117666160,4/24/2016,711,362,0,0,0,5.76000022888184,0,0\\r\\n6117666160,4/25/2016,1440,0,0,0,0,0,0,0\\r\\n6117666160,4/26/2016,1077,352,7,0,0,6.86999988555908,0.340000003576279,0\\r\\n6117666160,4/27/2016,417,458,0,0,0,7.1100001335144,0,0\\r\\n6117666160,4/28/2016,758,141,0,0,0,2.59999990463257,0,0\\r\\n6117666160,4/29/2016,479,461,0,0,0,7.23999977111816,0,0\\r\\n6117666160,4/30/2016,1040,343,0,0,0,5.28000020980835,0,0\\r\\n6117666160,5/1/2016,525,397,0,0,0,6.73000001907349,0,0\\r\\n6117666160,5/2/2016,1204,236,0,0,0,3.73000001907349,0,0\\r\\n6117666160,5/3/2016,1440,0,0,0,0,0,0,0\\r\\n6117666160,5/4/2016,1279,156,0,0,0,2.25999999046326,0,0\\r\\n6117666160,5/5/2016,479,487,0,0,0,7.40000009536743,0,0\\r\\n6117666160,5/6/2016,673,133,0,0,0,2.6800000667572,0,0\\r\\n6117666160,5/7/2016,456,412,0,0,0,5.53999996185303,0,0\\r\\n6117666160,5/8/2016,517,318,0,0,0,5.53000020980835,0,0\\r\\n6117666160,5/9/2016,125,197,0,0,0,3.38000011444092,0,0\\r\\n6290855005,4/12/2016,1241,199,0,0,0,3.45000004768372,0,0\\r\\n6290855005,4/13/2016,1090,350,0,0,0.00999999977648258,5.3899998664856,0,0\\r\\n6290855005,4/14/2016,1077,363,0,0,0.0299999993294477,5.76999998092651,0,0\\r\\n6290855005,4/15/2016,1112,328,0,0,0.00999999977648258,7.17000007629395,0,0\\r\\n6290855005,4/16/2016,1182,258,0,0,0.00999999977648258,6.26999998092651,0,0\\r\\n6290855005,4/17/2016,1172,225,12,31,0,4,0.790000021457672,1.13999998569489\\r\\n6290855005,4/18/2016,1169,271,0,0,0.0199999995529652,5.19000005722046,0,0\\r\\n6290855005,4/19/2016,1119,321,0,0,0.00999999977648258,5.3899998664856,0,0\\r\\n6290855005,4/20/2016,1182,258,0,0,0.00999999977648258,4.80000019073486,0,0\\r\\n6290855005,4/21/2016,1440,0,0,0,0,0,0,0\\r\\n6290855005,4/22/2016,1138,302,0,0,0,4.71999979019165,0,0\\r\\n6290855005,4/23/2016,1407,0,0,33,0,0,0,0\\r\\n6290855005,4/24/2016,1182,258,0,0,0,4.46000003814697,0,0\\r\\n6290855005,4/25/2016,1180,249,3,8,0.00999999977648258,5.03000020980835,0.180000007152557,0.680000007152557\\r\\n6290855005,4/26/2016,1440,0,0,0,0,0,0,0\\r\\n6290855005,4/27/2016,1153,287,0,0,0.0299999993294477,4.17999982833862,0,0\\r\\n6290855005,4/28/2016,1185,255,0,0,0,4.32999992370605,0,0\\r\\n6290855005,4/29/2016,1440,0,0,0,0,0,0,0\\r\\n6290855005,4/30/2016,1116,324,0,0,0.00999999977648258,5.09000015258789,0,0\\r\\n6290855005,5/1/2016,1055,282,95,8,0.0199999995529652,4,2.75,0.660000026226044\\r\\n6290855005,5/2/2016,1172,268,0,0,0.0199999995529652,5.1100001335144,0,0\\r\\n6290855005,5/3/2016,1200,240,0,0,0,4.57000017166138,0,0\\r\\n6290855005,5/4/2016,1168,272,0,0,0.00999999977648258,4.40000009536743,0,0\\r\\n6290855005,5/5/2016,1201,239,0,0,0,4.78999996185303,0,0\\r\\n6290855005,5/6/2016,1135,305,0,0,0.0299999993294477,4.59000015258789,0,0\\r\\n6290855005,5/7/2016,1213,227,0,0,0,4.15999984741211,0,0\\r\\n6290855005,5/8/2016,1189,251,0,0,0,5.82000017166138,0,0\\r\\n6290855005,5/9/2016,800,264,0,0,0.0199999995529652,4.73000001907349,0,0\\r\\n6290855005,5/10/2016,1440,0,0,0,0,0,0,0\\r\\n6775888955,4/12/2016,1440,0,0,0,0,0,0,0\\r\\n6775888955,4/13/2016,1053,85,18,17,0,1.22000002861023,0.579999983310699,1.11000001430511\\r\\n6775888955,4/14/2016,863,105,24,14,0,1.97000002861023,0.860000014305115,0.870000004768372\\r\\n6775888955,4/15/2016,976,58,0,0,0,0.920000016689301,0,0\\r\\n6775888955,4/16/2016,1377,9,18,36,0,0.0599999986588955,0.810000002384186,2.51999998092651\\r\\n6775888955,4/17/2016,1392,19,24,5,0,0.310000002384186,1.12999999523163,0.349999994039536\\r\\n6775888955,4/18/2016,1233,146,31,30,0,3.17000007629395,0.769999980926514,2\\r\\n6775888955,4/19/2016,1440,0,0,0,0,0,0,0\\r\\n6775888955,4/20/2016,1079,178,113,70,0,2.22000002861023,1.74000000953674,3.76999998092651\\r\\n6775888955,4/21/2016,1440,0,0,0,0,0,0,0\\r\\n6775888955,4/22/2016,1420,20,0,0,0,0.46000000834465,0,0\\r\\n6775888955,4/23/2016,1440,0,0,0,0,0,0,0\\r\\n6775888955,4/24/2016,1400,11,18,11,0,0.150000005960464,0.620000004768372,0.769999980926514\\r\\n6775888955,4/25/2016,1302,92,13,33,0,1.89999997615814,0.46000000834465,2.26999998092651\\r\\n6775888955,4/26/2016,1321,47,30,42,0,0.730000019073486,0.870000004768372,3.48000001907349\\r\\n6775888955,4/27/2016,1440,0,0,0,0,0,0,0\\r\\n6775888955,4/28/2016,1410,15,13,2,0,0.239999994635582,0.200000002980232,0.0599999986588955\\r\\n6775888955,4/29/2016,1440,0,0,0,0,0,0,0\\r\\n6775888955,4/30/2016,1344,84,9,3,0,1.48000001907349,0.159999996423721,0.159999996423721\\r\\n6775888955,5/1/2016,1347,50,34,9,0,0.680000007152557,0.620000004768372,0.479999989271164\\r\\n6775888955,5/2/2016,1440,0,0,0,0,0,0,0\\r\\n6775888955,5/3/2016,1439,1,0,0,0,0.00999999977648258,0,0\\r\\n6775888955,5/4/2016,1440,0,0,0,0,0,0,0\\r\\n6775888955,5/5/2016,1440,0,0,0,0,0,0,0\\r\\n6775888955,5/6/2016,1318,75,35,12,0,1.92999994754791,0.930000007152557,0.469999998807907\\r\\n6775888955,5/7/2016,551,49,5,2,0,1.04999995231628,0.239999994635582,0.129999995231628\\r\\n6962181067,4/12/2016,796,189,14,50,0,2.50999999046326,0.829999983310699,3.40000009536743\\r\\n6962181067,4/13/2016,548,142,24,8,0,1.96000003814697,1.21000003814697,0.569999992847443\\r\\n6962181067,4/14/2016,862,86,0,0,0,1.02999997138977,0,0\\r\\n6962181067,4/15/2016,837,217,0,0,0,3.6800000667572,0,0\\r\\n6962181067,4/16/2016,741,280,3,50,0,4.88000011444092,0.189999997615814,3.66000008583069\\r\\n6962181067,4/17/2016,634,295,13,5,0,5.69000005722046,0.680000007152557,0.330000013113022\\r\\n6962181067,4/18/2016,689,238,42,13,0,4.32000017166138,2.39000010490417,0.829999983310699\\r\\n6962181067,4/19/2016,659,195,41,35,0,2.86999988555908,2.13000011444092,2.09999990463257\\r\\n6962181067,4/20/2016,639,297,4,48,0,5.09000015258789,0.189999997615814,4.28000020980835\\r\\n6962181067,4/21/2016,708,214,27,53,0.109999999403954,3.50999999046326,2.09999990463257,3.99000000953674\\r\\n6962181067,4/22/2016,659,240,33,30,0,3.76999998092651,1.54999995231628,1.76999998092651\\r\\n6962181067,4/23/2016,484,347,41,58,0,7.03999996185303,2,4.19999980926514\\r\\n6962181067,4/24/2016,720,199,0,0,0,3.3199999332428,0,0\\r\\n6962181067,4/25/2016,637,282,31,35,0.100000001490116,4.46000003814697,1.67999994754791,3.01999998092651\\r\\n6962181067,4/26/2016,680,254,7,36,0,3.90000009536743,0.419999986886978,2.57999992370605\\r\\n6962181067,4/27/2016,697,279,38,7,0,4.25,2.01999998092651,0.550000011920929\\r\\n6962181067,4/28/2016,621,288,8,38,0,5.59000015258789,0.239999994635582,2.50999999046326\\r\\n6962181067,4/29/2016,645,369,15,12,0,5.80999994277954,0.479999989271164,0.819999992847443\\r\\n6962181067,4/30/2016,731,237,16,32,0,3.67000007629395,0.759999990463257,2.24000000953674\\r\\n6962181067,5/1/2016,722,215,0,0,0,3.60999989509583,0,0\\r\\n6962181067,5/2/2016,655,313,39,18,0,5.34000015258789,2,1.20000004768372\\r\\n6962181067,5/3/2016,654,267,36,21,0,4.32999992370605,2.03999996185303,1.74000000953674\\r\\n6962181067,5/4/2016,683,284,36,15,0,4.55000019073486,1.67999994754791,0.469999998807907\\r\\n6962181067,5/5/2016,591,305,22,14,0,4.80999994277954,1.1599999666214,0.990000009536743\\r\\n6962181067,5/6/2016,717,299,0,0,0,3.91000008583069,0,0\\r\\n6962181067,5/7/2016,745,328,0,0,0,4.5,0,0\\r\\n6962181067,5/8/2016,709,151,14,0,0,2.25,0.519999980926514,0\\r\\n6962181067,5/9/2016,607,231,21,43,0,3.65000009536743,1.17999994754791,3.90000009536743\\r\\n6962181067,5/10/2016,626,275,34,62,0,4.98999977111816,1.75,3.47000002861023\\r\\n6962181067,5/11/2016,709,199,7,24,0,2.65000009536743,0.310000002384186,1.49000000953674\\r\\n6962181067,5/12/2016,127,105,8,0,0,2.10999989509583,0.25,0\\r\\n7007744171,4/12/2016,1024,355,8,53,0,5.40999984741211,0.379999995231628,4.5\\r\\n7007744171,4/13/2016,1101,261,22,56,0,4.48000001907349,0.560000002384186,4.6100001335144\\r\\n7007744171,4/14/2016,1096,304,6,34,0,4.96000003814697,0.340000003576279,2.95000004768372\\r\\n7007744171,4/15/2016,1238,202,0,0,0,3.52999997138977,0,0\\r\\n7007744171,4/16/2016,1155,203,0,0,0,3.09999990463257,0,0\\r\\n7007744171,4/17/2016,1135,305,0,0,0,5.3899998664856,0,0\\r\\n7007744171,4/18/2016,1077,284,31,48,0.0199999995529652,5.05000019073486,2.11999988555908,3.78999996185303\\r\\n7007744171,4/19/2016,1066,304,17,53,0,5.30999994277954,0.759999990463257,4.40999984741211\\r\\n7007744171,4/20/2016,1000,347,33,60,0,5.8600001335144,0.670000016689301,4.78999996185303\\r\\n7007744171,4/21/2016,1049,327,34,30,0,5.17000007629395,1.87000000476837,2.15000009536743\\r\\n7007744171,4/22/2016,1065,261,50,64,0,4.36999988555908,1.75999999046326,4.09999990463257\\r\\n7007744171,4/23/2016,1190,223,25,2,0,4.15000009536743,1.12999999523163,0.129999995231628\\r\\n7007744171,4/24/2016,1021,419,0,0,0,7.42000007629395,0,0\\r\\n7007744171,4/25/2016,986,379,24,51,0,7.67000007629395,1.37000000476837,4.30999994277954\\r\\n7007744171,4/26/2016,978,424,22,16,0,8.22999954223633,0.939999997615814,0.930000007152557\\r\\n7007744171,4/27/2016,1041,337,12,50,0,5.28999996185303,0.660000026226044,4.26999998092651\\r\\n7007744171,4/28/2016,1007,401,16,16,0,8.26000022888184,0.769999980926514,1.0900000333786\\r\\n7007744171,4/29/2016,961,382,42,55,0,7.94999980926514,2.04999995231628,4.30999994277954\\r\\n7007744171,4/30/2016,1240,200,0,0,0,2.51999998092651,0,0\\r\\n7007744171,5/1/2016,1142,237,0,0,0,3.75,0,0\\r\\n7007744171,5/2/2016,1112,250,14,64,0,3.82999992370605,0.699999988079071,4.6399998664856\\r\\n7007744171,5/3/2016,1021,330,31,58,0,5.3600001335144,1.01999998092651,4.48000001907349\\r\\n7007744171,5/4/2016,1440,0,0,0,0,0,0,0\\r\\n7007744171,5/5/2016,1047,317,23,53,0,5.48000001907349,1.28999996185303,4.32999992370605\\r\\n7007744171,5/6/2016,1136,247,13,44,0,3.85999989509583,0.810000002384186,3\\r\\n7007744171,5/7/2016,111,0,0,0,0,0,0,0\\r\\n7086361926,4/12/2016,745,153,6,59,0,2.97000002861023,0.150000005960464,5.26999998092651\\r\\n7086361926,4/13/2016,744,155,26,31,0,2.83999991416931,0.209999993443489,0.560000002384186\\r\\n7086361926,4/14/2016,787,189,32,35,0,3.66000008583069,0.330000013113022,2.02999997138977\\r\\n7086361926,4/15/2016,864,139,21,30,0,2.52999997138977,1.11000001430511,2.03999996185303\\r\\n7086361926,4/16/2016,1437,3,0,0,0,0.00999999977648258,0,0\\r\\n7086361926,4/17/2016,1440,0,0,0,0,0,0,0\\r\\n7086361926,4/18/2016,1136,114,51,61,0,2.30999994277954,1.22000002861023,3.17000007629395\\r\\n7086361926,4/19/2016,671,124,69,67,0,2.50999999046326,1.23000001907349,3.52999997138977\\r\\n7086361926,4/20/2016,797,145,13,87,0,2.53999996185303,0.449999988079071,7.6399998664856\\r\\n7086361926,4/21/2016,758,206,6,19,0,4.51000022888184,0.300000011920929,1.36000001430511\\r\\n7086361926,4/22/2016,762,153,59,58,0,2.67000007629395,0.970000028610229,2.86999988555908\\r\\n7086361926,4/23/2016,1350,90,0,0,0,1.79999995231628,0,0\\r\\n7086361926,4/24/2016,566,125,0,0,0,2.15000009536743,0,0\\r\\n7086361926,4/25/2016,706,129,39,69,0,2.36999988555908,0.699999988079071,3.75\\r\\n7086361926,4/26/2016,726,132,33,70,0,2.11999988555908,0.769999980926514,4.15999984741211\\r\\n7086361926,4/27/2016,829,145,6,55,0,2.52999997138977,0.180000007152557,5.63000011444092\\r\\n7086361926,4/28/2016,810,161,48,54,0,3.35999989509583,1.63999998569489,2.78999996185303\\r\\n7086361926,4/29/2016,1198,182,36,24,0,4,0.449999988079071,0.490000009536743\\r\\n7086361926,4/30/2016,584,308,17,42,0,5.23999977111816,1.03999996185303,3.11999988555908\\r\\n7086361926,5/1/2016,685,258,15,30,0,4.84999990463257,0.899999976158142,2.29999995231628\\r\\n7086361926,5/2/2016,737,139,26,66,0,2.66000008583069,0.660000026226044,3.48000001907349\\r\\n7086361926,5/3/2016,761,152,36,57,0,3.16000008583069,0.850000023841858,2.74000000953674\\r\\n7086361926,5/4/2016,843,135,12,45,0,2.90000009536743,0.119999997317791,5.28000020980835\\r\\n7086361926,5/5/2016,1253,149,14,24,0,2.95000004768372,0.829999983310699,1.77999997138977\\r\\n7086361926,5/6/2016,834,154,35,84,0,3.11999988555908,1.42999994754791,3.8199999332428\\r\\n7086361926,5/7/2016,621,209,42,20,0,4.67999982833862,2.32999992370605,1.46000003814697\\r\\n7086361926,5/8/2016,695,147,27,32,0,3.25,1.52999997138977,2.30999994277954\\r\\n7086361926,5/9/2016,743,171,50,67,0,3.11999988555908,1.71000003814697,4.26000022888184\\r\\n7086361926,5/10/2016,1182,106,23,72,0,2.45000004768372,1.20000004768372,7.1100001335144\\r\\n7086361926,5/11/2016,757,128,40,57,0,2.23000001907349,1.38999998569489,2.89000010490417\\r\\n7086361926,5/12/2016,343,58,4,5,0,1.88999998569489,0.270000010728836,0.379999995231628\\r\\n8053475328,4/12/2016,1193,123,8,116,0,2.09999990463257,0.389999985694885,11.6400003433228\\r\\n8053475328,4/13/2016,1177,156,12,95,0,2.45000004768372,0.469999998807907,10.4300003051758\\r\\n8053475328,4/14/2016,1123,193,5,119,0,3.35999989509583,0.209999993443489,12.3400001525879\\r\\n8053475328,4/15/2016,1142,158,8,132,0,2.58999991416931,0.389999985694885,13.2600002288818\\r\\n8053475328,4/16/2016,1255,83,6,96,0,1.49000000953674,0.270000010728836,9.35999965667725\\r\\n8053475328,4/17/2016,1113,195,21,111,0,3.64000010490417,0.800000011920929,9.23999977111816\\r\\n8053475328,4/18/2016,1137,195,6,102,0,3.34999990463257,0.230000004172325,9.07999992370605\\r\\n8053475328,4/19/2016,1152,191,7,90,0,2.95000004768372,0.310000002384186,9.22000026702881\\r\\n8053475328,4/20/2016,695,158,5,89,0,2.38000011444092,0.230000004172325,9.57999992370605\\r\\n8053475328,4/21/2016,1164,170,6,100,0,2.57999992370605,0.25,9.67000007629395\\r\\n8053475328,4/22/2016,1260,117,3,60,0,1.87999999523163,0.150000005960464,6.26000022888184\\r\\n8053475328,4/23/2016,741,223,14,125,0,4.01999998092651,0.629999995231628,12.539999961853\\r\\n8053475328,4/24/2016,1096,182,33,129,0,3.25999999046326,1.54999995231628,13.1300001144409\\r\\n8053475328,4/25/2016,1104,209,9,118,0,3.85999989509583,0.46000000834465,11.3699998855591\\r\\n8053475328,4/26/2016,1182,185,5,68,0,3.09999990463257,0.200000002980232,6.30999994277954\\r\\n8053475328,4/27/2016,1187,183,10,60,0,2.9300000667572,0.430000007152557,6.46000003814697\\r\\n8053475328,4/28/2016,1188,153,9,90,0,2.34999990463257,0.389999985694885,9.67000007629395\\r\\n8053475328,4/29/2016,1215,159,8,58,0,3.17000007629395,0.310000002384186,6.17000007629395\\r\\n8053475328,4/30/2016,1281,131,1,27,0,2.53999996185303,0.0599999986588955,2.99000000953674\\r\\n8053475328,5/1/2016,1389,51,0,0,0,0.850000023841858,0,0\\r\\n8053475328,5/2/2016,1345,95,0,0,0,1.42999994754791,0,0\\r\\n8053475328,5/3/2016,1166,165,22,87,0,2.58999991416931,0.930000007152557,8.39000034332275\\r\\n8053475328,5/4/2016,1220,123,8,89,0,1.9099999666214,0.400000005960464,8.81999969482422\\r\\n8053475328,5/5/2016,1208,130,9,93,0,2.21000003814697,0.449999988079071,8.85000038146973\\r\\n8053475328,5/6/2016,1245,90,15,90,0,1.21000003814697,0.689999997615814,9.10000038146973\\r\\n8053475328,5/7/2016,1076,148,20,121,0,2.34999990463257,0.879999995231628,12.4399995803833\\r\\n8053475328,5/8/2016,1073,228,14,125,0,3.66000008583069,0.589999973773956,13.3999996185303\\r\\n8053475328,5/9/2016,1214,148,12,66,0,2.69000005722046,0.569999992847443,6.11999988555908\\r\\n8053475328,5/10/2016,1219,115,10,96,0,1.85000002384186,0.419999986886978,9.09000015258789\\r\\n8053475328,5/11/2016,1189,184,7,60,0,3.03999996185303,0.280000001192093,6.07999992370605\\r\\n8053475328,5/12/2016,839,39,4,28,0,0.759999990463257,0.200000002980232,2.95000004768372\\r\\n8253242879,4/12/2016,1244,154,2,40,0,1.5900000333786,0.140000000596046,5.42999982833862\\r\\n8253242879,4/13/2016,1298,96,11,35,0,1.30999994277954,0.629999995231628,4.17000007629395\\r\\n8253242879,4/14/2016,1362,33,16,29,0,0.540000021457672,0.990000009536743,1.92999994754791\\r\\n8253242879,4/15/2016,1335,105,0,0,0,1.75999999046326,0,0\\r\\n8253242879,4/16/2016,1268,115,51,6,0,2.45000004768372,3.26999998092651,0.430000007152557\\r\\n8253242879,4/17/2016,1237,157,5,41,0,2.32999992370605,0.150000005960464,5.42999982833862\\r\\n8253242879,4/18/2016,1278,130,16,16,0,1.79999995231628,0.629999995231628,1.03999996185303\\r\\n8253242879,4/19/2016,1276,164,0,0,0,2.77999997138977,0,0\\r\\n8253242879,4/20/2016,1201,216,18,5,0.00999999977648258,3.10999989509583,0.819999992847443,0.330000013113022\\r\\n8253242879,4/21/2016,1199,172,20,49,0,1.75,0.930000007152557,5.88000011444092\\r\\n8253242879,4/22/2016,1320,120,0,0,0,1.87000000476837,0,0\\r\\n8253242879,4/23/2016,1193,191,26,30,0,3.13000011444092,1.03999996185303,2.08999991416931\\r\\n8253242879,4/24/2016,1313,82,4,41,0,1.3400000333786,0.189999997615814,5.59999990463257\\r\\n8253242879,4/25/2016,1261,118,54,7,0,1.76999998092651,2.39000010490417,0.360000014305115\\r\\n8253242879,4/26/2016,1299,108,14,19,0,1.37000000476837,0.490000009536743,1.17999994754791\\r\\n8253242879,4/27/2016,1286,104,5,45,0,1.70000004768372,0.230000004172325,6.23999977111816\\r\\n8253242879,4/28/2016,1393,20,16,11,0,0.340000003576279,0.779999971389771,0.670000016689301\\r\\n8253242879,4/29/2016,1257,136,14,16,0,2.40000009536743,0.540000021457672,1.28999996185303\\r\\n8253242879,4/30/2016,1440,0,0,0,0,0,0,0\\r\\n8378563200,4/12/2016,723,156,15,65,0,4.5,0.709999978542328,0.829999983310699\\r\\n8378563200,4/13/2016,680,169,14,116,0,4.21000003814697,0.649999976158142,4.96000003814697\\r\\n8378563200,4/14/2016,699,174,21,123,0,3.91000008583069,1.02999997138977,5.61999988555908\\r\\n8378563200,4/15/2016,729,190,23,60,0,5.40999984741211,1.14999997615814,4.90999984741211\\r\\n8378563200,4/16/2016,563,142,21,64,0,2.44000005722046,1.07000005245209,5.36999988555908\\r\\n8378563200,4/17/2016,599,93,0,0,0,1.69000005722046,0,0\\r\\n8378563200,4/18/2016,720,174,10,117,0,5.19999980926514,0.560000002384186,5.05000019073486\\r\\n8378563200,4/19/2016,737,154,19,120,0,4.17999982833862,0.879999995231628,5.30000019073486\\r\\n8378563200,4/20/2016,763,169,8,82,0,4.78000020980835,0.439999997615814,2.23000001907349\\r\\n8378563200,4/21/2016,677,145,16,137,0,4.28999996185303,0.819999992847443,6.90000009536743\\r\\n8378563200,4/22/2016,769,159,12,113,0,4.17999982833862,0.589999973773956,4.90999984741211\\r\\n8378563200,4/23/2016,740,136,10,19,0,2.48000001907349,0.519999980926514,1.51999998092651\\r\\n8378563200,4/24/2016,734,135,0,0,0,2.94000005722046,0,0\\r\\n8378563200,4/25/2016,692,141,16,117,0,3.92000007629395,0.870000004768372,5.05000019073486\\r\\n8378563200,4/26/2016,593,161,18,90,0,4.42000007629395,0.920000016689301,7.51000022888184\\r\\n8378563200,4/27/2016,676,192,4,4,0,5.32999992370605,0.180000007152557,0.330000013113022\\r\\n8378563200,4/28/2016,711,139,10,11,0,2.91000008583069,0.490000009536743,0.899999976158142\\r\\n8378563200,4/29/2016,767,172,7,3,0,4.26999998092651,0.360000014305115,0.25\\r\\n8378563200,4/30/2016,780,121,0,0,0,2.33999991416931,0,0\\r\\n8378563200,5/1/2016,669,127,10,71,0,2.47000002861023,0.560000002384186,6.03000020980835\\r\\n8378563200,5/2/2016,802,142,4,63,0,4.01000022888184,0.170000001788139,0.629999995231628\\r\\n8378563200,5/3/2016,822,195,20,71,0,4.5,1.05999994277954,1.3400000333786\\r\\n8378563200,5/4/2016,680,167,10,19,0,4.19999980926514,0.490000009536743,1.55999994277954\\r\\n8378563200,5/5/2016,764,214,3,66,0,5.73999977111816,0.159999996423721,0.889999985694885\\r\\n8378563200,5/6/2016,831,166,5,74,0,3.77999997138977,0.25,1.54999995231628\\r\\n8378563200,5/7/2016,851,158,0,0,0,3.53999996185303,0,0\\r\\n8378563200,5/8/2016,621,139,0,0,0,2.32999992370605,0,0\\r\\n8378563200,5/9/2016,772,171,13,71,0,4.71999979019165,0.660000026226044,1.26999998092651\\r\\n8378563200,5/10/2016,840,152,13,63,0,3.92000007629395,0.639999985694885,0.660000026226044\\r\\n8378563200,5/11/2016,763,184,10,72,0,5.26999998092651,0.589999973773956,1.38999998569489\\r\\n8378563200,5/12/2016,433,102,6,8,0,2.69000005722046,0.270000010728836,0.649999976158142\\r\\n8583815059,4/12/2016,1237,196,7,0,0,3.57999992370605,0.330000013113022,0\\r\\n8583815059,4/13/2016,1252,163,23,2,0,3.23000001907349,0.970000028610229,0.150000005960464\\r\\n8583815059,4/14/2016,1306,134,0,0,0,2.4300000667572,0,0\\r\\n8583815059,4/15/2016,1375,65,0,0,0,0.899999976158142,0,0\\r\\n8583815059,4/16/2016,1440,0,0,0,0,0,0,0\\r\\n8583815059,4/17/2016,1440,0,0,0,0,0,0,0\\r\\n8583815059,4/18/2016,1309,105,22,4,0,1.35000002384186,1.05999994277954,0.310000002384186\\r\\n8583815059,4/19/2016,1257,166,10,7,0,3.44000005722046,0.479999989271164,0.529999971389771\\r\\n8583815059,4/20/2016,1246,167,27,0,0,3.0699999332428,1.03999996185303,0\\r\\n8583815059,4/21/2016,1229,158,18,35,0,3.00999999046326,1.01999998092651,2.63000011444092\\r\\n8583815059,4/22/2016,1170,212,54,4,0,4.07999992370605,2.41000008583069,0.28999999165535\\r\\n8583815059,4/23/2016,1151,238,44,7,0,4.75,2.02999997138977,0.529999971389771\\r\\n8583815059,4/24/2016,1188,206,44,2,0,4.26999998092651,2.04999995231628,0.150000005960464\\r\\n8583815059,4/25/2016,1294,122,6,18,0,1.80999994277954,0.239999994635582,1.47000002861023\\r\\n8583815059,4/26/2016,1134,214,91,1,0,3.89000010490417,4.21999979019165,0.0700000002980232\\r\\n8583815059,4/27/2016,1229,129,5,77,0,2.86999988555908,0.270000010728836,6.59999990463257\\r\\n8583815059,4/28/2016,1209,203,28,0,0,3.60999989509583,1.20000004768372,0\\r\\n8583815059,4/29/2016,1069,258,67,46,0,4.92000007629395,3,3.90000009536743\\r\\n8583815059,4/30/2016,1093,317,28,2,0,6.42999982833862,1.27999997138977,0.150000005960464\\r\\n8583815059,5/1/2016,1311,117,2,10,0,2.03999996185303,0.119999997317791,0.779999971389771\\r\\n8583815059,5/2/2016,1440,0,0,0,0,0,0,0\\r\\n8583815059,5/3/2016,1440,0,0,0,0,0,0,0\\r\\n8583815059,5/4/2016,1440,0,0,0,0,0,0,0\\r\\n8583815059,5/5/2016,1370,70,0,0,0,1.17999994754791,0,0\\r\\n8583815059,5/6/2016,1250,166,22,2,0,3.23000001907349,1.19000005722046,0.140000000596046\\r\\n8583815059,5/7/2016,1190,250,0,0,0,4.76999998092651,0,0\\r\\n8583815059,5/8/2016,1183,182,72,3,0,3.66000008583069,3.30999994277954,0.219999998807907\\r\\n8583815059,5/9/2016,1260,110,4,66,0,1.73000001907349,0.170000001788139,5.76000022888184\\r\\n8583815059,5/10/2016,1226,162,43,9,0,3.72000002861023,2.00999999046326,0.689999997615814\\r\\n8583815059,5/11/2016,1106,177,71,5,0,3.17000007629395,3.24000000953674,0.370000004768372\\r\\n8583815059,5/12/2016,1440,0,0,0,0,0,0,0\\r\\n8792009665,4/12/2016,831,116,0,0,0,1.63999998569489,0,0\\r\\n8792009665,4/13/2016,806,82,0,0,0,0.839999973773956,0,0\\r\\n8792009665,4/14/2016,853,84,0,0,0,0.779999971389771,0,0\\r\\n8792009665,4/15/2016,937,126,0,0,0,1.5900000333786,0,0\\r\\n8792009665,4/16/2016,1428,12,0,0,0,0.159999996423721,0,0\\r\\n8792009665,4/17/2016,1440,0,0,0,0,0,0,0\\r\\n8792009665,4/18/2016,1440,0,0,0,0,0,0,0\\r\\n8792009665,4/19/2016,1440,0,0,0,0,0,0,0\\r\\n8792009665,4/20/2016,744,139,10,0,0,1.74000000953674,0.280000001192093,0\\r\\n8792009665,4/21/2016,1431,9,0,0,0,0.0900000035762787,0,0\\r\\n8792009665,4/22/2016,817,195,20,1,0,2.26999998092651,0.280000001192093,0.0500000007450581\\r\\n8792009665,4/23/2016,795,232,45,8,0,2.75,0.439999997615814,0.159999996423721\\r\\n8792009665,4/24/2016,1410,19,8,3,0,0.159999996423721,0.0500000007450581,0.0399999991059303\\r\\n8792009665,4/25/2016,1440,0,0,0,0,0,0,0\\r\\n8792009665,4/26/2016,1360,80,0,0,0,0.850000023841858,0,0\\r\\n8792009665,4/27/2016,900,112,0,0,0,1.12999999523163,0,0\\r\\n8792009665,4/28/2016,714,310,0,0,0,3.94000005722046,0,0\\r\\n8792009665,4/29/2016,634,380,14,6,0,4.92999982833862,0.280000001192093,0.140000000596046\\r\\n8792009665,4/30/2016,749,301,20,10,0,3.91000008583069,0.360000014305115,0.330000013113022\\r\\n8792009665,5/1/2016,834,79,0,0,0,1.03999996185303,0,0\\r\\n8792009665,5/2/2016,916,101,0,0,0,1.16999995708466,0,0\\r\\n8792009665,5/3/2016,739,156,0,0,0,1.54999995231628,0,0\\r\\n8792009665,5/4/2016,848,129,0,0,0,1.46000003814697,0,0\\r\\n8792009665,5/5/2016,1440,0,0,0,0,0,0,0\\r\\n8792009665,5/6/2016,1440,0,0,0,0,0,0,0\\r\\n8792009665,5/7/2016,1440,0,0,0,0,0,0,0\\r\\n8792009665,5/8/2016,1440,0,0,0,0,0,0,0\\r\\n8792009665,5/9/2016,1440,0,0,0,0,0,0,0\\r\\n8792009665,5/10/2016,48,0,0,0,0,0,0,0\\r\\n8877689391,4/12/2016,1036,312,7,85,0,7.82000017166138,0.340000003576279,12.2200002670288\\r\\n8877689391,4/13/2016,1098,216,18,108,0,5.6399998664856,0.379999995231628,3.54999995231628\\r\\n8877689391,4/14/2016,1061,298,13,68,0.0199999995529652,7.75,0.589999973773956,10.5500001907349\\r\\n8877689391,4/15/2016,1052,281,1,106,0.00999999977648258,7.01000022888184,0.0500000007450581,0.0500000007450581\\r\\n8877689391,4/16/2016,888,429,29,94,0,10.710000038147,1.21000003814697,13.2399997711182\\r\\n8877689391,4/17/2016,1060,307,15,58,0,8.78999996185303,0.0700000002980232,0\\r\\n8877689391,4/18/2016,1215,191,5,29,0,5.94000005722046,0.270000010728836,2.44000005722046\\r\\n8877689391,4/19/2016,1131,214,13,82,0,5.03000020980835,0.180000007152557,12.1499996185303\\r\\n8877689391,4/20/2016,1123,225,19,73,0,6.34000015258789,0.689999997615814,11.0200004577637\\r\\n8877689391,4/21/2016,1119,226,13,82,0,4.8899998664856,0.419999986886978,12.289999961853\\r\\n8877689391,4/22/2016,1141,236,2,61,0.0500000007450581,5.96999979019165,0.0299999993294477,10.2299995422363\\r\\n8877689391,4/23/2016,1032,300,6,102,0.00999999977648258,7.40000009536743,0,0\\r\\n8877689391,4/24/2016,1148,227,1,64,0,4.69000005722046,0.00999999977648258,11.0100002288818\\r\\n8877689391,4/25/2016,1101,218,8,113,0.00999999977648258,6.26999998092651,0.0700000002980232,2.36999988555908\\r\\n8877689391,4/26/2016,1157,258,3,22,0,6.5,0.129999995231628,1.75999999046326\\r\\n8877689391,4/27/2016,1104,235,8,93,0,7.09999990463257,0.439999997615814,13.0699996948242\\r\\n8877689391,4/28/2016,1143,231,8,58,0,5.96999979019165,0.379999995231628,4.92999982833862\\r\\n8877689391,4/29/2016,1207,210,5,18,0,5.78999996185303,0.170000001788139,1.37999999523163\\r\\n8877689391,4/30/2016,1089,223,4,124,0,4.92999982833862,0.0799999982118607,21.6599998474121\\r\\n8877689391,5/1/2016,1226,166,12,36,0,4.57000017166138,0.569999992847443,3.13000011444092\\r\\n8877689391,5/2/2016,1335,105,0,0,0,3.55999994277954,0,0\\r\\n8877689391,5/3/2016,1189,229,3,19,0.00999999977648258,6.67000007629395,0.100000001490116,1.38999998569489\\r\\n8877689391,5/4/2016,1154,212,8,66,0,5.53000020980835,0.310000002384186,10.4200000762939\\r\\n8877689391,5/5/2016,1170,188,15,67,0,4.36999988555908,0.819999992847443,5.46000003814697\\r\\n8877689391,5/6/2016,1095,232,17,96,0,6.15999984741211,0.28999999165535,12.789999961853\\r\\n8877689391,5/7/2016,1036,271,28,105,0,6.98999977111816,0.959999978542328,0.0799999982118607\\r\\n8877689391,5/8/2016,1174,245,4,17,0,6.80000019073486,0.200000002980232,1.08000004291534\\r\\n8877689391,5/9/2016,1131,217,19,73,0.0500000007450581,6.23999977111816,0.800000011920929,11.1000003814697\\r\\n8877689391,5/10/2016,1187,224,11,18,0,6.28000020980835,0.46000000834465,1.35000002384186\\r\\n8877689391,5/11/2016,1127,213,12,88,0,5.8899998664856,0.409999996423721,13.2200002670288\\r\\n8877689391,5/12/2016,770,137,1,23,0,4.25,0.0399999991059303,1.82000005245209\\r\\n'}"
            ]
          },
          "metadata": {},
          "execution_count": 16
        }
      ]
    },
    {
      "cell_type": "code",
      "source": [
        "df3 = pd.read_csv(\"dailyIntensities_merged.csv\")"
      ],
      "metadata": {
        "id": "WrF1TfGbOkwc"
      },
      "execution_count": null,
      "outputs": []
    },
    {
      "cell_type": "code",
      "source": [
        "df3.columns"
      ],
      "metadata": {
        "colab": {
          "base_uri": "https://localhost:8080/"
        },
        "id": "8SqXMzRLOsau",
        "outputId": "9630d62a-f8e1-4c1c-be1a-44a362e4d49d"
      },
      "execution_count": null,
      "outputs": [
        {
          "output_type": "execute_result",
          "data": {
            "text/plain": [
              "Index(['Id', 'ActivityDay', 'SedentaryMinutes', 'LightlyActiveMinutes',\n",
              "       'FairlyActiveMinutes', 'VeryActiveMinutes', 'SedentaryActiveDistance',\n",
              "       'LightActiveDistance', 'ModeratelyActiveDistance',\n",
              "       'VeryActiveDistance'],\n",
              "      dtype='object')"
            ]
          },
          "metadata": {},
          "execution_count": 18
        }
      ]
    },
    {
      "cell_type": "code",
      "source": [
        "df3.shape"
      ],
      "metadata": {
        "colab": {
          "base_uri": "https://localhost:8080/"
        },
        "id": "JAM5KatZOvIq",
        "outputId": "8aab7134-e44b-4462-ea64-5476abee90c0"
      },
      "execution_count": null,
      "outputs": [
        {
          "output_type": "execute_result",
          "data": {
            "text/plain": [
              "(940, 10)"
            ]
          },
          "metadata": {},
          "execution_count": 19
        }
      ]
    },
    {
      "cell_type": "code",
      "source": [
        "df3['Id'].nunique()"
      ],
      "metadata": {
        "colab": {
          "base_uri": "https://localhost:8080/"
        },
        "id": "zLcBbYNNOwuv",
        "outputId": "4ffa1ab1-a7d5-4068-fd23-90e51ed26cf4"
      },
      "execution_count": null,
      "outputs": [
        {
          "output_type": "execute_result",
          "data": {
            "text/plain": [
              "33"
            ]
          },
          "metadata": {},
          "execution_count": 20
        }
      ]
    },
    {
      "cell_type": "code",
      "source": [
        "from google.colab import files\n",
        "files.upload()"
      ],
      "metadata": {
        "colab": {
          "base_uri": "https://localhost:8080/",
          "height": 1000
        },
        "id": "jnGRUNSDO72J",
        "outputId": "fc26adef-17a3-4380-a46d-711042d82e6d"
      },
      "execution_count": null,
      "outputs": [
        {
          "output_type": "display_data",
          "data": {
            "text/plain": [
              "<IPython.core.display.HTML object>"
            ],
            "text/html": [
              "\n",
              "     <input type=\"file\" id=\"files-5c40dfcb-89bb-43d1-8443-3fc078f3783c\" name=\"files[]\" multiple disabled\n",
              "        style=\"border:none\" />\n",
              "     <output id=\"result-5c40dfcb-89bb-43d1-8443-3fc078f3783c\">\n",
              "      Upload widget is only available when the cell has been executed in the\n",
              "      current browser session. Please rerun this cell to enable.\n",
              "      </output>\n",
              "      <script>// Copyright 2017 Google LLC\n",
              "//\n",
              "// Licensed under the Apache License, Version 2.0 (the \"License\");\n",
              "// you may not use this file except in compliance with the License.\n",
              "// You may obtain a copy of the License at\n",
              "//\n",
              "//      http://www.apache.org/licenses/LICENSE-2.0\n",
              "//\n",
              "// Unless required by applicable law or agreed to in writing, software\n",
              "// distributed under the License is distributed on an \"AS IS\" BASIS,\n",
              "// WITHOUT WARRANTIES OR CONDITIONS OF ANY KIND, either express or implied.\n",
              "// See the License for the specific language governing permissions and\n",
              "// limitations under the License.\n",
              "\n",
              "/**\n",
              " * @fileoverview Helpers for google.colab Python module.\n",
              " */\n",
              "(function(scope) {\n",
              "function span(text, styleAttributes = {}) {\n",
              "  const element = document.createElement('span');\n",
              "  element.textContent = text;\n",
              "  for (const key of Object.keys(styleAttributes)) {\n",
              "    element.style[key] = styleAttributes[key];\n",
              "  }\n",
              "  return element;\n",
              "}\n",
              "\n",
              "// Max number of bytes which will be uploaded at a time.\n",
              "const MAX_PAYLOAD_SIZE = 100 * 1024;\n",
              "\n",
              "function _uploadFiles(inputId, outputId) {\n",
              "  const steps = uploadFilesStep(inputId, outputId);\n",
              "  const outputElement = document.getElementById(outputId);\n",
              "  // Cache steps on the outputElement to make it available for the next call\n",
              "  // to uploadFilesContinue from Python.\n",
              "  outputElement.steps = steps;\n",
              "\n",
              "  return _uploadFilesContinue(outputId);\n",
              "}\n",
              "\n",
              "// This is roughly an async generator (not supported in the browser yet),\n",
              "// where there are multiple asynchronous steps and the Python side is going\n",
              "// to poll for completion of each step.\n",
              "// This uses a Promise to block the python side on completion of each step,\n",
              "// then passes the result of the previous step as the input to the next step.\n",
              "function _uploadFilesContinue(outputId) {\n",
              "  const outputElement = document.getElementById(outputId);\n",
              "  const steps = outputElement.steps;\n",
              "\n",
              "  const next = steps.next(outputElement.lastPromiseValue);\n",
              "  return Promise.resolve(next.value.promise).then((value) => {\n",
              "    // Cache the last promise value to make it available to the next\n",
              "    // step of the generator.\n",
              "    outputElement.lastPromiseValue = value;\n",
              "    return next.value.response;\n",
              "  });\n",
              "}\n",
              "\n",
              "/**\n",
              " * Generator function which is called between each async step of the upload\n",
              " * process.\n",
              " * @param {string} inputId Element ID of the input file picker element.\n",
              " * @param {string} outputId Element ID of the output display.\n",
              " * @return {!Iterable<!Object>} Iterable of next steps.\n",
              " */\n",
              "function* uploadFilesStep(inputId, outputId) {\n",
              "  const inputElement = document.getElementById(inputId);\n",
              "  inputElement.disabled = false;\n",
              "\n",
              "  const outputElement = document.getElementById(outputId);\n",
              "  outputElement.innerHTML = '';\n",
              "\n",
              "  const pickedPromise = new Promise((resolve) => {\n",
              "    inputElement.addEventListener('change', (e) => {\n",
              "      resolve(e.target.files);\n",
              "    });\n",
              "  });\n",
              "\n",
              "  const cancel = document.createElement('button');\n",
              "  inputElement.parentElement.appendChild(cancel);\n",
              "  cancel.textContent = 'Cancel upload';\n",
              "  const cancelPromise = new Promise((resolve) => {\n",
              "    cancel.onclick = () => {\n",
              "      resolve(null);\n",
              "    };\n",
              "  });\n",
              "\n",
              "  // Wait for the user to pick the files.\n",
              "  const files = yield {\n",
              "    promise: Promise.race([pickedPromise, cancelPromise]),\n",
              "    response: {\n",
              "      action: 'starting',\n",
              "    }\n",
              "  };\n",
              "\n",
              "  cancel.remove();\n",
              "\n",
              "  // Disable the input element since further picks are not allowed.\n",
              "  inputElement.disabled = true;\n",
              "\n",
              "  if (!files) {\n",
              "    return {\n",
              "      response: {\n",
              "        action: 'complete',\n",
              "      }\n",
              "    };\n",
              "  }\n",
              "\n",
              "  for (const file of files) {\n",
              "    const li = document.createElement('li');\n",
              "    li.append(span(file.name, {fontWeight: 'bold'}));\n",
              "    li.append(span(\n",
              "        `(${file.type || 'n/a'}) - ${file.size} bytes, ` +\n",
              "        `last modified: ${\n",
              "            file.lastModifiedDate ? file.lastModifiedDate.toLocaleDateString() :\n",
              "                                    'n/a'} - `));\n",
              "    const percent = span('0% done');\n",
              "    li.appendChild(percent);\n",
              "\n",
              "    outputElement.appendChild(li);\n",
              "\n",
              "    const fileDataPromise = new Promise((resolve) => {\n",
              "      const reader = new FileReader();\n",
              "      reader.onload = (e) => {\n",
              "        resolve(e.target.result);\n",
              "      };\n",
              "      reader.readAsArrayBuffer(file);\n",
              "    });\n",
              "    // Wait for the data to be ready.\n",
              "    let fileData = yield {\n",
              "      promise: fileDataPromise,\n",
              "      response: {\n",
              "        action: 'continue',\n",
              "      }\n",
              "    };\n",
              "\n",
              "    // Use a chunked sending to avoid message size limits. See b/62115660.\n",
              "    let position = 0;\n",
              "    do {\n",
              "      const length = Math.min(fileData.byteLength - position, MAX_PAYLOAD_SIZE);\n",
              "      const chunk = new Uint8Array(fileData, position, length);\n",
              "      position += length;\n",
              "\n",
              "      const base64 = btoa(String.fromCharCode.apply(null, chunk));\n",
              "      yield {\n",
              "        response: {\n",
              "          action: 'append',\n",
              "          file: file.name,\n",
              "          data: base64,\n",
              "        },\n",
              "      };\n",
              "\n",
              "      let percentDone = fileData.byteLength === 0 ?\n",
              "          100 :\n",
              "          Math.round((position / fileData.byteLength) * 100);\n",
              "      percent.textContent = `${percentDone}% done`;\n",
              "\n",
              "    } while (position < fileData.byteLength);\n",
              "  }\n",
              "\n",
              "  // All done.\n",
              "  yield {\n",
              "    response: {\n",
              "      action: 'complete',\n",
              "    }\n",
              "  };\n",
              "}\n",
              "\n",
              "scope.google = scope.google || {};\n",
              "scope.google.colab = scope.google.colab || {};\n",
              "scope.google.colab._files = {\n",
              "  _uploadFiles,\n",
              "  _uploadFilesContinue,\n",
              "};\n",
              "})(self);\n",
              "</script> "
            ]
          },
          "metadata": {}
        },
        {
          "output_type": "stream",
          "name": "stdout",
          "text": [
            "Saving sleepDay_merged.csv to sleepDay_merged.csv\n"
          ]
        },
        {
          "output_type": "execute_result",
          "data": {
            "text/plain": [
              "{'sleepDay_merged.csv': b'Id,SleepDay,TotalSleepRecords,TotalMinutesAsleep,TotalTimeInBed\\r\\n1503960366,4/12/2016 12:00:00 AM,1,327,346\\r\\n1503960366,4/13/2016 12:00:00 AM,2,384,407\\r\\n1503960366,4/15/2016 12:00:00 AM,1,412,442\\r\\n1503960366,4/16/2016 12:00:00 AM,2,340,367\\r\\n1503960366,4/17/2016 12:00:00 AM,1,700,712\\r\\n1503960366,4/19/2016 12:00:00 AM,1,304,320\\r\\n1503960366,4/20/2016 12:00:00 AM,1,360,377\\r\\n1503960366,4/21/2016 12:00:00 AM,1,325,364\\r\\n1503960366,4/23/2016 12:00:00 AM,1,361,384\\r\\n1503960366,4/24/2016 12:00:00 AM,1,430,449\\r\\n1503960366,4/25/2016 12:00:00 AM,1,277,323\\r\\n1503960366,4/26/2016 12:00:00 AM,1,245,274\\r\\n1503960366,4/28/2016 12:00:00 AM,1,366,393\\r\\n1503960366,4/29/2016 12:00:00 AM,1,341,354\\r\\n1503960366,4/30/2016 12:00:00 AM,1,404,425\\r\\n1503960366,5/1/2016 12:00:00 AM,1,369,396\\r\\n1503960366,5/2/2016 12:00:00 AM,1,277,309\\r\\n1503960366,5/3/2016 12:00:00 AM,1,273,296\\r\\n1503960366,5/5/2016 12:00:00 AM,1,247,264\\r\\n1503960366,5/6/2016 12:00:00 AM,1,334,367\\r\\n1503960366,5/7/2016 12:00:00 AM,1,331,349\\r\\n1503960366,5/8/2016 12:00:00 AM,1,594,611\\r\\n1503960366,5/9/2016 12:00:00 AM,1,338,342\\r\\n1503960366,5/10/2016 12:00:00 AM,1,383,403\\r\\n1503960366,5/11/2016 12:00:00 AM,1,285,306\\r\\n1644430081,4/29/2016 12:00:00 AM,1,119,127\\r\\n1644430081,4/30/2016 12:00:00 AM,1,124,142\\r\\n1644430081,5/2/2016 12:00:00 AM,1,796,961\\r\\n1644430081,5/8/2016 12:00:00 AM,1,137,154\\r\\n1844505072,4/15/2016 12:00:00 AM,1,644,961\\r\\n1844505072,4/30/2016 12:00:00 AM,1,722,961\\r\\n1844505072,5/1/2016 12:00:00 AM,1,590,961\\r\\n1927972279,4/12/2016 12:00:00 AM,3,750,775\\r\\n1927972279,4/13/2016 12:00:00 AM,1,398,422\\r\\n1927972279,4/15/2016 12:00:00 AM,2,475,499\\r\\n1927972279,4/26/2016 12:00:00 AM,1,296,315\\r\\n1927972279,4/28/2016 12:00:00 AM,1,166,178\\r\\n2026352035,4/12/2016 12:00:00 AM,1,503,546\\r\\n2026352035,4/13/2016 12:00:00 AM,1,531,565\\r\\n2026352035,4/14/2016 12:00:00 AM,1,545,568\\r\\n2026352035,4/15/2016 12:00:00 AM,1,523,573\\r\\n2026352035,4/16/2016 12:00:00 AM,1,524,567\\r\\n2026352035,4/17/2016 12:00:00 AM,1,437,498\\r\\n2026352035,4/19/2016 12:00:00 AM,1,498,540\\r\\n2026352035,4/20/2016 12:00:00 AM,1,461,510\\r\\n2026352035,4/21/2016 12:00:00 AM,1,477,514\\r\\n2026352035,4/22/2016 12:00:00 AM,1,520,545\\r\\n2026352035,4/23/2016 12:00:00 AM,1,522,554\\r\\n2026352035,4/24/2016 12:00:00 AM,1,555,591\\r\\n2026352035,4/25/2016 12:00:00 AM,1,506,531\\r\\n2026352035,4/27/2016 12:00:00 AM,1,508,545\\r\\n2026352035,4/28/2016 12:00:00 AM,1,513,545\\r\\n2026352035,4/29/2016 12:00:00 AM,1,490,510\\r\\n2026352035,4/30/2016 12:00:00 AM,1,573,607\\r\\n2026352035,5/1/2016 12:00:00 AM,1,527,546\\r\\n2026352035,5/2/2016 12:00:00 AM,1,511,543\\r\\n2026352035,5/4/2016 12:00:00 AM,1,538,560\\r\\n2026352035,5/5/2016 12:00:00 AM,1,468,485\\r\\n2026352035,5/6/2016 12:00:00 AM,1,524,548\\r\\n2026352035,5/7/2016 12:00:00 AM,1,511,521\\r\\n2026352035,5/8/2016 12:00:00 AM,1,541,568\\r\\n2026352035,5/9/2016 12:00:00 AM,1,531,556\\r\\n2026352035,5/10/2016 12:00:00 AM,1,357,380\\r\\n2026352035,5/11/2016 12:00:00 AM,1,523,553\\r\\n2026352035,5/12/2016 12:00:00 AM,1,456,485\\r\\n2320127002,4/23/2016 12:00:00 AM,1,61,69\\r\\n2347167796,4/13/2016 12:00:00 AM,1,467,531\\r\\n2347167796,4/14/2016 12:00:00 AM,1,445,489\\r\\n2347167796,4/15/2016 12:00:00 AM,1,452,504\\r\\n2347167796,4/17/2016 12:00:00 AM,1,556,602\\r\\n2347167796,4/18/2016 12:00:00 AM,1,500,557\\r\\n2347167796,4/19/2016 12:00:00 AM,1,465,514\\r\\n2347167796,4/21/2016 12:00:00 AM,1,460,484\\r\\n2347167796,4/22/2016 12:00:00 AM,1,405,461\\r\\n2347167796,4/23/2016 12:00:00 AM,1,374,386\\r\\n2347167796,4/24/2016 12:00:00 AM,1,442,459\\r\\n2347167796,4/25/2016 12:00:00 AM,1,433,471\\r\\n2347167796,4/26/2016 12:00:00 AM,1,436,490\\r\\n2347167796,4/27/2016 12:00:00 AM,1,448,499\\r\\n2347167796,4/28/2016 12:00:00 AM,1,408,450\\r\\n2347167796,4/29/2016 12:00:00 AM,1,411,473\\r\\n3977333714,4/12/2016 12:00:00 AM,1,274,469\\r\\n3977333714,4/13/2016 12:00:00 AM,2,295,456\\r\\n3977333714,4/14/2016 12:00:00 AM,1,291,397\\r\\n3977333714,4/15/2016 12:00:00 AM,1,424,556\\r\\n3977333714,4/16/2016 12:00:00 AM,1,283,510\\r\\n3977333714,4/17/2016 12:00:00 AM,1,381,566\\r\\n3977333714,4/18/2016 12:00:00 AM,2,412,522\\r\\n3977333714,4/19/2016 12:00:00 AM,1,219,395\\r\\n3977333714,4/20/2016 12:00:00 AM,2,152,305\\r\\n3977333714,4/21/2016 12:00:00 AM,1,332,512\\r\\n3977333714,4/22/2016 12:00:00 AM,1,355,476\\r\\n3977333714,4/23/2016 12:00:00 AM,1,235,372\\r\\n3977333714,4/24/2016 12:00:00 AM,1,310,526\\r\\n3977333714,4/25/2016 12:00:00 AM,1,262,467\\r\\n3977333714,4/26/2016 12:00:00 AM,1,250,371\\r\\n3977333714,4/27/2016 12:00:00 AM,1,349,540\\r\\n3977333714,4/28/2016 12:00:00 AM,1,261,423\\r\\n3977333714,4/29/2016 12:00:00 AM,1,333,478\\r\\n3977333714,4/30/2016 12:00:00 AM,1,237,382\\r\\n3977333714,5/1/2016 12:00:00 AM,1,383,626\\r\\n3977333714,5/2/2016 12:00:00 AM,1,230,384\\r\\n3977333714,5/3/2016 12:00:00 AM,1,292,500\\r\\n3977333714,5/4/2016 12:00:00 AM,1,213,336\\r\\n3977333714,5/5/2016 12:00:00 AM,1,318,480\\r\\n3977333714,5/6/2016 12:00:00 AM,1,323,512\\r\\n3977333714,5/7/2016 12:00:00 AM,1,237,443\\r\\n3977333714,5/8/2016 12:00:00 AM,2,259,456\\r\\n3977333714,5/10/2016 12:00:00 AM,1,312,452\\r\\n4020332650,4/12/2016 12:00:00 AM,1,501,541\\r\\n4020332650,4/16/2016 12:00:00 AM,1,77,77\\r\\n4020332650,5/3/2016 12:00:00 AM,1,322,332\\r\\n4020332650,5/4/2016 12:00:00 AM,1,478,536\\r\\n4020332650,5/5/2016 12:00:00 AM,1,226,248\\r\\n4020332650,5/6/2016 12:00:00 AM,1,385,408\\r\\n4020332650,5/8/2016 12:00:00 AM,1,364,402\\r\\n4020332650,5/10/2016 12:00:00 AM,1,442,494\\r\\n4319703577,4/14/2016 12:00:00 AM,1,535,557\\r\\n4319703577,4/15/2016 12:00:00 AM,1,465,491\\r\\n4319703577,4/16/2016 12:00:00 AM,1,506,522\\r\\n4319703577,4/18/2016 12:00:00 AM,1,515,551\\r\\n4319703577,4/19/2016 12:00:00 AM,2,461,498\\r\\n4319703577,4/20/2016 12:00:00 AM,1,523,543\\r\\n4319703577,4/21/2016 12:00:00 AM,1,59,65\\r\\n4319703577,4/22/2016 12:00:00 AM,1,533,550\\r\\n4319703577,4/23/2016 12:00:00 AM,1,692,722\\r\\n4319703577,4/24/2016 12:00:00 AM,1,467,501\\r\\n4319703577,4/25/2016 12:00:00 AM,1,488,506\\r\\n4319703577,4/26/2016 12:00:00 AM,1,505,516\\r\\n4319703577,4/27/2016 12:00:00 AM,1,286,307\\r\\n4319703577,4/28/2016 12:00:00 AM,1,497,522\\r\\n4319703577,4/29/2016 12:00:00 AM,1,523,546\\r\\n4319703577,4/30/2016 12:00:00 AM,1,490,516\\r\\n4319703577,5/1/2016 12:00:00 AM,1,484,500\\r\\n4319703577,5/2/2016 12:00:00 AM,1,478,506\\r\\n4319703577,5/3/2016 12:00:00 AM,1,474,512\\r\\n4319703577,5/6/2016 12:00:00 AM,1,450,491\\r\\n4319703577,5/7/2016 12:00:00 AM,1,507,530\\r\\n4319703577,5/8/2016 12:00:00 AM,1,602,638\\r\\n4319703577,5/9/2016 12:00:00 AM,1,535,565\\r\\n4319703577,5/10/2016 12:00:00 AM,1,487,517\\r\\n4319703577,5/11/2016 12:00:00 AM,1,529,558\\r\\n4319703577,5/12/2016 12:00:00 AM,1,302,321\\r\\n4388161847,4/15/2016 12:00:00 AM,1,499,526\\r\\n4388161847,4/16/2016 12:00:00 AM,2,426,448\\r\\n4388161847,4/17/2016 12:00:00 AM,2,619,641\\r\\n4388161847,4/18/2016 12:00:00 AM,1,99,104\\r\\n4388161847,4/19/2016 12:00:00 AM,1,329,338\\r\\n4388161847,4/20/2016 12:00:00 AM,1,421,451\\r\\n4388161847,4/21/2016 12:00:00 AM,1,442,458\\r\\n4388161847,4/22/2016 12:00:00 AM,1,82,85\\r\\n4388161847,4/23/2016 12:00:00 AM,1,478,501\\r\\n4388161847,4/24/2016 12:00:00 AM,3,552,595\\r\\n4388161847,4/26/2016 12:00:00 AM,1,319,346\\r\\n4388161847,4/27/2016 12:00:00 AM,1,439,500\\r\\n4388161847,4/28/2016 12:00:00 AM,1,428,458\\r\\n4388161847,4/30/2016 12:00:00 AM,2,409,430\\r\\n4388161847,5/1/2016 12:00:00 AM,1,547,597\\r\\n4388161847,5/2/2016 12:00:00 AM,2,368,376\\r\\n4388161847,5/4/2016 12:00:00 AM,1,390,414\\r\\n4388161847,5/5/2016 12:00:00 AM,1,471,495\\r\\n4388161847,5/5/2016 12:00:00 AM,1,471,495\\r\\n4388161847,5/7/2016 12:00:00 AM,1,472,496\\r\\n4388161847,5/8/2016 12:00:00 AM,2,529,541\\r\\n4388161847,5/9/2016 12:00:00 AM,1,62,65\\r\\n4388161847,5/10/2016 12:00:00 AM,1,354,375\\r\\n4388161847,5/11/2016 12:00:00 AM,1,469,494\\r\\n4445114986,4/12/2016 12:00:00 AM,2,429,457\\r\\n4445114986,4/13/2016 12:00:00 AM,2,370,406\\r\\n4445114986,4/14/2016 12:00:00 AM,1,441,492\\r\\n4445114986,4/15/2016 12:00:00 AM,2,337,379\\r\\n4445114986,4/16/2016 12:00:00 AM,1,462,499\\r\\n4445114986,4/17/2016 12:00:00 AM,1,98,107\\r\\n4445114986,4/19/2016 12:00:00 AM,2,388,424\\r\\n4445114986,4/20/2016 12:00:00 AM,1,439,462\\r\\n4445114986,4/21/2016 12:00:00 AM,1,436,469\\r\\n4445114986,4/22/2016 12:00:00 AM,1,388,417\\r\\n4445114986,4/25/2016 12:00:00 AM,1,328,345\\r\\n4445114986,4/26/2016 12:00:00 AM,2,353,391\\r\\n4445114986,4/27/2016 12:00:00 AM,1,332,374\\r\\n4445114986,4/28/2016 12:00:00 AM,1,419,442\\r\\n4445114986,4/29/2016 12:00:00 AM,1,106,108\\r\\n4445114986,4/30/2016 12:00:00 AM,1,322,353\\r\\n4445114986,5/1/2016 12:00:00 AM,2,439,459\\r\\n4445114986,5/2/2016 12:00:00 AM,1,502,542\\r\\n4445114986,5/3/2016 12:00:00 AM,2,417,450\\r\\n4445114986,5/4/2016 12:00:00 AM,2,337,363\\r\\n4445114986,5/5/2016 12:00:00 AM,2,462,513\\r\\n4445114986,5/6/2016 12:00:00 AM,2,374,402\\r\\n4445114986,5/7/2016 12:00:00 AM,2,401,436\\r\\n4445114986,5/8/2016 12:00:00 AM,1,361,391\\r\\n4445114986,5/9/2016 12:00:00 AM,1,457,533\\r\\n4445114986,5/10/2016 12:00:00 AM,1,405,426\\r\\n4445114986,5/11/2016 12:00:00 AM,1,499,530\\r\\n4445114986,5/12/2016 12:00:00 AM,1,483,501\\r\\n4558609924,4/21/2016 12:00:00 AM,1,126,137\\r\\n4558609924,4/26/2016 12:00:00 AM,1,103,121\\r\\n4558609924,4/29/2016 12:00:00 AM,1,171,179\\r\\n4558609924,5/1/2016 12:00:00 AM,1,115,129\\r\\n4558609924,5/8/2016 12:00:00 AM,1,123,134\\r\\n4702921684,4/12/2016 12:00:00 AM,1,425,439\\r\\n4702921684,4/13/2016 12:00:00 AM,2,400,430\\r\\n4702921684,4/14/2016 12:00:00 AM,1,384,415\\r\\n4702921684,4/15/2016 12:00:00 AM,1,253,257\\r\\n4702921684,4/16/2016 12:00:00 AM,2,382,406\\r\\n4702921684,4/17/2016 12:00:00 AM,1,591,612\\r\\n4702921684,4/18/2016 12:00:00 AM,1,293,312\\r\\n4702921684,4/19/2016 12:00:00 AM,1,457,487\\r\\n4702921684,4/20/2016 12:00:00 AM,1,454,468\\r\\n4702921684,4/21/2016 12:00:00 AM,1,425,434\\r\\n4702921684,4/23/2016 12:00:00 AM,1,465,475\\r\\n4702921684,4/24/2016 12:00:00 AM,1,480,506\\r\\n4702921684,4/25/2016 12:00:00 AM,1,370,380\\r\\n4702921684,4/26/2016 12:00:00 AM,1,421,429\\r\\n4702921684,4/27/2016 12:00:00 AM,1,432,449\\r\\n4702921684,4/28/2016 12:00:00 AM,1,442,461\\r\\n4702921684,4/29/2016 12:00:00 AM,1,433,447\\r\\n4702921684,4/30/2016 12:00:00 AM,1,479,501\\r\\n4702921684,5/3/2016 12:00:00 AM,1,327,373\\r\\n4702921684,5/4/2016 12:00:00 AM,1,412,434\\r\\n4702921684,5/5/2016 12:00:00 AM,1,414,428\\r\\n4702921684,5/6/2016 12:00:00 AM,1,404,449\\r\\n4702921684,5/7/2016 12:00:00 AM,1,520,543\\r\\n4702921684,5/7/2016 12:00:00 AM,1,520,543\\r\\n4702921684,5/9/2016 12:00:00 AM,1,435,458\\r\\n4702921684,5/10/2016 12:00:00 AM,1,416,431\\r\\n4702921684,5/11/2016 12:00:00 AM,1,354,366\\r\\n4702921684,5/12/2016 12:00:00 AM,1,404,442\\r\\n5553957443,4/12/2016 12:00:00 AM,1,441,464\\r\\n5553957443,4/13/2016 12:00:00 AM,2,455,488\\r\\n5553957443,4/14/2016 12:00:00 AM,1,357,418\\r\\n5553957443,4/15/2016 12:00:00 AM,1,377,409\\r\\n5553957443,4/16/2016 12:00:00 AM,2,651,686\\r\\n5553957443,4/17/2016 12:00:00 AM,1,350,402\\r\\n5553957443,4/18/2016 12:00:00 AM,2,520,541\\r\\n5553957443,4/19/2016 12:00:00 AM,1,357,410\\r\\n5553957443,4/20/2016 12:00:00 AM,1,658,678\\r\\n5553957443,4/21/2016 12:00:00 AM,1,399,431\\r\\n5553957443,4/22/2016 12:00:00 AM,1,322,353\\r\\n5553957443,4/23/2016 12:00:00 AM,2,631,725\\r\\n5553957443,4/24/2016 12:00:00 AM,2,553,640\\r\\n5553957443,4/25/2016 12:00:00 AM,1,433,468\\r\\n5553957443,4/26/2016 12:00:00 AM,1,412,453\\r\\n5553957443,4/27/2016 12:00:00 AM,1,347,391\\r\\n5553957443,4/28/2016 12:00:00 AM,1,421,457\\r\\n5553957443,4/29/2016 12:00:00 AM,1,450,495\\r\\n5553957443,4/30/2016 12:00:00 AM,2,775,843\\r\\n5553957443,5/1/2016 12:00:00 AM,2,622,686\\r\\n5553957443,5/2/2016 12:00:00 AM,1,409,471\\r\\n5553957443,5/3/2016 12:00:00 AM,1,380,429\\r\\n5553957443,5/4/2016 12:00:00 AM,1,447,470\\r\\n5553957443,5/5/2016 12:00:00 AM,1,419,464\\r\\n5553957443,5/6/2016 12:00:00 AM,1,400,434\\r\\n5553957443,5/7/2016 12:00:00 AM,1,442,470\\r\\n5553957443,5/8/2016 12:00:00 AM,1,568,608\\r\\n5553957443,5/9/2016 12:00:00 AM,1,453,494\\r\\n5553957443,5/10/2016 12:00:00 AM,1,418,443\\r\\n5553957443,5/11/2016 12:00:00 AM,1,463,486\\r\\n5553957443,5/12/2016 12:00:00 AM,1,438,475\\r\\n5577150313,4/12/2016 12:00:00 AM,1,419,438\\r\\n5577150313,4/13/2016 12:00:00 AM,1,432,458\\r\\n5577150313,4/14/2016 12:00:00 AM,1,477,497\\r\\n5577150313,4/15/2016 12:00:00 AM,1,392,413\\r\\n5577150313,4/16/2016 12:00:00 AM,1,406,445\\r\\n5577150313,4/17/2016 12:00:00 AM,1,549,583\\r\\n5577150313,4/18/2016 12:00:00 AM,1,527,553\\r\\n5577150313,4/19/2016 12:00:00 AM,1,449,465\\r\\n5577150313,4/20/2016 12:00:00 AM,1,447,480\\r\\n5577150313,4/21/2016 12:00:00 AM,1,414,437\\r\\n5577150313,4/22/2016 12:00:00 AM,1,338,366\\r\\n5577150313,4/23/2016 12:00:00 AM,1,384,402\\r\\n5577150313,4/24/2016 12:00:00 AM,1,543,615\\r\\n5577150313,4/25/2016 12:00:00 AM,1,421,461\\r\\n5577150313,4/26/2016 12:00:00 AM,1,354,377\\r\\n5577150313,4/27/2016 12:00:00 AM,1,424,452\\r\\n5577150313,4/28/2016 12:00:00 AM,1,361,372\\r\\n5577150313,4/29/2016 12:00:00 AM,1,459,485\\r\\n5577150313,4/30/2016 12:00:00 AM,1,412,433\\r\\n5577150313,5/1/2016 12:00:00 AM,1,379,398\\r\\n5577150313,5/2/2016 12:00:00 AM,2,525,553\\r\\n5577150313,5/3/2016 12:00:00 AM,1,508,543\\r\\n5577150313,5/4/2016 12:00:00 AM,1,603,634\\r\\n5577150313,5/5/2016 12:00:00 AM,1,74,78\\r\\n5577150313,5/10/2016 12:00:00 AM,1,504,562\\r\\n5577150313,5/11/2016 12:00:00 AM,1,431,476\\r\\n6117666160,4/16/2016 12:00:00 AM,1,380,398\\r\\n6117666160,4/17/2016 12:00:00 AM,2,336,350\\r\\n6117666160,4/18/2016 12:00:00 AM,2,493,510\\r\\n6117666160,4/19/2016 12:00:00 AM,1,465,492\\r\\n6117666160,4/20/2016 12:00:00 AM,1,474,502\\r\\n6117666160,4/21/2016 12:00:00 AM,1,508,550\\r\\n6117666160,4/22/2016 12:00:00 AM,1,480,546\\r\\n6117666160,4/23/2016 12:00:00 AM,1,492,539\\r\\n6117666160,4/24/2016 12:00:00 AM,1,353,367\\r\\n6117666160,4/27/2016 12:00:00 AM,1,542,557\\r\\n6117666160,4/28/2016 12:00:00 AM,1,393,416\\r\\n6117666160,4/29/2016 12:00:00 AM,1,600,636\\r\\n6117666160,5/1/2016 12:00:00 AM,1,507,575\\r\\n6117666160,5/5/2016 12:00:00 AM,1,392,415\\r\\n6117666160,5/6/2016 12:00:00 AM,2,658,698\\r\\n6117666160,5/7/2016 12:00:00 AM,2,498,507\\r\\n6117666160,5/8/2016 12:00:00 AM,1,555,603\\r\\n6117666160,5/9/2016 12:00:00 AM,1,492,522\\r\\n6775888955,4/13/2016 12:00:00 AM,1,235,260\\r\\n6775888955,4/14/2016 12:00:00 AM,1,423,441\\r\\n6775888955,4/15/2016 12:00:00 AM,1,391,406\\r\\n6962181067,4/12/2016 12:00:00 AM,1,366,387\\r\\n6962181067,4/13/2016 12:00:00 AM,3,630,679\\r\\n6962181067,4/14/2016 12:00:00 AM,2,508,535\\r\\n6962181067,4/15/2016 12:00:00 AM,1,370,386\\r\\n6962181067,4/16/2016 12:00:00 AM,1,357,366\\r\\n6962181067,4/17/2016 12:00:00 AM,1,427,446\\r\\n6962181067,4/18/2016 12:00:00 AM,1,442,458\\r\\n6962181067,4/19/2016 12:00:00 AM,1,476,535\\r\\n6962181067,4/20/2016 12:00:00 AM,1,418,424\\r\\n6962181067,4/21/2016 12:00:00 AM,1,451,457\\r\\n6962181067,4/22/2016 12:00:00 AM,1,425,435\\r\\n6962181067,4/23/2016 12:00:00 AM,1,528,546\\r\\n6962181067,4/24/2016 12:00:00 AM,1,511,514\\r\\n6962181067,4/25/2016 12:00:00 AM,1,400,415\\r\\n6962181067,4/26/2016 12:00:00 AM,1,441,446\\r\\n6962181067,4/27/2016 12:00:00 AM,1,455,467\\r\\n6962181067,4/28/2016 12:00:00 AM,1,440,453\\r\\n6962181067,4/29/2016 12:00:00 AM,1,433,447\\r\\n6962181067,4/30/2016 12:00:00 AM,1,422,424\\r\\n6962181067,5/1/2016 12:00:00 AM,1,411,426\\r\\n6962181067,5/2/2016 12:00:00 AM,1,466,482\\r\\n6962181067,5/3/2016 12:00:00 AM,1,394,418\\r\\n6962181067,5/4/2016 12:00:00 AM,1,442,455\\r\\n6962181067,5/5/2016 12:00:00 AM,1,467,491\\r\\n6962181067,5/6/2016 12:00:00 AM,1,443,462\\r\\n6962181067,5/7/2016 12:00:00 AM,1,298,334\\r\\n6962181067,5/8/2016 12:00:00 AM,1,541,569\\r\\n6962181067,5/9/2016 12:00:00 AM,1,489,497\\r\\n6962181067,5/10/2016 12:00:00 AM,1,469,481\\r\\n6962181067,5/11/2016 12:00:00 AM,1,452,480\\r\\n6962181067,5/12/2016 12:00:00 AM,1,516,535\\r\\n7007744171,4/16/2016 12:00:00 AM,1,79,82\\r\\n7007744171,5/1/2016 12:00:00 AM,1,58,61\\r\\n7086361926,4/12/2016 12:00:00 AM,1,514,525\\r\\n7086361926,4/13/2016 12:00:00 AM,1,451,465\\r\\n7086361926,4/14/2016 12:00:00 AM,1,472,476\\r\\n7086361926,4/15/2016 12:00:00 AM,1,377,386\\r\\n7086361926,4/19/2016 12:00:00 AM,1,472,483\\r\\n7086361926,4/20/2016 12:00:00 AM,1,492,502\\r\\n7086361926,4/21/2016 12:00:00 AM,1,390,411\\r\\n7086361926,4/22/2016 12:00:00 AM,1,428,448\\r\\n7086361926,4/24/2016 12:00:00 AM,1,681,704\\r\\n7086361926,4/25/2016 12:00:00 AM,1,446,447\\r\\n7086361926,4/26/2016 12:00:00 AM,1,485,500\\r\\n7086361926,4/27/2016 12:00:00 AM,1,469,479\\r\\n7086361926,4/28/2016 12:00:00 AM,1,354,367\\r\\n7086361926,4/30/2016 12:00:00 AM,1,485,489\\r\\n7086361926,5/1/2016 12:00:00 AM,1,388,407\\r\\n7086361926,5/2/2016 12:00:00 AM,1,440,459\\r\\n7086361926,5/3/2016 12:00:00 AM,1,456,461\\r\\n7086361926,5/4/2016 12:00:00 AM,1,420,436\\r\\n7086361926,5/6/2016 12:00:00 AM,1,322,333\\r\\n7086361926,5/7/2016 12:00:00 AM,1,530,548\\r\\n7086361926,5/8/2016 12:00:00 AM,1,481,510\\r\\n7086361926,5/9/2016 12:00:00 AM,1,427,438\\r\\n7086361926,5/11/2016 12:00:00 AM,1,451,463\\r\\n7086361926,5/12/2016 12:00:00 AM,1,444,457\\r\\n8053475328,4/20/2016 12:00:00 AM,1,486,493\\r\\n8053475328,4/23/2016 12:00:00 AM,1,331,337\\r\\n8053475328,5/7/2016 12:00:00 AM,1,74,75\\r\\n8378563200,4/12/2016 12:00:00 AM,1,338,356\\r\\n8378563200,4/13/2016 12:00:00 AM,2,447,487\\r\\n8378563200,4/14/2016 12:00:00 AM,1,424,455\\r\\n8378563200,4/15/2016 12:00:00 AM,1,513,533\\r\\n8378563200,4/16/2016 12:00:00 AM,2,611,689\\r\\n8378563200,4/17/2016 12:00:00 AM,2,525,591\\r\\n8378563200,4/18/2016 12:00:00 AM,1,398,451\\r\\n8378563200,4/19/2016 12:00:00 AM,1,387,421\\r\\n8378563200,4/20/2016 12:00:00 AM,1,381,409\\r\\n8378563200,4/21/2016 12:00:00 AM,1,396,417\\r\\n8378563200,4/22/2016 12:00:00 AM,1,441,469\\r\\n8378563200,4/23/2016 12:00:00 AM,1,565,591\\r\\n8378563200,4/24/2016 12:00:00 AM,1,458,492\\r\\n8378563200,4/25/2016 12:00:00 AM,1,388,402\\r\\n8378563200,4/25/2016 12:00:00 AM,1,388,402\\r\\n8378563200,4/26/2016 12:00:00 AM,1,550,584\\r\\n8378563200,4/27/2016 12:00:00 AM,1,531,600\\r\\n8378563200,4/28/2016 12:00:00 AM,1,506,556\\r\\n8378563200,4/29/2016 12:00:00 AM,1,527,562\\r\\n8378563200,4/30/2016 12:00:00 AM,1,468,555\\r\\n8378563200,5/1/2016 12:00:00 AM,1,475,539\\r\\n8378563200,5/2/2016 12:00:00 AM,1,351,385\\r\\n8378563200,5/3/2016 12:00:00 AM,1,405,429\\r\\n8378563200,5/4/2016 12:00:00 AM,1,441,477\\r\\n8378563200,5/5/2016 12:00:00 AM,1,381,417\\r\\n8378563200,5/6/2016 12:00:00 AM,1,323,355\\r\\n8378563200,5/7/2016 12:00:00 AM,2,459,513\\r\\n8378563200,5/8/2016 12:00:00 AM,1,545,606\\r\\n8378563200,5/9/2016 12:00:00 AM,1,359,399\\r\\n8378563200,5/10/2016 12:00:00 AM,1,342,391\\r\\n8378563200,5/11/2016 12:00:00 AM,1,368,387\\r\\n8378563200,5/12/2016 12:00:00 AM,1,496,546\\r\\n8792009665,4/12/2016 12:00:00 AM,1,458,493\\r\\n8792009665,4/13/2016 12:00:00 AM,1,531,552\\r\\n8792009665,4/14/2016 12:00:00 AM,1,486,503\\r\\n8792009665,4/15/2016 12:00:00 AM,1,363,377\\r\\n8792009665,4/20/2016 12:00:00 AM,1,528,547\\r\\n8792009665,4/22/2016 12:00:00 AM,1,391,407\\r\\n8792009665,4/23/2016 12:00:00 AM,1,339,360\\r\\n8792009665,4/27/2016 12:00:00 AM,1,423,428\\r\\n8792009665,4/28/2016 12:00:00 AM,1,402,416\\r\\n8792009665,4/29/2016 12:00:00 AM,1,398,406\\r\\n8792009665,4/30/2016 12:00:00 AM,1,343,360\\r\\n8792009665,5/1/2016 12:00:00 AM,1,503,527\\r\\n8792009665,5/2/2016 12:00:00 AM,1,415,423\\r\\n8792009665,5/3/2016 12:00:00 AM,1,516,545\\r\\n8792009665,5/4/2016 12:00:00 AM,1,439,463\\r\\n'}"
            ]
          },
          "metadata": {},
          "execution_count": 21
        }
      ]
    },
    {
      "cell_type": "code",
      "source": [
        "df4 = pd.read_csv(\"sleepDay_merged.csv\")"
      ],
      "metadata": {
        "id": "sxobHAHkPOd5"
      },
      "execution_count": null,
      "outputs": []
    },
    {
      "cell_type": "code",
      "source": [
        "df4.columns"
      ],
      "metadata": {
        "colab": {
          "base_uri": "https://localhost:8080/"
        },
        "id": "C3sZLY8zPZy4",
        "outputId": "93427c81-3169-4df6-dcd6-ba1e4b71fdbc"
      },
      "execution_count": null,
      "outputs": [
        {
          "output_type": "execute_result",
          "data": {
            "text/plain": [
              "Index(['Id', 'SleepDay', 'TotalSleepRecords', 'TotalMinutesAsleep',\n",
              "       'TotalTimeInBed'],\n",
              "      dtype='object')"
            ]
          },
          "metadata": {},
          "execution_count": 23
        }
      ]
    },
    {
      "cell_type": "code",
      "source": [
        "df4.shape"
      ],
      "metadata": {
        "colab": {
          "base_uri": "https://localhost:8080/"
        },
        "id": "Z8JfjcjEPbTa",
        "outputId": "082101a8-7859-4927-aa4c-d5071e766166"
      },
      "execution_count": null,
      "outputs": [
        {
          "output_type": "execute_result",
          "data": {
            "text/plain": [
              "(413, 5)"
            ]
          },
          "metadata": {},
          "execution_count": 25
        }
      ]
    },
    {
      "cell_type": "code",
      "source": [
        "df4['Id'].nunique()"
      ],
      "metadata": {
        "colab": {
          "base_uri": "https://localhost:8080/"
        },
        "id": "ii3ygJKRPdzV",
        "outputId": "d4f8c19d-fa4e-4941-ba89-40376a461926"
      },
      "execution_count": null,
      "outputs": [
        {
          "output_type": "execute_result",
          "data": {
            "text/plain": [
              "24"
            ]
          },
          "metadata": {},
          "execution_count": 26
        }
      ]
    },
    {
      "cell_type": "markdown",
      "source": [
        "In our preliminary analysis, one of the important things we thought we needed to understand in order to work with the dataset was the number of distinct ID's (or users) that were recorded in the dataset. We looked at four files we thought were important: dailyActivity_merged.csv, dailyCalories_merged.csv, dailyIntensities_merged.csv, and sleepDay_merged.csv. We noticed that dailyActivity_merged.csv, dailyCalories_merged.csv, and dailyIntensities_merged.csv have 33 distinct id's (33 user data recorded). However, sleepDay_merged.csv only had 24 distinct user id's. Because of this, we realized that we will have to account for this difference since there may be differenes in all the other datasetes when it comes to the number of distinct id's. Additionally, in the description of the dataset, it was explained that 30 Fitbit users were surveyed, but from my findings, I counted 33 id's. As a result, we may have to use some data cleaning to make sure our user count is correct.\n",
        "\n",
        "Along with counting the number of unique id's, we also looked at the shape, columns, and head of the same four datasets to get a better understanding of the data. When we begin our actual project, we will look at this same information with all of the files we plan to analyze."
      ],
      "metadata": {
        "id": "-DS4il-89dV4"
      }
    },
    {
      "cell_type": "markdown",
      "metadata": {
        "id": "HINuuxqMDdkh"
      },
      "source": [
        "### 5. References\n",
        "---\n",
        "*(list the references you will use in the project.)*"
      ]
    },
    {
      "cell_type": "markdown",
      "source": [
        "Kaggle - https://www.kaggle.com/datasets/arashnic/fitbit"
      ],
      "metadata": {
        "id": "S7Rrfqiesob1"
      }
    },
    {
      "cell_type": "markdown",
      "metadata": {
        "id": "x67epA-IDdki"
      },
      "source": [
        "---\n",
        "(*Use the following requirements for writing your reports. DO NOT DELETE THE CELLS BELLOW*)"
      ]
    },
    {
      "cell_type": "markdown",
      "metadata": {
        "id": "4LVxZBLxDdki"
      },
      "source": [
        "# Project Requirements\n",
        "\n",
        "This final project examines the level of knowledge the students have learned from the course. The following course outcomes will be checked against the content of the report:\n",
        "\n",
        "Upon successful completion of this course, a student will be able to:\n",
        "* Describe the main steps and key issues in the process of acquiring and preparing data for data analytics.\n",
        "* Set up data analysis environment by integrating commonly used practical tools and programming packages.   \n",
        "* Explain different types of data storages and formats and apply appropriate tools for extracting and transforming data.\n",
        "* Create interactive and programming code for cleansing, wrangling, reshaping, visualizing and analyzing various data sets.\n",
        "* Explain the concepts of aggregation and grouping, and apply tools and write programs to aggregate and group data.\n",
        "\n",
        "** Marking will be foucsed on both presentation and content.**\n",
        "\n",
        "## Written Presentation Requirements\n",
        "The report will be judged on the basis of visual appearance, grammatical correctness, and quality of writing, as well as its contents. Please make sure that the text of your report is well-structured, using paragraphs, full sentences, and other features of well-written presentation.\n",
        "\n",
        "## Technical Content of the Entire Project (Not All the Points Applicable to the proposal):\n",
        "* Is the problem well defined and described thoroughly?\n",
        "* Is the size and complexity of the data set used in this project comparable to that of the example data sets used in the lectures and assignments?\n",
        "* Did the report describe the charactriatics of the data?\n",
        "* Did the report describe the goals of the data analysis?\n",
        "* Did the analysis use plotting methods for visualization? Does the visualization convey meaningful messages?\n",
        "* Did the analysis use wrangling, cleaning, and preparation methods? Does the work on wrangling, cleaning, and preparation demonstrate the student's knowlegde about these topics covered in this course?\n",
        "* Did the analysis conduct aggretation and create descriptive statistics? Does the work on aggregation and descriptive statistics demonstrate the student's knowlegde about these topics covered in this course?\n",
        "* Only those projects that exceed the sophistication of the final data analysis examples and assignments can be marked as the highest level of grade.\n",
        "* Overall, what is the rating of this project?"
      ]
    },
    {
      "cell_type": "markdown",
      "source": [
        "The overall rating for this project is a 9/10. Analytics on this dataset is challenging, but doable, and we will find interesting and useful results from completing this project. We both find this topic interesting, and look forward to completing our project."
      ],
      "metadata": {
        "id": "lDVYVP2BYzYe"
      }
    }
  ],
  "metadata": {
    "colab": {
      "provenance": []
    },
    "kernelspec": {
      "display_name": "Python 3",
      "language": "python",
      "name": "python3"
    },
    "language_info": {
      "codemirror_mode": {
        "name": "ipython",
        "version": 3
      },
      "file_extension": ".py",
      "mimetype": "text/x-python",
      "name": "python",
      "nbconvert_exporter": "python",
      "pygments_lexer": "ipython3",
      "version": "3.7.6"
    }
  },
  "nbformat": 4,
  "nbformat_minor": 0
}